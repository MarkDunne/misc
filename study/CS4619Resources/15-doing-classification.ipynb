{
 "metadata": {
  "name": "",
  "signature": "sha256:4a48d993572d467c2a17e18bf684e954c8e27ea784a925dc4a0a2db7d3711d37"
 },
 "nbformat": 3,
 "nbformat_minor": 0,
 "worksheets": [
  {
   "cells": [
    {
     "cell_type": "heading",
     "level": 1,
     "metadata": {
      "slideshow": {
       "slide_type": "slide"
      }
     },
     "source": [
      "CS4619: Artificial Intelligence 2"
     ]
    },
    {
     "cell_type": "heading",
     "level": 2,
     "metadata": {},
     "source": [
      "Doing Classification"
     ]
    },
    {
     "cell_type": "heading",
     "level": 3,
     "metadata": {},
     "source": [
      "Derek Bridge<br>\n",
      "School of Computer Science and Information Technology<br>\n",
      "University College Cork"
     ]
    },
    {
     "cell_type": "heading",
     "level": 1,
     "metadata": {
      "slideshow": {
       "slide_type": "slide"
      }
     },
     "source": [
      "Initialization\n",
      "$\\newcommand{\\Set}[1]{\\{#1\\}}$\n",
      "$\\newcommand{\\Tuple}[1]{\\langle#1\\rangle}$\n",
      "$\\newcommand{\\v}[1]{\\pmb{#1}}$\n",
      "$\\newcommand{\\cv}[1]{\\begin{bmatrix}#1\\end{bmatrix}}$\n",
      "$\\newcommand{\\rv}[1]{[#1]}$"
     ]
    },
    {
     "cell_type": "code",
     "collapsed": false,
     "input": [
      "%load_ext autoreload\n",
      "%autoreload 2\n",
      "%matplotlib inline"
     ],
     "language": "python",
     "metadata": {},
     "outputs": [],
     "prompt_number": 2
    },
    {
     "cell_type": "code",
     "collapsed": false,
     "input": [
      "import pandas as pd\n",
      "import numpy as np\n",
      "import matplotlib.pyplot as plt"
     ],
     "language": "python",
     "metadata": {},
     "outputs": [],
     "prompt_number": 3
    },
    {
     "cell_type": "heading",
     "level": 1,
     "metadata": {
      "slideshow": {
       "slide_type": "slide"
      }
     },
     "source": [
      "Doing Classification"
     ]
    },
    {
     "cell_type": "markdown",
     "metadata": {},
     "source": [
      "<p>\n",
      "    We'll revist the topics of Data Preparation and Error Estimation to see whether any of the details change now that \n",
      "    we're looking at classification instead of regression.\n",
      "</p>"
     ]
    },
    {
     "cell_type": "heading",
     "level": 1,
     "metadata": {
      "slideshow": {
       "slide_type": "slide"
      }
     },
     "source": [
      "Data Preparation"
     ]
    },
    {
     "cell_type": "markdown",
     "metadata": {},
     "source": [
      "<p>\n",
      "    You must consider all the things that we discussed before:\n",
      "</p>\n",
      "<ul>\n",
      "    <li>\n",
      "        <b>Getting to know your data</b>\n",
      "    </li>\n",
      "    <li>\n",
      "        <b>Detecting anomalies</b>\n",
      "    </li>\n",
      "    <li>\n",
      "        <b>Handling missing values</b>\n",
      "        <p>\n",
      "            We discussed some of the approaches: revisit the data collection process; delete\n",
      "            examples; delete features; and impute values.\n",
      "        </p>\n",
      "        <p>\n",
      "            When we imputed values, we used the mean (numeric-valued features) or the mode (nominal-valued features).\n",
      "            If example $\\Tuple{\\v{x}, y}$ has no value for feature $\\v{x}_j$, we impute the mean (or mode) from \n",
      "            (training) examples $\\v{x}'$ where $\\v{x}'_j$ does have a value.\n",
      "            But,\n",
      "            in classification, there is a varation on these.\n",
      "        </p>\n",
      "        <p>\n",
      "            We could instead use the class mean, or class mode. In other words, if example $\\Tuple{\\v{x}, y}$ has\n",
      "            no value for feature $\\v{x}_j$, we impute the mean (or mode) but only from (training) \n",
      "            examples $\\Tuple{\\v{x}', y}$\n",
      "            where $\\v{x}'_j$ has a value.\n",
      "        </p>\n",
      "    </li>\n",
      "    <li>\n",
      "        <b>Handling nominal-valued features</b>\n",
      "        <p>\n",
      "            Remember that some classifiers require that the dependent variable $y$ be numeric, e.g. 1 = ham and 0 =\n",
      "            spam. If in the original dataset it is not numeric, then you will need to encode it.\n",
      "            Do not use one-hot encoding for this; instead, simply convert to numbers.\n",
      "        </p>\n",
      "        <p>\n",
      "            So in scikit-learn, for $y$ you would use LabelEncoder, but not OneHotEncoder.\n",
      "        </p>\n",
      "        <p>\n",
      "            Question:\n",
      "        </p>\n",
      "        <ul>\n",
      "            <li>In the previous module, we discussed an exception to this. What was it?</li>\n",
      "        </ul>\n",
      "    </li>\n",
      "    <li>\n",
      "        <b>Scaling numeric values</b>\n",
      "    </li>\n",
      "</ul>\n",
      "<p>\n",
      "    One really good way of getting to know your data is wtih a visualization.\n",
      "</p>"
     ]
    },
    {
     "cell_type": "heading",
     "level": 1,
     "metadata": {
      "slideshow": {
       "slide_type": "slide"
      }
     },
     "source": [
      "Simple Visualizations"
     ]
    },
    {
     "cell_type": "markdown",
     "metadata": {},
     "source": [
      "<p>\n",
      "    Given a dataset, we often want to see how values of $y$ are distributed with respect to values of one of the features.\n",
      "    We can use the following:\n",
      "</p>\n",
      "<ul>\n",
      "    <li>Scatter plots;</li>\n",
      "    <li>Histograms; or</li>\n",
      "    <li>Box plots.</li>\n",
      "</ul>"
     ]
    },
    {
     "cell_type": "heading",
     "level": 2,
     "metadata": {
      "slideshow": {
       "slide_type": "slide"
      }
     },
     "source": [
      "Scatter Plots"
     ]
    },
    {
     "cell_type": "markdown",
     "metadata": {},
     "source": [
      "<p>\n",
      "    For regression, we have used <b>scatter plots</b> with $y$ on the vertical axis and the feature on the horizontal axis,\n",
      "    e.g.:\n",
      "</p>"
     ]
    },
    {
     "cell_type": "code",
     "collapsed": false,
     "input": [
      "df = pd.read_csv(\"dataset-corkA.csv\")\n",
      "\n",
      "x = df[['flarea']].values\n",
      "y = df[['price']].values\n",
      "\n",
      "fig = plt.figure()\n",
      "plt.title(\"Price against floor area\")\n",
      "plt.xlabel(\"Floor area (sq metres)\")\n",
      "plt.xlim(0, 500)\n",
      "plt.ylabel(\"Price (000 euros)\")\n",
      "plt.ylim(0, 1000)\n",
      "plt.scatter(x, y, color = 'green')\n",
      "plt.show()"
     ],
     "language": "python",
     "metadata": {},
     "outputs": [
      {
       "metadata": {},
       "output_type": "display_data",
       "png": "[encoded data removed]",
       "text": [
        "<matplotlib.figure.Figure at 0x7ffeba708050>"
       ]
      }
     ],
     "prompt_number": 4
    },
    {
     "cell_type": "markdown",
     "metadata": {},
     "source": [
      "<p>\n",
      "   What about datasets for classification? A scatter plot can be useful but they look a bit weird because only two\n",
      "   values on the vertical axis are possible:\n",
      "</p>"
     ]
    },
    {
     "cell_type": "code",
     "collapsed": false,
     "input": [
      "df = pd.read_csv(\"dataset-cs1109.csv\")\n",
      "\n",
      "x = df[['lect']].values\n",
      "y = df[['outcome']].values\n",
      "\n",
      "fig = plt.figure()\n",
      "plt.title(\"Outcome against lecture attendance\")\n",
      "plt.xlabel(\"Lecture attendance (%)\")\n",
      "plt.xlim(0, 100)\n",
      "plt.ylabel(\"Outcome (0 = fail, 1 = pass)\")\n",
      "plt.ylim(-0.1, 1.1)\n",
      "plt.scatter(x, y, color = 'green')\n",
      "plt.show()"
     ],
     "language": "python",
     "metadata": {},
     "outputs": [
      {
       "metadata": {},
       "output_type": "display_data",
       "png": "[encoded data removed]",
       "text": [
        "<matplotlib.figure.Figure at 0x7ffeba612690>"
       ]
      }
     ],
     "prompt_number": 5
    },
    {
     "cell_type": "markdown",
     "metadata": {},
     "source": [
      "<p>\n",
      "    Better might be <b>histograms</b>.\n",
      "</p>"
     ]
    },
    {
     "cell_type": "heading",
     "level": 2,
     "metadata": {
      "slideshow": {
       "slide_type": "slide"
      }
     },
     "source": [
      "Histograms"
     ]
    },
    {
     "cell_type": "code",
     "collapsed": false,
     "input": [
      "fig = plt.figure(figsize=(10,4))\n",
      "plt.subplot(1, 2, 1)\n",
      "plt.title(\"Lecture attendance for those who failed\")\n",
      "plt.xlabel(\"Lecture attendance (%)\")\n",
      "plt.xlim(0, 100)\n",
      "plt.ylim(0, 150)\n",
      "plt.hist(x[y == 0], bins = range(0, 110, 10), color = 'red')\n",
      "plt.subplot(1, 2, 2)\n",
      "plt.title(\"Lecture attendance for those who passed\")\n",
      "plt.xlabel(\"Lecture attendance (%)\")\n",
      "plt.xlim(0, 100)\n",
      "plt.ylim(0, 150)\n",
      "plt.hist(x[y == 1], bins = range(0, 110, 10), color = 'green')\n",
      "plt.show()"
     ],
     "language": "python",
     "metadata": {},
     "outputs": [
      {
       "metadata": {},
       "output_type": "display_data",
       "png": "[encoded data removed]",
       "text": [
        "<matplotlib.figure.Figure at 0x7ffebbbd89d0>"
       ]
      }
     ],
     "prompt_number": 6
    },
    {
     "cell_type": "markdown",
     "metadata": {},
     "source": [
      "<p>\n",
      "    Another option is <b>box plots</b>.\n",
      "</p>"
     ]
    },
    {
     "cell_type": "heading",
     "level": 2,
     "metadata": {
      "slideshow": {
       "slide_type": "slide"
      }
     },
     "source": [
      "Box Plots"
     ]
    },
    {
     "cell_type": "code",
     "collapsed": false,
     "input": [
      "fig = plt.figure()\n",
      "ax = plt.axes()\n",
      "plt.title(\"Lecture attendance against outcome\")\n",
      "plt.xlabel(\"Outcome (0 = fail, 1 = pass)\")\n",
      "ax.set_xticklabels(['0', '1'])\n",
      "plt.ylabel(\"Lecture attendance (%)\")\n",
      "plt.ylim(0, 100)\n",
      "plt.boxplot([x[y == 0], x[y == 1]])\n",
      "plt.show()"
     ],
     "language": "python",
     "metadata": {},
     "outputs": [
      {
       "metadata": {},
       "output_type": "display_data",
       "png": "[encoded data removed]",
       "text": [
        "<matplotlib.figure.Figure at 0x7ffeba53c810>"
       ]
      }
     ],
     "prompt_number": 7
    },
    {
     "cell_type": "markdown",
     "metadata": {},
     "source": [
      "<p>\n",
      "    A box plot shows:\n",
      "</p>\n",
      "<ul>\n",
      "    <li>\n",
      "        The bottom of the box is the <b>first quartile</b>\n",
      "        <ul>\n",
      "            <li>25% of the data has values lower than this</li>\n",
      "        </ul>\n",
      "    </li>\n",
      "    <li>\n",
      "        The red line inside the box is the second quartile (the <b>median</b>)\n",
      "        <ul>\n",
      "            <li>50% of the data has values lower than this</li>\n",
      "        </ul>\n",
      "    </li>\n",
      "    <li>\n",
      "        The top of the box is the <b>third quartile</b>\n",
      "        <ul>\n",
      "            <li>75% of the data has lower values than this</li>\n",
      "        </ul>\n",
      "    </li>\n",
      "    <li>\n",
      "        The difference between the third quartile and the first quartile is called the <b>inter-quartile range</b> (IQR)\n",
      "    </li>\n",
      "    <li>\n",
      "        By default, the <b>whiskers</b> show the lowest value still within 1.5 IQR of the first quartile, and the highest value \n",
      "        still within 1.5 IQR of the third quartile\n",
      "    </li>\n",
      "    <li>\n",
      "        Any other values ('outliers' or 'fliers') beyond the whiskers are shown individually\n",
      "    </li>\n",
      "</ul>"
     ]
    },
    {
     "cell_type": "heading",
     "level": 1,
     "metadata": {
      "slideshow": {
       "slide_type": "slide"
      }
     },
     "source": [
      "Error Estimation"
     ]
    },
    {
     "cell_type": "heading",
     "level": 2,
     "metadata": {},
     "source": [
      "Accuracy"
     ]
    },
    {
     "cell_type": "markdown",
     "metadata": {},
     "source": [
      "<p>\n",
      "    The first question is what to measure. \n",
      "</p>\n",
      "<p>\n",
      "    For <em>regression</em>, we measured mean squared error (MSE). Alternatives include root mean-squared error,\n",
      "    mean absolute error, relative squared error, root relative squared error, relative absolute error, \n",
      "    and others. Most of the time, if you're comparing one regressor with another,\n",
      "    it doesn't much matter which of these you use: often, the same 'winner' emerges no matter which\n",
      "    metric you use.\n",
      "</p>\n",
      "<p>\n",
      "    For classification,\n",
      "    there is a lot of choice, which we will discuss at greater length in a separate lecture. For the purposes of this\n",
      "    lecture, we will use <b>error rate</b>, which is simply the proportion of the test set for which we made the correct\n",
      "    classification. If you like notation:\n",
      "    $$\\frac{1}{|T|}\\sum_{i = 1}^{|T|} I(\\hat{y}^{(i)} \\neq y^{(i)})$$\n",
      "    where $T$ is the set of examples on which you are testing the clasifier and hence $|T|$ is the number of examples, \n",
      "    and $I(p)$ is the indicator function that outputs 1\n",
      "    if predicate $p$ is true and zero otherwise.\n",
      "</p>\n",
      "<p>\n",
      "    More often, we report the <b>classification accuracy</b>. It's simply the proportion of correct classifications made \n",
      "    over a set of $m$ \n",
      "    examples:\n",
      "    $$\\frac{1}{|T|}\\sum_{i = 1}^{|T|} I(\\hat{y}^{(i)} = y^{(i)})$$\n",
      "    Classification accuracy is simply the complement of error rate (1 minus the error rate). \n",
      "</p>"
     ]
    },
    {
     "cell_type": "heading",
     "level": 2,
     "metadata": {
      "slideshow": {
       "slide_type": "slide"
      }
     },
     "source": [
      "Training Sets and Test Sets"
     ]
    },
    {
     "cell_type": "markdown",
     "metadata": {},
     "source": [
      "<p>\n",
      "    With the exception of leave-one-out-cross-validation (LOOCV), error estimation relies on <em>randomly</em>\n",
      "    partitioning the dataset into a training set and a test set. We've discussed before that the split may\n",
      "    be 'lucky' or 'unlucky'. One example of this, in the case of classification, is that the split might not reflect\n",
      "    the distribution of examples within the classes. For example, examples of one class might be under-represented\n",
      "    in the training set or test set &mdash; examples of one class might even be completely absent from the training set\n",
      "    or test set.\n",
      "</p>\n",
      "<p>\n",
      "    <b>Stratification</b> is the solution to this: in stratification, the proportion of examples of each class in\n",
      "    the overall dataset is respected in the partitioning into training and test sets. Here's pseudocode for\n",
      "    <b>stratified holdout</b>. For simplicity, the pseudocode only covers the case of binary classification:\n",
      "</p>\n",
      "<ul style=\"background: lightgray\">\n",
      "    <li>Divide the dataset into positive examples, $P$, and negative examples, $N$</li>\n",
      "    <li>Randomly partition $P$ into $\\mathit{Train}_P$ and $\\mathit{Test}_P$</li>\n",
      "    <li>Randomly partition $N$ into $\\mathit{Train}_N$ and $\\mathit{Test}_N$</li>\n",
      "    <li>$\\mathit{Train} \\gets \\mathit{Train}_P \\cup \\mathit{Train}_N$</li>\n",
      "    <li>$\\mathit{Test} \\gets \\mathit{Test}_P \\cup \\mathit{Test}_N$</li>\n",
      "</ul>\n",
      "<p>\n",
      "    Although this fixes the distribution with respect to the classes, you may still get 'lucky' or 'unlucky' in other\n",
      "    ways. So you will still want to do the above multiple times &mdash; <b>stratified repeated holdout</b>.\n",
      "</p>\n",
      "<p>\n",
      "    In scikit-learn, use StratifiedShuffleSplit, which is similar to ShuffleSplit, except that it takes a different first\n",
      "    argument: instead of the size of the dataset, it takes in the array of $y$-values (so that it can respect their\n",
      "    distribution):\n",
      "</p>"
     ]
    },
    {
     "cell_type": "code",
     "collapsed": false,
     "input": [
      "from sklearn.linear_model import LogisticRegression\n",
      "from sklearn.cross_validation import StratifiedShuffleSplit\n",
      "from sklearn.cross_validation import cross_val_score\n",
      "\n",
      "# Read CSV file\n",
      "df = pd.read_csv(\"dataset-cs1109.csv\")\n",
      "\n",
      "# Get the feature-values into a separate numpy arrays of numbers and the target values into a separate \n",
      "# numpy arrays of ints\n",
      "X = df[['lect', 'lab', 'cao']].values\n",
      "y = df['outcome'].values\n",
      "\n",
      "sss = StratifiedShuffleSplit(y, n_iter = 10, test_size = 0.3, random_state = np.random)\n",
      "estimator = LogisticRegression()\n",
      "accuracies_test = cross_val_score(estimator, X, y, scoring = 'accuracy', cv = sss)\n",
      "mean_accuracy_test = np.mean(accuracies_test)\n",
      "mean_accuracy_test"
     ],
     "language": "python",
     "metadata": {},
     "outputs": [
      {
       "metadata": {},
       "output_type": "pyout",
       "prompt_number": 8,
       "text": [
        "0.76213592233009697"
       ]
      }
     ],
     "prompt_number": 8
    },
    {
     "cell_type": "markdown",
     "metadata": {},
     "source": [
      "<p>\n",
      "    Note the use of 'accuracy' as the scoring function in the above. \n",
      "</p>\n",
      "<p>\n",
      "    Often better still than stratified repeated holdout is <b>stratified $k$-fold cross-validation</b>. In the \n",
      "    case of binary classification, the dataset \n",
      "    is again divided into $P$ and $N$. You then partition $P$ into $k$ folds, and similarly $N$. You then pair up folds\n",
      "    from $P$ with folds from $N$, resulting in $k$ stratified folds.\n",
      "</p>\n",
      "<p>\n",
      "    Here it is in scikit-learn:\n",
      "</p>"
     ]
    },
    {
     "cell_type": "code",
     "collapsed": false,
     "input": [
      "from sklearn.cross_validation import StratifiedKFold\n",
      "from sklearn.cross_validation import cross_val_score\n",
      "\n",
      "skf = StratifiedKFold(y, n_folds = 10) # No shuffle or random_state parameters!\n",
      "estimator = LogisticRegression()\n",
      "accuracies_test = cross_val_score(estimator, X, y, scoring = 'accuracy', cv = skf)\n",
      "mean_accuracy_test = np.mean(accuracies_test)\n",
      "mean_accuracy_test"
     ],
     "language": "python",
     "metadata": {},
     "outputs": [
      {
       "metadata": {},
       "output_type": "pyout",
       "prompt_number": 9,
       "text": [
        "0.75159663865546222"
       ]
      }
     ],
     "prompt_number": 9
    },
    {
     "cell_type": "markdown",
     "metadata": {},
     "source": [
      "<p>\n",
      "    Remember the shorthand way of doing $k$-fold cross validation, simply by setting <code>cv</code> to an integer?\n",
      "    The same works here: when you're doing classification, it will give you stratified $k$-fold cross-validation:\n",
      "</p>"
     ]
    },
    {
     "cell_type": "code",
     "collapsed": false,
     "input": [
      "accuracies_test = cross_val_score(estimator, X, y, scoring = 'accuracy', cv = 10)\n",
      "mean_accuracy_test = np.mean(accuracies_test)\n",
      "mean_accuracy_test"
     ],
     "language": "python",
     "metadata": {},
     "outputs": [
      {
       "metadata": {},
       "output_type": "pyout",
       "prompt_number": 10,
       "text": [
        "0.75159663865546222"
       ]
      }
     ],
     "prompt_number": 10
    },
    {
     "cell_type": "markdown",
     "metadata": {},
     "source": [
      "<p>\n",
      "    Note that an acuracy of 76% accuracy is OK but not great on \n",
      "    this dataset. A majority-class classifier (one that always predicts pass) would get 60%.\n",
      "</p>"
     ]
    },
    {
     "cell_type": "heading",
     "level": 1,
     "metadata": {
      "slideshow": {
       "slide_type": "slide"
      }
     },
     "source": [
      "Model Selection"
     ]
    },
    {
     "cell_type": "markdown",
     "metadata": {},
     "source": [
      "<p>\n",
      "    Both the classifiers that we have looked at so far have hyperparameters. For kNN, it is $k$; for logistic regression,\n",
      "    it is $\\lambda$, which controls the regularization. Optimal values are found, again, with, e.g. grid search.\n",
      "</p>\n",
      "<p>\n",
      "    When it came to regularized linear regression (Lasso and Ridge), scikit-learn made it easy to do model selection\n",
      "    using the LassoCV and RidgeCV classes. For logistic regression, it seems we have to explicitly use GridSearch.\n",
      "    Furthermore, the parameter that controls the regularization (called C) is the inverse of $\\lambda$ &mdash; small\n",
      "    values result in increased regularization.\n",
      "</p>"
     ]
    },
    {
     "cell_type": "code",
     "collapsed": false,
     "input": [
      "from sklearn.cross_validation import KFold\n",
      "from sklearn.grid_search import GridSearchCV\n",
      "\n",
      "estimator_l1 = LogisticRegression(penalty = 'l1')\n",
      "estimator_l2 = LogisticRegression(penalty = 'l2') # default\n",
      "parameters = {'C' : [1, 2, 3, 4, 5, 6, 7, 8, 9, 10]}\n",
      "\n",
      "gs_l1 = GridSearchCV(estimator_l1, parameters, scoring = 'accuracy', cv = 10)\n",
      "accuracies_test_l1 = cross_val_score(gs_l1, X, y, scoring = 'accuracy', cv = 10)\n",
      "mean_accuracies_test_l1 = np.mean(accuracies_test_l1)\n",
      "gs_l2 = GridSearchCV(estimator_l2, parameters, scoring = 'accuracy', cv = 10)\n",
      "accuracies_test_l2 = cross_val_score(gs_l2, X, y, scoring = 'accuracy', cv = 10)\n",
      "mean_accuracies_test_l2 = np.mean(accuracies_test_l2)\n",
      "print(mean_accuracies_test_l1, mean_accuracies_test_l2)"
     ],
     "language": "python",
     "metadata": {},
     "outputs": [
      {
       "output_type": "stream",
       "stream": "stdout",
       "text": [
        "(0.78949579831932781, 0.78957983193277292)\n"
       ]
      }
     ],
     "prompt_number": 11
    },
    {
     "cell_type": "markdown",
     "metadata": {},
     "source": [
      "<p>\n",
      "    Note that this is using stratified $k$-fold cross-validation &mdash; because we used <code>cv = 10</code>.\n",
      "</p>"
     ]
    }
   ],
   "metadata": {}
  }
 ]
}