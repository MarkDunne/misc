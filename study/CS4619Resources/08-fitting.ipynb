{
 "metadata": {
  "name": "",
  "signature": "sha256:57169914324a6ce9599abcfb2ac98d3cba76caeb5c0c90298f426aecd0f31b84"
 },
 "nbformat": 3,
 "nbformat_minor": 0,
 "worksheets": [
  {
   "cells": [
    {
     "cell_type": "heading",
     "level": 1,
     "metadata": {
      "slideshow": {
       "slide_type": "slide"
      }
     },
     "source": [
      "CS4619: Artificial Intelligence 2"
     ]
    },
    {
     "cell_type": "heading",
     "level": 2,
     "metadata": {},
     "source": [
      "Underfitting and Overfitting"
     ]
    },
    {
     "cell_type": "heading",
     "level": 3,
     "metadata": {},
     "source": [
      "Derek Bridge<br>\n",
      "School of Computer Science and Information Technology<br>\n",
      "University College Cork"
     ]
    },
    {
     "cell_type": "heading",
     "level": 1,
     "metadata": {
      "slideshow": {
       "slide_type": "slide"
      }
     },
     "source": [
      "Initialization\n",
      "$\\newcommand{\\Set}[1]{\\{#1\\}}$\n",
      "$\\newcommand{\\Tuple}[1]{\\langle#1\\rangle}$\n",
      "$\\newcommand{\\v}[1]{\\pmb{#1}}$\n",
      "$\\newcommand{\\cv}[1]{\\begin{bmatrix}#1\\end{bmatrix}}$\n",
      "$\\newcommand{\\rv}[1]{[#1]}$"
     ]
    },
    {
     "cell_type": "code",
     "collapsed": false,
     "input": [
      "%load_ext autoreload\n",
      "%autoreload 2\n",
      "%matplotlib inline"
     ],
     "language": "python",
     "metadata": {},
     "outputs": [],
     "prompt_number": 1
    },
    {
     "cell_type": "code",
     "collapsed": false,
     "input": [
      "import pandas as pd\n",
      "import numpy as np\n",
      "import matplotlib.pyplot as plt"
     ],
     "language": "python",
     "metadata": {},
     "outputs": [],
     "prompt_number": 2
    },
    {
     "cell_type": "heading",
     "level": 1,
     "metadata": {
      "slideshow": {
       "slide_type": "slide"
      }
     },
     "source": [
      "Underfitting and Overfitting"
     ]
    },
    {
     "cell_type": "markdown",
     "metadata": {},
     "source": [
      "<p>\n",
      "    Your estimator is underperforming. What should you do? The options include:\n",
      "</p>\n",
      "<ul>\n",
      "    <li>Add more training data</li>\n",
      "    <li>Add more features</li>\n",
      "    <li>Change the complexity of the model</li>\n",
      "    <li>Change the class of model, e.g., to a more complex one</li>\n",
      "</ul>\n",
      "<p>\n",
      "    Surprisingly, adding more data may not help; and, surprisingly, moving to a more complex model may in some\n",
      "    cases worsen the results. This lecture shows you how to diagnose the problem and choose remedies that suit \n",
      "    the diagnosis.\n",
      "</p>"
     ]
    },
    {
     "cell_type": "heading",
     "level": 2,
     "metadata": {
      "slideshow": {
       "slide_type": "slide"
      }
     },
     "source": [
      "Defining Underfitting and Overfitting"
     ]
    },
    {
     "cell_type": "markdown",
     "metadata": {},
     "source": [
      "<p>\n",
      "    To illustrate the concepts, we will use an artificial dataset. So that we can plot things in 2D, the dataset\n",
      "    will have just one feature: a numeric-valued feature whose values range from 0 to 1. The dependent variable\n",
      "    will be a non-linear function of the feature, and we'll add a bit of noise.\n",
      "</p>"
     ]
    },
    {
     "cell_type": "code",
     "collapsed": false,
     "input": [
      "def make_dataset(m, func, error):\n",
      "    X = np.random.random(m)\n",
      "    y = func(X, error)\n",
      "    return X.reshape(m, 1), y\n",
      "\n",
      "def f(x, error = 1.0):\n",
      "    y = 10 - 1 / (x + 0.1)\n",
      "    if error > 0:\n",
      "        y = np.random.normal(y, error)\n",
      "    return y"
     ],
     "language": "python",
     "metadata": {},
     "outputs": [],
     "prompt_number": 3
    },
    {
     "cell_type": "markdown",
     "metadata": {},
     "source": [
      "<p>\n",
      "    Let's create a dataset\n",
      "</p>"
     ]
    },
    {
     "cell_type": "code",
     "collapsed": false,
     "input": [
      "X_train, y_train = make_dataset(50, f, 1.0)\n",
      "X_test = np.linspace(-0.1, 1.1, 500).reshape(500, 1) "
     ],
     "language": "python",
     "metadata": {},
     "outputs": [],
     "prompt_number": 4
    },
    {
     "cell_type": "markdown",
     "metadata": {},
     "source": [
      "<p>\n",
      "    And let's plot the training set:\n",
      "</p>"
     ]
    },
    {
     "cell_type": "code",
     "collapsed": false,
     "input": [
      "fig = plt.figure()\n",
      "plt.xlabel(\"Feature\")\n",
      "plt.ylabel(\"MSE\")\n",
      "plt.ylim(-4, 14)\n",
      "plt.scatter(X_train.ravel(), y_train, color = 'green')\n",
      "plt.show()"
     ],
     "language": "python",
     "metadata": {},
     "outputs": [
      {
       "metadata": {},
       "output_type": "display_data",
       "png": "[encoded data removed]",
       "text": [
        "<matplotlib.figure.Figure at 0x7f0a98504c10>"
       ]
      }
     ],
     "prompt_number": 5
    },
    {
     "cell_type": "heading",
     "level": 3,
     "metadata": {
      "slideshow": {
       "slide_type": "slide"
      }
     },
     "source": [
      "Fitting a Linear Model to the Data"
     ]
    },
    {
     "cell_type": "markdown",
     "metadata": {},
     "source": [
      "<p>\n",
      "    We'll use OLS Linear Regression to fit a linear model, and we'll plot that model:\n",
      "</p>"
     ]
    },
    {
     "cell_type": "code",
     "collapsed": false,
     "input": [
      "from sklearn.linear_model import LinearRegression\n",
      "\n",
      "estimator = LinearRegression()\n",
      "\n",
      "estimator.fit(X_train, y_train)\n",
      "\n",
      "y_predicted = estimator.predict(X_test)\n",
      "\n",
      "fig = plt.figure()\n",
      "plt.xlabel(\"Feature\")\n",
      "plt.ylabel(\"MSE\")\n",
      "plt.ylim(-4, 14)\n",
      "plt.scatter(X_train.ravel(), y_train, color = 'green')\n",
      "plt.plot(X_test.ravel(), y_predicted, color = 'blue')\n",
      "plt.show()"
     ],
     "language": "python",
     "metadata": {},
     "outputs": [
      {
       "metadata": {},
       "output_type": "display_data",
       "png": "[encoded data removed]",
       "text": [
        "<matplotlib.figure.Figure at 0x7f0a6c7fdbd0>"
       ]
      }
     ],
     "prompt_number": 6
    },
    {
     "cell_type": "markdown",
     "metadata": {},
     "source": [
      "<p>\n",
      "    It's easy to see that a linear model is a poor choice. It <b>underfits</b> the data.\n",
      "</p>"
     ]
    },
    {
     "cell_type": "heading",
     "level": 3,
     "metadata": {
      "slideshow": {
       "slide_type": "slide"
      }
     },
     "source": [
      "Fitting a Quadratic Model to the Data"
     ]
    },
    {
     "cell_type": "markdown",
     "metadata": {},
     "source": [
      "<p>\n",
      "    What happens if we try to fit a more complex model such as a quadratic function?\n",
      "</p>\n",
      "<p>\n",
      "    Here's a class for fitting polynomials on a single feature &mdash; the details do not matter.\n",
      "</p>"
     ]
    },
    {
     "cell_type": "code",
     "collapsed": false,
     "input": [
      "class PolynomialRegression(LinearRegression):\n",
      "    def __init__(self, degree = 1):\n",
      "        self.degree = degree\n",
      "        LinearRegression.__init__(self)\n",
      "        \n",
      "    def fit(self, X, y):\n",
      "        return LinearRegression.fit(self, X ** (1 + np.arange(self.degree)), y)\n",
      "    \n",
      "    def predict(self, X):\n",
      "        return LinearRegression.predict(self, X ** (1 + np.arange(self.degree)))"
     ],
     "language": "python",
     "metadata": {},
     "outputs": [],
     "prompt_number": 7
    },
    {
     "cell_type": "markdown",
     "metadata": {},
     "source": [
      "<p>\n",
      "    So now we can fit a quadratic model:\n",
      "</p>"
     ]
    },
    {
     "cell_type": "code",
     "collapsed": false,
     "input": [
      "estimator = PolynomialRegression(degree = 2)\n",
      "\n",
      "estimator.fit(X_train, y_train)\n",
      "\n",
      "y_predicted = estimator.predict(X_test)\n",
      "\n",
      "fig = plt.figure()\n",
      "plt.xlabel(\"Feature\")\n",
      "plt.ylabel(\"MSE\")\n",
      "plt.ylim(-4, 14)\n",
      "plt.scatter(X_train.ravel(), y_train, color = 'green')\n",
      "plt.plot(X_test.ravel(), y_predicted, color = 'blue')\n",
      "plt.show()"
     ],
     "language": "python",
     "metadata": {},
     "outputs": [
      {
       "metadata": {},
       "output_type": "display_data",
       "png": "[encoded data removed]",
       "text": [
        "<matplotlib.figure.Figure at 0x7f0a6c7f1f10>"
       ]
      }
     ],
     "prompt_number": 8
    },
    {
     "cell_type": "markdown",
     "metadata": {},
     "source": [
      "<p>\n",
      "    This fits the training data much better.\n",
      "</p>"
     ]
    },
    {
     "cell_type": "heading",
     "level": 3,
     "metadata": {
      "slideshow": {
       "slide_type": "slide"
      }
     },
     "source": [
      "Fitting a Much Higher Degree Polynomial to the Data"
     ]
    },
    {
     "cell_type": "markdown",
     "metadata": {},
     "source": [
      "<p>\n",
      "    So what happens if we fit a higher degree polynomial? Here we'll try 30:\n",
      "</p>"
     ]
    },
    {
     "cell_type": "code",
     "collapsed": false,
     "input": [
      "estimator = PolynomialRegression(degree = 30)\n",
      "\n",
      "estimator.fit(X_train, y_train)\n",
      "\n",
      "y_predicted = estimator.predict(X_test)\n",
      "\n",
      "fig = plt.figure()\n",
      "plt.xlabel(\"Feature\")\n",
      "plt.ylabel(\"MSE\")\n",
      "plt.ylim(-4, 14)\n",
      "plt.scatter(X_train.ravel(), y_train, color = 'green')\n",
      "plt.plot(X_test.ravel(), y_predicted, color = 'blue')\n",
      "plt.show()"
     ],
     "language": "python",
     "metadata": {},
     "outputs": [
      {
       "metadata": {},
       "output_type": "display_data",
       "png": "[encoded data removed]",
       "text": [
        "<matplotlib.figure.Figure at 0x7f0a764070d0>"
       ]
      }
     ],
     "prompt_number": 9
    },
    {
     "cell_type": "markdown",
     "metadata": {},
     "source": [
      "<p>\n",
      "    While a model of this complexity fits the training set really well, it seems clear that this model is a\n",
      "    poor choice. It is not capturing the target function; it is fitting to the noise in the training set. \n",
      "    It <b>overfits</b> the data. \n",
      "</p>"
     ]
    },
    {
     "cell_type": "heading",
     "level": 3,
     "metadata": {
      "slideshow": {
       "slide_type": "slide"
      }
     },
     "source": [
      "Underfitting and Overfitting Summary"
     ]
    },
    {
     "cell_type": "markdown",
     "metadata": {},
     "source": [
      "<p>\n",
      "    In summary,\n",
      "</p>\n",
      "<ul>\n",
      "    <li>\n",
      "        A hypothesis underfits the training set if there is a more complex hypothesis with lower test error.\n",
      "    </li>\n",
      "    <li>\n",
      "        A hypothesis overfits the training set if there is a less complex hypothesis with lower test error.\n",
      "    </li>\n",
      "</ul>"
     ]
    },
    {
     "cell_type": "heading",
     "level": 1,
     "metadata": {
      "slideshow": {
       "slide_type": "slide"
      }
     },
     "source": [
      "The Bias-Variance Trade-Off"
     ]
    },
    {
     "cell_type": "markdown",
     "metadata": {},
     "source": [
      "<p>\n",
      "    The test error of a hypothesis is made up of three parts:\n",
      "</p>\n",
      "<ul>\n",
      "    <li>the <b>bias</b></li>\n",
      "    <li>the <b>variance</b>, and</li>\n",
      "    <li>the <b>irreducible error</b></li>\n",
      "</ul>\n",
      "<p>\n",
      "    The irreducible error is...well..irreducible. It is caused by noise in the training set.\n",
      "</p>\n",
      "<p>\n",
      "    Bias refers to the error we will obtain when we try to capture a target function by a model that is\n",
      "    too simple, e.g. trying to capture a non-linear target function using linear regression. It is therefore independent \n",
      "    of the training set size. Generally, models of low complexity\n",
      "    result in high bias. If your learning algorithm learns models that are not complex enough, bias may be high. \n",
      "    Adding more training data will not help:\n",
      "    the models are simply too restrictive to capture the target function. \n",
      "</p>\n",
      "<p>\n",
      "    Variance measures the stability of the learning algorithm in the face of different training sets, i.e. how much\n",
      "    the function that gets learned changes when the examples in the training set change. Ideally, the function that\n",
      "    gets learned will not vary too much between training sets. Generally, models of high complexity result in high\n",
      "    variance. The models may fit the training data 'too well'; they can even fit to the noise in the training set;\n",
      "    but they do not generalize well to unseen data.\n",
      "    Adding more data may help: it can reinforce\n",
      "    the true 'patterns' in the data and swamp the noise.\n",
      "<p>\n",
      "    Ideally, we want a learning method that results in models with low bias and low variance. In general, as we\n",
      "    increase complexity, bias will decrease and variance will increase. So we have a\n",
      "    <b>bias-variance trade-off</b>.\n",
      "</p>"
     ]
    },
    {
     "cell_type": "heading",
     "level": 2,
     "metadata": {
      "slideshow": {
       "slide_type": "slide"
      }
     },
     "source": [
      "Visualizing the Bias-Variance Trade-Off"
     ]
    },
    {
     "cell_type": "markdown",
     "metadata": {},
     "source": [
      "<p>\n",
      "    We can explore the trade-off by plotting training error and test error for models\n",
      "    of different complexity &mdash; in this case, polynomials of different degrees.\n",
      "</p>\n",
      "<p>\n",
      "    Showing this kind of thing, by the way, is why we sometimes want the training error as well as the test \n",
      "    error. \n",
      "</p>\n",
      "<p>\n",
      "    We'd like to use $k$-fold cross-validation for this but you might\n",
      "    remember that scikit-learn's implementation for $k$-fold cross-validation only computes test error.\n",
      "    So we'll use my implementation of Repeated Holdout, which does compute both training error and test error:\n",
      "</p>"
     ]
    },
    {
     "cell_type": "code",
     "collapsed": false,
     "input": [
      "from sklearn.cross_validation import ShuffleSplit\n",
      "from sklearn.metrics import mean_squared_error\n",
      "\n",
      "def repeated_holdout_for_regression(estimator, X, y, num_iterations = 10, test_size = 0.3):\n",
      "    mses_train = np.zeros(num_iterations)\n",
      "    mses_test = np.zeros(num_iterations)\n",
      "    ss = ShuffleSplit(n = len(y), n_iter = num_iterations, test_size = test_size, \n",
      "                      random_state = np.random)\n",
      "    for i, (train_indexes, test_indexes) in zip(range(num_iterations), ss):\n",
      "        X_train = X[train_indexes]\n",
      "        y_train = y[train_indexes]\n",
      "        X_test = X[test_indexes]\n",
      "        y_test = y[test_indexes]\n",
      "        estimator.fit(X_train, y_train)\n",
      "        y_predicted = estimator.predict(X_train)\n",
      "        mses_train[i] = mean_squared_error(y_train, y_predicted)\n",
      "        y_predicted = estimator.predict(X_test)\n",
      "        mses_test[i] = mean_squared_error(y_test, y_predicted)\n",
      "    return np.mean(mses_train), np.mean(mses_test)"
     ],
     "language": "python",
     "metadata": {},
     "outputs": [],
     "prompt_number": 10
    },
    {
     "cell_type": "markdown",
     "metadata": {},
     "source": [
      "<p>\n",
      "    We'll create a larger dataset than we were using earlier in this lecture.\n",
      "</p>"
     ]
    },
    {
     "cell_type": "code",
     "collapsed": false,
     "input": [
      "X, y = make_dataset(200, f, 1.0)"
     ],
     "language": "python",
     "metadata": {},
     "outputs": [],
     "prompt_number": 11
    },
    {
     "cell_type": "markdown",
     "metadata": {},
     "source": [
      "<p>\n",
      "    And finally here's the plot of training error and test error against complexity (the degree of the polynomial):\n",
      "</p>"
     ]
    },
    {
     "cell_type": "code",
     "collapsed": false,
     "input": [
      "degrees = range(1, 30)\n",
      "mses_train = []\n",
      "mses_test = []\n",
      "\n",
      "for degree in degrees:\n",
      "    estimator = PolynomialRegression(degree)\n",
      "    mean_mse_train, mean_mse_test = repeated_holdout_for_regression(estimator, X, y)\n",
      "    mses_train.append(mean_mse_train)\n",
      "    mses_test.append(mean_mse_test)\n",
      "    \n",
      "fig = plt.figure()\n",
      "plt.xlabel(\"degree\")\n",
      "plt.ylabel(\"MSE\")\n",
      "plt.ylim(0, 5)\n",
      "plt.plot(degrees, mses_train, label = 'training error', color = 'red')\n",
      "plt.plot(degrees, mses_test, label='test error', color = 'gold')\n",
      "plt.legend()\n",
      "plt.show()"
     ],
     "language": "python",
     "metadata": {},
     "outputs": [
      {
       "metadata": {},
       "output_type": "display_data",
       "png": "[encoded data removed]",
       "text": [
        "<matplotlib.figure.Figure at 0x7f0a6c80d850>"
       ]
      }
     ],
     "prompt_number": 12
    },
    {
     "cell_type": "markdown",
     "metadata": {},
     "source": [
      "<p>\n",
      "    Because of the unreliability of the repeated holdout method, we may have to run the above code several times until\n",
      "    we get a 'typical' graph. In a 'typical' graph, the test error will be higher than the training error, as\n",
      "    you'd expect. \n",
      "<p>\n",
      "    But, additionally, the graph should show the bias-variance trade-off:\n",
      "</p>\n",
      "<ul>\n",
      "    <li>\n",
      "        Where the complexity is low (low degree polynomials in this case), we have high bias: both the \n",
      "        training error and the test error will\n",
      "        be high, because the hypothesis underfits the data. \n",
      "    </li>\n",
      "    <li>\n",
      "        Where the complexity is high (high degree polynomials in this case), we have high variance: the \n",
      "        training error is low and the test error will be\n",
      "        high, because the hypothesis overfits the data.\n",
      "    </li>\n",
      "</ul>\n",
      "<p>\n",
      "    Between the two extremes, there's an optimum complexity where test error is at its lowest.\n",
      "</p>"
     ]
    },
    {
     "cell_type": "heading",
     "level": 1,
     "metadata": {
      "slideshow": {
       "slide_type": "slide"
      }
     },
     "source": [
      "Learning Curves"
     ]
    },
    {
     "cell_type": "markdown",
     "metadata": {},
     "source": [
      "<p>\n",
      "    <b>Learning curves</b> plot training error and test error against the <em>number of examples in the training set</em>.\n",
      "    When an estimator is underperforming, these curves give some insight into whether the problem is\n",
      "    high bias or high variance, and hence what to do about it.\n",
      "</p>"
     ]
    },
    {
     "cell_type": "code",
     "collapsed": false,
     "input": [
      "def plot_learning_curve(estimator, X, y, num_iterations = 10, test_size = 0.3):\n",
      "    max_training_set_size =  int((1 - test_size) * len(y))\n",
      "    training_set_sizes = range(1, max_training_set_size)\n",
      "    mses_incremental_train = np.zeros((max_training_set_size, num_iterations))\n",
      "    mses_incremental_test = np.zeros((max_training_set_size, num_iterations))\n",
      "    ss = ShuffleSplit(n = len(y), n_iter = num_iterations, test_size = test_size, \n",
      "                      random_state = np.random)\n",
      "    for i, (train_indexes, test_indexes) in zip(range(num_iterations), ss):\n",
      "        X_train = X[train_indexes]\n",
      "        y_train = y[train_indexes]\n",
      "        X_test = X[test_indexes]\n",
      "        y_test = y[test_indexes]\n",
      "        for j in training_set_sizes:\n",
      "            estimator.fit(X_train[:j], y_train[:j])\n",
      "            y_predicted = estimator.predict(X_train[:j])\n",
      "            mses_incremental_train[j][i] = mean_squared_error(y_train[:j], y_predicted)\n",
      "            y_predicted = estimator.predict(X_test)\n",
      "            mses_incremental_test[j][i] = mean_squared_error(y_test, y_predicted)\n",
      "    mses_train = []\n",
      "    mses_test = []\n",
      "    for j in training_set_sizes:\n",
      "        mses_train.append(np.mean(mses_incremental_train[j]))\n",
      "        mses_test.append(np.mean(mses_incremental_test[j]))\n",
      "    fig = plt.figure()\n",
      "    plt.xlabel('num. training examples')\n",
      "    plt.ylabel('MSE')\n",
      "    plt.ylim(0, 5)\n",
      "    plt.plot(training_set_sizes, mses_train, label = 'training error', color = 'purple')\n",
      "    plt.plot(training_set_sizes, mses_test, label = 'test error', color ='orange')\n",
      "    plt.plot(training_set_sizes, np.ones_like(training_set_sizes), linestyle = 'dotted', color = 'gray')\n",
      "    plt.legend()\n",
      "    plt.show()"
     ],
     "language": "python",
     "metadata": {},
     "outputs": [],
     "prompt_number": 13
    },
    {
     "cell_type": "heading",
     "level": 2,
     "metadata": {
      "slideshow": {
       "slide_type": "slide"
      }
     },
     "source": [
      "Learning Curve When Complexity is About Right"
     ]
    },
    {
     "cell_type": "markdown",
     "metadata": {},
     "source": [
      "<p>\n",
      "    We'll plot a learning curve for what we know to be a reasonable level of complexity for this dataset,\n",
      "    namely polynomials of degree 5:\n",
      "</p>"
     ]
    },
    {
     "cell_type": "code",
     "collapsed": false,
     "input": [
      "estimator = PolynomialRegression(5)\n",
      "plot_learning_curve(estimator, X, y)"
     ],
     "language": "python",
     "metadata": {},
     "outputs": [
      {
       "metadata": {},
       "output_type": "display_data",
       "png": "[encoded data removed]",
       "text": [
        "<matplotlib.figure.Figure at 0x7f0a74671c90>"
       ]
      }
     ],
     "prompt_number": 14
    },
    {
     "cell_type": "markdown",
     "metadata": {},
     "source": [
      "<p>\n",
      "    When the complexity of the model is about right, the 'typical' learning curve will show a large gap at the\n",
      "    start: training error is very low (there are few examples, so they're easy to fit) but test error is\n",
      "    high. As the number of training examples grows, the gap narrows and should converge. If the model \n",
      "    complexity is appropriate then, after enough examples have been seen, we should converge on the irreducible\n",
      "    error in the dataset. In our case this is approximtely 1, because that's how much error we added to the artificial\n",
      "    dataset.\n",
      "</p>"
     ]
    },
    {
     "cell_type": "heading",
     "level": 2,
     "metadata": {
      "slideshow": {
       "slide_type": "slide"
      }
     },
     "source": [
      "Learning Curve When Complexity is Too Low"
     ]
    },
    {
     "cell_type": "markdown",
     "metadata": {},
     "source": [
      "<p>\n",
      "    Let's look at the learning curve when the model is not complex enough. Here, the polynomials are of\n",
      "    degree 1:\n",
      "</p>"
     ]
    },
    {
     "cell_type": "code",
     "collapsed": false,
     "input": [
      "estimator = PolynomialRegression(1)\n",
      "plot_learning_curve(estimator, X, y)"
     ],
     "language": "python",
     "metadata": {},
     "outputs": [
      {
       "metadata": {},
       "output_type": "display_data",
       "png": "[encoded data removed]",
       "text": [
        "<matplotlib.figure.Figure at 0x7f0a6c349750>"
       ]
      }
     ],
     "prompt_number": 23
    },
    {
     "cell_type": "markdown",
     "metadata": {},
     "source": [
      "<p>\n",
      "    We see that error is higher than the irreducible error. \n",
      "</p>\n",
      "<p>\n",
      "    Also in a 'typical' learning curve for this situation, the training error and test error will probably not converge.\n",
      "    Adding more examples doesn't help much. This is because \n",
      "    we have high bias: no amount of examples will\n",
      "    compensate for the fact that the set of hypotheses is just too restrictive.\n",
      "</p>"
     ]
    },
    {
     "cell_type": "heading",
     "level": 2,
     "metadata": {
      "slideshow": {
       "slide_type": "slide"
      }
     },
     "source": [
      "Learning Curve When Complexity is Too High"
     ]
    },
    {
     "cell_type": "markdown",
     "metadata": {},
     "source": [
      "<p>\n",
      "    Let's look at a curve where the model is too complex. Here, the polynomials are of degree 16:\n",
      "</p>"
     ]
    },
    {
     "cell_type": "code",
     "collapsed": false,
     "input": [
      "estimator = PolynomialRegression(16)\n",
      "plot_learning_curve(estimator, X, y)"
     ],
     "language": "python",
     "metadata": {},
     "outputs": [
      {
       "metadata": {},
       "output_type": "display_data",
       "png": "[encoded data removed]",
       "text": [
        "<matplotlib.figure.Figure at 0x7f0a6c2d6490>"
       ]
      }
     ],
     "prompt_number": 16
    },
    {
     "cell_type": "markdown",
     "metadata": {},
     "source": [
      "<p>\n",
      "    Here we have high variance: adding more examples is helping. But it's not converging as quickly as it did\n",
      "    for degree 5. This is because the set of hypotheses is larger, so we need more examples to discriminate\n",
      "    between the them.\n",
      "</p>"
     ]
    },
    {
     "cell_type": "heading",
     "level": 2,
     "metadata": {
      "slideshow": {
       "slide_type": "slide"
      }
     },
     "source": [
      "Remedial Actions"
     ]
    },
    {
     "cell_type": "markdown",
     "metadata": {},
     "source": [
      "<p>\n",
      "    If the curves aren't converging:\n",
      "</p>\n",
      "<ul>\n",
      "    <li>\n",
      "        Increase the complexity &mdash; if you think you're underfitting due to high bias\n",
      "        <ul>\n",
      "            <li>\n",
      "                Move to a more complex model (e.g. a polynomial of a higher degree, or a different kind of \n",
      "                model, such as a nonparametric one that makes fewer assumptions about the target function)\n",
      "            </li>\n",
      "            <li>\n",
      "                Move to a more complex variant of your current model\n",
      "            </li>\n",
      "        </ul>\n",
      "    </li>\n",
      "    <li>\n",
      "        Add more features &mdash; ones that are predictive of the dependent variable\n",
      "    </li>\n",
      "</ul>\n",
      "<p>\n",
      "    If the curves are converging but too slowly:\n",
      "</p>\n",
      "<ul>\n",
      "    <li>\n",
      "        Decrease the complexity &mdash; if you think you're overfitting due to high variance\n",
      "        <ul>\n",
      "            <li>\n",
      "                Move to a less complex model (e.g. a polynomial of a lower degree or a different kind of\n",
      "                model that makes more assumptions about the target function)\n",
      "            </li>\n",
      "            <li>\n",
      "                Move to a less complex variant of your current model (e.g. regularization, smoothing, ...)\n",
      "            </li>\n",
      "        </ul>\n",
      "    </li>\n",
      "    <li>\n",
      "        Add more examples\n",
      "    </li>\n",
      "</ul>\n",
      "<p>\n",
      "    This isn't an exhaustive set of remedial actions. For example, if the curves aren't converging, maybe you\n",
      "    have lots of irrelevant features: removing some might help the learner fit a good hypothesis. And if the\n",
      "    curves are converging too slowly, then  maybe using a method to detect and remove noisy examples will\n",
      "    help.\n",
      "</p>\n",
      "<p>\n",
      "    Credits. I based this notebook on these:\n",
      "</p>\n",
      "<ul>\n",
      "    <li><a href=\"http://www.astro.washington.edu/users/vanderplas/Astr599/notebooks/18_IntermediateSklearn\">http://www.astro.washington.edu/users/vanderplas/Astr599/notebooks/18_IntermediateSklearn</a></li>\n",
      "    <li><a href=\"http://www.astroml.org/sklearn_tutorial/practical.html\">http://www.astroml.org/sklearn_tutorial/practical.html</a></li>\n",
      "</ul>"
     ]
    }
   ],
   "metadata": {}
  }
 ]
}