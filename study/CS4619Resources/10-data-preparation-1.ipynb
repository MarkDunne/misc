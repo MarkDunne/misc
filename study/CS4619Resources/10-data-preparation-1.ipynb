{
 "metadata": {
  "name": "",
  "signature": "sha256:d9af6b9b7c398dc2a899530b9dc0a46a1ee4640f3b5d15d3ab90572a00addc5f"
 },
 "nbformat": 3,
 "nbformat_minor": 0,
 "worksheets": [
  {
   "cells": [
    {
     "cell_type": "heading",
     "level": 1,
     "metadata": {
      "slideshow": {
       "slide_type": "slide"
      }
     },
     "source": [
      "CS4619: Artificial Intelligence 2"
     ]
    },
    {
     "cell_type": "heading",
     "level": 2,
     "metadata": {},
     "source": [
      "Data Preparation I"
     ]
    },
    {
     "cell_type": "heading",
     "level": 3,
     "metadata": {},
     "source": [
      "Derek Bridge<br>\n",
      "School of Computer Science and Information Technology<br>\n",
      "University College Cork"
     ]
    },
    {
     "cell_type": "heading",
     "level": 1,
     "metadata": {
      "slideshow": {
       "slide_type": "slide"
      }
     },
     "source": [
      "Initialization\n",
      "$\\newcommand{\\Set}[1]{\\{#1\\}}$\n",
      "$\\newcommand{\\Tuple}[1]{\\langle#1\\rangle}$\n",
      "$\\newcommand{\\v}[1]{\\pmb{#1}}$\n",
      "$\\newcommand{\\cv}[1]{\\begin{bmatrix}#1\\end{bmatrix}}$\n",
      "$\\newcommand{\\rv}[1]{[#1]}$"
     ]
    },
    {
     "cell_type": "code",
     "collapsed": false,
     "input": [
      "%load_ext autoreload\n",
      "%autoreload 2\n",
      "%matplotlib inline"
     ],
     "language": "python",
     "metadata": {},
     "outputs": [],
     "prompt_number": 1
    },
    {
     "cell_type": "code",
     "collapsed": false,
     "input": [
      "import pandas as pd\n",
      "import numpy as np\n",
      "import matplotlib.pyplot as plt"
     ],
     "language": "python",
     "metadata": {},
     "outputs": [],
     "prompt_number": 2
    },
    {
     "cell_type": "heading",
     "level": 1,
     "metadata": {
      "slideshow": {
       "slide_type": "slide"
      }
     },
     "source": [
      "Introduction"
     ]
    },
    {
     "cell_type": "markdown",
     "metadata": {},
     "source": [
      "<p>\n",
      "    In previous lectures, we rushed straight in to studying learning algorithms. \n",
      "    But in reality before you throw learning algorithms at your data, there is the task of\n",
      "    <b>data preparation</b>. Real data is incomplete (e.g. with values missing), noisy (containing errors) \n",
      "    and inconsistent (especially if it comes from multiple sources). We must deal with at least \n",
      "    some of these problems before applying any learning algorithms (otherwise, garbage-in-garbage-out).\n",
      "    People estimate that data preparation accounts for 60% or more of the work in data analytics.\n",
      "</p>\n",
      "<p>\n",
      "    An incomplete list of data preparation activities (in no particular order):\n",
      "</p>\n",
      "<ul>\n",
      "    <li>\n",
      "        Data cleaning:\n",
      "        <ul>\n",
      "            <li>\n",
      "                handling missing values; smoothing noisy data; removing outliers; correcting erroneous values;\n",
      "                ...\n",
      "            </li>\n",
      "        </ul>\n",
      "    </li>\n",
      "    <li>\n",
      "        Data integration:\n",
      "        <ul>\n",
      "            <li>\n",
      "                de-normalizing relational databases and flattening other data structures such as trees\n",
      "                and graphs; resolving inconsistencies; identifying and handling duplicates;...\n",
      "            </li>\n",
      "        </ul>\n",
      "    </li>\n",
      "    <li>\n",
      "        Data transformation:\n",
      "        <ul>\n",
      "            <li>\n",
      "                handling nominal values when only numeric values are allowed; discretizing numeric values;\n",
      "                changing character encodings and other data representations; scaling;...\n",
      "            </li>\n",
      "        </ul>\n",
      "    </li>\n",
      "    <li>\n",
      "        Feature engineering:\n",
      "        <ul>\n",
      "            <li>\n",
      "                augmenting the dataset with new features, either newly-gathered features or ones that are\n",
      "                computed from the other features (e.g. aggregates of the others);...\n",
      "            </li>\n",
      "        </ul>\n",
      "    </li>\n",
      "    <li>\n",
      "        Data reduction:\n",
      "        <ul>\n",
      "            <li>\n",
      "                sampling; feature selection to remove features with low predictive power; reducing the\n",
      "                dimensionality of the data through techniques such as Principal Component Analysis;...\n",
      "            </li>\n",
      "        </ul>\n",
      "     </li>\n",
      "</ul>\n",
      "<p>\n",
      "    We will only scratch the surface of this huge topic. In particular, we will look at feature engineering \n",
      "    and data reduction in later lectures. In this lecture, we will study the following topics:\n",
      "</p>\n",
      "<ol>\n",
      "    <li>\n",
      "        Getting to know your data\n",
      "    </li>\n",
      "    <li>\n",
      "        Detecting anomalies\n",
      "    </li>\n",
      "    <li>\n",
      "        Handling missing values\n",
      "    </li>\n",
      "</ol>\n",
      "<p>\n",
      "    And in the next lecture, we will study these:\n",
      "<ol start=\"4\">\n",
      "    <li>\n",
      "        Handling nominal-valued features\n",
      "    </li>\n",
      "    <li>\n",
      "        Scaling numeric values\n",
      "    </li>\n",
      "</ol>"
     ]
    },
    {
     "cell_type": "heading",
     "level": 1,
     "metadata": {
      "slideshow": {
       "slide_type": "slide"
      }
     },
     "source": [
      "Getting to Know Your Data"
     ]
    },
    {
     "cell_type": "markdown",
     "metadata": {},
     "source": [
      "<p>\n",
      "    Time spent just exploring the data is always worthwhile &mdash; especially if you have access to\n",
      "    a domain expert while you are doing so. \n",
      "</p>\n",
      "<p>\n",
      "    To illustrate this lecture, we will use a different version of the Cork property dataset &mdash; a version that\n",
      "    has more features.\n",
      "</p>"
     ]
    },
    {
     "cell_type": "code",
     "collapsed": false,
     "input": [
      "# Use pandas to read the CSV file\n",
      "df = pd.read_csv(\"dataset-corkB.csv\")\n",
      "\n",
      "print(df.columns)\n",
      "print(df.shape)"
     ],
     "language": "python",
     "metadata": {},
     "outputs": [
      {
       "output_type": "stream",
       "stream": "stdout",
       "text": [
        "Index([u'flarea', u'type', u'bdrms', u'bthrms', u'floors', u'devment', u'ber', u'location', u'price'], dtype='object')\n",
        "(236, 9)\n"
       ]
      }
     ],
     "prompt_number": 3
    },
    {
     "cell_type": "markdown",
     "metadata": {},
     "source": [
      "<p>\n",
      "    We have 236 examples and 8 features. The 9th column is the dependent variable, the actual selling price \n",
      "    of the house.\n",
      "</p>\n",
      "<p>\n",
      "    We should think about the <em>data type</em> of each feature.\n",
      "    There are <em>at least</em> the following data types:\n",
      "</p>\n",
      "<ul>\n",
      "    <li>\n",
      "        <b>Numeric-valued</b>: either real- or integer-valued, such as floor area or number of bedrooms.\n",
      "    </li>\n",
      "    <li>\n",
      "        <b>Nominal-valued</b>: where there is a finite set of possible values. Often these values are strings.\n",
      "        For example, dwelling type is a nominal-valued feature whose values are \"Apartment\", \"Detached\",\n",
      "        \"SemiDetached\" or \"Terraced\". The special case here is, of course, a binary-valued feature, where\n",
      "        there are just two values. For example, sex is a nominal-valued feature whose values are (e.g.) 'M' or\n",
      "        'F';\n",
      "    </li>\n",
      "    <li>\n",
      "        Unstructured: \n",
      "        <ul>\n",
      "            <li>\n",
      "                free text\n",
      "            </li>\n",
      "            <li>\n",
      "                media such as images, audio and video\n",
      "            </li>\n",
      "        </ul>\n",
      "    </li>\n",
      "</ul>\n",
      "<p>\n",
      "    There are other possibilities too. For example, the genre of a movie might be a set-valued feature, i.e.\n",
      "    a set of nominal values, e.g. the value of the genre feature for <i>The Blues Brothers</i> is \n",
      "    $\\Set{\\mathit{musical}, \\mathit{comedy}, \\mathit{action}}$.\n",
      "</p>\n",
      "<p>\n",
      "    The 8 features of the Cork property dataset have the following types:\n",
      "</p>\n",
      "<table>\n",
      "    <tr>\n",
      "        <td>$\\mathit{flarea}$</td><td>numeric</td><td>the floor area in square metres</td>\n",
      "    </tr>\n",
      "    <tr>\n",
      "        <td>$\\mathit{type}$</td><td>nominal</td><td>dwelling type: Apartment, Detached, SemiDetached,\n",
      "            Terraced</td>\n",
      "    </tr>\n",
      "    <tr>\n",
      "        <td>$\\mathit{bdrms}$</td><td>numeric</td><td>the number of bedrooms</td>\n",
      "    </tr>\n",
      "    <tr>\n",
      "        <td>$\\mathit{bthrms}$</td><td>numeric</td><td>the number of bathrooms</td>\n",
      "    </tr>\n",
      "    <tr>\n",
      "        <td>$\\mathit{floors}$</td><td>numeric</td><td>the number of floors</td>\n",
      "    </tr>\n",
      "    <tr>\n",
      "        <td>$\\mathit{devment}$</td><td>nominal</td><td>the type of development: New or SecondHand</td>\n",
      "    </tr>\n",
      "    <tr>\n",
      "        <td>$\\mathit{ber}$</td><td>nominal</td>\n",
      "        <td>building energy rating: A1, A2, A3, B1, B2, B3, C1, C2, C3, D1, D2, E1, E2, F, G</td>\n",
      "    </tr>\n",
      "    <tr>\n",
      "        <td>$\\mathit{location}$</td><td>nominal</td><td>the area of Cork, e.g. Douglas, Glanmire, Wilton,...</td>\n",
      "    </tr>\n",
      "</table>"
     ]
    },
    {
     "cell_type": "code",
     "collapsed": false,
     "input": [
      "# Use pandas to see the actual types\n",
      "df.dtypes"
     ],
     "language": "python",
     "metadata": {},
     "outputs": [
      {
       "metadata": {},
       "output_type": "pyout",
       "prompt_number": 4,
       "text": [
        "flarea      float64\n",
        "type         object\n",
        "bdrms       float64\n",
        "bthrms        int64\n",
        "floors      float64\n",
        "devment      object\n",
        "ber          object\n",
        "location     object\n",
        "price       float64\n",
        "dtype: object"
       ]
      }
     ],
     "prompt_number": 4
    },
    {
     "cell_type": "code",
     "collapsed": false,
     "input": [
      "# Use pandas to get summary statistics\n",
      "# In the latest version of pandas, df.describe(include='all') should describe the entire dataframe\n",
      "# For older versions, we must look at the numeric-valued columns and nominal-valued columns separately\n",
      "# By default, df.describe() will summarize the numeric-valued columns (if there are any)\n",
      "df.describe()"
     ],
     "language": "python",
     "metadata": {},
     "outputs": [
      {
       "html": [
        "<div style=\"max-height:1000px;max-width:1500px;overflow:auto;\">\n",
        "<table border=\"1\" class=\"dataframe\">\n",
        "  <thead>\n",
        "    <tr style=\"text-align: right;\">\n",
        "      <th></th>\n",
        "      <th>flarea</th>\n",
        "      <th>bdrms</th>\n",
        "      <th>bthrms</th>\n",
        "      <th>floors</th>\n",
        "      <th>price</th>\n",
        "    </tr>\n",
        "  </thead>\n",
        "  <tbody>\n",
        "    <tr>\n",
        "      <th>count</th>\n",
        "      <td>  233.000000</td>\n",
        "      <td> 234.000000</td>\n",
        "      <td> 236.000000</td>\n",
        "      <td> 233.000000</td>\n",
        "      <td>  224.000000</td>\n",
        "    </tr>\n",
        "    <tr>\n",
        "      <th>mean</th>\n",
        "      <td>  145.458247</td>\n",
        "      <td>   3.487179</td>\n",
        "      <td>   2.161017</td>\n",
        "      <td>   1.841202</td>\n",
        "      <td>  307.714286</td>\n",
        "    </tr>\n",
        "    <tr>\n",
        "      <th>std</th>\n",
        "      <td>  134.103000</td>\n",
        "      <td>   1.226428</td>\n",
        "      <td>   1.188386</td>\n",
        "      <td>   0.366275</td>\n",
        "      <td>  374.332421</td>\n",
        "    </tr>\n",
        "    <tr>\n",
        "      <th>min</th>\n",
        "      <td>    0.371600</td>\n",
        "      <td>   1.000000</td>\n",
        "      <td>   1.000000</td>\n",
        "      <td>   1.000000</td>\n",
        "      <td>   55.000000</td>\n",
        "    </tr>\n",
        "    <tr>\n",
        "      <th>25%</th>\n",
        "      <td>   81.800000</td>\n",
        "      <td>   3.000000</td>\n",
        "      <td>   1.000000</td>\n",
        "      <td>   2.000000</td>\n",
        "      <td>  168.000000</td>\n",
        "    </tr>\n",
        "    <tr>\n",
        "      <th>50%</th>\n",
        "      <td>  109.000000</td>\n",
        "      <td>   3.000000</td>\n",
        "      <td>   2.000000</td>\n",
        "      <td>   2.000000</td>\n",
        "      <td>  225.000000</td>\n",
        "    </tr>\n",
        "    <tr>\n",
        "      <th>75%</th>\n",
        "      <td>  167.200000</td>\n",
        "      <td>   4.000000</td>\n",
        "      <td>   3.000000</td>\n",
        "      <td>   2.000000</td>\n",
        "      <td>  345.000000</td>\n",
        "    </tr>\n",
        "    <tr>\n",
        "      <th>max</th>\n",
        "      <td> 1301.000000</td>\n",
        "      <td>  10.000000</td>\n",
        "      <td>  10.000000</td>\n",
        "      <td>   2.000000</td>\n",
        "      <td> 3800.000000</td>\n",
        "    </tr>\n",
        "  </tbody>\n",
        "</table>\n",
        "</div>"
       ],
       "metadata": {},
       "output_type": "pyout",
       "prompt_number": 5,
       "text": [
        "            flarea       bdrms      bthrms      floors        price\n",
        "count   233.000000  234.000000  236.000000  233.000000   224.000000\n",
        "mean    145.458247    3.487179    2.161017    1.841202   307.714286\n",
        "std     134.103000    1.226428    1.188386    0.366275   374.332421\n",
        "min       0.371600    1.000000    1.000000    1.000000    55.000000\n",
        "25%      81.800000    3.000000    1.000000    2.000000   168.000000\n",
        "50%     109.000000    3.000000    2.000000    2.000000   225.000000\n",
        "75%     167.200000    4.000000    3.000000    2.000000   345.000000\n",
        "max    1301.000000   10.000000   10.000000    2.000000  3800.000000"
       ]
      }
     ],
     "prompt_number": 5
    },
    {
     "cell_type": "markdown",
     "metadata": {},
     "source": [
      "<p>\n",
      "    Even from what we have done so far, we might already be able to detect some problems:\n",
      "</p>\n",
      "<ul>\n",
      "    <li>Are there features with missing values?</li>\n",
      "    <li>Are there features with anomalous values?</li>\n",
      "</ul>"
     ]
    },
    {
     "cell_type": "code",
     "collapsed": false,
     "input": [
      "# And now we'll ask it explicitly to summarize the other columns\n",
      "df[['type', 'devment', 'ber', 'location']].describe()"
     ],
     "language": "python",
     "metadata": {},
     "outputs": [
      {
       "html": [
        "<div style=\"max-height:1000px;max-width:1500px;overflow:auto;\">\n",
        "<table border=\"1\" class=\"dataframe\">\n",
        "  <thead>\n",
        "    <tr style=\"text-align: right;\">\n",
        "      <th></th>\n",
        "      <th>type</th>\n",
        "      <th>devment</th>\n",
        "      <th>ber</th>\n",
        "      <th>location</th>\n",
        "    </tr>\n",
        "  </thead>\n",
        "  <tbody>\n",
        "    <tr>\n",
        "      <th>count</th>\n",
        "      <td>      236</td>\n",
        "      <td>        229</td>\n",
        "      <td> 236</td>\n",
        "      <td>        236</td>\n",
        "    </tr>\n",
        "    <tr>\n",
        "      <th>unique</th>\n",
        "      <td>        4</td>\n",
        "      <td>          2</td>\n",
        "      <td>  12</td>\n",
        "      <td>         38</td>\n",
        "    </tr>\n",
        "    <tr>\n",
        "      <th>top</th>\n",
        "      <td> Detached</td>\n",
        "      <td> SecondHand</td>\n",
        "      <td>  C3</td>\n",
        "      <td> CityCentre</td>\n",
        "    </tr>\n",
        "    <tr>\n",
        "      <th>freq</th>\n",
        "      <td>       77</td>\n",
        "      <td>        226</td>\n",
        "      <td>  28</td>\n",
        "      <td>         45</td>\n",
        "    </tr>\n",
        "  </tbody>\n",
        "</table>\n",
        "</div>"
       ],
       "metadata": {},
       "output_type": "pyout",
       "prompt_number": 6,
       "text": [
        "            type     devment  ber    location\n",
        "count        236         229  236         236\n",
        "unique         4           2   12          38\n",
        "top     Detached  SecondHand   C3  CityCentre\n",
        "freq          77         226   28          45"
       ]
      }
     ],
     "prompt_number": 6
    },
    {
     "cell_type": "markdown",
     "metadata": {},
     "source": [
      "<p>\n",
      "    What have you learned about the dataset from this?\n",
      "</p>"
     ]
    },
    {
     "cell_type": "heading",
     "level": 1,
     "metadata": {
      "slideshow": {
       "slide_type": "slide"
      }
     },
     "source": [
      "Detecting Anomalies"
     ]
    },
    {
     "cell_type": "markdown",
     "metadata": {},
     "source": [
      "<p>\n",
      "    Most datasets are noisy. \n",
      "</p>\n",
      "<ul>\n",
      "    <li>\n",
      "        People supply incorrect data; e.g. see the $\\mathit{flarea}$ example below. \n",
      "    </li>\n",
      "    <li>\n",
      "        They make spelling mistakes. In nominal-valued data, this can lead to a proliferation of values,\n",
      "        where there should be fewer. For example, \"Sunday's Well\", \"Sundays' Well\", \"Sundays Well\",\n",
      "        \"Sunday Wells\", \"Sundays Wells\", \"Sundays well\" will, from the algorithm's point of view, all be\n",
      "        different locations.\n",
      "    </li>\n",
      "    <li>\n",
      "        They make typing errors.\n",
      "    </li>\n",
      "    <li>\n",
      "        Software that has been instrumented to measure, e.g., user actions (number of clicks, response times,\n",
      "        etc.) may be buggy.\n",
      "    </li>\n",
      "    <li>\n",
      "        Measuring equipment may malfunction.\n",
      "    </li>\n",
      "    <li>\n",
      "        ...and so on.\n",
      "    </li>\n",
      "</ul>\n",
      "<p>\n",
      "    And this noise can affect the feature values or the values of the dependent variable.\n",
      "</p>\n",
      "<p>\n",
      "    What will you do? Well, if it matters a lot, you can do lots of checking. There are also some automatic methods \n",
      "    that can help with anomaly detection based on probability distributions &mdash; but we don't have time to\n",
      "    examine these.\n",
      "</p>\n",
      "<p>\n",
      "    A simple-minded approach for numeric-valued features is to do some graphing. You might be able to detect some \n",
      "    noisy values visually, which you can then check with your domain expert.\n",
      "</p>\n",
      "<p>\n",
      "    Here, for the new version of the Cork property dataset, is a graph of the non-missing values of $\\mathit{flarea}$:\n",
      "</p>"
     ]
    },
    {
     "cell_type": "code",
     "collapsed": false,
     "input": [
      "# You might be worried about the missing flareas and prices.\n",
      "# In this case, there's no need to worry. When there's an empty string in the CSV file, pandas stores these as NaN,\n",
      "# which is a float. And in a scatter plot, matplotlib ignores any points whose x = NaN or whose y = NaN.\n",
      "x = df['flarea'].values\n",
      "y = df['price'].values\n",
      "\n",
      "fig = plt.figure()\n",
      "plt.title(\"Training set\")\n",
      "plt.xlabel(\"Floor area (sq metres)\")\n",
      "plt.xlim(0, 1800)\n",
      "plt.ylabel(\"Price (000 euros)\")\n",
      "plt.ylim(0, 1000)\n",
      "xvals = np.linspace(0, 1800, 2)\n",
      "plt.scatter(x, y, color = 'green')\n",
      "plt.show()"
     ],
     "language": "python",
     "metadata": {},
     "outputs": [
      {
       "metadata": {},
       "output_type": "display_data",
       "png": "[encoded data removed]",
       "text": [
        "<matplotlib.figure.Figure at 0x7f14e0023890>"
       ]
      }
     ],
     "prompt_number": 7
    },
    {
     "cell_type": "markdown",
     "metadata": {},
     "source": [
      "<p>\n",
      "    It's clear that three of the values are anomalous. It's almost certain that the person who supplied them \n",
      "    put the decimal point in the wrong place. These three values need to be corrected, or the examples should\n",
      "    be deleted. \n",
      "</p>"
     ]
    },
    {
     "cell_type": "code",
     "collapsed": false,
     "input": [
      "df = df[(df['flarea'].isnull()) | ((df['flarea'] > 10) & (df['flarea'] < 1000))]\n",
      "df.reset_index(drop=True, inplace=True)\n",
      "\n",
      "# Check the anomalies were filtered out\n",
      "df.shape"
     ],
     "language": "python",
     "metadata": {},
     "outputs": [
      {
       "metadata": {},
       "output_type": "pyout",
       "prompt_number": 8,
       "text": [
        "(233, 9)"
       ]
      }
     ],
     "prompt_number": 8
    },
    {
     "cell_type": "markdown",
     "metadata": {},
     "source": [
      "<p>\n",
      "    Questions:\n",
      "</p>\n",
      "<ul>\n",
      "    <li>\n",
      "        Correcting or deleting anomalous values typically needs to happen <em>before</em> handling missing\n",
      "        values. Why? (After reading the next section, make sure you know why this is.)\n",
      "    </li>\n",
      "    <li>\n",
      "        Simple graphs like the one above will not reveal all anomalous data. What kinds of anomalies will\n",
      "        fail to show up?\n",
      "    </li>\n",
      "</ul>"
     ]
    },
    {
     "cell_type": "heading",
     "level": 1,
     "metadata": {
      "slideshow": {
       "slide_type": "slide"
      }
     },
     "source": [
      "Handling Missing Values"
     ]
    },
    {
     "cell_type": "markdown",
     "metadata": {},
     "source": [
      "<p>\n",
      "    Many datasets contain examples that are missing the values of some of the features. In a text file\n",
      "    such as a CSV file, these missing values are usually\n",
      "    indicated by using a special value:\n",
      "</p>\n",
      "<ul>\n",
      "    <li>\n",
      "        For a nominal-valued feature, a missing value may be encoded by the empty string, or a string\n",
      "        containing one or more whitespace characters, or a dash, or '?', or 'UNK', or 'N/A',...\n",
      "    </li>\n",
      "    <li>\n",
      "        For a numeric-valued feature, missing values may be encoded using the same strings that we\n",
      "        have just mentioned, or an out-of-range number might be used (0, -1,...).\n",
      "    </li>\n",
      "</ul>\n",
      "<p>\n",
      "    Values may be missing for <em>at least</em> the following reasons:\n",
      "</p>\n",
      "<ul>\n",
      "    <li>\n",
      "        Inapplicable feature: the value is missing because it does not apply to this object.\n",
      "        E.g. a feature that records how many weeks pregnant someone is only applies to people who are\n",
      "        pregnant. E.g. if you are feeding mice for ten weeks in a lab experiment and measuring their weight\n",
      "        at the end of each week, then you will have ten features for each mouse; but if a mouse dies before the end of the\n",
      "        experiment one or more of its ten features will have missing values.\n",
      "    </li>\n",
      "    <li>\n",
      "        Value not recorded: there is a value but it is not recorded in the dataset. E.g. a person filling\n",
      "        in a survey refuses to give his/her sex or income. E.g. a student does not know what CAO points\n",
      "        s/he attained. E.g. the mouse survives but we forget to weigh\n",
      "        it or the measuring equipment malfunctions in week 4, so that value is missing.\n",
      "    </li>\n",
      "    <li>\n",
      "        Status unknown: the value is missing but we don't know which of the previous two is the case.\n",
      "        E.g. the mouse's weight for week 10 is missing: is it because the mouse died at the end of week\n",
      "        9 (so the value for week 10 is inapplicable) or is it because we forgot to measure it?\n",
      "    </li>\n",
      "</ul>\n",
      "<p>\n",
      "    But there can be domain-specific reasons why values are missing. For example, a student assignment\n",
      "    may be scored out of ten (including zero, meaning the work was submitted but was worthless).\n",
      "    But you might want to distinguish the following cases where the value is missing:  the student did not \n",
      "    submit (for no good reason), the student did not submit for good reason (e.g. illness)\n",
      "    so the assignment is written off, or the student plagiarised the work.\n",
      "</p>\n",
      "<p>\n",
      "    If you're really lucky, the dataset might use different symbols for these different cases.\n",
      "</p>\n",
      "<p>\n",
      "    Most learning algorithms will expect a value for each feature. (There are exceptions.) This is true,\n",
      "    for example, of the OLS linear regression algorithms that we have looked at; it is less\n",
      "    true of kNN, where you could define a clever distance function that handles missing values in \n",
      "    some special way.\n",
      "</p>\n",
      "<p>\n",
      "    So, how can we handle missing values? We'll look at some of the options.\n",
      "</p>"
     ]
    },
    {
     "cell_type": "heading",
     "level": 2,
     "metadata": {
      "slideshow": {
       "slide_type": "slide"
      }
     },
     "source": [
      "Finding Missing Values in Pandas"
     ]
    },
    {
     "cell_type": "markdown",
     "metadata": {},
     "source": [
      "<p>\n",
      "    As we explored our data, we found various clues that suggested that in this version of the Cork property dataset\n",
      "    the $\\mathit{flarea}$, $\\mathit{bdrms}$, $\\mathit{floors}$, $\\mathit{devment}$ and $\\mathit{price}$ have missing values.\n",
      "</p>\n",
      "<p>\n",
      "    When pandas reads a CSV file that contains empty strings, it represents them as the float <code>NaN</code> &mdash;\n",
      "    even if the column is nominal-valued! It provides the <code>isnull</code>, <code>notnull</code> and\n",
      "    <code>count</code> functions for testing for these. (If a value is <code>NaN</code> or <code>None</code>, \n",
      "    then <code>isnull</code> returns <code>True</code>.) \n",
      "</p>"
     ]
    },
    {
     "cell_type": "code",
     "collapsed": false,
     "input": [
      "df['flarea'].isnull()"
     ],
     "language": "python",
     "metadata": {},
     "outputs": [
      {
       "metadata": {},
       "output_type": "pyout",
       "prompt_number": 9,
       "text": [
        "0     False\n",
        "1     False\n",
        "2     False\n",
        "3      True\n",
        "4     False\n",
        "5     False\n",
        "6     False\n",
        "7     False\n",
        "8     False\n",
        "9     False\n",
        "10    False\n",
        "11    False\n",
        "12    False\n",
        "13    False\n",
        "14    False\n",
        "...\n",
        "218    False\n",
        "219    False\n",
        "220    False\n",
        "221    False\n",
        "222    False\n",
        "223    False\n",
        "224    False\n",
        "225    False\n",
        "226    False\n",
        "227    False\n",
        "228    False\n",
        "229    False\n",
        "230    False\n",
        "231    False\n",
        "232    False\n",
        "Name: flarea, Length: 233, dtype: bool"
       ]
      }
     ],
     "prompt_number": 9
    },
    {
     "cell_type": "code",
     "collapsed": false,
     "input": [
      "# Count non-nulls\n",
      "df['price'].count()"
     ],
     "language": "python",
     "metadata": {},
     "outputs": [
      {
       "metadata": {},
       "output_type": "pyout",
       "prompt_number": 10,
       "text": [
        "221"
       ]
      }
     ],
     "prompt_number": 10
    },
    {
     "cell_type": "markdown",
     "metadata": {},
     "source": [
      "<p>\n",
      "    Suppose your CSV files doesn't use the empty string for missing values; it uses some other special string such as\n",
      "    'UNK', 'N/A' or '?' instead. (When this is the case and pandas reads in the CSV file, it will result in a \n",
      "    numeric-valued feature being stored as strings.) You must determine what special string is being used.\n",
      "    My advice is to replace these special strings by NaN right from the outset.\n",
      "</p>\n",
      "<p>\n",
      "    Now all missing values are represented by NaN. Let's look at what to do about them.\n",
      "    </p>"
     ]
    },
    {
     "cell_type": "heading",
     "level": 2,
     "metadata": {
      "slideshow": {
       "slide_type": "slide"
      }
     },
     "source": [
      "Revisit the Data Collection Process"
     ]
    },
    {
     "cell_type": "markdown",
     "metadata": {
      "slideshow": {
       "slide_type": "-"
      }
     },
     "source": [
      "<p>\n",
      "    In a few cases, it might be possible to return to the data collection process and, perhaps with some cost \n",
      "    and effort, obtain some of the missing values.\n",
      "</p>\n",
      "<p>\n",
      "    Assuming this is not possible, let's look in more detail at the other options. Bear in mind that\n",
      "    they should be used with care, taking into account as far as possible what the missing values signify.\n",
      "</p>"
     ]
    },
    {
     "cell_type": "heading",
     "level": 2,
     "metadata": {
      "slideshow": {
       "slide_type": "slide"
      }
     },
     "source": [
      "Delete Examples"
     ]
    },
    {
     "cell_type": "markdown",
     "metadata": {},
     "source": [
      "<p>\n",
      "    If only a small proportion of the examples in the dataset contain features with missing values, then you\n",
      "    could simply delete those <em>examples</em>. \n",
      "</p>\n",
      "<p>\n",
      "    For example, where missing values are recorded using the empty string, we can do this in Python:\n",
      "</p>"
     ]
    },
    {
     "cell_type": "code",
     "collapsed": false,
     "input": [
      "# Delete examples whose flarea is NaN\n",
      "df.dropna(subset=['flarea'], inplace=True)\n",
      "df.reset_index(drop=True, inplace=True)\n",
      "\n",
      "# Check the examples with missing values were removed\n",
      "df.shape"
     ],
     "language": "python",
     "metadata": {},
     "outputs": [
      {
       "metadata": {},
       "output_type": "pyout",
       "prompt_number": 11,
       "text": [
        "(230, 9)"
       ]
      }
     ],
     "prompt_number": 11
    },
    {
     "cell_type": "markdown",
     "metadata": {},
     "source": [
      "<p>\n",
      "    Question:\n",
      "</p>\n",
      "<ul>\n",
      "    <li>\n",
      "        In which 'column' is a missing value particularly problematic? If you can't revisit the data collection\n",
      "        process, you will probably delete these examples.\n",
      "    </li>\n",
      "</ul>"
     ]
    },
    {
     "cell_type": "heading",
     "level": 2,
     "metadata": {
      "slideshow": {
       "slide_type": "slide"
      }
     },
     "source": [
      "Delete Features"
     ]
    },
    {
     "cell_type": "markdown",
     "metadata": {},
     "source": [
      "<p>\n",
      "    If one or two of the features are plagued by missing values, then we could simply delete those\n",
      "    <em>features</em>. \n",
      "</p>"
     ]
    },
    {
     "cell_type": "code",
     "collapsed": false,
     "input": [
      "# E.g. pretend that the BER feature has so many missing values that it is hardly worth using it\n",
      "# We can delete it either using del\n",
      "# del df['ber']\n",
      "# or using drop\n",
      "df.drop('ber', axis=1, inplace=True)\n",
      "\n",
      "# Check the feature was removed\n",
      "df.shape"
     ],
     "language": "python",
     "metadata": {},
     "outputs": [
      {
       "metadata": {},
       "output_type": "pyout",
       "prompt_number": 12,
       "text": [
        "(230, 8)"
       ]
      }
     ],
     "prompt_number": 12
    },
    {
     "cell_type": "markdown",
     "metadata": {},
     "source": [
      "<p>\n",
      "    This is OK if the features that you remove are not likely to be very predictive. \n",
      "</p>"
     ]
    },
    {
     "cell_type": "heading",
     "level": 2,
     "metadata": {
      "slideshow": {
       "slide_type": "slide"
      }
     },
     "source": [
      "Impute Values the Wrong Way"
     ]
    },
    {
     "cell_type": "markdown",
     "metadata": {},
     "source": [
      "<p>\n",
      "    The final approach is to <b>impute</b> a value, which simply means filling in the missing values.\n",
      "    For numeric-valued features, you can use the mean (or median) of the values that are not missing,\n",
      "    e.g. the average floor area. For nominal-valued features, you can use the mode (i.e. the most\n",
      "    frequent of the values that are not missing). \n",
      "</p>\n",
      "<p>\n",
      "    You might instead have some domain-specific way of imputing values that you can agree with your domain\n",
      "    expert. Returning again to the example of the weights of mice, if a mouse is missing the value for week 4\n",
      "    but its values for weeks 3 and 5 are present, then you could take the average of its week 3 and 5 values,\n",
      "    rather than the average of the week 4 values for all the other mice.\n",
      "</p>\n",
      "<p>\n",
      "    Here's one way to impute the mean of the non-missing values for a numeric-valued feature such as\n",
      "    $\\mathit{bdrms}$ and $\\mathit{devment}$:\n",
      "</p>"
     ]
    },
    {
     "cell_type": "code",
     "collapsed": false,
     "input": [
      "# You could get the mean from the describe() function, but we have made changes to df since we ran describe()\n",
      "# so the mean may have also changed.\n",
      "# Safer is to compute the mean afresh using df['bdrms'].mean() and fill the missing values (nan) by the mean:\n",
      "df.fillna({'bdrms': df['bdrms'].mean(), 'devment': df['devment'].mode()[0]}, inplace=True)\n",
      "\n",
      "# Check the missing values have been replaced by counting non-nulls\n",
      "df['bdrms'].count(), df['devment'].count()"
     ],
     "language": "python",
     "metadata": {},
     "outputs": [
      {
       "metadata": {},
       "output_type": "pyout",
       "prompt_number": 13,
       "text": [
        "(230, 230)"
       ]
      }
     ],
     "prompt_number": 13
    },
    {
     "cell_type": "markdown",
     "metadata": {},
     "source": [
      "<p>\n",
      "    Now how the code above is more complicated for the  nominal-valued feature. In what way and why?\n",
      "</p>"
     ]
    },
    {
     "cell_type": "heading",
     "level": 2,
     "metadata": {
      "slideshow": {
       "slide_type": "slide"
      }
     },
     "source": [
      "Impute Values the Correct Way"
     ]
    },
    {
     "cell_type": "markdown",
     "metadata": {},
     "source": [
      "<p>\n",
      "    The code in the previous section gives a quick-and-dirty solution. But it is not really correct.\n",
      "</p>\n",
      "<p>\n",
      "    Suppose we are going to split the dataset into training and test sets.\u00a0The solution above is an example of\n",
      "    <b>leakage</b>, which we have discussed before. What is leakage?\n",
      "</p>\n",
      "<p>\n",
      "    In a future lecture, we will look at a better solution, where we will use scikit-learn's <code>Imputer</code>\n",
      "    class, which will also necessitate use of scikit-learn's <code>Pipeline</code> class.\n",
      " </p>"
     ]
    }
   ],
   "metadata": {}
  }
 ]
}