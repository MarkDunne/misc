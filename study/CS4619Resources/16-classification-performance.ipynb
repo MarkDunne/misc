{
 "metadata": {
  "celltoolbar": "Slideshow",
  "name": "",
  "signature": "sha256:8749cefbf495bf82eb64bcefda6355e6a45f1a9ce8570cf80c6d30bbed6c54c7"
 },
 "nbformat": 3,
 "nbformat_minor": 0,
 "worksheets": [
  {
   "cells": [
    {
     "cell_type": "heading",
     "level": 1,
     "metadata": {
      "slideshow": {
       "slide_type": "slide"
      }
     },
     "source": [
      "CS4619: Artificial Intelligence 2"
     ]
    },
    {
     "cell_type": "heading",
     "level": 2,
     "metadata": {},
     "source": [
      "Performance Measures for Classification"
     ]
    },
    {
     "cell_type": "heading",
     "level": 3,
     "metadata": {},
     "source": [
      "Derek Bridge<br>\n",
      "School of Computer Science and Information Technology<br>\n",
      "University College Cork"
     ]
    },
    {
     "cell_type": "heading",
     "level": 1,
     "metadata": {
      "slideshow": {
       "slide_type": "slide"
      }
     },
     "source": [
      "Initialization\n",
      "$\\newcommand{\\Set}[1]{\\{#1\\}}$\n",
      "$\\newcommand{\\Tuple}[1]{\\langle#1\\rangle}$\n",
      "$\\newcommand{\\v}[1]{\\pmb{#1}}$\n",
      "$\\newcommand{\\cv}[1]{\\begin{bmatrix}#1\\end{bmatrix}}$\n",
      "$\\newcommand{\\rv}[1]{[#1]}$"
     ]
    },
    {
     "cell_type": "code",
     "collapsed": false,
     "input": [
      "%load_ext autoreload\n",
      "%autoreload 2\n",
      "%matplotlib inline"
     ],
     "language": "python",
     "metadata": {},
     "outputs": [],
     "prompt_number": 1
    },
    {
     "cell_type": "code",
     "collapsed": false,
     "input": [
      "import pandas as pd\n",
      "import numpy as np\n",
      "import matplotlib.pyplot as plt"
     ],
     "language": "python",
     "metadata": {},
     "outputs": [],
     "prompt_number": 2
    },
    {
     "cell_type": "heading",
     "level": 1,
     "metadata": {
      "slideshow": {
       "slide_type": "slide"
      }
     },
     "source": [
      "Performance Measures for Classification"
     ]
    },
    {
     "cell_type": "markdown",
     "metadata": {},
     "source": [
      "<p>\n",
      "    In the previous lecture, we defined <b>classification accuracy</b> as follows:\n",
      "    $$acc = \\frac{1}{|T|}\\sum_{i = 1}^{T} I(\\hat{y}^{(i)} = y^{(i)})$$\n",
      "    It's simply the proportion of correct classifications made over a set of examples $T$.\n",
      "</p>\n",
      "<p>\n",
      "    In this lecture, we explore other measure of classification performance. \n",
      "    Whereas it tends to matter little in the case of regression\n",
      "    (the 'winner' according to one measure of error is typically still the 'winner' if we use\n",
      "    another measure of error), the choice of measure for classification really matters. The 'winner'\n",
      "    can change depending on the choice of measure.\n",
      "</p>\n",
      "<p>\n",
      "    We should choose the measure(s) in advance of running any experiments &mdash; the measure(s) that we think\n",
      "    best suit(s) our problem domain. We should avoid 'fishing expeditions', where we use lots of\n",
      "    measures and then get excited when we perform well on one of them.\n",
      "</p>\n",
      "<p>\n",
      "    The place to start a study of performance measures for classification is the confusion matrix.\n",
      "</p>"
     ]
    },
    {
     "cell_type": "heading",
     "level": 1,
     "metadata": {
      "slideshow": {
       "slide_type": "slide"
      }
     },
     "source": [
      "The Confusion Matrix"
     ]
    },
    {
     "cell_type": "markdown",
     "metadata": {},
     "source": [
      "<p>\n",
      "    The <b>confusion matrix</b> $CM$ for a classifier is a square $|C| \\times |C|$ matrix. $CM[i, j]$\n",
      "    denotes the number of test examples of class $i$ that were classified as class $j$.\n",
      "</p>\n",
      "<p>\n",
      "    Here are examples of confusion matrices for a binary classifier and a multiclass classifier:\n",
      "</p>\n",
      "<table style=\"float: left\">\n",
      "    <tr>\n",
      "        <th colspan=\"2\" rowspan=\"2\"></th><th colspan=\"2\">Predicted Class</th>\n",
      "    </tr>\n",
      "    <tr>\n",
      "        <th>0</th><th>1</th>\n",
      "    </tr>\n",
      "    <tr>\n",
      "        <th rowspan=\"2\">Actual Class</th><th>0</th><td>25</td><td>10</td>\n",
      "    </tr>\n",
      "    <tr>\n",
      "        <th>1</th><td>20</td><td>45</td>\n",
      "    </tr>\n",
      "</table>\n",
      "<table>\n",
      "    <tr>\n",
      "        <th colspan=\"2\" rowspan=\"2\"></th><th colspan=\"3\">Predicted Class</th>\n",
      "    </tr>\n",
      "    <tr>\n",
      "        <th>0</th><th>1</th><th>2</th>\n",
      "    </tr>\n",
      "    <tr>\n",
      "        <th rowspan=\"3\">Actual Class</th><th>0</th><td>10</td><td>0</td><td>15</td>\n",
      "    </tr>\n",
      "    <tr>\n",
      "        <th>1</th><td>5</td><td>30</td><td>10</td>\n",
      "    </tr>\n",
      "    <tr>\n",
      "        <th>2</th><td>5</td><td>5</td><td>20</td>\n",
      "    </tr>\n",
      "</table>\n",
      "<p>\n",
      "    Let's assume a test set $T$.\n",
      "</p>\n",
      "<ul>\n",
      "    <li>\n",
      "        The sum of all entries in $CM$ equals $|T|$.\n",
      "    </li>\n",
      "    <li>\n",
      "        The sum of the entries in <em>row</em> $i$ is\n",
      "        the number of examples in $T$ that have class $i$.\n",
      "    </li>\n",
      "    <li>\n",
      "        The sum of the entries in <em>column</em> $j$ is\n",
      "        the number of examples in $T$ that the classifier assigns to class $j$.\n",
      "    </li>\n",
      "    <li>\n",
      "        Entries on the main diagonal $CM[i,i]$, are correctly classified, and so $\\sum_i CM[i,i]$ is\n",
      "        the total number of correctly classified examples.\n",
      "    </li>\n",
      "    <li>\n",
      "        Entries off the main diagonal, $CM[i, j], i\\neq j$, are incorrectly classified, and so \n",
      "        $\\sum_i\\sum_{j, j \\neq i} CM[i,j]$ is the total number of incorrectly classified examples.\n",
      "    </li>\n",
      "</ul>"
     ]
    },
    {
     "cell_type": "heading",
     "level": 2,
     "metadata": {
      "slideshow": {
       "slide_type": "slide"
      }
     },
     "source": [
      "Confusion Matrices in scikit-learn"
     ]
    },
    {
     "cell_type": "markdown",
     "metadata": {},
     "source": [
      "<p>\n",
      "    scikit-learn produces confusion matrices. Here's the code for the CS1109 dataset:\n",
      "</p>"
     ]
    },
    {
     "cell_type": "code",
     "collapsed": false,
     "input": [
      "from sklearn.cross_validation import train_test_split\n",
      "from sklearn.linear_model import LogisticRegression\n",
      "from sklearn.metrics import confusion_matrix\n",
      "\n",
      "# Read CSV file\n",
      "df = pd.read_csv(\"dataset-cs1109.csv\")\n",
      "\n",
      "# Get the feature-values into a separate numpy arrays of numbers and the target values into a separate \n",
      "# numpy arrays of ints\n",
      "X = df[['lect', 'lab', 'cao']].values\n",
      "y = df['outcome'].values\n",
      "\n",
      "X_train, X_test, y_train, y_test = train_test_split(X, y, test_size = 0.3, random_state = np.random)\n",
      "\n",
      "estimator = LogisticRegression()\n",
      "estimator.fit(X_train, y_train)\n",
      "\n",
      "y_predicted = estimator.predict(X_test)\n",
      "cm = confusion_matrix(y_test, y_predicted)\n",
      "\n",
      "cm"
     ],
     "language": "python",
     "metadata": {},
     "outputs": [
      {
       "metadata": {},
       "output_type": "pyout",
       "prompt_number": 3,
       "text": [
        "array([[16, 24],\n",
        "       [ 5, 58]])"
       ]
      }
     ],
     "prompt_number": 3
    },
    {
     "cell_type": "markdown",
     "metadata": {},
     "source": [
      "<p>\n",
      "    Presently, scikit-learn doesn't give any nice way of creating a confusion matrix averaged over \n",
      "    the multiple runs of, e.g. repeated (stratified) holdout or (stratified) $k$-fold cross-validation.\n",
      "</p>\n",
      "<p>\n",
      "    Notwithstanding this limitation, note already how much more revealing the confusion matrix is than\n",
      "    just the classification accuracy: we get insight into the kind of errors that our classifier makes.\n",
      "</p>"
     ]
    },
    {
     "cell_type": "heading",
     "level": 2,
     "metadata": {
      "slideshow": {
       "slide_type": "slide"
      }
     },
     "source": [
      "Confusion Matrices for Binary Classification"
     ]
    },
    {
     "cell_type": "markdown",
     "metadata": {},
     "source": [
      "<p>\n",
      "    In the case of <em>binary classification</em>, where we distinguish a positive class from a negative class,\n",
      "    there is some special terminology associated with the cells of the confusion matrix:\n",
      "</p>\n",
      "<table>\n",
      "    <tr>\n",
      "        <th colspan=\"2\" rowspan=\"2\"></th><th colspan=\"2\">Predicted Class</th>\n",
      "    </tr>\n",
      "    <tr>\n",
      "        <th>0</th><th>1</th>\n",
      "    </tr>\n",
      "    <tr>\n",
      "        <th rowspan=\"2\">Actual Class</th><th>0</th><td>True Negatives</td><td>False Positives</td>\n",
      "    </tr>\n",
      "    <tr>\n",
      "        <th>1</th><td>False Negatives</td><td>True Positives</td>\n",
      "    </tr>\n",
      "</table>\n",
      "<ul>\n",
      "    <li>The True Negatives (TN) and True Positives (TP) are correct classifications</li>\n",
      "    <li>The False Negatives (FN) and False Positives FP) are incorrect classifications</li>\n",
      "</ul>"
     ]
    },
    {
     "cell_type": "heading",
     "level": 2,
     "metadata": {
      "slideshow": {
       "slide_type": "slide"
      }
     },
     "source": [
      "Calculating Classification Accuracy from a Confusion Matrix"
     ]
    },
    {
     "cell_type": "markdown",
     "metadata": {},
     "source": [
      "<p>\n",
      "    We gave the definition of classification accuracy above. But it is even easier to define in terms of \n",
      "    the confusion matrix. It is the sum of the entries on the main\n",
      "    diagonal divided by the sum of all entries:\n",
      "    $$acc = \\frac{\\sum_i CM[i,i]}{|T|}$$\n",
      "</p>\n",
      "<p>\n",
      "    Question:\n",
      "</p>\n",
      "<ul>\n",
      "    <li>Compute classification accuracies from the three confusion matrices above.</li>\n",
      "</ul>"
     ]
    },
    {
     "cell_type": "heading",
     "level": 1,
     "metadata": {
      "slideshow": {
       "slide_type": "slide"
      }
     },
     "source": [
      "The Limitations of Classification Accuracy"
     ]
    },
    {
     "cell_type": "markdown",
     "metadata": {},
     "source": [
      "<p>\n",
      "    Classification accuracy summarizes overall performance in a single figure, which is a good thing. But, because\n",
      "    of this, it has at least three problems:\n",
      "</p>    \n",
      "<ul>\n",
      "    <li>\n",
      "        Giving only a single figure hides information about how the classifier performs on the individual classes.\n",
      "        This problem becomes more acute when the costs of different kinds of misclassification are not equal.\n",
      "        For example, in email classification, it is more serious to misclassify ham as spam.\n",
      "        <p>\n",
      "        <b>Question:</b> Classifier A and classifier B have the same classification accuracy (0.6) but which\n",
      "            would you use?\n",
      "        </p>\n",
      "        <table style=\"float: left\">\n",
      "            <tr>\n",
      "                <th colspan=\"2\" rowspan=\"2\">Classifier A</th><th colspan=\"2\">Predicted Class</th>\n",
      "            </tr>\n",
      "            <tr>\n",
      "                <th>Benign</th><th>Malignant</th>\n",
      "            </tr>\n",
      "            <tr>\n",
      "                <th rowspan=\"2\">Actual Class</th><th>Benign</th><td>400</td><td>100</td>\n",
      "            </tr>\n",
      "            <tr>\n",
      "                <th>Malignant</th><td>300</td><td>200</td>\n",
      "            </tr>\n",
      "        </table>\n",
      "        <table>\n",
      "            <tr>\n",
      "                <th colspan=\"2\" rowspan=\"2\">Classifier B</th><th colspan=\"2\">Predicted Class</th>\n",
      "            </tr>\n",
      "            <tr>\n",
      "                <th>Benign</th><th>Malignant</th>\n",
      "            </tr>\n",
      "            <tr>\n",
      "                <th rowspan=\"2\">Actual Class</th><th>Benign</th><td>200</td><td>300</td>\n",
      "            </tr>\n",
      "            <tr>\n",
      "                <th>Malignant</th><td>100</td><td>400</td>\n",
      "            </tr>\n",
      "        </table>\n",
      "        <p>\n",
      "            In principle, we could assign costs to the different kinds of mis-classification and define\n",
      "            a cost-sensitive variant of classification accuracy. In practice, it's difficult, if not impossible,\n",
      "            to come up with the costs; for example, how much worse is it to classify ham as spam than spam as ham?\n",
      "        </p>\n",
      "        <p>\n",
      "            Instead, we need some other performance measures, such as ones we will look at later in this lecture.\n",
      "        </p>\n",
      "    </li>\n",
      "    <li>\n",
      "        Classification accuracy is also best when the distribution of classes in $T$ is reasonably balanced. If, \n",
      "        on the other hand, some of the classes are more prevalent than others, then they tend to bias the measure, e.g. \n",
      "        if you do well on the more prevalent classes, then you get a higher score overall.\n",
      "        <p>\n",
      "            Consider $T$ that contains 950 positive examples and 50 negative examples. An extremely\n",
      "            effective classifier in terms of classification accuracy for this $T$ is the so-called <b>majority-class classifier</b>,\n",
      "            which we mentioned in the previous lecture, which <em>always</em> predicts\n",
      "            the majority class. In this example, it predicts the positive class, and its classification accuracy is \n",
      "            very high: 0.95. But it isn't really a good classifier: it has no ability to discriminate between\n",
      "            positive and negative examples.\n",
      "       </p>\n",
      "       <p>\n",
      "           Indeed, many people compare the classification accuracy of their classifier(s) against the classification\n",
      "           accuracy of the majority-class classifier to check that they are doing better\n",
      "            than this simple-minded baseline. In case, you want to do this, here's how in\n",
      "            scikit-learn:\n",
      "        </p>\n",
      "    </li>\n",
      "</ul>"
     ]
    },
    {
     "cell_type": "code",
     "collapsed": false,
     "input": [
      "from sklearn.dummy import DummyClassifier\n",
      "\n",
      "maj_class_classifier = DummyClassifier(strategy = 'most_frequent')\n",
      "maj_class_classifier.fit(X_train, y_train)\n",
      "y_predicted = maj_class_classifier.predict(X_test)\n",
      "\n",
      "print y_predicted"
     ],
     "language": "python",
     "metadata": {},
     "outputs": [
      {
       "output_type": "stream",
       "stream": "stdout",
       "text": [
        "[1 1 1 1 1 1 1 1 1 1 1 1 1 1 1 1 1 1 1 1 1 1 1 1 1 1 1 1 1 1 1 1 1 1 1 1 1\n",
        " 1 1 1 1 1 1 1 1 1 1 1 1 1 1 1 1 1 1 1 1 1 1 1 1 1 1 1 1 1 1 1 1 1 1 1 1 1\n",
        " 1 1 1 1 1 1 1 1 1 1 1 1 1 1 1 1 1 1 1 1 1 1 1 1 1 1 1 1 1]\n"
       ]
      }
     ],
     "prompt_number": 4
    },
    {
     "cell_type": "heading",
     "level": 1,
     "metadata": {
      "slideshow": {
       "slide_type": "slide"
      }
     },
     "source": [
      "The Kappa Statistic"
     ]
    },
    {
     "cell_type": "markdown",
     "metadata": {},
     "source": [
      "<p>\n",
      "    Classification accuracy does not take into account correct classifications from mere chance.\n",
      "    There is a number of measures that <em>correct for chance</em>. They are known as 'agreement statistics'.\n",
      "    We'll look at one of them, the <b>Kappa statistic</b>. It compares your classifier with a random\n",
      "    classifier that predicts the classes as often as your classifier does.\n",
      "</p>\n",
      "<p>\n",
      "    The Kappa statistic is defined as\n",
      "    $$\\kappa = \\frac{acc - rand}{1 - rand}$$\n",
      "</p>\n",
      "<p>\n",
      "    Its values range from -1 to 1.\n",
      "</p>\n",
      "<ul>\n",
      "    <li>If its value is positive, your classifier is doing better than chance.</li>\n",
      "    <li> If its value is zero, then your classifier is doing no better than chance.</li>\n",
      "    <li>If its value is negative, then your classifier is doing worse than chance.</li>\n",
      "</ul>\n",
      "<p>\n",
      "    We'll look separately at how to compute it in the binary and multiclass cases.\n",
      "</p>"
     ]
    },
    {
     "cell_type": "heading",
     "level": 2,
     "metadata": {
      "slideshow": {
       "slide_type": "slide"
      }
     },
     "source": [
      "The Kappa Statistic for Binary Classification"
     ]
    },
    {
     "cell_type": "markdown",
     "metadata": {},
     "source": [
      "<p>\n",
      "    We know how to define $acc$ in the binary case:\n",
      "    $$acc = \\frac{TN+TP}{|T|}$$\n",
      "    So now what we need is the expected classification accuracy of a classifier that predicts each class as often as your\n",
      "    classifier but does so randomly.\n",
      "</p>\n",
      "<ul>\n",
      "    <li>\n",
      "        Our classifier predicts negatives $\\frac{TN+FN}{|T|}$ of the time, and we assume a random classifier that does the \n",
      "        same.\n",
      "    </li>\n",
      "    <li>\n",
      "        Our classifier predicts positives $\\frac{FP+TP}{|T|}$ of the time, and we assume a random\n",
      "        classifier that does the same. \n",
      "    </li>\n",
      "</ul>\n",
      "<p>\n",
      "    What's the classification accuracy of the random classifier? \n",
      "</p>\n",
      "<ul>\n",
      "    <li>\n",
      "        It sees negative examples $\\frac{TN+FP}{|T|}$ of the time and classifies $\\frac{TN+FN}{|T|}$ of them \n",
      "        as negative.\n",
      "    </li>\n",
      "    <li>\n",
      "        It sees positive examples $\\frac{FN+TP}{|T|}$ of the time and classifies $\\frac{FP+TP}{|T|}$ \n",
      "        of them as positive. \n",
      "    </li>\n",
      "</ul>\n",
      "<p>\n",
      "    Its classification accuracy is therefore \n",
      "    $$rand =  \\frac{(TN+FP)}{|T|}\\times\\frac{(TN+FN)}{|T|} + \\frac{(FN+TP)}{|T|}\\times\\frac{(FP+TP)}{|T|}$$\n",
      "    And now you can compute $\\kappa$ using the formula given earlier.\n",
      "</p>\n",
      "<p>\n",
      "    Exercise: Compute $\\kappa$ for the binary classifier whose confusion matrix is below (repeated for convenience):\n",
      "</p>\n",
      "<table style=\"float: left\">\n",
      "    <tr>\n",
      "        <th colspan=\"2\" rowspan=\"2\"></th><th colspan=\"2\">Predicted Class</th>\n",
      "    </tr>\n",
      "    <tr>\n",
      "        <th>0</th><th>1</th>\n",
      "    </tr>\n",
      "    <tr>\n",
      "        <th rowspan=\"2\">Actual Class</th><th>0</th><td>25</td><td>10</td>\n",
      "    </tr>\n",
      "    <tr>\n",
      "        <th>1</th><td>20</td><td>45</td>\n",
      "    </tr>\n",
      "</table>"
     ]
    },
    {
     "cell_type": "heading",
     "level": 2,
     "metadata": {
      "slideshow": {
       "slide_type": "slide"
      }
     },
     "source": [
      "The Kappa Statistic for Multiclass Classification"
     ]
    },
    {
     "cell_type": "markdown",
     "metadata": {},
     "source": [
      "<p>\n",
      "    We know that the classification accuracy of our classifier comes from summing entries on the main diagonal:\n",
      "        $$acc = \\frac{\\sum_i CM[i,i]}{|T|}$$\n",
      "</p>\n",
      "<p>\n",
      "    The key to computing the performance of the random classifier is to realise that \n",
      "</p>\n",
      "<ul>\n",
      "    <li>\n",
      "        The proportion of examples actually belonging to class $i$ comes from\n",
      "        summing entries in a <em>row</em>, $\\sum_j CM[i,j]$, designated by $CM[i,.]$\n",
      "    </li>\n",
      "    <li>\n",
      "        The proportion of examples your classifier assigns to a class $i$ comes\n",
      "        from summing entries in a <em>column</em>, $\\sum_j CM[j,i]$, designated by $CM[.,i]$\n",
      "    </li>\n",
      "\n",
      "</ul>\n",
      "<p>\n",
      "    So the random classifier's accuracy is given by:\n",
      "    $$rand = \\sum_{i}(\\frac{CM[i,.]}{|T|} \\times \\frac{CM[.,i]}{|T|})$$ \n",
      "</p>\n",
      "<p>\n",
      "    So, in the absence of anything in scikit-learn for computing this, here my own code. You feed it a confusion matrix:\n",
      "</p>"
     ]
    },
    {
     "cell_type": "code",
     "collapsed": false,
     "input": [
      "def kappa(cm):\n",
      "    num_classes = len(cm)\n",
      "    sum_all = 0\n",
      "    sum_diag = 0\n",
      "    sum_rands = 0\n",
      "    for i in range(0, num_classes):\n",
      "        sum_diag = sum_diag + cm[i, i]\n",
      "        sum_col = 0\n",
      "        sum_row = 0\n",
      "        for j in range(0, num_classes):\n",
      "            sum_col = sum_col + cm[j, i]\n",
      "            sum_row = sum_row + cm[i, j]\n",
      "            sum_all = sum_all + cm[i, j]\n",
      "        sum_rands = sum_rands + sum_row * sum_col\n",
      "    acc = sum_diag * 1.0 / sum_all\n",
      "    rand = sum_rands * 1.0 / (sum_all * sum_all)\n",
      "    return (acc - rand) / (1 - rand)\n",
      "\n",
      "# Call it\n",
      "kappa(cm)"
     ],
     "language": "python",
     "metadata": {},
     "outputs": [
      {
       "metadata": {},
       "output_type": "pyout",
       "prompt_number": 5,
       "text": [
        "0.35107538561807516"
       ]
      }
     ],
     "prompt_number": 5
    },
    {
     "cell_type": "heading",
     "level": 2,
     "metadata": {
      "slideshow": {
       "slide_type": "slide"
      }
     },
     "source": [
      "'Silver Standard' Labels"
     ]
    },
    {
     "cell_type": "markdown",
     "metadata": {},
     "source": [
      "<p>\n",
      "    We are taking the labels in the dataset as a 'gold standard': the correct labels. We train using these.\n",
      "    And we test using these &mdash; in particular, our performance measures reward us when the prediction\n",
      "    equals the 'gold standard' and penalise us when they are not equal.\n",
      "</p>\n",
      "<p>\n",
      "    But suppose, as is much more often the case, that the labels in the dataset are what you might call\n",
      "    a 'silver standard', i.e. they are mostly the right labels but sometimes they are not. Labels that\n",
      "    come from a human expert or from some imperfect physical process can be like this. \n",
      "</p>\n",
      "<p>\n",
      "    In some sense, the Kappa statistic adjusts for this, and so this is another reason for using it.\n",
      "</p>"
     ]
    },
    {
     "cell_type": "heading",
     "level": 1,
     "metadata": {
      "slideshow": {
       "slide_type": "slide"
      }
     },
     "source": [
      "Peformance Measures for Binary Classification"
     ]
    },
    {
     "cell_type": "heading",
     "level": 2,
     "metadata": {},
     "source": [
      "True Positive Rate and False Positive Rate"
     ]
    },
    {
     "cell_type": "markdown",
     "metadata": {},
     "source": [
      "<p>\n",
      "    The <b>true positive rate</b> is the proportion of positive examples that are correctly classified. \n",
      "    In terms of the confusion matrix for a binary classifier, it is defined as follows:\n",
      "    $$TPR = \\frac{TP}{TP+FN}$$\n",
      "</p>\n",
      "<p>\n",
      "    Analogously, we can defined the <b>false positive rate</b>, which is the proportion of examples that are \n",
      "    classified as positive but which are not actually positive:\n",
      "    $$FPR = \\frac{FP}{FP+TN}$$\n",
      "</p>\n",
      "<p>\n",
      "    Question:\n",
      "</p>\n",
      "<ul>\n",
      "    <li>What is the TPR and FPR of the binary classifier whose confusion matrix was repeated above?</li>\n",
      "</ul>\n",
      "<p>\n",
      "    We can position a classifer in <b>ROC space</b>. ROC stands for 'Receiver Operating Characteristic'. In ROC\n",
      "    space, the TPR (between 0 and 1) is on the vertical axis and the FPR (also between 0 and 1) is on the horizontal\n",
      "    axis. Here's an example with a few imaginary classifiers plotted on it:\n",
      "</p>"
     ]
    },
    {
     "cell_type": "code",
     "collapsed": false,
     "input": [
      "fig = plt.figure(figsize=(5,5))\n",
      "plt.title(\"ROC space\")\n",
      "plt.xlabel(\"FPR\")\n",
      "plt.xlim(0, 1)\n",
      "plt.ylabel(\"TPR\")\n",
      "plt.ylim(0, 1)\n",
      "plt.plot([0, 1], [1, 0], linestyle = 'dotted', color = 'gray')\n",
      "plt.plot([0, 1], [0, 1], linestyle = 'dashed', color = 'gray')\n",
      "plt.annotate(\"Trivial\", xy = (0, 0), xytext = (0.02,0.1), arrowprops = dict(arrowstyle = '->', connectionstyle = 'arc3,rad=0'))\n",
      "plt.annotate(\"Trivial\", xy = (1, 1), xytext = (0.9,0.9), arrowprops = dict(arrowstyle = '->', connectionstyle = 'arc3,rad=0'))\n",
      "plt.annotate(\"Best\", xy = (0, 1), xytext = (0.02,0.9), arrowprops = dict(arrowstyle = '->', connectionstyle = 'arc3,rad=0'))\n",
      "plt.annotate(\"Worst\", xy = (1, 0), xytext = (0.9,0.1), arrowprops = dict(arrowstyle = '->', connectionstyle = 'arc3,rad=0'))\n",
      "plt.annotate(\"Worse than random\", xy = (0.8, 0.2), xytext = (0.5,0.1), arrowprops = dict(arrowstyle = '->', connectionstyle = 'arc3,rad=0'))\n",
      "plt.annotate(\"OK\", xy = (0.4, 0.6), xytext = (0.3,0.5), arrowprops = dict(arrowstyle = '->', connectionstyle = 'arc3,rad=0'))\n",
      "plt.annotate(\"Better\", xy = (0.2, 0.7), xytext = (0.1,0.6), arrowprops = dict(arrowstyle = '->', connectionstyle = 'arc3,rad=0'))\n",
      "plt.show()"
     ],
     "language": "python",
     "metadata": {},
     "outputs": [
      {
       "metadata": {},
       "output_type": "display_data",
       "png": "[encoded data removed]",
       "text": [
        "<matplotlib.figure.Figure at 0x7fb8d7e73c50>"
       ]
      }
     ],
     "prompt_number": 6
    },
    {
     "cell_type": "markdown",
     "metadata": {},
     "source": [
      "<ul>\n",
      "    <li>\n",
      "        The diagonal from bottom-left to top-right has TPR = FPR. Classifiers along this line are in some sense random.\n",
      "        They are like a biased coin whose probability of predicitng the positive class is TPR.\n",
      "    </li>\n",
      "    <li>\n",
      "        Hence, classifiers that lie above the line are better than random.\n",
      "    </li>\n",
      "    <li>\n",
      "        And those lying below the line are worse than random.\n",
      "    </li>\n",
      "    <li>\n",
      "        In general, a classifier A is better than classifier B if A is to the left and higher than B.\n",
      "    </li>\n",
      "    <li>\n",
      "        The point (0, 0) is a trivial classifier: what does it do?\n",
      "    </li>\n",
      "    <li>\n",
      "        The point (1, 1) is a trivial classifier: what does it do?\n",
      "    </li>\n",
      "    <li>\n",
      "        The point (0, 1) is the best possible: it gets all the positives right and makes no mistakes on the negatives.\n",
      "    </li>\n",
      "    <li>\n",
      "        The point (1, 0) is the worst possible: it gets all predictions wrong.\n",
      "    </li>\n",
      "    <li>\n",
      "        The diagonal from top-left to bottom-right has TPR = 1 - FPR. Classifiers along this line perform equally well on\n",
      "        positives and negatives.\n",
      "    </li>\n",
      "</ul>\n",
      "<p>\n",
      "    Note the diagram does <strong>not</strong> show a ROC curve, which we will not cover except...except to say that a\n",
      "    ROC curve is drawn for a classifier that has a threshold (e.g. logistic regression). You adjust the threshold and\n",
      "    plot multiple points in ROC space. Classifiers are sometimes measured by the area under the ROC curve.\n",
      "</p>"
     ]
    },
    {
     "cell_type": "heading",
     "level": 2,
     "metadata": {
      "slideshow": {
       "slide_type": "slide"
      }
     },
     "source": [
      "Precision and Recall"
     ]
    },
    {
     "cell_type": "markdown",
     "metadata": {},
     "source": [
      "<p>\n",
      "    The measures we look at now have a focus on one of the classes, usually the positive class in binary\n",
      "    classification. (However, in multiclass classification, you could compute these measures repeatedly,\n",
      "    treating each class as the 'positive' class in turn. But we won't look at that here.)\n",
      "</p>\n",
      "<p>\n",
      "    Given that one class is 'special' (the positive class), we might like to know the proportion of \n",
      "    examples assigned to this class that are correctly classified. This is known as <b>precision</b>:\n",
      "    $$precision = \\frac{TP}{TP+FP}$$\n",
      "</p>\n",
      "<p>\n",
      "    And similarly, we might like to know the proportion of examples of this class that are correctly\n",
      "    classified. This is known as <b>recall</b>:\n",
      "    $$recall = \\frac{TP}{TP+FN}$$\n",
      "</p>\n",
      "<p>\n",
      "    In effect, we are dividing TP by:\n",
      "</p>\n",
      "<ul>\n",
      "    <li>the sum of the column i.e. predictions of this class, in the case of precision, or</li>\n",
      "    <li>the sum of the row, i.e. examples of this class, in the case of recall</li>\n",
      "</ul>\n",
      "<p>\n",
      "    Having two measures can make it more difficult to compare classifiers. Suppose, for example, that one\n",
      "    classfier has better precision and the other has better recall. Which is the better classifier?\n",
      "</p>\n",
      "<p>\n",
      "    To make comparison easier, precision and recall are sometimes combined into a single number.\n",
      "    The most common measure is <b>$F_1$</b>:\n",
      "    $$F_1 = \\frac{2 \\times precision \\times recall}{precision + recall}$$\n",
      "    This is the harmonic mean of the two numbers. In the form given here, it gives equal weight to precision\n",
      "    and recall. It is also possible to define a weighted harminc mean, allowing you to put more or less weight \n",
      "    on precision. But, rarely is it clear what weight to use.\n",
      "</p>\n",
      "<p>\n",
      "    Exercise:\n",
      "</p>\n",
      "<ul>\n",
      "    <li>\n",
      "        What are the precision, recall and $F_1$ values for the binary classifier whose confusion matrix was \n",
      "        given earlier?\n",
      "    </li>\n",
      "</ul>\n",
      "<p>\n",
      "    Finally, here are all the measures for kNN (with $k$ arbitrarily set to 3 and unweighted) and logistic\n",
      "    regression:\n",
      "</p>"
     ]
    },
    {
     "cell_type": "code",
     "collapsed": false,
     "input": [
      "from sklearn.neighbors import KNeighborsClassifier\n",
      "from sklearn.metrics import accuracy_score\n",
      "from sklearn.metrics import precision_score\n",
      "from sklearn.metrics import recall_score\n",
      "from sklearn.metrics import f1_score\n",
      "\n",
      "estimators = {\"Logistic Regression\" : LogisticRegression(), \"kNN\" : KNeighborsClassifier(n_neighbors = 3)}\n",
      "for name, estimator in estimators.items():\n",
      "    print name\n",
      "    estimator.fit(X_train, y_train)\n",
      "    y_predicted = estimator.predict(X_test)\n",
      "    cm = confusion_matrix(y_test, y_predicted)\n",
      "    print \"CM:\", cm\n",
      "    print \"Accuracy:\", accuracy_score(y_test, y_predicted)\n",
      "    print \"Kappa:\", kappa(cm)\n",
      "    print \"TPR:\", cm[1, 1] * 1.0 / (cm[1, 0] + cm[1, 1]) # nasty hack, relying on binary classifier\n",
      "    print \"FPR:\", cm[0, 1] * 1.0 / (cm[0, 0] + cm[0, 1]) # ditto\n",
      "    print \"Precision:\", precision_score(y_test, y_predicted)\n",
      "    print \"Recall\", recall_score(y_test, y_predicted)\n",
      "    print \"F1\", f1_score(y_test, y_predicted)"
     ],
     "language": "python",
     "metadata": {},
     "outputs": [
      {
       "output_type": "stream",
       "stream": "stdout",
       "text": [
        "kNN\n",
        "CM: [[26 14]\n",
        " [13 50]]\n",
        "Accuracy: 0.73786407767\n",
        "Kappa: 0.445684672115\n",
        "TPR: 0.793650793651\n",
        "FPR: 0.35\n",
        "Precision: 0.78125\n",
        "Recall 0.793650793651\n",
        "F1 0.787401574803\n",
        "Logistic Regression\n",
        "CM: [[16 24]\n",
        " [ 5 58]]\n",
        "Accuracy: 0.718446601942\n",
        "Kappa: 0.351075385618\n",
        "TPR: 0.920634920635\n",
        "FPR: 0.6\n",
        "Precision: 0.707317073171\n",
        "Recall 0.920634920635\n",
        "F1 0.8\n"
       ]
      }
     ],
     "prompt_number": 7
    }
   ],
   "metadata": {}
  }
 ]
}