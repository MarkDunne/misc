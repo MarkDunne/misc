{
 "metadata": {
  "celltoolbar": "Slideshow",
  "name": "",
  "signature": "sha256:bf4d90beccc5ca0e1b2d1a16d25cc656473a5eee5f61ed1d2891eb691e45125d"
 },
 "nbformat": 3,
 "nbformat_minor": 0,
 "worksheets": [
  {
   "cells": [
    {
     "cell_type": "heading",
     "level": 1,
     "metadata": {
      "slideshow": {
       "slide_type": "slide"
      }
     },
     "source": [
      "CS4619: Artificial Intelligence 2"
     ]
    },
    {
     "cell_type": "heading",
     "level": 2,
     "metadata": {},
     "source": [
      "Dimensionality Reduction"
     ]
    },
    {
     "cell_type": "heading",
     "level": 3,
     "metadata": {},
     "source": [
      "Derek Bridge<br>\n",
      "School of Computer Science and Information Technology<br>\n",
      "University College Cork"
     ]
    },
    {
     "cell_type": "heading",
     "level": 1,
     "metadata": {
      "slideshow": {
       "slide_type": "slide"
      }
     },
     "source": [
      "Initialization\n",
      "$\\newcommand{\\Set}[1]{\\{#1\\}}$\n",
      "$\\newcommand{\\Tuple}[1]{\\langle#1\\rangle}$\n",
      "$\\newcommand{\\v}[1]{\\pmb{#1}}$\n",
      "$\\newcommand{\\cv}[1]{\\begin{bmatrix}#1\\end{bmatrix}}$\n",
      "$\\newcommand{\\rv}[1]{[#1]}$"
     ]
    },
    {
     "cell_type": "code",
     "collapsed": false,
     "input": [
      "%load_ext autoreload\n",
      "%autoreload 2\n",
      "%matplotlib inline"
     ],
     "language": "python",
     "metadata": {},
     "outputs": [],
     "prompt_number": 1
    },
    {
     "cell_type": "code",
     "collapsed": false,
     "input": [
      "import pandas as pd\n",
      "import numpy as np\n",
      "import matplotlib.pyplot as plt"
     ],
     "language": "python",
     "metadata": {},
     "outputs": [],
     "prompt_number": 2
    },
    {
     "cell_type": "heading",
     "level": 1,
     "metadata": {
      "slideshow": {
       "slide_type": "slide"
      }
     },
     "source": [
      "Dimensionality Reduction"
     ]
    },
    {
     "cell_type": "markdown",
     "metadata": {},
     "source": [
      "<p>\n",
      "    In the previous lecture, we discussed how <b>feature selection</b> discards features that are\n",
      "    <em>irrelevant</em> and, possibly, features that are <em>redundant</em>.\n",
      "</p>\n",
      "<p>\n",
      "    In this lecture, we look at an alternative to feature selection, which we will call <b>dimensionality\n",
      "    reduction</b>. What's the difference?\n",
      "</p>\n",
      "<ul>\n",
      "    <li>\n",
      "        In feature selection, we work with the original features.\n",
      "    </li>\n",
      "    <li>\n",
      "        In dimensionality reduction we first <b>project</b> the features\n",
      "        to a different <b>feature space</b>. This replaces the original features with 'new' ones.\n",
      "        We then decide which of these to discard, and we use the rest for learning.\n",
      "    </li>\n",
      "</ul>\n",
      "<p>\n",
      "    There are many dimensionality reduction techniques. Mostly, they vary in the projections that they\n",
      "    use to transform the features. We will look at only one technique: <b>principal components analysis</b>\n",
      "    (PCA).\n",
      "</p>"
     ]
    },
    {
     "cell_type": "heading",
     "level": 1,
     "metadata": {
      "slideshow": {
       "slide_type": "slide"
      }
     },
     "source": [
      "PCA: An Intuitive Explanation"
     ]
    },
    {
     "cell_type": "markdown",
     "metadata": {},
     "source": [
      "<p>\n",
      "    Suppose a dataset describes objects using just two features, e.g. weight and height. \n",
      "    Here is a handful of examples:\n",
      "</p>\n",
      "<table>\n",
      "    <tr><th>Weight</th><th>Height</th></tr>\n",
      "    <tr><td>1</td><td>1</td></tr>\n",
      "    <tr><td>2</td><td>2</td></tr>\n",
      "    <tr><td>0</td><td>2</td></tr>\n",
      "</table>\n",
      "<p>\n",
      "    Since there are only two features, we can plot &mdash; a 2D visualization:\n",
      "</p>"
     ]
    },
    {
     "cell_type": "code",
     "collapsed": false,
     "input": [
      "fig = plt.figure(figsize=(3,3))\n",
      "plt.title(\"The original feature space\")\n",
      "plt.xlabel(\"Weight\")\n",
      "plt.xlim(-0.1, 3)\n",
      "plt.ylabel(\"Height\")\n",
      "plt.ylim(-0.1, 3)\n",
      "plt.scatter([1, 2, 0], [1, 2, 2], color = 'g')\n",
      "plt.show()"
     ],
     "language": "python",
     "metadata": {},
     "outputs": [
      {
       "metadata": {},
       "output_type": "display_data",
       "png": "[encoded data removed]",
       "text": [
        "<matplotlib.figure.Figure at 0x7fd92b114990>"
       ]
      }
     ],
     "prompt_number": 3
    },
    {
     "cell_type": "markdown",
     "metadata": {},
     "source": [
      "<p>\n",
      "    But the coordinate system we use (the axes) are arbitrary. We normally use a horizontal and a vertical axis.\n",
      "    But a different pair of axes would work just as well. For example, we could draw one axis\n",
      "    diagonally. By convention, the other will be <b>perpendicular</b> (or 'orthogonal') to the first &mdash; in\n",
      "    other words, at right angles. But even then, we can decide where along the first axis to place it.\n",
      "</p>"
     ]
    },
    {
     "cell_type": "code",
     "collapsed": false,
     "input": [
      "fig = plt.figure(figsize=(3,3))\n",
      "plt.title(\"The new axes\")\n",
      "plt.xlabel(\"Weight\")\n",
      "plt.xlim(-0.1, 3)\n",
      "plt.ylabel(\"Height\")\n",
      "plt.ylim(-0.1, 3)\n",
      "plt.scatter([1, 2, 0], [1, 2, 2], color = 'g')\n",
      "plt.plot([0, 4], [0, 4], linestyle = 'dotted', color = 'gray')\n",
      "plt.plot([0, 2], [2, 0], linestyle = 'dashed', color = 'gray')\n",
      "plt.show()"
     ],
     "language": "python",
     "metadata": {},
     "outputs": [
      {
       "metadata": {},
       "output_type": "display_data",
       "png": "[encoded data removed]",
       "text": [
        "<matplotlib.figure.Figure at 0x7fd92aedbcd0>"
       ]
      }
     ],
     "prompt_number": 4
    },
    {
     "cell_type": "markdown",
     "metadata": {},
     "source": [
      "<p>\n",
      "    But on this new 'graph paper', the coordinates of the points are now different. The first object used\n",
      "    to be at $\\Tuple{1, 1}$ but is now at $\\Tuple{0, 0}$. The second object used to be at $\\Tuple{2, 2}$\n",
      "    but is now at $\\Tuple{\\sqrt{2}, 0}$. Here are the new feature values:\n",
      "</p>\n",
      "<table>\n",
      "    <tr><td>0</td><td>0</td></tr>\n",
      "    <tr><td>$\\sqrt{2}$</td><td>0</td></tr>\n",
      "    <tr><td>0</td><td>$\\sqrt{2}$</td></tr>\n",
      "</table>\n",
      "<p>\n",
      "    You can see this if we rotate the graph paper, so that the diagonal is horizontal:\n",
      "</p>"
     ]
    },
    {
     "cell_type": "code",
     "collapsed": false,
     "input": [
      "import math\n",
      "fig = plt.figure(figsize=(3,3))\n",
      "plt.title(\"The new feature space\")\n",
      "plt.xlim(-0.1, 3)\n",
      "plt.ylim(-0.1, 3)\n",
      "plt.scatter([0, math.sqrt(2), 0], [0, 0, math.sqrt(2)], color = 'g')\n",
      "plt.show()"
     ],
     "language": "python",
     "metadata": {},
     "outputs": [
      {
       "metadata": {},
       "output_type": "display_data",
       "png": "[encoded data removed]",
       "text": [
        "<matplotlib.figure.Figure at 0x7fd92c3e8bd0>"
       ]
      }
     ],
     "prompt_number": 5
    },
    {
     "cell_type": "markdown",
     "metadata": {},
     "source": [
      "<p>\n",
      "    These new feature values convey exactly the same information as the originals &mdash; they're just on a \n",
      "    different coordinate system.\n",
      "</p>\n",
      "<p>\n",
      "    But there's an infinite choice of axes. For example, with just two features (in 2-dimensions), the first axis can be horizontal \n",
      "    (as it was originally), vertical\n",
      "    or diagonal with all sorts of different slopes (steeper, shallower, etc.); then the usual convention is\n",
      "    that the second axis is perpendicular to the first. With more features, we have more choices: which to choose next and how to orient it.\n",
      "</p>\n",
      "<p>\n",
      "    In PCA, the feature we transform next is always the one with the next greatest <b>spread</b>. And the orientation of the axis is\n",
      "    also based on covering the greatest amount of spread (with the constraint that axes must be perpendicular to one another).\n",
      "</p>\n",
      "<p>\n",
      "    <strong>Important:</strong> Making these decisions does require that the features be comparable. Hence, we should <em>standardize</em>\n",
      "    their values first.\n",
      "</p>\n",
      "<p>\n",
      "    Exercise. The plot contains examples described by two features, which you can assume have been standardized. Draw the\n",
      "    new axes that PCA would choose onto this plot:\n",
      "    <img src=\"files/img-fvals.png\" alt=\"A plot of a 2-dimensional dataset\" />\n",
      "</p>"
     ]
    },
    {
     "cell_type": "heading",
     "level": 1,
     "metadata": {
      "slideshow": {
       "slide_type": "slide"
      }
     },
     "source": [
      "PCA: A More Mathematical Explanation"
     ]
    },
    {
     "cell_type": "heading",
     "level": 2,
     "metadata": {},
     "source": [
      "The Covariance Matrix"
     ]
    },
    {
     "cell_type": "markdown",
     "metadata": {},
     "source": [
      "<p>\n",
      "    The previous section talked of 'spread'. Mathematically, we talk of <b>variance</b>, and you know that the variance of\n",
      "    feature $j$ is calculated\n",
      "    as follows (just like standard deviation but without taking the square root):\n",
      "    $$s^2 = \\frac{\\sum_{i = 1}^m(\\v{x}_j^{(i)} - \\bar{\\v{x}}_j)^2}{m - 1}$$\n",
      "    Or, equivalently,\n",
      "    $$s^2 = \\frac{\\sum_{i = 1}^m(\\v{x}_j^{(i)} - \\bar{\\v{x}}_j)(\\v{x}_j^{(i)} - \\bar{\\v{x}}_j)}{m - 1}$$\n",
      "</p>\n",
      "<p>\n",
      "    Standard deviation and variance tell us how much one feature's values deviate from their mean. But we want a measure of how\n",
      "    much the values of pairs of features vary from their means <em>with respect to each other</em>. This is given by their\n",
      "    <b>covariance</b>. The covariance of feature $j$ and feature $k$ is calculated as follows:\n",
      "    $$cov(j, k) = \\frac{\\sum_{i = 1}^m(\\v{x}_j^{(i)} - \\bar{\\v{x}}_j)(\\v{x}_k^{(i)} - \\bar{\\v{x}}_k)}{m - 1}$$\n",
      "</p>\n",
      "<ul>\n",
      "    <li>\n",
      "        If the covariance of two features is positive, then their values <em>increase together</em>.\n",
      "    </li>\n",
      "    <li>\n",
      "        If their covariance is zero, the two features are <em>independent</em> of each other.\n",
      "    </li>\n",
      "    <li>\n",
      "        If their covariance is negative, then as one increases, the other decreases.\n",
      "    </li>\n",
      "</ul>\n",
      "<p>\n",
      "    A <b>covariance matrix</b> shows the covariance between each feature and each other feature. For example, the CorkA dataset's \n",
      "    covariance matrix is $3 \\times 3$ since it has three features:\n",
      "</p>"
     ]
    },
    {
     "cell_type": "code",
     "collapsed": false,
     "input": [
      "from sklearn.preprocessing import StandardScaler\n",
      "from sklearn.covariance import empirical_covariance\n",
      "\n",
      "df = pd.read_csv(\"dataset-corkA.csv\")\n",
      "X = df[['flarea', 'bdrms', 'bthrms']].values\n",
      "\n",
      "scaler = StandardScaler()\n",
      "scaler.fit(X)\n",
      "X = scaler.transform(X)\n",
      "\n",
      "cov = empirical_covariance(X, assume_centered = True)\n",
      "\n",
      "#Display\n",
      "cov"
     ],
     "language": "python",
     "metadata": {},
     "outputs": [
      {
       "metadata": {},
       "output_type": "pyout",
       "prompt_number": 6,
       "text": [
        "array([[ 1.        ,  0.67146243,  0.70064556],\n",
        "       [ 0.67146243,  1.        ,  0.61808102],\n",
        "       [ 0.70064556,  0.61808102,  1.        ]])"
       ]
      }
     ],
     "prompt_number": 6
    },
    {
     "cell_type": "markdown",
     "metadata": {},
     "source": [
      "<p>\n",
      "    Questions:\n",
      "</p>\n",
      "<ul>\n",
      "    <li>Describe in a word what the main diagonal contains.</li>\n",
      "    <li>Why is the main diagonal all 1s here?</li>\n",
      "    <li>Why is the matrix symmetrical?</li>\n",
      "</ul>"
     ]
    },
    {
     "cell_type": "heading",
     "level": 2,
     "metadata": {
      "slideshow": {
       "slide_type": "slide"
      }
     },
     "source": [
      "Eigenvectors and Eigenvalues"
     ]
    },
    {
     "cell_type": "markdown",
     "metadata": {},
     "source": [
      "<p>\n",
      "    Think of a matrix as a linear transformation. For example, the following is a reflection matrix which reflects in the line $y = x$:\n",
      "    $$\\begin{bmatrix}\n",
      "          0 & 1 \\\\\n",
      "          1 & 0 \n",
      "      \\end{bmatrix}$$\n",
      "    To see this, consider this vector $\\cv{2\\\\3}$. To reflect it, we multiply it by the reflection matrix:\n",
      "    $$\\begin{bmatrix}\n",
      "          0 & 1 \\\\\n",
      "          1 & 0 \n",
      "      \\end{bmatrix} \\times \\cv{2\\\\3} = \\cv{3\\\\2}$$\n",
      "</p>\n",
      "<p>\n",
      "    But some vectors are <em>unaffected</em> by transformations. In the case of our reflection matrix, for example, any vector that\n",
      "    lies on the line $y = x$ will be unaffected; e.g. $\\cv{2\\\\2}$ would be unaffected by our reflection matrix. These vectors are\n",
      "    the <b>eigenvectors</b> of the transformation matrix. In fact, we define the eigenvectors for a transformation matrix as \n",
      "    vectors that don't change direction &mdash; they may, however, be scaled, i.e. stretched or shrunk, or reversed, i.e. made to\n",
      "    point in the opposite direction.\n",
      "</p>\n",
      "<p>\n",
      "    More formally, let $\\v{A}$ be a square $n \\times n$ matrix and let $\\v{x}$ be an $n$-dimensional vector, then if\n",
      "    $$\\v{A}\\v{x} = \\lambda\\v{x}$$\n",
      "    then $\\v{x}$ is an <b>eigenvector</b> of $\\v{A}$ and the number $\\lambda$ is an <b>eigenvalue</b> of $\\v{A}$.\n",
      "</p>\n",
      "<p>\n",
      "    Note:\n",
      "</p>\n",
      "<ul>\n",
      "    <li>Eigenvectors can only be found for square matrices.</li>\n",
      "    <li>Not every square matrix has eigenvectors.</li>\n",
      "    <li>Given an $n \\times n$ matrix that does have eigenvectors, then there are $n$ of them.</li>\n",
      "    <li>All the eigenvectors are perpendicular to one another.</li>\n",
      "</ul>\n",
      "<p>\n",
      "    E.g. a $2 \\times 2$ matrix will have no eigenvectors or two eigenvectors.\n",
      "</p>\n",
      "<p>\n",
      "    For most applications, we find eigenvectors of length 1 (the length being the square root of the sum of the squares of the\n",
      "    elements). So, if we were asked for an eigenvector of the reflection matrix from earlier, we would give $\\cv{1\\\\1}$\n",
      "    as our answer, not $\\cv{2\\\\2}$ for example.\n",
      "</p>\n",
      "<p>\n",
      "    We will not look at how to <em>find</em> eigenvectors and, for the most part, this is a job we leave to software.\n",
      "</p>"
     ]
    },
    {
     "cell_type": "heading",
     "level": 2,
     "metadata": {},
     "source": [
      "The Eigenvectors of the Covariance Matrix"
     ]
    },
    {
     "cell_type": "markdown",
     "metadata": {},
     "source": [
      "<p>\n",
      "    In PCA, we compute the eigenvectors and eigenvalues of the covariance matrix. Here they are for the covariance matrix we obtained\n",
      "    earlier:\n",
      "</p>"
     ]
    },
    {
     "cell_type": "code",
     "collapsed": false,
     "input": [
      "from numpy.linalg import eig\n",
      "\n",
      "eigenvalues, eigenvectors = eig(cov)\n",
      "\n",
      "#Display\n",
      "eigenvalues, eigenvectors"
     ],
     "language": "python",
     "metadata": {},
     "outputs": [
      {
       "metadata": {},
       "output_type": "pyout",
       "prompt_number": 7,
       "text": [
        "(array([ 2.3273732 ,  0.28783202,  0.38479478]),\n",
        " array([[ 0.59015702,  0.79554081,  0.13722067],\n",
        "        [ 0.56639562, -0.28690986, -0.77257927],\n",
        "        [ 0.57524838, -0.53366427,  0.6199127 ]]))"
       ]
      }
     ],
     "prompt_number": 7
    },
    {
     "cell_type": "markdown",
     "metadata": {},
     "source": [
      "<p>\n",
      "    Note how the software returns eigenvectors that are of length 1 (e.g. the length of the first eigenvector is\n",
      "    $\\sqrt{0.590^2 + 0.566^2 + 0.575^2} = 1$).\n",
      "</p>\n",
      "<p>\n",
      "    It turns out that the eigenvectors of the covariance matrix are the axes we want for our new coordinate system! They are\n",
      "    the chosen for their spread (variance).\n",
      "</p>"
     ]
    },
    {
     "cell_type": "heading",
     "level": 2,
     "metadata": {
      "slideshow": {
       "slide_type": "slide"
      }
     },
     "source": [
      "Example"
     ]
    },
    {
     "cell_type": "markdown",
     "metadata": {},
     "source": [
      "<p>\n",
      "    We will illustrate with the CorkA dataset. But, so that we can visialize in 2D, we will restrict the example to just two features: \n",
      "    $\\mathit{flarea}$ and $\\mathit{bdrms}$.\n",
      "</p>\n",
      "<p>\n",
      "    Note that we have standardized the data. (Normally, you'd standardize as part of a pipeline &mdash; to\n",
      "    avoid leakage.)\n",
      "</p>"
     ]
    },
    {
     "cell_type": "code",
     "collapsed": false,
     "input": [
      "from sklearn.preprocessing import StandardScaler\n",
      "\n",
      "df = pd.read_csv(\"dataset-corkA.csv\")\n",
      "X = df[['flarea', 'bdrms']].values\n",
      "scaler = StandardScaler()\n",
      "scaler.fit(X)\n",
      "X = scaler.transform(X)"
     ],
     "language": "python",
     "metadata": {},
     "outputs": [],
     "prompt_number": 8
    },
    {
     "cell_type": "markdown",
     "metadata": {},
     "source": [
      "<p>\n",
      "    First, here is a scatter plot of the standardized feature values:\n",
      "</p>"
     ]
    },
    {
     "cell_type": "code",
     "collapsed": false,
     "input": [
      "fig = plt.figure(figsize=(4,4))\n",
      "plt.title(\"Orginal feature space (standardized)\")\n",
      "plt.xlabel(\"Floor area (sq metres)\")\n",
      "plt.xlim(-3, 5)\n",
      "plt.ylabel(\"Num. bedrooms\")\n",
      "plt.ylim(-3, 5)\n",
      "plt.scatter(X[:, 0], X[:, 1], color = 'green')\n",
      "plt.show()"
     ],
     "language": "python",
     "metadata": {},
     "outputs": [
      {
       "metadata": {},
       "output_type": "display_data",
       "png": "[encoded data removed]",
       "text": [
        "<matplotlib.figure.Figure at 0x7fd9201ecd10>"
       ]
      }
     ],
     "prompt_number": 9
    },
    {
     "cell_type": "markdown",
     "metadata": {},
     "source": [
      "<p>\n",
      "    Now, let's compute the eigenvectors of the covariance matrix and draw them onto the scatter plot:\n",
      "</p>"
     ]
    },
    {
     "cell_type": "code",
     "collapsed": false,
     "input": [
      "cov = empirical_covariance(X, assume_centered = True)\n",
      "eigenvalues, eigenvectors = eig(cov)\n",
      "\n",
      "fig = plt.figure(figsize=(4,4))\n",
      "plt.title(\"Orginal feature space (standardized)\")\n",
      "plt.xlabel(\"Floor area (sq metres)\")\n",
      "plt.xlim(-3, 5)\n",
      "plt.ylabel(\"Num. bedrooms\")\n",
      "plt.ylim(-3, 5)\n",
      "plt.scatter(X[:, 0], X[:, 1], color = 'green')\n",
      "xvals = np.linspace(-3, 5, 2)\n",
      "plt.plot(xvals, eigenvectors[1, 0] * xvals / eigenvectors[0, 0], linestyle = 'dotted', color = 'gray')\n",
      "plt.plot(xvals, eigenvectors[1, 1] * xvals / eigenvectors[0, 1], linestyle = 'dashed', color = 'gray')\n",
      "plt.show()"
     ],
     "language": "python",
     "metadata": {},
     "outputs": [
      {
       "metadata": {},
       "output_type": "display_data",
       "png": "[encoded data removed]",
       "text": [
        "<matplotlib.figure.Figure at 0x7fd91ffa8d50>"
       ]
      }
     ],
     "prompt_number": 10
    },
    {
     "cell_type": "markdown",
     "metadata": {},
     "source": [
      "<p>\n",
      "    And now let's reflect and rotate the axes to see the new feature values &mdash; in effect, multiplying the feature values by the\n",
      "    eigenvectors. Instead of doing this ourselves, we'll do the whole lot with scikit-learn's PCA class:\n",
      "</p>"
     ]
    },
    {
     "cell_type": "code",
     "collapsed": false,
     "input": [
      "from sklearn.decomposition import PCA\n",
      "\n",
      "pca = PCA()\n",
      "pca.fit(X)\n",
      "X_new = pca.transform(X)\n",
      "\n",
      "fig = plt.figure(figsize=(4,4))\n",
      "plt.title(\"New feature space\")\n",
      "plt.xlim(-3, 6)\n",
      "plt.ylim(-3, 6)\n",
      "plt.scatter(X_new[:, 0], X_new[:, 1], color = 'green')\n",
      "plt.show()"
     ],
     "language": "python",
     "metadata": {},
     "outputs": [
      {
       "metadata": {},
       "output_type": "display_data",
       "png": "[encoded data removed]",
       "text": [
        "<matplotlib.figure.Figure at 0x7fd91feca7d0>"
       ]
      }
     ],
     "prompt_number": 11
    },
    {
     "cell_type": "heading",
     "level": 1,
     "metadata": {
      "slideshow": {
       "slide_type": "slide"
      }
     },
     "source": [
      "Reducing the Number of Dimensions"
     ]
    },
    {
     "cell_type": "markdown",
     "metadata": {},
     "source": [
      "<p>\n",
      "    All that we have done so far is to project the original features into a new feature space. And, so far, there's one new feature\n",
      "    for each original feature. (Recall that for $n$-dimensional data, if there are any eigenvectors, there are $n$ of them.)\n",
      "</p>\n",
      "<p>\n",
      "    But these new features have some ordering to them. The eigenvalues indicate how much of the variance is described by the\n",
      "    corresponding eigenvector.\u00a0The eigenvectors with the highest eigenvalues are called the <b>principal components</b> of the\n",
      "    dataset. \n",
      "</p>\n",
      "<p>\n",
      "    We can display the proportion of the variance accounted for by each component:\n",
      "</p>"
     ]
    },
    {
     "cell_type": "code",
     "collapsed": false,
     "input": [
      "print pca.explained_variance_ratio_"
     ],
     "language": "python",
     "metadata": {},
     "outputs": [
      {
       "output_type": "stream",
       "stream": "stdout",
       "text": [
        "[ 0.83573122  0.16426878]\n"
       ]
      }
     ],
     "prompt_number": 12
    },
    {
     "cell_type": "markdown",
     "metadata": {},
     "source": [
      "<p>\n",
      "    Since the principal components capture most of the variability in the data, we can discard those features that have low eigenvalues.\n",
      "</p>\n",
      "<p>\n",
      "    How do we know how many to discard? \n",
      "</p>\n",
      "<p>\n",
      "    You could choose arbitrarily; or you could use model selection. But a common approach is to plot the explained variance ratio.\n",
      "    Such a plot often contains an 'elbow' (a kink): keep the features that come before the elbow.\n",
      "<p>\n",
      "<p>\n",
      "    Let's do this in its entirety for the CorkB dataset. First, read it in, preprocess it, including standardizing:\n",
      "</p>"
     ]
    },
    {
     "cell_type": "code",
     "collapsed": false,
     "input": [
      "# Use pandas to read the CSV file\n",
      "df = pd.read_csv(\"dataset-corkB.csv\")\n",
      "\n",
      "# Remove anomalies from flarea\n",
      "df = df[(df['flarea'].isnull()) | ((df['flarea'] > 10) & (df['flarea'] < 1000))]\n",
      "df.reset_index(drop=True, inplace=True)\n",
      "# For simplicity, rather than impute missing values, we'll simply remove examples with missing values\n",
      "df.dropna(subset=['flarea', 'bdrms', 'floors', 'devment', 'price'], inplace=True)\n",
      "df.reset_index(drop=True, inplace=True)\n",
      "# Encode nominal-valued features\n",
      "# - devment is easy because it is binary-valued\n",
      "df.replace({'devment' : {'SecondHand' : 0, 'New' : 1}}, inplace=True)\n",
      "# - for type we use one-hot encoding\n",
      "one_hot = pd.get_dummies(df['type'], 'type', '_')\n",
      "df.drop('type', axis=1, inplace=True)\n",
      "df = pd.concat([df, one_hot], axis=1)\n",
      "# - similarly for ber\n",
      "one_hot = pd.get_dummies(df['ber'], 'ber', '_')\n",
      "df.drop('ber', axis=1, inplace=True)\n",
      "df = pd.concat([df, one_hot], axis=1)\n",
      "# - and similarly for location\n",
      "one_hot = pd.get_dummies(df['location'], 'location', '_')\n",
      "df.drop('location', axis=1, inplace=True)\n",
      "df = pd.concat([df, one_hot], axis=1)\n",
      "\n",
      "X = df[['flarea', 'bdrms', 'bthrms', 'floors', 'devment', \n",
      "        'type_Apartment', 'type_Detached', 'type_Semi-detached', 'type_Terraced', \n",
      "        'ber_B1', 'ber_B2', 'ber_B3', 'ber_C1', 'ber_C2', 'ber_C3', 'ber_D1', 'ber_D2', 'ber_E1', 'ber_E2', 'ber_F', 'ber_G',\n",
      "        'location_Ballinlough', 'location_Ballintemple', 'location_Ballyphehane', 'location_Ballyvolane', \n",
      "        'location_Banduff', 'location_Bishopstown', 'location_Blackpool', 'location_Blackrock', 'location_Carrigrohane', \n",
      "        'location_CityCentre', 'location_Cloghroe', 'location_Donnybrook', 'location_Douglas', 'location_DublinPike', \n",
      "        'location_Farranree', 'location_Fota', 'location_Glanmire', 'location_Glasheen', 'location_Grange', \n",
      "        'location_Gurranabraher', 'location_Inniscarra', 'location_Mayfield', 'location_ModelFarmRoad', \n",
      "        'location_Montenotte', 'location_Ovens', 'location_PassageWest', 'location_Rochestown', 'location_Silversprings', \n",
      "        'location_StLukes', 'location_SundaysWell', 'location_TheLough', 'location_Togher', 'location_TurnersCross', \n",
      "        'location_VictoriaCross', 'location_Waterfall', 'location_WesternRoad', 'location_Wilton']].values\n",
      "y = df['price'].values\n",
      "\n",
      "# Standardize \n",
      "scaler = StandardScaler()\n",
      "scaler.fit(X) \n",
      "X = scaler.transform(X)"
     ],
     "language": "python",
     "metadata": {},
     "outputs": [],
     "prompt_number": 13
    },
    {
     "cell_type": "markdown",
     "metadata": {},
     "source": [
      "<p>\n",
      "    Next, we'll split it into training and test sets and apply PCA to the training set:\n",
      "</p>"
     ]
    },
    {
     "cell_type": "code",
     "collapsed": false,
     "input": [
      "from sklearn.cross_validation import train_test_split\n",
      "\n",
      "X_train, X_test, y_train, y_test = train_test_split(X, y, test_size = 0.3, random_state = np.random)\n",
      "\n",
      "pca = PCA()\n",
      "pca.fit(X_train)\n",
      "X_new_train = pca.transform(X_train)"
     ],
     "language": "python",
     "metadata": {},
     "outputs": [],
     "prompt_number": 14
    },
    {
     "cell_type": "markdown",
     "metadata": {},
     "source": [
      "<p>\n",
      "    Next, we plot the proportion of the variance captured by each component:\n",
      "</p>"
     ]
    },
    {
     "cell_type": "code",
     "collapsed": false,
     "input": [
      "m, n = df.shape\n",
      "\n",
      "fig = plt.figure()\n",
      "plt.title(\"Variance plot\")\n",
      "plt.xlabel(\"Component number\")\n",
      "plt.xlim(1, n)\n",
      "plt.ylabel(\"Proportion of variance\")\n",
      "plt.ylim(0, 0.2)\n",
      "plt.plot(np.arange(1, n), pca.explained_variance_ratio_)\n",
      "plt.show()"
     ],
     "language": "python",
     "metadata": {},
     "outputs": [
      {
       "metadata": {},
       "output_type": "display_data",
       "png": "[encoded data removed]",
       "text": [
        "<matplotlib.figure.Figure at 0x7fd91ff42690>"
       ]
      }
     ],
     "prompt_number": 15
    },
    {
     "cell_type": "markdown",
     "metadata": {},
     "source": [
      "<p>\n",
      "    Sometimes the elbow is sharper. But from this we'll choose to keep 5 features:\n",
      "</p>"
     ]
    },
    {
     "cell_type": "code",
     "collapsed": false,
     "input": [
      "from sklearn.linear_model import LinearRegression\n",
      "from sklearn.metrics import mean_squared_error\n",
      "\n",
      "estimator = LinearRegression()\n",
      "estimator.fit(X_new_train[:, :5], y_train)\n",
      "\n",
      "y_predicted = estimator.predict(pca.transform(X_test)[:, :5])\n",
      "mse_test = mean_squared_error(y_test, y_predicted)\n",
      "\n",
      "# Display\n",
      "mse_test"
     ],
     "language": "python",
     "metadata": {},
     "outputs": [
      {
       "metadata": {},
       "output_type": "pyout",
       "prompt_number": 16,
       "text": [
        "10053.732382671837"
       ]
      }
     ],
     "prompt_number": 16
    },
    {
     "cell_type": "markdown",
     "metadata": {},
     "source": [
      "<p>\n",
      "    In this example, keeping just five components is a bit agressive and there is some considerable loss of accuracy. But, as we have\n",
      "    discussed, sometimes discarding features can improve accuracy.\n",
      "</p>\n",
      "<p>\n",
      "    The usual caveat is needed: I have used simple holdout, with no resampling.\n",
      "</p>\n",
      "<p>\n",
      "    I also did my standardization incorrectly, because I did not make it part of a pipeline.\n",
      "    Indeed, even the PCA is usually one component in a pipeline.\n",
      "</p>\n",
      "<p>\n",
      "    PCA is much used in image analysis tasks &mdash; both regression and classification.\n",
      "</p>\n",
      "<p>\n",
      "    It is limited in that its projections are all linear ones. There are many techniques that work in a similar way but with more\n",
      "    flexibility, e.g. Kernel PCA, Linear Discriminant Analysis and Multidimensional Scaling (MDS).\n",
      "</p>"
     ]
    },
    {
     "cell_type": "code",
     "collapsed": false,
     "input": [],
     "language": "python",
     "metadata": {},
     "outputs": [],
     "prompt_number": 16
    }
   ],
   "metadata": {}
  }
 ]
}