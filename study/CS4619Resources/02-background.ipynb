{
 "metadata": {
  "name": "",
  "signature": "sha256:d2f91571b8c76842342256a4e5d65fd3beb919e7a59b88239093b8a442745bcb"
 },
 "nbformat": 3,
 "nbformat_minor": 0,
 "worksheets": [
  {
   "cells": [
    {
     "cell_type": "heading",
     "level": 1,
     "metadata": {
      "slideshow": {
       "slide_type": "slide"
      }
     },
     "source": [
      "CS4619: Artificial Intelligence 2"
     ]
    },
    {
     "cell_type": "heading",
     "level": 2,
     "metadata": {},
     "source": [
      "Background Review"
     ]
    },
    {
     "cell_type": "heading",
     "level": 3,
     "metadata": {},
     "source": [
      "Derek Bridge<br>\n",
      "School of Computer Science and Information Technology<br>\n",
      "University College Cork"
     ]
    },
    {
     "cell_type": "heading",
     "level": 1,
     "metadata": {
      "slideshow": {
       "slide_type": "slide"
      }
     },
     "source": [
      "Initialization\n",
      "$\\newcommand{\\Set}[1]{\\{#1\\}}$\n",
      "$\\newcommand{\\Tuple}[1]{\\langle#1\\rangle}$\n",
      "$\\newcommand{\\v}[1]{\\pmb{#1}}$\n",
      "$\\newcommand{\\cv}[1]{\\begin{bmatrix}#1\\end{bmatrix}}$\n",
      "$\\newcommand{\\rv}[1]{[#1]}$"
     ]
    },
    {
     "cell_type": "code",
     "collapsed": false,
     "input": [
      "%load_ext autoreload\n",
      "%autoreload 2\n",
      "%matplotlib inline"
     ],
     "language": "python",
     "metadata": {},
     "outputs": [],
     "prompt_number": 1
    },
    {
     "cell_type": "code",
     "collapsed": false,
     "input": [
      "import pandas as pd\n",
      "import numpy as np\n",
      "import matplotlib.pyplot as plt"
     ],
     "language": "python",
     "metadata": {},
     "outputs": [],
     "prompt_number": 2
    },
    {
     "cell_type": "heading",
     "level": 1,
     "metadata": {
      "slideshow": {
       "slide_type": "slide"
      }
     },
     "source": [
      "Matrices"
     ]
    },
    {
     "cell_type": "markdown",
     "metadata": {},
     "source": [
      "<p>\n",
      "    A <b>matrix</b> is a rectangular array, in our case of real numbers.\n",
      "</p>\n",
      "<ul>\n",
      "    <li>\n",
      "        In general, we use bold capital letters, e.g. $\\v{A}$, for matrices, e.g.\n",
      "        $$\\v{A} = \\begin{bmatrix}\n",
      "                      2 & 4 & 0 \\\\\n",
      "                      1 & 3 & 2\n",
      "                  \\end{bmatrix}\n",
      "        $$\n",
      "    </li>\n",
      "    <li>\n",
      "        <b>Dimension</b>: A matrix with $m$ rows and $n$ columns is an <b>$m \\times n$ matrix</b>\n",
      "        <ul>\n",
      "            <li>\n",
      "                What are $m$ and $n$ for $\\v{A}$?\n",
      "            </li>\n",
      "        </ul>\n",
      "    </li>\n",
      "    <li>\n",
      "        We refer to an <b>element</b> of a matrix either using subscripts or indexes\n",
      "        <ul>\n",
      "            <li>\n",
      "                $\\v{A}_{i,j}$ or $\\v{A}[i,j]$ is the element in the $i$th row and $j$th column\n",
      "            </li>\n",
      "            <li>\n",
      "                We will index from 1\n",
      "                <ul>\n",
      "                    <li>\n",
      "                        However, we will sometimes use position 0 for 'technical' purposes\n",
      "                    </li>\n",
      "                    <li>\n",
      "                        And we must be aware that Python numpy arrays and matrices are 0-indexed\n",
      "                    </li>\n",
      "                </ul>\n",
      "             </li>\n",
      "             <li>\n",
      "                 So what are $\\v{A}_{2,1}$, $\\v{A}_{1,2}$, $\\v{A}_{0,0}$ and $\\v{A}_{3, 2}$?\n",
      "             </li>\n",
      "        </ul>\n",
      "    </li>\n",
      "</ul>"
     ]
    },
    {
     "cell_type": "heading",
     "level": 1,
     "metadata": {
      "slideshow": {
       "slide_type": "slide"
      }
     },
     "source": [
      "Vectors"
     ]
    },
    {
     "cell_type": "markdown",
     "metadata": {},
     "source": [
      "<p>\n",
      "    A <b>vector</b> is a matrix that has only one column, i.e. a $m \\times 1$ matrix\n",
      "</p>\n",
      "<ul>\n",
      "    <li>\n",
      "        A vector with $m$ rows is called a <b>$m$-dimensional</b> vector\n",
      "    </li>\n",
      "    <li>\n",
      "        In general, we use bold lowercase letters for vectors, e.g.\n",
      "        $$\\v{x} = \\cv{2\\\\4\\\\3}$$\n",
      "    <li>\n",
      "        Sometimes this is called a <b>column vector</b>\n",
      "    </li>\n",
      "    <li>\n",
      "        Then, by contrast, a <b>row vector</b> is a matrix that has only one row, i.e. a $1 \\times n$ matrix, e.g.\n",
      "        $$\\rv{2, 4, 3}$$\n",
      "    </li>\n",
      "    <li>\n",
      "        Unless stated otherwise, a vector should be assumed to be a column vector.\n",
      "    </li>\n",
      "    <li>\n",
      "        We can refer to an element using a single subscript, again most of the time indexed from 1\n",
      "        <ul>\n",
      "            <li>\n",
      "                So what is $\\v{x}_1$?\n",
      "            </li>\n",
      "        </ul>\n",
      "    </li>\n",
      "</ul>"
     ]
    },
    {
     "cell_type": "heading",
     "level": 1,
     "metadata": {
      "slideshow": {
       "slide_type": "slide"
      }
     },
     "source": [
      "Vectors and Matrices in Python"
     ]
    },
    {
     "cell_type": "markdown",
     "metadata": {},
     "source": [
      "<p>\n",
      "    Of the many ways of representing vectors and matrices in Python, we will use two:\n",
      "</p>\n",
      "<ul>\n",
      "    <li>\n",
      "        From the pandas library, for vectors we will use <code>Series</code>, which are a kind of one-dimensional array,\n",
      "        and for matrices we will use <code>DataFrame</code>s, which are tabular data structures of rows and columns.\n",
      "        As well as supporting fairly traditional indexing, the columns in a <code>DataFrame</code> can have names,\n",
      "        which can aslo be used to extract data from the <code>DataFrame</code>.\n",
      "    </li>\n",
      "    <li>\n",
      "        From the numpy library, we will use numpy arrays, which can be one-dimensional, two-dimensional, or have\n",
      "        more dimensions. The machine learning library that we will use, scikit-learn, expects its data to arrive\n",
      "        as numpy arrays.\n",
      "    </li>\n",
      "</ul>  \n",
      "<p>\n",
      "    For the rest of this lecture, we'll exemplify numpy arrays. (Quite a few of the clever indexing methods that we\n",
      "    look at below also apply to pandas data structures.)\n",
      "</p>"
     ]
    },
    {
     "cell_type": "code",
     "collapsed": false,
     "input": [
      "# Vectors\n",
      "# We will use a numpy 1d array, which we can create from a list\n",
      "# But, done this way, there is no way for us to distinguish between column- and row-vectors\n",
      "x = np.array([2, 4, 3])\n",
      "\n",
      "# Matrices\n",
      "# We will use a numpy 2d array, which we can create from a list of lists\n",
      "A = np.array([[2, 4, 0], [1, 3, 2]])"
     ],
     "language": "python",
     "metadata": {},
     "outputs": [],
     "prompt_number": 3
    },
    {
     "cell_type": "heading",
     "level": 2,
     "metadata": {
      "slideshow": {
       "slide_type": "slide"
      }
     },
     "source": [
      "Indexing"
     ]
    },
    {
     "cell_type": "markdown",
     "metadata": {},
     "source": [
      "<p>\n",
      "    Be warned that numpy arrays are indexed from zero, in contrast to what we used above.\n",
      "</p>"
     ]
    },
    {
     "cell_type": "code",
     "collapsed": false,
     "input": [
      "# x = np.array([2, 4, 3])\n",
      "\n",
      "x[1]"
     ],
     "language": "python",
     "metadata": {},
     "outputs": [
      {
       "metadata": {},
       "output_type": "pyout",
       "prompt_number": 4,
       "text": [
        "4"
       ]
      }
     ],
     "prompt_number": 4
    },
    {
     "cell_type": "code",
     "collapsed": false,
     "input": [
      "# A = np.array([[2, 4, 0], [1, 3, 2]])\n",
      "\n",
      "A[1, 2] # Note you can write A[1, 2] as well as A[1][2]"
     ],
     "language": "python",
     "metadata": {},
     "outputs": [
      {
       "metadata": {},
       "output_type": "pyout",
       "prompt_number": 5,
       "text": [
        "2"
       ]
      }
     ],
     "prompt_number": 5
    },
    {
     "cell_type": "heading",
     "level": 2,
     "metadata": {
      "slideshow": {
       "slide_type": "slide"
      }
     },
     "source": [
      "Shape and Type"
     ]
    },
    {
     "cell_type": "markdown",
     "metadata": {},
     "source": [
      "<p>\n",
      "    Every numpy array has a shape attribute (dimension):\n",
      "</p>"
     ]
    },
    {
     "cell_type": "code",
     "collapsed": false,
     "input": [
      "x.shape"
     ],
     "language": "python",
     "metadata": {},
     "outputs": [
      {
       "metadata": {},
       "output_type": "pyout",
       "prompt_number": 6,
       "text": [
        "(3,)"
       ]
      }
     ],
     "prompt_number": 6
    },
    {
     "cell_type": "code",
     "collapsed": false,
     "input": [
      "A.shape"
     ],
     "language": "python",
     "metadata": {},
     "outputs": [
      {
       "metadata": {},
       "output_type": "pyout",
       "prompt_number": 7,
       "text": [
        "(2, 3)"
       ]
      }
     ],
     "prompt_number": 7
    },
    {
     "cell_type": "markdown",
     "metadata": {},
     "source": [
      "<p>\n",
      "    All the elements of a numpy array must be the same type. The np.array function infers the type from the data:\n",
      "</p>"
     ]
    },
    {
     "cell_type": "code",
     "collapsed": false,
     "input": [
      "A.dtype"
     ],
     "language": "python",
     "metadata": {},
     "outputs": [
      {
       "metadata": {},
       "output_type": "pyout",
       "prompt_number": 8,
       "text": [
        "dtype('int64')"
       ]
      }
     ],
     "prompt_number": 8
    },
    {
     "cell_type": "markdown",
     "metadata": {},
     "source": [
      "<p>\n",
      "    We'll sometimes want to change the type, which we can do using the astype method, which creates a <em>copy</em> of the\n",
      "    array but with the new type:\n",
      "</p>"
     ]
    },
    {
     "cell_type": "code",
     "collapsed": false,
     "input": [
      "A.astype(float)"
     ],
     "language": "python",
     "metadata": {},
     "outputs": [
      {
       "metadata": {},
       "output_type": "pyout",
       "prompt_number": 9,
       "text": [
        "array([[ 2.,  4.,  0.],\n",
        "       [ 1.,  3.,  2.]])"
       ]
      }
     ],
     "prompt_number": 9
    },
    {
     "cell_type": "heading",
     "level": 2,
     "metadata": {
      "slideshow": {
       "slide_type": "slide"
      }
     },
     "source": [
      "Other Ways to Create Arrays"
     ]
    },
    {
     "cell_type": "markdown",
     "metadata": {},
     "source": [
      "<p>\n",
      "    The zeros, ones and empty functions create arrays of the given shape containing just zeros, ones and arbitrary\n",
      "    values, respectively:\n",
      "</p>"
     ]
    },
    {
     "cell_type": "code",
     "collapsed": false,
     "input": [
      "# A 1d array of zeros\n",
      "all_zeros = np.zeros(4)\n",
      "\n",
      "# A 2d array of ones\n",
      "all_ones = np.ones((2, 3))\n",
      "\n",
      "# A 1d array, usually of garbage values\n",
      "all_arbitrary = np.empty(10)"
     ],
     "language": "python",
     "metadata": {},
     "outputs": [],
     "prompt_number": 10
    },
    {
     "cell_type": "heading",
     "level": 2,
     "metadata": {
      "slideshow": {
       "slide_type": "slide"
      }
     },
     "source": [
      "More Indexing, and also Slicing"
     ]
    },
    {
     "cell_type": "markdown",
     "metadata": {},
     "source": [
      "<p>\n",
      "    Python's indexing and slicing operators work on numpy arrays and matrices, e.g.\n",
      "</p>"
     ]
    },
    {
     "cell_type": "code",
     "collapsed": false,
     "input": [
      "# First element of x where x = np.array([2, 4, 3])\n",
      "\n",
      "x[0]"
     ],
     "language": "python",
     "metadata": {},
     "outputs": [
      {
       "metadata": {},
       "output_type": "pyout",
       "prompt_number": 11,
       "text": [
        "2"
       ]
      }
     ],
     "prompt_number": 11
    },
    {
     "cell_type": "code",
     "collapsed": false,
     "input": [
      "# All but the first element of x\n",
      "x[1:]"
     ],
     "language": "python",
     "metadata": {},
     "outputs": [
      {
       "metadata": {},
       "output_type": "pyout",
       "prompt_number": 12,
       "text": [
        "array([4, 3])"
       ]
      }
     ],
     "prompt_number": 12
    },
    {
     "cell_type": "code",
     "collapsed": false,
     "input": [
      "# All but the last element of x\n",
      "x[:-1]"
     ],
     "language": "python",
     "metadata": {},
     "outputs": [
      {
       "metadata": {},
       "output_type": "pyout",
       "prompt_number": 13,
       "text": [
        "array([2, 4])"
       ]
      }
     ],
     "prompt_number": 13
    },
    {
     "cell_type": "code",
     "collapsed": false,
     "input": [
      "# First row of A where A = np.array([[2, 4, 0], [1, 3, 2]])\n",
      "A[0]"
     ],
     "language": "python",
     "metadata": {},
     "outputs": [
      {
       "metadata": {},
       "output_type": "pyout",
       "prompt_number": 14,
       "text": [
        "array([2, 4, 0])"
       ]
      }
     ],
     "prompt_number": 14
    },
    {
     "cell_type": "code",
     "collapsed": false,
     "input": [
      "# All but the first row of A\n",
      "A[1:]"
     ],
     "language": "python",
     "metadata": {},
     "outputs": [
      {
       "metadata": {},
       "output_type": "pyout",
       "prompt_number": 15,
       "text": [
        "array([[1, 3, 2]])"
       ]
      }
     ],
     "prompt_number": 15
    },
    {
     "cell_type": "code",
     "collapsed": false,
     "input": [
      "# All but the last row of A\n",
      "A[:-1]"
     ],
     "language": "python",
     "metadata": {},
     "outputs": [
      {
       "metadata": {},
       "output_type": "pyout",
       "prompt_number": 16,
       "text": [
        "array([[2, 4, 0]])"
       ]
      }
     ],
     "prompt_number": 16
    },
    {
     "cell_type": "code",
     "collapsed": false,
     "input": [
      "# First column of A\n",
      "A[:, 0]"
     ],
     "language": "python",
     "metadata": {},
     "outputs": [
      {
       "metadata": {},
       "output_type": "pyout",
       "prompt_number": 17,
       "text": [
        "array([2, 1])"
       ]
      }
     ],
     "prompt_number": 17
    },
    {
     "cell_type": "code",
     "collapsed": false,
     "input": [
      "# All but the first column of A\n",
      "A[:, 1:]"
     ],
     "language": "python",
     "metadata": {},
     "outputs": [
      {
       "metadata": {},
       "output_type": "pyout",
       "prompt_number": 18,
       "text": [
        "array([[4, 0],\n",
        "       [3, 2]])"
       ]
      }
     ],
     "prompt_number": 18
    },
    {
     "cell_type": "code",
     "collapsed": false,
     "input": [
      "# All but the last column of A\n",
      "A[:, :-1]"
     ],
     "language": "python",
     "metadata": {},
     "outputs": [
      {
       "metadata": {},
       "output_type": "pyout",
       "prompt_number": 19,
       "text": [
        "array([[2, 4],\n",
        "       [1, 3]])"
       ]
      }
     ],
     "prompt_number": 19
    },
    {
     "cell_type": "markdown",
     "metadata": {},
     "source": [
      "<p>\n",
      "    Unlike Python lists, slices don't copy the data; they refer to the original array. Hence, updates affect the original array:\n",
      "</p>"
     ]
    },
    {
     "cell_type": "code",
     "collapsed": false,
     "input": [
      "x[1:] = 12\n",
      "x"
     ],
     "language": "python",
     "metadata": {},
     "outputs": [
      {
       "metadata": {},
       "output_type": "pyout",
       "prompt_number": 20,
       "text": [
        "array([ 2, 12, 12])"
       ]
      }
     ],
     "prompt_number": 20
    },
    {
     "cell_type": "heading",
     "level": 2,
     "metadata": {
      "slideshow": {
       "slide_type": "slide"
      }
     },
     "source": [
      "Fancy Indexing and Boolean Indexing"
     ]
    },
    {
     "cell_type": "markdown",
     "metadata": {},
     "source": [
      "<p>\n",
      "    In addition to indexing and slicing, for numpy arrays there is so-called fancy indexing (where you use a list or array of \n",
      "    ints) and Boolean indexing (where a numpy array of Booleans selects which elements to return):\n",
      "</p>"
     ]
    },
    {
     "cell_type": "code",
     "collapsed": false,
     "input": [
      "# Change x back to what it was\n",
      "x = np.array([2, 4, 3])\n",
      "\n",
      "# Fancy indexing to get positions 2 and 0 of x - in that order\n",
      "x[[2, 0]]"
     ],
     "language": "python",
     "metadata": {},
     "outputs": [
      {
       "metadata": {},
       "output_type": "pyout",
       "prompt_number": 21,
       "text": [
        "array([3, 2])"
       ]
      }
     ],
     "prompt_number": 21
    },
    {
     "cell_type": "code",
     "collapsed": false,
     "input": [
      "# Boolean indexing\n",
      "bools = np.array([False, True, True])\n",
      "x[bools]"
     ],
     "language": "python",
     "metadata": {},
     "outputs": [
      {
       "metadata": {},
       "output_type": "pyout",
       "prompt_number": 22,
       "text": [
        "array([4, 3])"
       ]
      }
     ],
     "prompt_number": 22
    },
    {
     "cell_type": "code",
     "collapsed": false,
     "input": [
      "# You can create the Boolean array with an array comparison:\n",
      "bools = [x > 2]\n",
      "x[bools]"
     ],
     "language": "python",
     "metadata": {},
     "outputs": [
      {
       "metadata": {},
       "output_type": "pyout",
       "prompt_number": 23,
       "text": [
        "array([4, 3])"
       ]
      }
     ],
     "prompt_number": 23
    },
    {
     "cell_type": "code",
     "collapsed": false,
     "input": [
      "# More concisely:\n",
      "x[x > 2]"
     ],
     "language": "python",
     "metadata": {},
     "outputs": [
      {
       "metadata": {},
       "output_type": "pyout",
       "prompt_number": 24,
       "text": [
        "array([4, 3])"
       ]
      }
     ],
     "prompt_number": 24
    },
    {
     "cell_type": "heading",
     "level": 1,
     "metadata": {
      "slideshow": {
       "slide_type": "slide"
      }
     },
     "source": [
      "Matrix Addition and Subtraction"
     ]
    },
    {
     "cell_type": "markdown",
     "metadata": {},
     "source": [
      "<p>\n",
      "    Two matrices $\\v{A}$ and $\\v{B}$ can be added or subtracted if they have the same dimensions. \n",
      "    Their sum is obtained by adding or subtracting corresponding elements, e.g.\n",
      "    $$\n",
      "        \\v{A} = \\begin{bmatrix}\n",
      "                2 & 4 & 0 \\\\\n",
      "                1 & 3 & 2\n",
      "            \\end{bmatrix}\n",
      "        \\v{B} = \\begin{bmatrix}\n",
      "                1 & 0 & 5 \\\\\n",
      "                2 & 3 & 2\n",
      "            \\end{bmatrix}\n",
      "        \\v{A}+\\v{B} = \\begin{bmatrix}\n",
      "                3 & 4 & 5 \\\\\n",
      "                3 & 6 & 4\n",
      "              \\end{bmatrix}\n",
      "    $$\n",
      "</p>"
     ]
    },
    {
     "cell_type": "heading",
     "level": 1,
     "metadata": {
      "slideshow": {
       "slide_type": "slide"
      }
     },
     "source": [
      "Scalar Multiplication"
     ]
    },
    {
     "cell_type": "markdown",
     "metadata": {},
     "source": [
      "<p>\n",
      "    Matrices can be multiplied by real numbers (in this context, often called 'scalars'). The scalar product is obtained\n",
      "    by multiplying each element by the scalar, e.g.\n",
      "    $$\\v{A} = \\begin{bmatrix}\n",
      "            2 & 4 & 0 \\\\\n",
      "            1 & 3 & 2\n",
      "            \\end{bmatrix}\n",
      "      2\\v{A} = \\begin{bmatrix}\n",
      "            4 & 8 & 0 \\\\\n",
      "            2 & 6 & 4\n",
      "           \\end{bmatrix}\n",
      "      \\v{A}/2 = \\begin{bmatrix}\n",
      "            1 & 2 & 0 \\\\\n",
      "            0.5 & 1.5 & 1\n",
      "                \\end{bmatrix}\n",
      "    $$\n",
      "</p>"
     ]
    },
    {
     "cell_type": "heading",
     "level": 1,
     "metadata": {
      "slideshow": {
       "slide_type": "slide"
      }
     },
     "source": [
      "Matrix Addition, Subtraction and Scalar Multiplication in Python"
     ]
    },
    {
     "cell_type": "markdown",
     "metadata": {},
     "source": [
      "<p>\n",
      "    numpy arrays enable operations like these using the normal addition, subtraction and multiplication\n",
      "    operators and without writing for loops:\n",
      "</p>"
     ]
    },
    {
     "cell_type": "code",
     "collapsed": false,
     "input": [
      "A = np.array([[2, 4, 0], [1, 3, 2]])\n",
      "B = np.array([[1, 0, 5], [2, 3, 2]])\n",
      "A + B"
     ],
     "language": "python",
     "metadata": {},
     "outputs": [
      {
       "metadata": {},
       "output_type": "pyout",
       "prompt_number": 25,
       "text": [
        "array([[3, 4, 5],\n",
        "       [3, 6, 4]])"
       ]
      }
     ],
     "prompt_number": 25
    },
    {
     "cell_type": "markdown",
     "metadata": {},
     "source": [
      "<p>\n",
      "    Similarly, operations with scalars are also applied elementwise:\n",
      "</p>"
     ]
    },
    {
     "cell_type": "code",
     "collapsed": false,
     "input": [
      "2 * A"
     ],
     "language": "python",
     "metadata": {},
     "outputs": [
      {
       "metadata": {},
       "output_type": "pyout",
       "prompt_number": 26,
       "text": [
        "array([[4, 8, 0],\n",
        "       [2, 6, 4]])"
       ]
      }
     ],
     "prompt_number": 26
    },
    {
     "cell_type": "heading",
     "level": 1,
     "metadata": {
      "slideshow": {
       "slide_type": "slide"
      }
     },
     "source": [
      "Matrix Multiplication"
     ]
    },
    {
     "cell_type": "markdown",
     "metadata": {},
     "source": [
      "<p>\n",
      "    We can compute $\\v{A}\\v{B}$, the result of multiplying matrices $\\v{A}$ and $\\v{B}$, provided the number of columns\n",
      "    of $\\v{A}$ equals the number of rows of $\\v{B}$\n",
      "</p>\n",
      "<ul>\n",
      "    <li>\n",
      "        If $\\v{A}$ is a $m \\times p$ matrix and $\\v{B}$ is a $p \\times n$ matrix, then we can compute $C = \\v{A}\\v{B}$\n",
      "    </li>\n",
      "    <li>\n",
      "        $\\v{C}$ will be a $m \\times n$ matrix\n",
      "    </li>\n",
      "    <li>\n",
      "        $\\v{C}_{i,j}$ is obtained by multiplying elements of the $i$th row of $\\v{A}$ by corresponding elements\n",
      "        of the $j$th column of $\\v{B}$ and summing:\n",
      "        $$\\v{C}_{i,j} = \\sum_{k=1}^p\\v{A}_{i,k}\\v{B}_{k,j}$$\n",
      "    </li>\n",
      "    <li>E.g.\n",
      "        $$\\v{A} = \\begin{bmatrix}\n",
      "                    2 & 4 & 0 \\\\\n",
      "                    1 & 3 & 2\n",
      "                  \\end{bmatrix}\n",
      "          \\v{B} = \\begin{bmatrix}\n",
      "                    3 & 1 & 2\\\\\n",
      "                    2 & 3 & 1\\\\\n",
      "                    1 & 3 & 3\n",
      "                    \\end{bmatrix}\n",
      "         \\v{A}\\v{B} = \\begin{bmatrix}\n",
      "                         14 & 14 & 8\\\\\n",
      "                         11 & 16 & 11\n",
      "                      \\end{bmatrix}\n",
      "         $$\n",
      "    </li>\n",
      "    <li>Since vectors are just one-column vectors, matrix multiplication can apply &mdash; provided the dimensions are OK, e.g.\n",
      "        $$\\v{A} = \\begin{bmatrix}\n",
      "                  2 & 4 & 0 \\\\\n",
      "                  1 & 3 & 2\n",
      "                  \\end{bmatrix}\n",
      "          \\v{x} = \\cv{2\\\\3\\\\1}\n",
      "          \\v{y} = \\cv{2\\\\3}\n",
      "          \\v{A}\\v{x} = \\cv{16\\\\13}\n",
      "          \\v{A}\\v{y} \\mbox{ is undefined}\n",
      "        $$\n",
      "    </li>\n",
      "</ul> "
     ]
    },
    {
     "cell_type": "heading",
     "level": 1,
     "metadata": {
      "slideshow": {
       "slide_type": "slide"
      }
     },
     "source": [
      "Matrix Multplication in Python"
     ]
    },
    {
     "cell_type": "markdown",
     "metadata": {},
     "source": [
      "<p>\n",
      "    numpy offers dot as a function or method for matrix multiplication:\n",
      "</p>"
     ]
    },
    {
     "cell_type": "code",
     "collapsed": false,
     "input": [
      "A = np.array([[2, 4, 0], [1, 3, 2]])\n",
      "B = np.array([[3, 1, 2], [2, 3, 1], [1, 3, 3]])\n",
      "\n",
      "# Multiplication as a function\n",
      "# np.dot(A, B)\n",
      "\n",
      "# Multiplication as a method\n",
      "A.dot(B)"
     ],
     "language": "python",
     "metadata": {},
     "outputs": [
      {
       "metadata": {},
       "output_type": "pyout",
       "prompt_number": 27,
       "text": [
        "array([[14, 14,  8],\n",
        "       [11, 16, 11]])"
       ]
      }
     ],
     "prompt_number": 27
    },
    {
     "cell_type": "markdown",
     "metadata": {},
     "source": [
      "<p>\n",
      "    Be warned that A * B on numpy arrays is <strong>not</strong> the same as matrix multiplication as defined\n",
      "    above. Instead, it is performed elementwise on corresponding elements of two equal-sized arrays.\n",
      "</p>"
     ]
    },
    {
     "cell_type": "heading",
     "level": 1,
     "metadata": {
      "slideshow": {
       "slide_type": "slide"
      }
     },
     "source": [
      "Transpose"
     ]
    },
    {
     "cell_type": "markdown",
     "metadata": {},
     "source": [
      "<p>\n",
      "    The <b>transpose</b> of $m \\times n$ matrix $\\v{A}$, written $\\v{A}^T$, is the $n \\times m$ matrix in \n",
      "    which the first row of $\\v{A}$ becomes the first column of $\\v{A}^T$, the second row of $\\v{A}$ becomes \n",
      "    the second column of $\\v{B}$, and so on.\n",
      "</p>\n",
      "<ul>\n",
      "    <li>\n",
      "        $\\v{A}_{i,j}^T = \\v{A}_{j,i}$\n",
      "    </li>\n",
      "    <li>\n",
      "        E.g.\n",
      "        $$\\v{A} = \\begin{bmatrix}\n",
      "                2 & 4 & 0 \\\\\n",
      "                1 & 3 & 2\n",
      "              \\end{bmatrix}\n",
      "          \\v{A}^T = \\begin{bmatrix}\n",
      "                     2 & 1 \\\\\n",
      "                     4 & 3 \\\\\n",
      "                     0 & 2\n",
      "                    \\end{bmatrix}\n",
      "        $$\n",
      "    </li>\n",
      "    <li>\n",
      "        As a special case, if $\\v{x}$ is a $m$-dimensional column vector ($m \\times 1$), then $\\v{x}^T$ is a \n",
      "        $m$-dimensional row vector ($1 \\times m$), e.g.\n",
      "        $$\\v{x} = \\cv{2\\\\4\\\\3} \\v{x}^T = \\rv{2, 4, 3}$$\n",
      "    </li>\n",
      "</ul>\n",
      "<p>\n",
      "    numpy arrays offer easy ways to compute their transpose: either the transpose method or the T attribute:\n",
      "</p>"
     ]
    },
    {
     "cell_type": "code",
     "collapsed": false,
     "input": [
      "A = np.array([[2, 4, 0], [1, 3, 2]])\n",
      "\n",
      "# Transpose as a method\n",
      "# A.transpose()\n",
      "\n",
      "# Tranpose as an attribute\n",
      "A.T"
     ],
     "language": "python",
     "metadata": {},
     "outputs": [
      {
       "metadata": {},
       "output_type": "pyout",
       "prompt_number": 28,
       "text": [
        "array([[2, 1],\n",
        "       [4, 3],\n",
        "       [0, 2]])"
       ]
      }
     ],
     "prompt_number": 28
    },
    {
     "cell_type": "heading",
     "level": 1,
     "metadata": {
      "slideshow": {
       "slide_type": "slide"
      }
     },
     "source": [
      "Inverses and Identity Matrices"
     ]
    },
    {
     "cell_type": "markdown",
     "metadata": {},
     "source": [
      "<p>\n",
      "    The $n \\times n$ <b>identity matrix</b>, $\\v{I}_n$, contains zeros except for entries on the main diagonal\n",
      "    (from top left to bottom right).\n",
      "</p>\n",
      "<ul>\n",
      "    <li>\n",
      "        $\\v{I}_n[i,i] = 1$ for $i = 1,\\ldots,n$ and $\\v{I}_n[i,j] = 0$ for $i \\neq j$, e.g.\n",
      "        $$\\v{I}_3 = \\begin{bmatrix}\n",
      "                    1 & 0 & 0 \\\\\n",
      "                    0 & 1 & 0 \\\\\n",
      "                    0 & 0 & 1\n",
      "                    \\end{bmatrix}\n",
      "        $$\n",
      "    </li>\n",
      "    <li>\n",
      "        If $\\v{A}$ is an $m \\times n$ matrix then, $\\v{A}\\v{I}_n = \\v{I}_m\\v{A} = \\v{A}$\n",
      "    </li>\n",
      "</ul>\n",
      "<p>\n",
      "    If $\\v{A}$ is a $n \\times n$ matrix, then its <b>inverse</b>, $\\v{A}^{-1}$ (<em>if it has one</em>) is also \n",
      "    a $n \\times n$ matrix such that $\\v{A}\\v{A}^{-1} = \\v{I}_n$.\n",
      "</p>\n",
      "<ul>\n",
      "    <li>\n",
      "        $\\v{A} = \\begin{bmatrix}\n",
      "                    1 &  0 & 2 \\\\\n",
      "                    2 & -1 & 3 \\\\\n",
      "                    4 &  1 & 8\n",
      "                 \\end{bmatrix}\n",
      "         \\v{A}^{-1} = \\begin{bmatrix}\n",
      "                     -11 &  2 &  2 \\\\\n",
      "                      -4 &  0 &  1 \\\\\n",
      "                       6 & -1 & -1\n",
      "                      \\end{bmatrix}\n",
      "        $\n",
      "    </li>\n",
      "    <li>\n",
      "        Some $n \\times n$ matrices do not have inverses, e.g.\n",
      "        $$\\begin{bmatrix}\n",
      "            1 & 1 & 1 \\\\\n",
      "            1 & 1 & 1 \\\\\n",
      "            1 & 1 & 1\n",
      "           \\end{bmatrix}$$\n",
      "        In these cases, provided the matrix is square, you can compute a pseudo-inverse, which you can use \n",
      "        for <em>some</em> of the same purposes instead\n",
      "    </li>\n",
      "</ul>\n",
      "<p>\n",
      "    numpy.linalg offers function inv for computing inverses, but also function pinv for computing the \n",
      "    Moore-Penrose pseudo-inverse:\n",
      "</p>"
     ]
    },
    {
     "cell_type": "code",
     "collapsed": false,
     "input": [
      "import numpy.linalg as npla\n",
      "A = np.array([[1, 0, 2], [2, -1, 3], [4, 1, 8]])\n",
      "\n",
      "npla.inv(A)"
     ],
     "language": "python",
     "metadata": {},
     "outputs": [
      {
       "metadata": {},
       "output_type": "pyout",
       "prompt_number": 29,
       "text": [
        "array([[-11.,   2.,   2.],\n",
        "       [ -4.,   0.,   1.],\n",
        "       [  6.,  -1.,  -1.]])"
       ]
      }
     ],
     "prompt_number": 29
    },
    {
     "cell_type": "code",
     "collapsed": false,
     "input": [
      "npla.pinv(A)"
     ],
     "language": "python",
     "metadata": {},
     "outputs": [
      {
       "metadata": {},
       "output_type": "pyout",
       "prompt_number": 30,
       "text": [
        "array([[ -1.10000000e+01,   2.00000000e+00,   2.00000000e+00],\n",
        "       [ -4.00000000e+00,   1.42108547e-14,   1.00000000e+00],\n",
        "       [  6.00000000e+00,  -1.00000000e+00,  -1.00000000e+00]])"
       ]
      }
     ],
     "prompt_number": 30
    },
    {
     "cell_type": "code",
     "collapsed": false,
     "input": [
      "B = np.ones((3,3))\n",
      "\n",
      "npla.inv(B) # raises an exception"
     ],
     "language": "python",
     "metadata": {},
     "outputs": [
      {
       "ename": "LinAlgError",
       "evalue": "Singular matrix",
       "output_type": "pyerr",
       "traceback": [
        "\u001b[1;31m---------------------------------------------------------------------------\u001b[0m\n\u001b[1;31mLinAlgError\u001b[0m                               Traceback (most recent call last)",
        "\u001b[1;32m<ipython-input-31-68bf09415942>\u001b[0m in \u001b[0;36m<module>\u001b[1;34m()\u001b[0m\n\u001b[0;32m      1\u001b[0m \u001b[0mB\u001b[0m \u001b[1;33m=\u001b[0m \u001b[0mnp\u001b[0m\u001b[1;33m.\u001b[0m\u001b[0mones\u001b[0m\u001b[1;33m(\u001b[0m\u001b[1;33m(\u001b[0m\u001b[1;36m3\u001b[0m\u001b[1;33m,\u001b[0m\u001b[1;36m3\u001b[0m\u001b[1;33m)\u001b[0m\u001b[1;33m)\u001b[0m\u001b[1;33m\u001b[0m\u001b[0m\n\u001b[0;32m      2\u001b[0m \u001b[1;33m\u001b[0m\u001b[0m\n\u001b[1;32m----> 3\u001b[1;33m \u001b[0mnpla\u001b[0m\u001b[1;33m.\u001b[0m\u001b[0minv\u001b[0m\u001b[1;33m(\u001b[0m\u001b[0mB\u001b[0m\u001b[1;33m)\u001b[0m \u001b[1;31m# raises an exception\u001b[0m\u001b[1;33m\u001b[0m\u001b[0m\n\u001b[0m",
        "\u001b[1;32m/home/dgb/.virtualenvs/ai2/local/lib/python2.7/site-packages/numpy/linalg/linalg.pyc\u001b[0m in \u001b[0;36minv\u001b[1;34m(a)\u001b[0m\n\u001b[0;32m    518\u001b[0m     \u001b[0msignature\u001b[0m \u001b[1;33m=\u001b[0m \u001b[1;34m'D->D'\u001b[0m \u001b[1;32mif\u001b[0m \u001b[0misComplexType\u001b[0m\u001b[1;33m(\u001b[0m\u001b[0mt\u001b[0m\u001b[1;33m)\u001b[0m \u001b[1;32melse\u001b[0m \u001b[1;34m'd->d'\u001b[0m\u001b[1;33m\u001b[0m\u001b[0m\n\u001b[0;32m    519\u001b[0m     \u001b[0mextobj\u001b[0m \u001b[1;33m=\u001b[0m \u001b[0mget_linalg_error_extobj\u001b[0m\u001b[1;33m(\u001b[0m\u001b[0m_raise_linalgerror_singular\u001b[0m\u001b[1;33m)\u001b[0m\u001b[1;33m\u001b[0m\u001b[0m\n\u001b[1;32m--> 520\u001b[1;33m     \u001b[0mainv\u001b[0m \u001b[1;33m=\u001b[0m \u001b[0m_umath_linalg\u001b[0m\u001b[1;33m.\u001b[0m\u001b[0minv\u001b[0m\u001b[1;33m(\u001b[0m\u001b[0ma\u001b[0m\u001b[1;33m,\u001b[0m \u001b[0msignature\u001b[0m\u001b[1;33m=\u001b[0m\u001b[0msignature\u001b[0m\u001b[1;33m,\u001b[0m \u001b[0mextobj\u001b[0m\u001b[1;33m=\u001b[0m\u001b[0mextobj\u001b[0m\u001b[1;33m)\u001b[0m\u001b[1;33m\u001b[0m\u001b[0m\n\u001b[0m\u001b[0;32m    521\u001b[0m     \u001b[1;32mreturn\u001b[0m \u001b[0mwrap\u001b[0m\u001b[1;33m(\u001b[0m\u001b[0mainv\u001b[0m\u001b[1;33m.\u001b[0m\u001b[0mastype\u001b[0m\u001b[1;33m(\u001b[0m\u001b[0mresult_t\u001b[0m\u001b[1;33m)\u001b[0m\u001b[1;33m)\u001b[0m\u001b[1;33m\u001b[0m\u001b[0m\n\u001b[0;32m    522\u001b[0m \u001b[1;33m\u001b[0m\u001b[0m\n",
        "\u001b[1;32m/home/dgb/.virtualenvs/ai2/local/lib/python2.7/site-packages/numpy/linalg/linalg.pyc\u001b[0m in \u001b[0;36m_raise_linalgerror_singular\u001b[1;34m(err, flag)\u001b[0m\n\u001b[0;32m     88\u001b[0m \u001b[1;33m\u001b[0m\u001b[0m\n\u001b[0;32m     89\u001b[0m \u001b[1;32mdef\u001b[0m \u001b[0m_raise_linalgerror_singular\u001b[0m\u001b[1;33m(\u001b[0m\u001b[0merr\u001b[0m\u001b[1;33m,\u001b[0m \u001b[0mflag\u001b[0m\u001b[1;33m)\u001b[0m\u001b[1;33m:\u001b[0m\u001b[1;33m\u001b[0m\u001b[0m\n\u001b[1;32m---> 90\u001b[1;33m     \u001b[1;32mraise\u001b[0m \u001b[0mLinAlgError\u001b[0m\u001b[1;33m(\u001b[0m\u001b[1;34m\"Singular matrix\"\u001b[0m\u001b[1;33m)\u001b[0m\u001b[1;33m\u001b[0m\u001b[0m\n\u001b[0m\u001b[0;32m     91\u001b[0m \u001b[1;33m\u001b[0m\u001b[0m\n\u001b[0;32m     92\u001b[0m \u001b[1;32mdef\u001b[0m \u001b[0m_raise_linalgerror_nonposdef\u001b[0m\u001b[1;33m(\u001b[0m\u001b[0merr\u001b[0m\u001b[1;33m,\u001b[0m \u001b[0mflag\u001b[0m\u001b[1;33m)\u001b[0m\u001b[1;33m:\u001b[0m\u001b[1;33m\u001b[0m\u001b[0m\n",
        "\u001b[1;31mLinAlgError\u001b[0m: Singular matrix"
       ]
      }
     ],
     "prompt_number": 31
    },
    {
     "cell_type": "code",
     "collapsed": false,
     "input": [
      "npla.pinv(B)"
     ],
     "language": "python",
     "metadata": {},
     "outputs": [
      {
       "metadata": {},
       "output_type": "pyout",
       "prompt_number": 32,
       "text": [
        "array([[ 0.11111111,  0.11111111,  0.11111111],\n",
        "       [ 0.11111111,  0.11111111,  0.11111111],\n",
        "       [ 0.11111111,  0.11111111,  0.11111111]])"
       ]
      }
     ],
     "prompt_number": 32
    },
    {
     "cell_type": "heading",
     "level": 1,
     "metadata": {
      "slideshow": {
       "slide_type": "slide"
      }
     },
     "source": [
      "Vectorization"
     ]
    },
    {
     "cell_type": "markdown",
     "metadata": {},
     "source": [
      "<p>\n",
      "    Algorithms that might otherwise need for-loops can often be written much more succinctly by expressing them\n",
      "    in terms of matrix operations. More than this, if your programming language has efficient implementations of\n",
      "    these operations, the resulting programs can run much faster too. \n",
      "</p>\n",
      "<p>\n",
      "    Using fast matrix operations in this way is known as <b>vectorization</b>.\n",
      "</p>\n",
      "<p>\n",
      "    numpy's vectorized array operations, for example, are typically one or more orders of magnitude faster than their \n",
      "    pure Python equivalents.\n",
      "</p>\n",
      "<p>\n",
      "    Here are a few more examples.\n",
      "</p>"
     ]
    },
    {
     "cell_type": "heading",
     "level": 2,
     "metadata": {
      "slideshow": {
       "slide_type": "slide"
      }
     },
     "source": [
      "Evaluating a Linear Equation"
     ]
    },
    {
     "cell_type": "markdown",
     "metadata": {},
     "source": [
      "<p>\n",
      "    Suppose you have a linear equation, i.e. of this form:\n",
      "    $$y = \\v{\\beta}_1\\v{x}_1 + \\v{\\beta}_2\\v{x}_2 + \\ldots + \\v{\\beta}_n\\v{x}_n$$\n",
      "</p>\n",
      "<ul>\n",
      "    <li>\n",
      "        $\\ldots$ lots of little multiplications, all added together\n",
      "    </li>\n",
      "</ul>\n",
      "<p>\n",
      "    You know that this can be written in this form:\n",
      "    $$y = \\sum_{i=1}^n \\v{\\beta}_i\\v{x}_i$$\n",
      "    If you had to write code to implement this, you might be thinking of a for-loop.\n",
      "</p>\n",
      "<p>\n",
      "    But if we assume that $\\v{x}$ is an $n$-dimensional row vector and $\\v{\\beta}$ is an $n$-dimensional\n",
      "    column vector, then we can instead write the equation in this form:\n",
      "    $$y = \\v{x}\\v{\\beta}$$\n",
      "    and you can implement this with the numpy library's matrix multiplication method.\n",
      "</p>\n",
      "<p>\n",
      "    Let's make this more concrete. Suppose we have this linear equation:\n",
      "    $$y = 3\\v{x}_1 + 2\\v{x}_2 + 4\\v{x}_4$$\n",
      "    and we want to evaluate it for $\\v{x} = \\rv{5, 1, 3}$\n",
      "</p>\n",
      "<p>\n",
      "    We take the coefficients to give us $\\v{\\beta} = \\cv{3\\\\2\\\\4}$ and now we compute\n",
      "    $$y = \\rv{5, 1, 3}\\cv{3\\\\2\\\\4} = 29$$\n",
      "<p>\n",
      "    Let's see it in Python:\n",
      "</p>"
     ]
    },
    {
     "cell_type": "code",
     "collapsed": false,
     "input": [
      "beta = np.array([3, 2, 4])\n",
      "x = np.array([5, 1, 3])\n",
      "\n",
      "# Evaluate the linear equation - without a for-loop\n",
      "y = x.dot(beta)\n",
      "\n",
      "# Display y\n",
      "y"
     ],
     "language": "python",
     "metadata": {},
     "outputs": [
      {
       "metadata": {},
       "output_type": "pyout",
       "prompt_number": 33,
       "text": [
        "29"
       ]
      }
     ],
     "prompt_number": 33
    },
    {
     "cell_type": "heading",
     "level": 2,
     "metadata": {
      "slideshow": {
       "slide_type": "slide"
      }
     },
     "source": [
      "Evaluating a Linear Equation Multiple Times"
     ]
    },
    {
     "cell_type": "markdown",
     "metadata": {},
     "source": [
      "<p>\n",
      "    Suppose we want to evaluate the linear equation $y = \\v{\\beta}_1\\v{x}_1 + \\v{\\beta}_2\\v{x}_2 + \\ldots +\n",
      "    \\v{\\beta}_n\\v{x}_n$ on a number of different row vectors, first for $\\rv{5, 1, 3}$, then for $\\rv{2, 6, 2}$,\n",
      "    then for $\\rv{3, 3, 3}$, and finally for $\\rv{3, 3, 5}$. Maybe you're thinking of a for-loop again? \n",
      "</p>\n",
      "<p>\n",
      "    Instead, we put these different row vectors into a single matrix $\\v{X}$\n",
      "    $$\\v{X} = \\begin{bmatrix}\n",
      "                5 & 1 & 3 \\\\\n",
      "                2 & 6 & 2 \\\\\n",
      "                3 & 3 & 3 \\\\\n",
      "                3 & 3 & 5\n",
      "              \\end{bmatrix}\n",
      "    $$\n",
      "    And we simply evaluate\n",
      "    $$\\v{y} = \\v{X}\\v{\\beta}$$\n",
      "    $$\\v{y} = \\begin{bmatrix}\n",
      "                5 & 1 & 3 \\\\\n",
      "                2 & 6 & 2 \\\\\n",
      "                3 & 3 & 3 \\\\\n",
      "                3 & 3 & 5\n",
      "              \\end{bmatrix}\n",
      "          \\times \\cv{3\\\\2\\\\4} = \\cv{29\\\\ 26\\\\ 27\\\\ 35}\n",
      "    $$\n",
      "</p>\n",
      "<p>\n",
      "    Here it is in Python:\n",
      "</p>"
     ]
    },
    {
     "cell_type": "code",
     "collapsed": false,
     "input": [
      "beta = np.array([3, 2, 4])\n",
      "X = np.array([[5, 1, 3], [2, 6, 2], [3, 3, 3], [3, 3, 5]])\n",
      "\n",
      "# Evaluate the linear equation multiple times - without a for-loop!\n",
      "y = X.dot(beta)\n",
      "\n",
      "# Display y\n",
      "y"
     ],
     "language": "python",
     "metadata": {},
     "outputs": [
      {
       "metadata": {},
       "output_type": "pyout",
       "prompt_number": 34,
       "text": [
        "array([29, 26, 27, 35])"
       ]
      }
     ],
     "prompt_number": 34
    }
   ],
   "metadata": {}
  }
 ]
}