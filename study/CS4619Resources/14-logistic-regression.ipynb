{
 "cells": [
  {
   "cell_type": "markdown",
   "metadata": {
    "slideshow": {
     "slide_type": "slide"
    }
   },
   "source": [
    "# CS4619: Artificial Intelligence 2"
   ]
  },
  {
   "cell_type": "markdown",
   "metadata": {},
   "source": [
    "## Logistic Regression"
   ]
  },
  {
   "cell_type": "markdown",
   "metadata": {},
   "source": [
    "### Derek Bridge<br> School of Computer Science and Information Technology<br> University College Cork"
   ]
  },
  {
   "cell_type": "markdown",
   "metadata": {
    "slideshow": {
     "slide_type": "slide"
    }
   },
   "source": [
    "# Initialization $\\newcommand{\\Set}[1]{\\{#1\\}}$ $\\newcommand{\\Tuple}[1]{\\langle#1\\rangle}$ $\\newcommand{\\v}[1]{\\pmb{#1}}$ $\\newcommand{\\cv}[1]{\\begin{bmatrix}#1\\end{bmatrix}}$ $\\newcommand{\\rv}[1]{[#1]}$"
   ]
  },
  {
   "cell_type": "code",
   "execution_count": 1,
   "metadata": {
    "collapsed": false
   },
   "outputs": [],
   "source": [
    "%load_ext autoreload\n",
    "%autoreload 2\n",
    "%matplotlib inline"
   ]
  },
  {
   "cell_type": "code",
   "execution_count": 2,
   "metadata": {
    "collapsed": false
   },
   "outputs": [],
   "source": [
    "import pandas as pd\n",
    "import numpy as np\n",
    "import matplotlib.pyplot as plt"
   ]
  },
  {
   "cell_type": "markdown",
   "metadata": {
    "slideshow": {
     "slide_type": "slide"
    }
   },
   "source": [
    "# Logistic Regression"
   ]
  },
  {
   "cell_type": "markdown",
   "metadata": {},
   "source": [
    "<p>\n",
    "    <b>Logistic regression</b> is a popular method for classification. An important point is that, in\n",
    "    its conventional form, it can only be used for binary classification.\n",
    "</p>\n",
    "<p>\n",
    "    The hypotheses that logistic regression learns are ones that output numbers between 0 and 1. \n",
    "    We interpret these numbers as probabilities: \n",
    "    $h_{\\v{\\beta}}(\\v{x})$ is the probability that $\\v{x}$ belongs to class 1. In symbols:\n",
    "    $$h_{\\v{\\beta}}(\\v{x}) = P(y = 1 | \\v{x}; \\v{\\beta})$$\n",
    "    &mdash; the output of the hypothesis is the probability that $y = 1$ given $\\v{x}$ and parameters $\\v{\\beta}$.\n",
    "</p>\n",
    "<p>\n",
    "    Obviously, $1 - h_{\\v{\\beta}}(\\v{x})$ is the \n",
    "    probability that $\\v{x}$ belongs to class 0:\n",
    "    $$1 - h_{\\v{\\beta}}(\\v{x}) = P(y = 0 | \\v{x}; \\v{\\beta})$$\n",
    "    And thus you can see why logistic regression gives us a binary\n",
    "    classifier. If $h_{\\v{\\beta}}(\\v{x}) \\geq 0.5$, \n",
    "    we predict $\\hat{y} = 1$; when $h_{\\v{\\beta}}(\\v{x}) < 0.5$, we predict $\\hat{y} = 0$.\n",
    "</p>\n",
    "<p>\n",
    "    By the way, it is because logistic regressors predicts\n",
    "    probabilities (numbers) that they are related to regression. \n",
    "</p>"
   ]
  },
  {
   "cell_type": "markdown",
   "metadata": {
    "slideshow": {
     "slide_type": "slide"
    }
   },
   "source": [
    "# The Hypotheses for Logistic Regression"
   ]
  },
  {
   "cell_type": "markdown",
   "metadata": {},
   "source": [
    "<p>\n",
    "    In Linear Regression, each hypothesis $h_{\\v{\\beta}}$ was of the form \n",
    "    $$h_{\\v{\\beta}}(\\v{x}) = \\v{\\beta}_0 + \\v{\\beta}_1\\v{x}_1 + \\v{\\beta}_2\\v{x}_2 + \\ldots + \\v{\\beta}_n\\v{x}_n$$\n",
    "    Can we use this kind of model to predict probabilities?\n",
    "</p>\n",
    "<p>\n",
    "    Suppose we use OLS Linear Regression to learn a model of the above form on the CS1109 dataset. \n",
    "    So that we can have a 2D visualisation, I'll use only one of the features ($\\mathit{lab}$).\n",
    "    The blue line is the best fit to the dataset:\n",
    "</p>"
   ]
  },
  {
   "cell_type": "code",
   "execution_count": 3,
   "metadata": {
    "collapsed": false
   },
   "outputs": [
    {
     "data": {
      "image/png": "[encoded data removed]",
      "text/plain": [
       "<matplotlib.figure.Figure at 0x7f27f69a7fd0>"
      ]
     },
     "metadata": {},
     "output_type": "display_data"
    }
   ],
   "source": [
    "from sklearn import linear_model\n",
    "\n",
    "# Read CSV file\n",
    "df = pd.read_csv(\"dataset-cs1109.csv\")\n",
    "\n",
    "# Get the feature-values into a separate numpy arrays of numbers and the target values into a separate \n",
    "# numpy arrays of ints\n",
    "X = df[['lab']].values\n",
    "y = df['outcome'].values\n",
    "\n",
    "estimator = linear_model.LinearRegression()\n",
    "estimator.fit(X, y)\n",
    "\n",
    "def f_learned(lab):\n",
    "    return estimator.intercept_ + estimator.coef_ * lab\n",
    "\n",
    "fig = plt.figure()\n",
    "plt.title(\"Training set and learned model\")\n",
    "plt.xlabel(\"Lab attendance (%)\")\n",
    "plt.xlim(0, 100)\n",
    "plt.ylabel(\"Probability\")\n",
    "plt.ylim(-0.5, 1.5)\n",
    "xvals = np.linspace(0, 100, 2)\n",
    "plt.plot(xvals, f_learned(xvals), color = 'blue')\n",
    "plt.scatter(X, y, color = 'green')\n",
    "plt.plot([0, 100], [0.5, 0.5], linestyle = 'dotted', color = 'gray')\n",
    "plt.show()"
   ]
  },
  {
   "cell_type": "markdown",
   "metadata": {},
   "source": [
    "<p>\n",
    "    Question:\n",
    "</p>\n",
    "<ul>\n",
    "    <li>What's the problem?</li>\n",
    "</ul>\n",
    "<p>\n",
    "    To represent hypotheses that output values between 0 and 1, we modify the above to this:\n",
    "    $$h_{\\v{\\beta}}(\\v{x}) = g(\\v{\\beta}_0 + \\v{\\beta}_1\\v{x}_1 + \\v{\\beta}_2\\v{x}_2 + \\ldots + \\v{\\beta}_n\\v{x}_n)$$\n",
    "    where\n",
    "    $$g(z) = \\frac{1}{1 + e^{-z}}$$\n",
    "</p>\n",
    "<p>\n",
    "    $g$ is called the <b>logistic function</b> or <b>sigmoid function</b>. Plotted, it is kind of s-shaped, asymptotically\n",
    "    approaching 0 and 1:\n",
    "</p>"
   ]
  },
  {
   "cell_type": "code",
   "execution_count": 4,
   "metadata": {
    "collapsed": false
   },
   "outputs": [
    {
     "data": {
      "image/png": "[encoded data removed]",
      "text/plain": [
       "<matplotlib.figure.Figure at 0x7f27f69a75d0>"
      ]
     },
     "metadata": {},
     "output_type": "display_data"
    }
   ],
   "source": [
    "import math\n",
    "\n",
    "def g(z):\n",
    "    return 1 / (1 + math.exp(-z))\n",
    "\n",
    "fig = plt.figure()\n",
    "plt.title(\"Sigmoid function\")\n",
    "plt.xlabel(\"z\")\n",
    "plt.xlim(-10, 10)\n",
    "plt.ylabel(\"$g(z)$\")\n",
    "plt.ylim(0.0, 1.0)\n",
    "xvals = np.linspace(-10, 10, 21)\n",
    "plt.plot(xvals, [g(xval) for xval in xvals], color = 'red')\n",
    "plt.show()"
   ]
  },
  {
   "cell_type": "markdown",
   "metadata": {
    "slideshow": {
     "slide_type": "slide"
    }
   },
   "source": [
    "## The Decision Boundary for Logistic Regression"
   ]
  },
  {
   "cell_type": "markdown",
   "metadata": {},
   "source": [
    "<p>\n",
    "    You can see from the plot of the sigmoid function above that $g(z) \\geq 0.5$ when $z \\geq 0$.\n",
    "</p>\n",
    "<ul>\n",
    "    <li>\n",
    "        Q: So, when will the classifier predict $\\hat{y} = 1$?\n",
    "        <ul>\n",
    "            <li>\n",
    "                A: Whenever the output of the hypothesis $h_{\\v{\\beta}} \\geq 0.5$\n",
    "            </li>\n",
    "            <li>\n",
    "                In other words, whenever $g(\\v{\\beta}_0 + \\v{\\beta}_1\\v{x}_1 + \\v{\\beta}_2\\v{x}_2 + \\ldots \n",
    "                + \\v{\\beta}_n\\v{x}_n) \\geq 0.5$.\n",
    "            </li>\n",
    "            <li>\n",
    "                Q: And when will this occur?\n",
    "            </li>\n",
    "            <li>\n",
    "                A: Given what we just said about $g$, it will occur whenever \n",
    "                $\\v{\\beta}_0 + \\v{\\beta}_1\\v{x}_1 + \\v{\\beta}_2\\v{x}_2 + \\ldots + \\v{\\beta}_n\\v{x}_n \\geq 0$.\n",
    "            </li>\n",
    "            <li>\n",
    "                Or, in other words, whenever \n",
    "                $\\v{\\beta}_1\\v{x}_1 + \\v{\\beta}_2\\v{x}_2 + \\ldots + \\v{\\beta}_n\\v{x}_n \\geq -\\v{\\beta}_0$.\n",
    "            </li>\n",
    "        </ul>\n",
    "    </li>\n",
    "    <li>\n",
    "        Q: And when will the classifier predict $\\hat{y} = 0$?\n",
    "        <ul>\n",
    "            <li>\n",
    "                A: By similar reasoning, whenever\n",
    "                $\\v{\\beta}_0 + \\v{\\beta}_1\\v{x}_1 + \\v{\\beta}_2\\v{x}_2 + \\ldots + \\v{\\beta}_n\\v{x}_n < 0$.\n",
    "            </li>\n",
    "            <li>\n",
    "                Or, in other words, whenever \n",
    "                $\\v{\\beta}_1\\v{x}_1 + \\v{\\beta}_2\\v{x}_2 + \\ldots + \\v{\\beta}_n\\v{x}_n < -\\v{\\beta}_0$.\n",
    "            </li>\n",
    "        </ul>\n",
    "    </li>\n",
    "</ul>\n",
    "<p>\n",
    "    Let's use the CS1109 dataset to make this concrete and, so that we can plot in 2D, we will consider only two\n",
    "    of its features, $\\mathit{lect}$ (which we will designate $\\v{x}_1$) and $\\mathit{lab}$ (which we will designate\n",
    "    $\\v{x}_2$).\n",
    "    Here we plot each example in the dataset, using a green plus symbol if the student passed ($y = 1$) and a \n",
    "    red 'x' if the student failed ($y = 0$).\n",
    "</p>\n",
    "<p>\n",
    "    We will additionally draw a blue line to help us visualize a hypothesis, $h_{\\v{\\beta}}$. From the reasoning\n",
    "    above, we know that a hypotheses predicts $\\hat{y} = 1$ if $\\v{\\beta}_0 + \\v{\\beta}_1\\v{x}_1 + \\v{\\beta}_2\\v{x}_2 \\geq 0$,\n",
    "    and it predicts $\\hat{y} = 0$ if $\\v{\\beta}_0 + \\v{\\beta}_1\\v{x}_1 + \\v{\\beta}_2\\v{x}_2 < 0$. So We'll plot\n",
    "    the straight line $\\v{\\beta}_0 + \\v{\\beta}_1\\v{x}_1 + \\v{\\beta}_2\\v{x}_2 = 0$ (or $\\v{x}_2 = -\\frac{\\v{\\beta}_0}{\\v{\\beta}_2} - \\frac{\\v{\\beta}_1\\v{x}_1}{\\v{\\beta}_2}$). You can play with the values of\n",
    "    $\\v{\\beta}$ to see different hypotheses. Obviously, we must use a learning algorithm to find the best values.\n",
    "</p>"
   ]
  },
  {
   "cell_type": "code",
   "execution_count": 5,
   "metadata": {
    "collapsed": false
   },
   "outputs": [
    {
     "data": {
      "image/png": "[encoded data removed]",
      "text/plain": [
       "<matplotlib.figure.Figure at 0x7f27ec915990>"
      ]
     },
     "metadata": {},
     "output_type": "display_data"
    }
   ],
   "source": [
    "lect_values = df[['lect']].values\n",
    "lab_values = df[['lab']].values\n",
    "y = df['outcome'].values\n",
    "\n",
    "# Play with these three:\n",
    "beta0 = 90\n",
    "beta1 = -0.5\n",
    "beta2 = -0.8\n",
    "\n",
    "def h(x1):\n",
    "    return (-beta0 - beta1 * x1) * 1.0 / beta2\n",
    "\n",
    "fig = plt.figure(figsize=(5,5))\n",
    "plt.title(\"Training set and decision boundary\")\n",
    "plt.xlabel(\"Lect attendance (%)\")\n",
    "plt.xlim(0, 100)\n",
    "plt.ylabel(\"Lab attendance (%)\")\n",
    "plt.ylim(0, 100)\n",
    "xvals = np.array([0, 100])\n",
    "plt.plot(xvals, h(xvals), color = 'blue')\n",
    "for outcome, marker, colour in zip([0,1], \"x+\", \"rg\"):\n",
    "    plt.scatter(lect_values[y == outcome], lab_values[y == outcome], c = colour, marker = marker)\n",
    "plt.show()"
   ]
  },
  {
   "cell_type": "markdown",
   "metadata": {},
   "source": [
    "<p>\n",
    "    This straight blue line, given to us by our hypothesis, is called the <b>decision boundary</b>.\n",
    "    Above the blue line, the hypotheses predicts $\\hat{y} = 1$; below it, it predicts $\\hat{y} = 0$.\n",
    "    Of course, in general, with more than two features it is not a straight line it is a plane (3 features) or\n",
    "    a hyperplane (arbitrary number of features).\n",
    "</p>"
   ]
  },
  {
   "cell_type": "markdown",
   "metadata": {
    "slideshow": {
     "slide_type": "slide"
    }
   },
   "source": [
    "# The Loss Function for Logistic Regression"
   ]
  },
  {
   "cell_type": "markdown",
   "metadata": {},
   "source": [
    "<p>\n",
    "    We cannot use the same loss function that we used for linear regression, i.e.\n",
    "    $$J_{\\v{\\beta}}(\\v{X}, \\v{y}) = \\frac{1}{2m}\\sum_{i=1}^m(h_{\\v{\\beta}}(\\v{x}^{i)}) - \\v{y}^{(i)})^2$$\n",
    "    It would be comparing the wrong kinds of things! In logistic regression,\n",
    "    $h_{\\v{\\beta}}(\\v{x}^{i)})$ is a probability (the probability\n",
    "    that $\\hat{\\v{y}}^{(i)} = 1$), whereas $\\v{y}^{(i)}$ is the actual class of example $i$.\n",
    "    It does not make sense to subtract one from the other.\n",
    "</p>\n",
    "<p>\n",
    "    Furthermore, because of the way that $h_{\\v{\\beta}}$ is defined (using the sigmoid function), this loss function\n",
    "    is not convex. It can have local minima. So we would need to use a search technique that did not assume that\n",
    "    the first minimum that it found was the gloabl minimum.\n",
    "    Better is to define a different loss function &mdash; one that <em>is</em> convex.\n",
    "</p>\n",
    "<p>\n",
    "    This is the loss function that we will use:\n",
    "    $$J_{\\v{\\beta}}(\\v{X}, \\v{y}) = \\frac{1}{m}\\sum_{i=1}^m(-\\v{y}^{(i)}\\log(h_{\\v{\\beta}}(\\v{x}^{(i)}))\n",
    "    - (1 - \\v{y}^{(i)})\\log(1 - h_{\\v{\\beta}}(\\v{x}^{(i)})))$$\n",
    "</p>\n",
    "<p>\n",
    "    For each example $\\v{x}^{(i)}$, the loss function computes:\n",
    "    $$-\\v{y}^{(i)}\\log(h_{\\v{\\beta}}(\\v{x}^{(i)})) - (1 - \\v{y}^{(i)})\\log(1 - h_{\\v{\\beta}}(\\v{x}^{(i)}))$$\n",
    "</p>\n",
    "<p>\n",
    "    First, consider the case where $\\v{y}^{(i)} = 1$. Then the above simplifies to:\n",
    "    $$-\\log(h_{\\v{\\beta}}(\\v{x}^{(i)}))$$\n",
    "    Let's plot this for different values of $h_{\\v{\\beta}}(\\v{x}^{(i)})$:\n",
    "</p>"
   ]
  },
  {
   "cell_type": "code",
   "execution_count": 6,
   "metadata": {
    "collapsed": false
   },
   "outputs": [
    {
     "data": {
      "image/png": "[encoded data removed]",
      "text/plain": [
       "<matplotlib.figure.Figure at 0x7f27ec8d2450>"
      ]
     },
     "metadata": {},
     "output_type": "display_data"
    }
   ],
   "source": [
    "fig = plt.figure()\n",
    "plt.title(\"if $y = 1$\")\n",
    "plt.xlabel(\"$h$\")\n",
    "plt.xlim(0, 1)\n",
    "plt.ylabel(\"$J$\")\n",
    "xvals = np.linspace(0.01, 1, 99)\n",
    "plt.plot(xvals, [-math.log(xval) for xval in xvals], color = 'red')\n",
    "plt.show()"
   ]
  },
  {
   "cell_type": "markdown",
   "metadata": {},
   "source": [
    "<p>\n",
    "    Remember that $h_{\\v{\\beta}}(\\v{x}^{(i)})$ is a probability &mdash; the probability that $\\hat{\\v{y}}^{(i)} = 1$.\n",
    "</p>\n",
    "<p>\n",
    "    We see that, when $h_{\\v{\\beta}}(\\v{x}^{(i)}) = 1$ (so it is predicting $\\hat{\\v{y}}^{(i)} = 1$ with absolute certainty),\n",
    "    and $\\v{y}^{(i)} = 1$, the hypothesis is correct, and the loss is zero.\n",
    "</p>\n",
    "<p>\n",
    "    But when $h_{\\v{\\beta}}(\\v{x}^{(i)}) \\rightarrow 0$ (so it is very certain that $\\hat{\\v{y}}^{(i)} \\neq 1$) and yet \n",
    "    $\\v{y}^{(i)} = 1$, the hypothesis\n",
    "    is very wrong, and we see that the loss $\\rightarrow \\infty$.\n",
    "</p>\n",
    "<p>\n",
    "    Next, consider the case when $\\v{y}^{(i)} = 0$. The formula this time simplifies to:\n",
    "    $$-(\\log(1 - h_{\\v{\\beta}}(\\v{x}^{(i)}))$$\n",
    "    which, for different values of $h_{\\v{\\beta}}(\\v{x}^{(i)})$, looks like this:\n",
    "</p>"
   ]
  },
  {
   "cell_type": "code",
   "execution_count": 7,
   "metadata": {
    "collapsed": false
   },
   "outputs": [
    {
     "data": {
      "image/png": "[encoded data removed]",
      "text/plain": [
       "<matplotlib.figure.Figure at 0x7f27f69983d0>"
      ]
     },
     "metadata": {},
     "output_type": "display_data"
    }
   ],
   "source": [
    "fig = plt.figure()\n",
    "plt.title(\"if $y = 0$\")\n",
    "plt.xlabel(\"$h$\")\n",
    "plt.xlim(0, 1)\n",
    "plt.ylabel(\"$J$\")\n",
    "xvals = np.linspace(0, 0.99, 99)\n",
    "plt.plot(xvals, [-math.log(1 - xval) for xval in xvals], color = 'red')\n",
    "plt.show()"
   ]
  },
  {
   "cell_type": "markdown",
   "metadata": {},
   "source": [
    "<p>\n",
    "    Here, when $h_{\\v{\\beta}}(\\v{x}) = 0$ (so it is predicting $\\hat{\\v{y}}^{(i)} \\neq 1$ with absolute certainty),\n",
    "    and $\\v{y}^{(i)} = 0$, the hypothesis is correct, and the loss is zero.\n",
    "</p>\n",
    "<p>\n",
    "    But when $h_{\\v{\\beta}}(\\v{x}) \\rightarrow 1$ (so it is very certain that $\\hat{\\v{y}}^{(i)} = 1$) and yet \n",
    "    $\\v{y}^{(i)} = 0$, the hypothesis\n",
    "    is very wrong, and we see that the loss $\\rightarrow \\infty$.\n",
    "</p>\n",
    "<p>\n",
    "    So that's our loss function! You might see it written like this:\n",
    "    $$J_{\\v{\\beta}}(\\v{X}, \\v{y}) = -\\frac{1}{m}\\sum_{i=1}^m(\\v{y}^{(i)}\\log(h_{\\v{\\beta}}(\\v{x}^{(i)}))\n",
    "    + (1 - \\v{y}^{(i)})\\log(1 - h_{\\v{\\beta}}(\\v{x}^{(i)})))$$\n",
    "    where we bring the minus sign outside.\n",
    "    In any case, the key point is: this loss function <em>is</em> convex.\n",
    "</p>"
   ]
  },
  {
   "cell_type": "markdown",
   "metadata": {
    "slideshow": {
     "slide_type": "slide"
    }
   },
   "source": [
    "# Gradient Descent for Logistic Regression"
   ]
  },
  {
   "cell_type": "markdown",
   "metadata": {},
   "source": [
    "<p>\n",
    "    Now we need a method for finding parameters $\\v{\\beta}$ that minimise the loss function that we defined above. \n",
    "    There is no equivalent to the normal equations that we used for OLS linear regression. So an iterative process\n",
    "    must be used instead.\n",
    "    We will illustrate with\n",
    "    gradient descent. For this we need to take the partial derivatives of the loss function with respect to each\n",
    "    $\\v{\\beta}_j$. Without going into the details, this is what we get:\n",
    "    $$\\frac{\\partial J_{\\v{\\beta}}}{\\partial\\v{\\beta}_j} =\n",
    "    \\frac{1}{m}\\sum_{i=1}^m(h_{\\v{\\beta}}(\\v{x}^{(i)}) - \\v{y}^{(i)}) \\times \\v{x}_j^{(i)}$$\n",
    "    This looks identical to what we had for linear regression! But remember, they use different\n",
    "    definitions of $h_{\\v{\\beta}}$.\n",
    "</p>\n",
    "<p>\n",
    "    All that remain is to plug this derivative into the update rules.\n",
    "</p>\n",
    "<p>\n",
    "    Here's my implementation:\n",
    "</p>"
   ]
  },
  {
   "cell_type": "code",
   "execution_count": 8,
   "metadata": {
    "collapsed": false
   },
   "outputs": [],
   "source": [
    "import numpy as np\n",
    "\n",
    "def g(z):\n",
    "    return 1 / (1 + np.exp(-z))\n",
    "\n",
    "def J(beta, X, y):\n",
    "    \"\"\"\n",
    "    Loss function for logistic regression\n",
    "    \"\"\"\n",
    "    h = g(X.dot(beta))\n",
    "    losses = y * np.log(h) + (1 - y) * np.log(1 - h)\n",
    "    return - (1.0 / y.size) * losses.sum()\n",
    "\n",
    "def gds_for_logistic_regression(X, y, alpha, num_iterations):\n",
    "    \"\"\"\n",
    "    Gradient descent search for logistic regression.\n",
    "    alpha is the learning rate.\n",
    "    num_iterations is the numer of updates - instead of a better definition of convergence.\n",
    "    It returns parameters beta and also a numpy array of size num_iterations, containing\n",
    "    the value of the loss function, J, after each iteration - so you can plot it.\n",
    "    \"\"\"\n",
    "\n",
    "    Jvals = np.zeros(num_iterations)\n",
    "    m, n = X.shape\n",
    "    beta = np.zeros(n)\n",
    "    \n",
    "    for iter in range(num_iterations):\n",
    "        beta -= (1.0 * alpha / m) * (X.dot(beta) - y).dot(X)\n",
    "        Jvals[iter] = J(beta, X, y)\n",
    " \n",
    "    return beta, Jvals"
   ]
  },
  {
   "cell_type": "markdown",
   "metadata": {},
   "source": [
    "<p>\n",
    "    As before, if the features have very different ranges, scaling can make it easier to find a good value for learning\n",
    "    rate $\\alpha$. So let's run it on the full but scaled CS1109 dataset:\n",
    "</p>"
   ]
  },
  {
   "cell_type": "code",
   "execution_count": 9,
   "metadata": {
    "collapsed": false
   },
   "outputs": [
    {
     "data": {
      "text/plain": [
       "array([-0.57112012,  0.3346734 ,  0.76213808,  0.61747532])"
      ]
     },
     "execution_count": 9,
     "metadata": {},
     "output_type": "execute_result"
    }
   ],
   "source": [
    "# Read CSV file\n",
    "df = pd.read_csv(\"dataset-cs1109.csv\")\n",
    "\n",
    "# Insert the extra feature (all ones)\n",
    "df.insert(loc=0, column='ones', value=1)\n",
    "\n",
    "# lect, where min = 0 and max = 100 (it's a percentage)\n",
    "# Subtract the min\n",
    "# df['lect'] -= 0\n",
    "# Divide by the range, i.e. max - min\n",
    "df['lect'] /= 100\n",
    "\n",
    "# lab, where min = 0 and max = 100 (it's a percentage)\n",
    "# Subtract the min\n",
    "# df['lab'] -= 0\n",
    "# Divide by the range, i.e. max - min\n",
    "df['lab'] /= 100\n",
    "\n",
    "# cao, where min = 200 and max = 600\n",
    "# Subtract the min\n",
    "df['cao'] -= 200\n",
    "# Divide by the range, i.e. max - min\n",
    "df['cao'] /= 400\n",
    "\n",
    "# Get the feature-values into a separate numpy arrays of numbers and the target values into a separate \n",
    "# numpy arrays of ints\n",
    "X = df[['ones', 'lect', 'lab', 'cao']].values\n",
    "y = df['outcome'].values\n",
    "\n",
    "# Run the GDS\n",
    "beta, Jvals = gds_for_logistic_regression(X, y, alpha = 0.03, num_iterations = 4000)\n",
    "\n",
    "# Display beta\n",
    "beta"
   ]
  },
  {
   "cell_type": "markdown",
   "metadata": {},
   "source": [
    "<p>\n",
    "    From the values of $\\v{\\beta}$, we see that lab attendance is the key to passing CS1109.\n",
    "</p>\n",
    "<p>\n",
    "    Here's a plot of the loss function over the iterations of the gradient descent:\n",
    "</p>"
   ]
  },
  {
   "cell_type": "code",
   "execution_count": 10,
   "metadata": {
    "collapsed": false
   },
   "outputs": [
    {
     "data": {
      "image/png": "[encoded data removed]",
      "text/plain": [
       "<matplotlib.figure.Figure at 0x7f27ec8d2b50>"
      ]
     },
     "metadata": {},
     "output_type": "display_data"
    }
   ],
   "source": [
    "# Plot J\n",
    "fig = plt.figure(figsize=(8,6))\n",
    "plt.title(\"$J$ during learning\")\n",
    "plt.xlabel(\"Number of iterations\")\n",
    "plt.xlim(1, Jvals.size)\n",
    "plt.ylabel(\"$J$\")\n",
    "plt.scatter(np.linspace(1, Jvals.size, Jvals.size), Jvals)\n",
    "plt.show()"
   ]
  },
  {
   "cell_type": "markdown",
   "metadata": {
    "slideshow": {
     "slide_type": "slide"
    }
   },
   "source": [
    "# Logistic Regression in Practice"
   ]
  },
  {
   "cell_type": "markdown",
   "metadata": {},
   "source": [
    "<p>\n",
    "   Obviously, you don't need my code for gradient descent. You would use scikit-learn's LogisticRegression class:\n",
    "</p>"
   ]
  },
  {
   "cell_type": "code",
   "execution_count": 11,
   "metadata": {
    "collapsed": false
   },
   "outputs": [
    {
     "name": "stdout",
     "output_type": "stream",
     "text": [
      "('Intercept: ', array([-3.82898815]))\n",
      "('Coefficients: ', array([[ 1.58693859,  2.78235082,  1.69690614]]))\n"
     ]
    },
    {
     "data": {
      "text/plain": [
       "array([0])"
      ]
     },
     "execution_count": 11,
     "metadata": {},
     "output_type": "execute_result"
    }
   ],
   "source": [
    "from sklearn.linear_model import LogisticRegression\n",
    "\n",
    "# Read CSV file\n",
    "df = pd.read_csv(\"dataset-cs1109.csv\")\n",
    "\n",
    "# lect, where min = 0 and max = 100 (it's a percentage)\n",
    "# Subtract the min\n",
    "# df['lect'] -= 0\n",
    "# Divide by the range, i.e. max - min\n",
    "df['lect'] /= 100\n",
    "\n",
    "# lab, where min = 0 and max = 100 (it's a percentage)\n",
    "# Subtract the min\n",
    "# df['lab'] -= 0\n",
    "# Divide by the range, i.e. max - min\n",
    "df['lab'] /= 100\n",
    "\n",
    "# cao, where min = 200 and max = 600\n",
    "# Subtract the min\n",
    "df['cao'] -= 200\n",
    "# Divide by the range, i.e. max - min\n",
    "df['cao'] /= 400\n",
    "\n",
    "# Get the feature-values into a separate numpy arrays of numbers and the target values into a separate \n",
    "# numpy arrays of ints\n",
    "X = df[['lect', 'lab', 'cao']].values\n",
    "y = df['outcome'].values\n",
    "\n",
    "estimator = LogisticRegression()\n",
    "estimator.fit(X, y)\n",
    "\n",
    "# Print the parameters that it learns\n",
    "print('Intercept: ', estimator.intercept_)\n",
    "print('Coefficients: ', estimator.coef_)\n",
    "\n",
    "estimator.predict([[0.6, 0.45, 0.75]])"
   ]
  },
  {
   "cell_type": "markdown",
   "metadata": {},
   "source": [
    "<p>\n",
    "    Some observations about this:\n",
    "</p>\n",
    "<ul>\n",
    "    <li>\n",
    "        scikit-learn's LogisticRegression does not use gradient descent. It uses a method called 'coordinate descent'.\n",
    "        This and other advanced methods are often faster than gradient descent and avoid the need to pick a learning rate.\n",
    "    </li>\n",
    "    <li>\n",
    "        scikit-learn's LogisticRegression automatically handles multiclass classification. \n",
    "        There is, in fact, a variation of logistic regression known as 'multinomial regression', which extends logistic\n",
    "        regression to multiclass classification, but this is not what scikit-learn uses. It uses One-versus-Rest.\n",
    "    </li>\n",
    "    <li>\n",
    "        scikit-learn's LogisticRegression always uses regularization.\n",
    "        Its default is to use the $\\cal{l}_2$-norm. We'll look at how to change this in a future lecture.\n",
    "    </li>\n",
    "</ul>"
   ]
  }
 ],
 "metadata": {
  "kernelspec": {
   "display_name": "Python 2",
   "language": "python",
   "name": "python2"
  },
  "language_info": {
   "codemirror_mode": {
    "name": "ipython",
    "version": 2
   },
   "file_extension": ".py",
   "mimetype": "text/x-python",
   "name": "python",
   "nbconvert_exporter": "python",
   "pygments_lexer": "ipython2",
   "version": "2.7.9"
  }
 },
 "nbformat": 4,
 "nbformat_minor": 0
}
