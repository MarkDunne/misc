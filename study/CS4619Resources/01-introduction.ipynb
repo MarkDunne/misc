{
 "metadata": {
  "name": "",
  "signature": "sha256:33d714c5f516468f82af7ce638f850437c8ddab76801b77f10e44b0a9f01b572"
 },
 "nbformat": 3,
 "nbformat_minor": 0,
 "worksheets": [
  {
   "cells": [
    {
     "cell_type": "heading",
     "level": 1,
     "metadata": {
      "slideshow": {
       "slide_type": "slide"
      }
     },
     "source": [
      "CS4619: Artificial Intelligence 2"
     ]
    },
    {
     "cell_type": "heading",
     "level": 2,
     "metadata": {},
     "source": [
      "Introduction"
     ]
    },
    {
     "cell_type": "heading",
     "level": 3,
     "metadata": {},
     "source": [
      "Derek Bridge<br>\n",
      "School of Computer Science and Information Technology<br>\n",
      "University College Cork"
     ]
    },
    {
     "cell_type": "heading",
     "level": 1,
     "metadata": {
      "slideshow": {
       "slide_type": "slide"
      }
     },
     "source": [
      "Initialization\n",
      "$\\newcommand{\\Set}[1]{\\{#1\\}}$\n",
      "$\\newcommand{\\Tuple}[1]{\\langle#1\\rangle}$\n",
      "$\\newcommand{\\v}[1]{\\pmb{#1}}$\n",
      "$\\newcommand{\\cv}[1]{\\begin{bmatrix}#1\\end{bmatrix}}$\n",
      "$\\newcommand{\\rv}[1]{[#1]}$"
     ]
    },
    {
     "cell_type": "code",
     "collapsed": false,
     "input": [
      "%reload_ext autoreload\n",
      "%autoreload 2\n",
      "%matplotlib inline"
     ],
     "language": "python",
     "metadata": {},
     "outputs": [],
     "prompt_number": 1
    },
    {
     "cell_type": "code",
     "collapsed": false,
     "input": [
      "import pandas as pd\n",
      "import numpy as np\n",
      "import matplotlib.pyplot as plt"
     ],
     "language": "python",
     "metadata": {},
     "outputs": [],
     "prompt_number": 2
    },
    {
     "cell_type": "heading",
     "level": 1,
     "metadata": {
      "slideshow": {
       "slide_type": "slide"
      }
     },
     "source": [
      "About this Module"
     ]
    },
    {
     "cell_type": "markdown",
     "metadata": {},
     "source": [
      "<table>\n",
      "    <tr>\n",
      "        <th>Lecturer:</th>\n",
      "        <td>Derek Bridge, Room G-61, Western Gateway Building<br />\n",
      "            d stop bridge amphora cs plip ucc plop ie<br />\n",
      "            <a href=\"http://www.cs.ucc.ie/dbridge.html\">www.cs.ucc.ie/dbridge.html</a>\n",
      "        </td>\n",
      "    </tr>\n",
      "    <tr>\n",
      "        <th>Credit weighting:</th>\n",
      "        <td>5 credit <em>optional</em> module</td>\n",
      "    </tr>\n",
      "    <tr>\n",
      "        <th>Prerequisites:</th>\n",
      "        <td>Precision of thought<br />\n",
      "            We will use: matrices, vectors, calculus, probabilities, Python\n",
      "        </td>\n",
      "    </tr>\n",
      "    <tr>\n",
      "        <th>Lectures:</th>\n",
      "        <td>2 &times; 1 hr per week</td>\n",
      "    </tr>\n",
      "    <tr>\n",
      "        <th>Labs:</th>\n",
      "        <td>1 &times; 2 hr per week</td>\n",
      "    </tr>\n",
      "    <tr>\n",
      "        <th>Private study:</th>\n",
      "        <td>At least 2 hrs per week</td>\n",
      "    </tr>\n",
      "    <tr>\n",
      "        <th>Course web site:</th>\n",
      "        <td><a href=\"http://www.cs.ucc.ie/~dgb/courses/ai2.html\">www.cs.ucc.ie/~dgb/courses/ai2.html</a></td>\n",
      "    <tr>\n",
      "    <tr>\n",
      "        <th>Examination:</th>\n",
      "        <td>1.5 hr written exam (80% of the marks)</td>\n",
      "    </tr>\n",
      "    <tr>\n",
      "        <th>Continuous assessment:</th>\n",
      "        <td>Open-book programming class test (20% of the marks)</td>\n",
      "    </tr>\n",
      "    <tr>\n",
      "        <th>How to fail:</th>\n",
      "        <td>Skip lectures &amp; labs; avoid private study; cram at Easter; expect the exam to be a memory test</td>\n",
      "    </tr>\n",
      "    <tr>\n",
      "        <th>How to pass:</th>\n",
      "        <td>Attend lectures &amp; labs; summarize the notes; tackle the lab activities properly; expect a problem-solving exam</td>\n",
      "    </tr>\n",
      "</table>"
     ]
    },
    {
     "cell_type": "heading",
     "level": 1,
     "metadata": {
      "slideshow": {
       "slide_type": "slide"
      }
     },
     "source": [
      "Prediction"
     ]
    },
    {
     "cell_type": "markdown",
     "metadata": {},
     "source": [
      "<p>\n",
      "    We want to create programs that make <b>predictions</b>. Generically, we will refer to such programs as <b>estimators</b>.\n",
      "</p>\n",
      "<p>\n",
      "    There are two main types of prediction, and hence two types of estimator:\n",
      "</p>\n",
      "<figure>\n",
      "    <img src=\"files/img-prediction.png\" \n",
      "         alt=\"The two main types of estimation are regression and classification\" />\n",
      "</figure>\n",
      "<ul>\n",
      "    <li>\n",
      "        <b>Regression</b> means predicting a continuous value\n",
      "    </li>\n",
      "    <li>\n",
      "        <b>Classification</b> means predicting a discrete value\n",
      "    </li>\n",
      "</ul>"
     ]
    },
    {
     "cell_type": "heading",
     "level": 1,
     "metadata": {
      "slideshow": {
       "slide_type": "slide"
      }
     },
     "source": [
      "Regression"
     ]
    },
    {
     "cell_type": "markdown",
     "metadata": {},
     "source": [
      "<p>\n",
      "    An example of regression is predicting the market value of your house.\n",
      "</p>\n",
      "<ul>\n",
      "    <li>\n",
      "        <b>Features</b>:\n",
      "        <ul>\n",
      "            <li>\n",
      "                Features describe the houses, e.g.\n",
      "                <ul>\n",
      "                    <li>\n",
      "                        $\\mathit{flarea}$: the total floor area (in square metres)\n",
      "                    </li>\n",
      "                    <li>\n",
      "                        $\\mathit{bdrms}$: the number of bedrooms\n",
      "                    </li>\n",
      "                    <li> \n",
      "                        $\\mathit{bthrms}$: the number of bathrooms\n",
      "                    </li>\n",
      "                </ul>\n",
      "            </li>\n",
      "            <li>\n",
      "                A particular house has <b>values</b> for each of these features\n",
      "                <ul>\n",
      "                    <li>\n",
      "                        e.g. your house might have a floor area of 114 square metres, 3 bedrooms and 2 bathrooms\n",
      "                    </li>\n",
      "                    <li>\n",
      "                        i.e. $\\mathit{flarea} = 114, \\mathit{bdrms} = 3, \\mathit{bthrms} = 2$\n",
      "                    </li>\n",
      "                </ul>\n",
      "            </li>\n",
      "        </ul>\n",
      "    </li>\n",
      "    <li>\n",
      "        The <b>dependent variable</b> (usually designated $y$):\n",
      "        <ul>\n",
      "            <li>\n",
      "                the value we are predicting (the 'outcome', the 'target')\n",
      "                <ul>\n",
      "                    <li>\n",
      "                        e.g. the predicted selling price of a house\n",
      "                    </li>\n",
      "                </ul>\n",
      "            </li>\n",
      "        </ul>\n",
      "    </li>\n",
      "</ul>"
     ]
    },
    {
     "cell_type": "heading",
     "level": 2,
     "metadata": {
      "slideshow": {
       "slide_type": "slide"
      }
     },
     "source": [
      "Building a model: ask an expert"
     ]
    },
    {
     "cell_type": "markdown",
     "metadata": {},
     "source": [
      "<p>\n",
      "    So how do we predict the price of your house? \n",
      "</p>\n",
      "<p>\n",
      "    We ask Ann. She's an auctioneer &mdash; an expert at predicting Cork city house prices.\n",
      "</p>\n",
      "<p>\n",
      "    But we don't ask her to predict your house price. We ask her for a <em>general</em> method for predicting Cork\n",
      "    house prices.\n",
      "</p>\n",
      "<p>\n",
      "    She tells us that her rule-of-thumb is that prices start at 25k&euro; and increase by 1.5k&euro; for every \n",
      "    extra square metre of floor area:\n",
      "    $$y = 25 + 1.5\\mathit{flarea}$$\n",
      "</p>\n",
      "<p>\n",
      "    So, she predicts your house will sell for $y = 25 + 1.5 \\times 114 = 196$k&euro;.\n",
      "</p>\n",
      "<p>\n",
      "    Ann has given us a <b>model</b>.\n",
      "</p>\n",
      "<ul>\n",
      "    <li>\n",
      "        In very abstract terms, a model is an approximation of some part of reality that enables us to make \n",
      "        predictions about that reality.\n",
      "    </li>\n",
      "    <li>\n",
      "        In very concrete terms, a model is a formula that expresses the relationship between the dependent\n",
      "        variable (the thing being predicted) and the features.\n",
      "    </li>\n",
      "</ul>\n",
      "<p>\n",
      "    Ann's is a <b>linear model</b>: it takes the form of the equation of a straight line. \n",
      "</p>"
     ]
    },
    {
     "cell_type": "heading",
     "level": 3,
     "metadata": {
      "slideshow": {
       "slide_type": "slide"
      }
     },
     "source": [
      "Ann's Model"
     ]
    },
    {
     "cell_type": "code",
     "collapsed": false,
     "input": [
      "def f_ann(flarea):\n",
      "    return 25 + 1.5 * flarea\n",
      "\n",
      "fig = plt.figure()\n",
      "plt.title(\"Ann's model\")\n",
      "plt.xlabel(\"Floor area (sq metres)\")\n",
      "plt.xlim(0, 500)\n",
      "plt.ylabel(\"Price (000 euros)\")\n",
      "plt.ylim(0, 1000)\n",
      "xvals = np.linspace(0, 500, 2)\n",
      "plt.plot(xvals, f_ann(xvals))\n",
      "plt.show()"
     ],
     "language": "python",
     "metadata": {},
     "outputs": [
      {
       "metadata": {},
       "output_type": "display_data",
       "png": "[encoded data removed]",
       "text": [
        "<matplotlib.figure.Figure at 0x7f318ff26ad0>"
       ]
      }
     ],
     "prompt_number": 3
    },
    {
     "cell_type": "heading",
     "level": 3,
     "metadata": {
      "slideshow": {
       "slide_type": "slide"
      }
     },
     "source": [
      "Ben's Model"
     ]
    },
    {
     "cell_type": "markdown",
     "metadata": {},
     "source": [
      "<p>\n",
      "    We might also ask Ben, another Cork auctioneer, and he might give us a different model, e.g. \n",
      "    $$y = 60\\mathit{bdrms} + 80\\mathit{bthrms}$$\n",
      "</p>\n",
      "<p>\n",
      "    Ben's model is also linear, so we can plot it:\n",
      "</p>"
     ]
    },
    {
     "cell_type": "code",
     "collapsed": false,
     "input": [
      "def f_ben(bdrms, bthrms):\n",
      "    return 60 * bdrms + 80 * bthrms\n",
      "\n",
      "from mpl_toolkits.mplot3d import Axes3D\n",
      "\n",
      "fig = plt.figure()\n",
      "ax = Axes3D(fig)\n",
      "ax.set_title(\"Ben's model\")\n",
      "ax.set_xlabel(\"Bedrooms\")\n",
      "ax.set_ylabel(\"Bathrooms\")\n",
      "ax.set_zlabel(\"Price (000 euros)\")\n",
      "xvals = np.linspace(0, 8, 2)\n",
      "yvals = np.linspace(0, 5, 2)\n",
      "xxvals, yyvals = np.meshgrid(xvals, yvals)\n",
      "ax.plot_surface(xxvals, yyvals, f_ben(xxvals, yyvals))\n",
      "plt.show()"
     ],
     "language": "python",
     "metadata": {},
     "outputs": [
      {
       "metadata": {},
       "output_type": "display_data",
       "png": "[encoded data removed]",
       "text": [
        "<matplotlib.figure.Figure at 0x7f318fcdd390>"
       ]
      }
     ],
     "prompt_number": 4
    },
    {
     "cell_type": "heading",
     "level": 3,
     "metadata": {
      "slideshow": {
       "slide_type": "slide"
      }
     },
     "source": [
      "Which Model is Better?"
     ]
    },
    {
     "cell_type": "markdown",
     "metadata": {},
     "source": [
      "<p>\n",
      "    \n",
      "<p>\n",
      "    Ann's and Ben's models make different predictions. So we might ask: which is better? \n",
      "</p>\n",
      "<ul>\n",
      "    <li>\n",
      "        Ann predicts your house will sell for $y = 25 + 1.5 \\times 114 = 196$k&euro;.\n",
      "    </li>\n",
      "    <li>\n",
      "        Ben predicts your house will sell for $y = 60 \\times 3 + 80 \\times 2 = 178$k&euro;.\n",
      "    </li>\n",
      "    <li>\n",
      "        Their models make different predictions. So we might ask: which is better?\n",
      "    </li>\n",
      "    <li>\n",
      "        This is a complicated question, which we will explore in this module.\n",
      "    </li>\n",
      "    <li>\n",
      "        For now, suppose your house sells for 210000&euro;. Ann's prediction (196000&euro;) is closer than Ben's\n",
      "        (178000&euro;), so we have some evidence that Ann's model is better.\n",
      "    </li>\n",
      "</ul>"
     ]
    },
    {
     "cell_type": "heading",
     "level": 2,
     "metadata": {
      "slideshow": {
       "slide_type": "slide"
      }
     },
     "source": [
      "Building a model: learn from data"
     ]
    },
    {
     "cell_type": "markdown",
     "metadata": {},
     "source": [
      "<p>\n",
      "    Rather than ask an expert, we want to <b>learn</b> a model from data.\n",
      "</p>\n",
      "<p>\n",
      "    Suppose we collect a set of <b>examples</b>.\n",
      "</p>\n",
      "<ul>\n",
      "    <li>\n",
      "        Each example describes a house by giving values for the various features (e.g. floor area, number of bedrooms and \n",
      "        number of bathrooms). \n",
      "    </li>\n",
      "    <li>\n",
      "        But each example also gives the <em>actual</em> selling price of the house.\n",
      "    </li>\n",
      "</ul>\n",
      "<p>\n",
      "    We take some or all of these examples, call them the <b>training set</b>, and give them to the learning \n",
      "    algorithm. As best it can, it finds a model based on the examples in the training set.\n",
      "</p>\n",
      "<figure>\n",
      "    <img src=\"files/img-learning.png\" alt=\"A learning algorithm chooses a hypothesis from a set of hypotheses,\n",
      "        based on a set of training examples, in the hope of approximating an unkown target function\" />\n",
      "</figure>"
     ]
    },
    {
     "cell_type": "heading",
     "level": 3,
     "metadata": {
      "slideshow": {
       "slide_type": "slide"
      }
     },
     "source": [
      "Terminology"
     ]
    },
    {
     "cell_type": "markdown",
     "metadata": {},
     "source": [
      "<ul>\n",
      "    <li>\n",
      "        We will say that the algorithm <b>learns</b> a model.\n",
      "    </li>\n",
      "    <li>\n",
      "        We could also say that we are <b>training</b> the algorithm on the data.\n",
      "    <li>\n",
      "        We could also say that the algorithm <b>fits</b> a model to the training set.\n",
      "    </li>\n",
      "    <li>\n",
      "        We could also call it <b>function approximation</b>.\n",
      "    </li>\n",
      "    <li>\n",
      "        We call this <b>supervised learning</b> because the examples include the actual outcomes (in this case, the actual\n",
      "        selling prices). In <b>unsupervised learning</b>, the examples provide only the feature values.\n",
      "    </li>\n",
      "</ul>"
     ]
    },
    {
     "cell_type": "heading",
     "level": 3,
     "metadata": {
      "slideshow": {
       "slide_type": "slide"
      }
     },
     "source": [
      "Cork Property Prices Dataset"
     ]
    },
    {
     "cell_type": "markdown",
     "metadata": {},
     "source": [
      "<p>\n",
      "    At the beginning of November 2014, I scraped a dataset of property prices for Cork city from www.daft.ie.\n",
      "    They are in a CSV file. Each line in the file is an example, representing the sale of one house. \n",
      "</p>\n",
      "<ul>\n",
      "    <li>\n",
      "        Each line contains the feature-values (floor area, number of bedrooms, number of\n",
      "        bathrooms).\n",
      "    </li>\n",
      "    <li>\n",
      "        The last value on each line is the <em>actual</em> selling price. (In fac, it's the <em>asking</em> price, but we'll pretend that it's the selling price.)\n",
      "    </li>\n",
      "</ul>\n",
      "<p>\n",
      "    Without going into any details, we'll learn a model from this data, using all of it as the training set.\n",
      "</p>\n",
      "<p>\n",
      "    (N.B. We will see later that using <em>all</em> the data for training is not necessarily the right thing to do.)\n",
      "</p>"
     ]
    },
    {
     "cell_type": "heading",
     "level": 3,
     "metadata": {
      "slideshow": {
       "slide_type": "slide"
      }
     },
     "source": [
      "Using scikit-learn to Build a Model for the Cork Property Prices Dataset"
     ]
    },
    {
     "cell_type": "code",
     "collapsed": false,
     "input": [
      "from sklearn.linear_model import LinearRegression\n",
      "\n",
      "# Use pandas to read the CSV file\n",
      "df = pd.read_csv(\"dataset-corkA.csv\")\n",
      "\n",
      "# Get the feature-values and the target values into separate numpy arrays of numbers\n",
      "X = df[['flarea', 'bdrms', 'bthrms']].values\n",
      "y = df['price'].values\n",
      "\n",
      "# Create linear regression object\n",
      "estimator = LinearRegression()\n",
      "\n",
      "# Train the model using the data\n",
      "estimator.fit(X, y)\n",
      "\n",
      "# Print the parameters that it learns\n",
      "print('Intercept: ', estimator.intercept_)\n",
      "print('Coefficients: ', estimator.coef_)"
     ],
     "language": "python",
     "metadata": {},
     "outputs": [
      {
       "output_type": "stream",
       "stream": "stdout",
       "text": [
        "('Intercept: ', 62.502619092765826)\n",
        "('Coefficients: ', array([  4.6900952 , -72.28169508, -57.05464555]))\n"
       ]
      }
     ],
     "prompt_number": 5
    },
    {
     "cell_type": "markdown",
     "metadata": {},
     "source": [
      "<p>\n",
      "    We have learned a linear model, like Ann's and Ben's. Specifically, the model is roughly\n",
      "    $$y = 62.50 + 4.69\\mathit{flarea} - 72.28\\mathit{bdrms} - 57.05\\mathit{bthrms}$$\n",
      "    What does this model predict that your house will sell for?\n",
      "</p>"
     ]
    },
    {
     "cell_type": "code",
     "collapsed": false,
     "input": [
      "estimator.predict([[114, 3, 2]])"
     ],
     "language": "python",
     "metadata": {},
     "outputs": [
      {
       "metadata": {},
       "output_type": "pyout",
       "prompt_number": 6,
       "text": [
        "array([ 266.21909577])"
       ]
      }
     ],
     "prompt_number": 6
    },
    {
     "cell_type": "markdown",
     "metadata": {},
     "source": [
      "<p>\n",
      "    It predicts your house will sell for $y = 62.50 + 4.69 \\times 114 - 72.28 \\times 3 - 57.05 \\times\n",
      "    2 = 266$k&euro;.\n",
      "</p>\n",
      "<p>\n",
      "    It's a linear model. But, unfortunately, we can't plot it. Why?\n",
      "</p>\n",
      "<p>\n",
      "    So, let's learn a model like Ann's: using just the floor area.\n",
      "</p>"
     ]
    },
    {
     "cell_type": "heading",
     "level": 3,
     "metadata": {
      "slideshow": {
       "slide_type": "slide"
      }
     },
     "source": [
      "Building Another Model"
     ]
    },
    {
     "cell_type": "code",
     "collapsed": false,
     "input": [
      "# This time only use the floor area\n",
      "X = df[['flarea']].values\n",
      "\n",
      "# Re-train the model using the smaller dataset\n",
      "estimator.fit(X, y)\n",
      "\n",
      "# Print the parameters that it learns\n",
      "print('Intercept: ', estimator.intercept_)\n",
      "print('Coefficients: ', estimator.coef_)"
     ],
     "language": "python",
     "metadata": {},
     "outputs": [
      {
       "output_type": "stream",
       "stream": "stdout",
       "text": [
        "('Intercept: ', -137.18973502289174)\n",
        "('Coefficients: ', array([ 3.38381748]))\n"
       ]
      }
     ],
     "prompt_number": 7
    },
    {
     "cell_type": "markdown",
     "metadata": {},
     "source": [
      "<p>\n",
      "    We can show the training examples and the model on the same plot:\n",
      "</p>"
     ]
    },
    {
     "cell_type": "code",
     "collapsed": false,
     "input": [
      "def f_learned(flarea):\n",
      "    return -137.19 + 3.38 * flarea\n",
      "\n",
      "fig = plt.figure()\n",
      "plt.title(\"Training set and learned model\")\n",
      "plt.xlabel(\"Floor area (sq metres)\")\n",
      "plt.xlim(0, 500)\n",
      "plt.ylabel(\"Price (000 euros)\")\n",
      "plt.ylim(0, 1000)\n",
      "xvals = np.linspace(0, 500, 2)\n",
      "plt.plot(xvals, f_learned(xvals), color = 'blue')\n",
      "plt.scatter(X, y, color = 'green')\n",
      "plt.show()"
     ],
     "language": "python",
     "metadata": {},
     "outputs": [
      {
       "metadata": {},
       "output_type": "display_data",
       "png": "[encoded data removed]",
       "text": [
        "<matplotlib.figure.Figure at 0x7f318fae7ed0>"
       ]
      }
     ],
     "prompt_number": 8
    },
    {
     "cell_type": "heading",
     "level": 1,
     "metadata": {
      "slideshow": {
       "slide_type": "slide"
      }
     },
     "source": [
      "Classification"
     ]
    },
    {
     "cell_type": "markdown",
     "metadata": {},
     "source": [
      "<p>\n",
      "    In classification, we are given an object and we predict to which of a finite (and usually small) set of\n",
      "    classes the object belongs. So we formulate it as follows:\n",
      "</p>\n",
      "<ul>\n",
      "    <li>\n",
      "        We assume we have a finite set of <b>labels</b>, $\\cal{C}$.\n",
      "    </li>\n",
      "    <li>\n",
      "        Given an object, our task is to assign one of the labels $y \\in \\cal{C}$ to the object.\n",
      "    </li>\n",
      "</ul>\n",
      "<p>\n",
      "    An example of classification is predicting whether a student will fail or pass his/her programming module. \n",
      "    Features and their values describe the students, e.g. Craig's lecture attendance, $\\mathit{lect}$, is 60%, \n",
      "    his lab attendance, $\\mathit{lab}$, is 45%, and his leaving certificate points, $\\mathit{cao}$, are 500. \n",
      "    We want a method to predict label $y \\in \\Set{\\mathit{fail},\\mathit{pass}}$. \n",
      "</p>\n",
      "<p>\n",
      "    Again, we could ask an expert for a model, e.g. Derek's model might make predictions as follows:\n",
      "    $$y = \\left\\{\\begin{array}{rl}\n",
      "                     \\mathit{fail} & \\mbox{if } \\mathit{lect} \\leq 80 \\land \\mathit{lab} \\leq 80 \\\\\n",
      "                     \\mathit{pass} & \\mbox{otherwise}\n",
      "                 \\end{array}\n",
      "          \\right.$$\n",
      "</p>\n",
      "<p>\n",
      "    But in this module, again, we are more interested to learn the model from data.\n",
      "</p>"
     ]
    },
    {
     "cell_type": "heading",
     "level": 2,
     "metadata": {
      "slideshow": {
       "slide_type": "slide"
      }
     },
     "source": [
      "Building a Classifier from Data"
     ]
    },
    {
     "cell_type": "markdown",
     "metadata": {},
     "source": [
      "<p>\n",
      "    I have collected a dataset of student performances in a programming module. Without going into any details,\n",
      "    we'll learn a model from this data, using all of it as the training set.\n",
      "</p>"
     ]
    },
    {
     "cell_type": "code",
     "collapsed": false,
     "input": [
      "from sklearn.linear_model import LogisticRegression\n",
      "\n",
      "# Read CSV file\n",
      "df = pd.read_csv(\"dataset-cs1109.csv\")\n",
      "\n",
      "# Get the feature-values into a separate numpy arrays of numbers and the target values into a separate \n",
      "# numpy arrays of ints\n",
      "X = df[['lect', 'lab', 'cao']].values\n",
      "y = df['outcome'].values\n",
      "\n",
      "# Create logistic regression object\n",
      "estimator = LogisticRegression()\n",
      "\n",
      "# Train the model using the data\n",
      "estimator.fit(X, y)"
     ],
     "language": "python",
     "metadata": {},
     "outputs": [
      {
       "metadata": {},
       "output_type": "pyout",
       "prompt_number": 9,
       "text": [
        "LogisticRegression(C=1.0, class_weight=None, dual=False, fit_intercept=True,\n",
        "          intercept_scaling=1, penalty='l2', random_state=None, tol=0.0001)"
       ]
      }
     ],
     "prompt_number": 9
    },
    {
     "cell_type": "markdown",
     "metadata": {},
     "source": [
      "<p> \n",
      "    And let's see what it predicts for Craig, where a prediction of 0 means $\\mathit{fail}$ and 1 means \n",
      "    $\\mathit{pass}$:\n",
      "</p>"
     ]
    },
    {
     "cell_type": "code",
     "collapsed": false,
     "input": [
      "estimator.predict([[60, 45, 500]])"
     ],
     "language": "python",
     "metadata": {},
     "outputs": [
      {
       "metadata": {},
       "output_type": "pyout",
       "prompt_number": 10,
       "text": [
        "array([0])"
       ]
      }
     ],
     "prompt_number": 10
    },
    {
     "cell_type": "markdown",
     "metadata": {},
     "source": [
      "<p>\n",
      "    He fails!\n",
      "</p>"
     ]
    }
   ],
   "metadata": {}
  }
 ]
}