{
 "metadata": {
  "name": "",
  "signature": "sha256:52a557fc4f433ee34482ee346bb5e62549f5eac7f80cc33fb9d7ca8a0eb5c708"
 },
 "nbformat": 3,
 "nbformat_minor": 0,
 "worksheets": [
  {
   "cells": [
    {
     "cell_type": "heading",
     "level": 1,
     "metadata": {
      "slideshow": {
       "slide_type": "slide"
      }
     },
     "source": [
      "CS4619: Artificial Intelligence 2"
     ]
    },
    {
     "cell_type": "heading",
     "level": 2,
     "metadata": {},
     "source": [
      "Feature Selection"
     ]
    },
    {
     "cell_type": "heading",
     "level": 3,
     "metadata": {},
     "source": [
      "Derek Bridge<br>\n",
      "School of Computer Science and Information Technology<br>\n",
      "University College Cork"
     ]
    },
    {
     "cell_type": "heading",
     "level": 1,
     "metadata": {
      "slideshow": {
       "slide_type": "slide"
      }
     },
     "source": [
      "Initialization\n",
      "$\\newcommand{\\Set}[1]{\\{#1\\}}$\n",
      "$\\newcommand{\\Tuple}[1]{\\langle#1\\rangle}$\n",
      "$\\newcommand{\\v}[1]{\\pmb{#1}}$\n",
      "$\\newcommand{\\cv}[1]{\\begin{bmatrix}#1\\end{bmatrix}}$\n",
      "$\\newcommand{\\rv}[1]{[#1]}$"
     ]
    },
    {
     "cell_type": "code",
     "collapsed": false,
     "input": [
      "%load_ext autoreload\n",
      "%autoreload 2\n",
      "%matplotlib inline"
     ],
     "language": "python",
     "metadata": {},
     "outputs": [],
     "prompt_number": 1
    },
    {
     "cell_type": "code",
     "collapsed": false,
     "input": [
      "import pandas as pd\n",
      "import numpy as np\n",
      "import matplotlib.pyplot as plt"
     ],
     "language": "python",
     "metadata": {},
     "outputs": [],
     "prompt_number": 2
    },
    {
     "cell_type": "heading",
     "level": 1,
     "metadata": {
      "slideshow": {
       "slide_type": "slide"
      }
     },
     "source": [
      "Feature Selection"
     ]
    },
    {
     "cell_type": "markdown",
     "metadata": {},
     "source": [
      "<p>\n",
      "    Some features may be wholly or largely <em>irrelevant</em> &mdash; not predictive of the value of the dependent variable. It would\n",
      "    be nice to think that leaving them in does no harm. That's the theory, but it may not hold true in practice. And, for some systems we have\n",
      "    already seen that it is not true even in theory (see The Curse of Dimensionality in our discussion of kNN.)\n",
      "</p>\n",
      "<p>\n",
      "    Other features may be wholly or largely <em>redundant</em> &mdash; they correlate with other features and so do not bring any\n",
      "    extra information. Removing them would not cause any great decrease in performance. (One of the reasons why we must\n",
      "    use the pseudo-inverse in the normal equations for linear regression is that the inverse does not exist in the presence\n",
      "    of certain kinds of redundant features.)\n",
      "</p>\n",
      "<p>\n",
      "    <b>Feature selection</b> is the process of identifying and removing irrelevant and redundant features.\n",
      "</p>\n",
      "<p>\n",
      "    The reasons feature selection may be useful include:\n",
      "</p>\n",
      "<ul>\n",
      "    <li>\n",
      "        Irrelevant features can lead to overfitting: the learner picks up on some 'pattern' in an irrelevant feature and treats it as relevant.\n",
      "        This can damage ultimate performance. It may take a lot more training examples for the learner to realise that the\n",
      "        'pattern' is spurious.\n",
      "    </li>\n",
      "    <li>\n",
      "        Irrelevant and redundant features can slow down both learning and prediction and increase memory requirements.\n",
      "    </li>\n",
      "    <li>\n",
      "        They may damage the interpretability of what is learned.\n",
      "    </li>\n",
      "</ul>\n",
      "<p>\n",
      "    Feature selection can be done manually, e.g. with your domain expert. Plotting the data can help with this.\n",
      "    For example, in the CS1109 dataset, the CAO points feature is not very predictive &mdash; although I probably wouldn't go so far\n",
      "    as to call this feature wholly irrelevant:\n",
      "</p>"
     ]
    },
    {
     "cell_type": "code",
     "collapsed": false,
     "input": [
      "df = pd.read_csv(\"dataset-cs1109.csv\")\n",
      "x = df['cao'].values\n",
      "y = df['outcome'].values\n",
      "\n",
      "fig = plt.figure()\n",
      "ax = plt.axes()\n",
      "plt.title(\"CAO points against outcome\")\n",
      "plt.xlabel(\"Outcome (0 = fail, 1 = pass)\")\n",
      "ax.set_xticklabels(['0', '1'])\n",
      "plt.ylabel(\"CAO points\")\n",
      "plt.ylim(250, 600)\n",
      "plt.boxplot([x[y == 0], x[y == 1]])\n",
      "plt.show()"
     ],
     "language": "python",
     "metadata": {},
     "outputs": [
      {
       "metadata": {},
       "output_type": "display_data",
       "png": "[encoded data removed]",
       "text": [
        "<matplotlib.figure.Figure at 0x7f06b5501f90>"
       ]
      }
     ],
     "prompt_number": 3
    },
    {
     "cell_type": "markdown",
     "metadata": {},
     "source": [
      "<p>\n",
      "    Question:\n",
      "</p>\n",
      "<ul>\n",
      "    <li>\n",
      "        The example above is a classification example. What would a plot of a probably irrelevant feature look like in the case of\n",
      "        regression?\n",
      "    </li>\n",
      "</ul>\n",
      "<p>\n",
      "    The next plot &mdash; of one feature against another &mdash; shows that one of the two features is largely but not entirely redundant:\n",
      "</p>"
     ]
    },
    {
     "cell_type": "code",
     "collapsed": false,
     "input": [
      "x1 = df['lect'].values\n",
      "x2 = df['lab'].values\n",
      "\n",
      "fig = plt.figure(figsize=(4,4))\n",
      "plt.title(\"Lect and Lab\")\n",
      "plt.xlabel(\"lect\")\n",
      "plt.xlim(0, 100)\n",
      "plt.ylabel(\"lab\")\n",
      "plt.ylim(0, 100)\n",
      "plt.scatter(x1, x2, color = 'green')\n",
      "plt.show()"
     ],
     "language": "python",
     "metadata": {},
     "outputs": [
      {
       "metadata": {},
       "output_type": "display_data",
       "png": "[encoded data removed]",
       "text": [
        "<matplotlib.figure.Figure at 0x7f06b5501d90>"
       ]
      }
     ],
     "prompt_number": 4
    },
    {
     "cell_type": "markdown",
     "metadata": {},
     "source": [
      "<p>\n",
      "    Questions:\n",
      "</p>\n",
      "<ul>\n",
      "    <li>\n",
      "        For linear regression, under what circumstances would a feature be completely redundant?\n",
      "    </li>\n",
      "</ul>\n",
      "<p>\n",
      "    In the rest of the lecture, we look at some automatic methods. There are three\n",
      "    main approaches:\n",
      "</p>\n",
      "<ul>\n",
      "    <li>Filters</li>\n",
      "    <li>Wrappers</li>\n",
      "    <li>Embedded approaches</li>\n",
      "</ul>\n",
      "<p>\n",
      "    For each of these three main approaches, there are many different detailed approaches. We have time to look only at one of each.\n",
      "</p>\n",
      "<p>\n",
      "    A final word of warning is that some approaches (both manual and automatic) tend to look at features in an 'isolated' way.\n",
      "    The danger of this is that a feature might not be predictive on its own (and you might be tempted to discard it as irrelevant)\n",
      "    but it might be predictive <em>in combination</em> with other features.\n",
      "</p>"
     ]
    },
    {
     "cell_type": "heading",
     "level": 1,
     "metadata": {
      "slideshow": {
       "slide_type": "slide"
      }
     },
     "source": [
      "Filters"
     ]
    },
    {
     "cell_type": "markdown",
     "metadata": {},
     "source": [
      "<p>\n",
      "    Filter methods rely on statistical measures to select relevant/irrelevant features. They don't rely on learning a model and doing\n",
      "    any error estimation. We'll look at a method for discarding irrelevant features, first in the case of classification, and then\n",
      "    in the case of regression.\n",
      "</p>\n",
      "<p>\n",
      "    For classification, we can score each feature &mdash; measuring how well it predicts the class label. We will look at one\n",
      "    scoring function (one that is available in scikit-learn). It is called the <b>one-way ANOVA F-test statistic</b> &mdash; we'll\n",
      "    call it the <b>F-score</b> for short! (This is not related to $F_1$ that we saw before, which was a combination of precision and\n",
      "    recall.)\n",
      "</p>\n",
      "<p>\n",
      "    The F-score for the $j$th feature is defined as follows:\n",
      "    $$F_j = \\frac{SB_j}{SW_j}$$\n",
      "</p>\n",
      "<p>\n",
      "    $SB_j$ is the 'between-class' variance, defined as:\n",
      "    $$\\frac{\\sum_{c \\in C}n_{c}(\\bar{\\v{x}}_{j,c} - \\bar{\\v{x}}_j)^2}{|C| - 1}$$\n",
      "    where \n",
      "</p>\n",
      "<ul>\n",
      "    <li>$n_c$ is the number of examples that belong to class $c$</li>\n",
      "    <li>$\\bar{\\v{x}}_{j,c}$ is the mean of the values for feature $j$ for examples that belong to class $c$</li>\n",
      "    <li>$\\bar{\\v{x}}_j$ is the mean of the values for feature $j$ for all examples</li>\n",
      "</ul>\n",
      "<p>\n",
      "    $SW_j$ is the 'within-class' variance, defined as:\n",
      "    $$\\frac{\\sum_{c \\in C}\\sum_{i \\mbox{ where } \\v{y}^{(i)} = c}(\\v{x}_j^{(i)} - \\bar{\\v{x}}_{j,c})^2}{m - |C|}$$\n",
      "</p>\n",
      "<p>\n",
      "    We retain features with large $F$-values. \n",
      "</p>"
     ]
    },
    {
     "cell_type": "heading",
     "level": 2,
     "metadata": {
      "slideshow": {
       "slide_type": "slide"
      }
     },
     "source": [
      "Filter Methods in scikit-learn"
     ]
    },
    {
     "cell_type": "markdown",
     "metadata": {},
     "source": [
      "<p>\n",
      "    In scikit-learn, we can use the class SelectKBest. We need to tell it how many features to keep, which unfortunately is referred\n",
      "    to as $k$ &mdash; not the same $k$ we had in kNN, nor the same $k$ that we had in $k$-fold cross-validation.\n",
      "    And we need to tell it to use the F-score:\n",
      "</p>"
     ]
    },
    {
     "cell_type": "code",
     "collapsed": false,
     "input": [
      "from sklearn.linear_model import LogisticRegression\n",
      "from sklearn.cross_validation import train_test_split\n",
      "from sklearn.metrics import accuracy_score\n",
      "from sklearn.feature_selection import SelectKBest\n",
      "from sklearn.feature_selection import f_classif\n",
      "\n",
      "X = df[['cao', 'lect', 'lab']].values\n",
      "y = df['outcome'].values\n",
      "\n",
      "X_train, X_test, y_train, y_test = train_test_split(X, y, test_size = 0.3, random_state = np.random)\n",
      "\n",
      "for num_features in range(1, 4):\n",
      "    selector = SelectKBest(f_classif, num_features)\n",
      "    selector.fit(X_train, y_train)\n",
      "    X_train_reduced = selector.transform(X_train)\n",
      "    estimator = LogisticRegression()\n",
      "    estimator.fit(X_train_reduced, y_train)\n",
      "    y_predicted = estimator.predict(selector.transform(X_test))\n",
      "    print num_features, \" features: \", accuracy_score(y_test, y_predicted)\n",
      "\n",
      "print \"F-scores: \", selector.scores_"
     ],
     "language": "python",
     "metadata": {},
     "outputs": [
      {
       "output_type": "stream",
       "stream": "stdout",
       "text": [
        "1  features:  0.815533980583\n",
        "2  features:  0.796116504854\n",
        "3  features:  0.796116504854\n",
        "F-scores:  [ 32.86089519  73.23495614  92.99022362]\n"
       ]
      }
     ],
     "prompt_number": 5
    },
    {
     "cell_type": "markdown",
     "metadata": {},
     "source": [
      "<o>\n",
      "    Keep in mind that we are reporting accuracy here.\n",
      "</p>\n",
      "<p>\n",
      "    Question:\n",
      "</p>\n",
      "<ul>\n",
      "    <li>In practice, how would you decide how many features to retain?</li>\n",
      "</ul>\n",
      "<p>\n",
      "    We looked at the F-score here, mostly for the reason that it is one that scikit-learn offers. It also offers the chi-squared statistic,\n",
      "    but this is used on binary features or features that capture frequencies &mdash; the sort of thing you may have studied in \n",
      "    <i>Information Retrieval</i>.\n",
      "</p>\n",
      "<p>\n",
      "    For regression, scikit-learn offers a variant of the F-score. We won't go into the maths. (The easiest way of seeing its\n",
      "    definition is to look at the <a href=\"https://github.com/scikit-learn/scikit-learn/blob/master/sklearn/feature_selection/univariate_selection.py\">source code</a>.) Here it is in use on the CorkA dataset:\n",
      "</p>"
     ]
    },
    {
     "cell_type": "code",
     "collapsed": false,
     "input": [
      "from sklearn.linear_model import LinearRegression\n",
      "from sklearn.metrics import mean_squared_error\n",
      "from sklearn.feature_selection import f_regression\n",
      "\n",
      "df = pd.read_csv(\"dataset-corkA.csv\")\n",
      "X = df[['flarea', 'bdrms', 'bthrms']].values\n",
      "y = df['price'].values\n",
      "\n",
      "X_train, X_test, y_train, y_test = train_test_split(X, y, test_size = 0.3, random_state = np.random)\n",
      "\n",
      "for num_features in range(1, 4):\n",
      "    selector = SelectKBest(f_regression, num_features)\n",
      "    selector.fit(X_train, y_train)\n",
      "    X_train_reduced = selector.transform(X_train)\n",
      "    estimator = LinearRegression()\n",
      "    estimator.fit(X_train_reduced, y_train)\n",
      "    y_predicted = estimator.predict(selector.transform(X_test))\n",
      "    print num_features, \" features: \", mean_squared_error(y_test, y_predicted)\n",
      "\n",
      "print \"F-scores: \", selector.scores_"
     ],
     "language": "python",
     "metadata": {},
     "outputs": [
      {
       "output_type": "stream",
       "stream": "stdout",
       "text": [
        "1  features:  24314.6574374\n",
        "2  features:  28543.8365152\n",
        "3  features:  25320.9859181\n",
        "F-scores:  [ 204.043127     16.64004223   29.04215091]\n"
       ]
      }
     ],
     "prompt_number": 6
    },
    {
     "cell_type": "markdown",
     "metadata": {},
     "source": [
      "<p>\n",
      "    Keep in mind that we are reporting error here. Bear in mind that we only did one training/test split so we shouldn't read too much\n",
      "    into the figures.\n",
      "</p>"
     ]
    },
    {
     "cell_type": "heading",
     "level": 1,
     "metadata": {
      "slideshow": {
       "slide_type": "slide"
      }
     },
     "source": [
      "Wrappers"
     ]
    },
    {
     "cell_type": "markdown",
     "metadata": {},
     "source": [
      "<p>\n",
      "    The approach we have just looked at has the disadvantage that we mentioned earlier &mdash; that it\n",
      "    examines the features in 'isolation'. It may be that a feature appears irrelevant on its own but\n",
      "    is not irrelevant in combination with one or more other features. It also has the disadvantage\n",
      "    that it typically does not identify redundant features &mdash; this is because the scoring functions we\n",
      "    typically use are ones that measure correlation between a feature and the dependent variable, and not\n",
      "    correlations between pairs of features. Wrappers offer a\n",
      "    way to overcome these problems.\n",
      "</p>\n",
      "<p>\n",
      "    Somewhat like model selection, wrappers learn and evaluate models in order to choose\n",
      "    which features to retain. For each subset of features, the wrapper learns a model from a training set,\n",
      "    and then measures its performance on a validation set. You can then select the feature subset that\n",
      "    performs best (highest accuracy or lowest error).\n",
      "</p>\n",
      "<p>\n",
      "    Of course, this is not feasible for problems that have more than a handful of features: for $n$ features,\n",
      "    we would need to build and evaluate $2^n - 1$ models. (Why?) \n",
      "</p>\n",
      "<p>\n",
      "    Some form of non-exhaustive search is needed. Here are two common solutions:\n",
      "</p>\n",
      "<ul>\n",
      "    <li>\n",
      "        Forward selection: This starts with a set of no features. Repeatedly, it forms\n",
      "        new candidates. Each candidate is created by adding one of the features to the set. It evaluates\n",
      "        each candidate by learning a model from the training set and testing it on the validation set.\n",
      "        It picks the candidate that has the best performance. Then it repeats. If no candidate produces\n",
      "        an improvement, the search stops. This is a greedy search. It does not guarantee to find the\n",
      "        globally optimum set of features.\n",
      "     </li>\n",
      "     <li>\n",
      "         Backward selection. This is a similar greedy search, except that it starts with the full set\n",
      "         of features and iteratvely deletes then one by one.\n",
      "     </li>\n",
      "</ul>\n",
      "<p>\n",
      "    But we could use other methods from AI, e.g. if we keep an agenda of candidates, we can do best-first\n",
      "    search or beam search. Or we could use a genetic algorithm.\n",
      "</p>"
     ]
    },
    {
     "cell_type": "heading",
     "level": 2,
     "metadata": {
      "slideshow": {
       "slide_type": "slide"
      }
     },
     "source": [
      "Wrapper Methods in scikit-learn"
     ]
    },
    {
     "cell_type": "markdown",
     "metadata": {},
     "source": [
      "<p>\n",
      "    These wrapper methods are not part of scikit-learn. The closest that it offers is called <b>recursive\n",
      "    feature elimination</b>. This only works for learners that produce coefficients ($\\v{\\beta}$)\n",
      "    for the features (e.g. Linear Regression and Logistic Regression, but also learners we have not\n",
      "    studied such as Support Vector Machines). It builds a model (i.e. learns coefficients) and removes the\n",
      "    feature with the lowest coefficient. This then repeats (build a model and remove a feature), until a desired number of features is reached.\n",
      "</p>\n",
      "<p>\n",
      "    One nuance is that you should probably <em>scale</em> the features in advance &mdash; otherwise the\n",
      "    coefficients are not really comparable. Here's an example on the CorkB dataset. First, we \n",
      "    preprocess the data, including  scaling it:\n",
      "</p>"
     ]
    },
    {
     "cell_type": "code",
     "collapsed": false,
     "input": [
      "# Use pandas to read the CSV file\n",
      "df = pd.read_csv(\"dataset-corkB.csv\")\n",
      "\n",
      "# Remove anomalies from flarea\n",
      "df = df[(df['flarea'].isnull()) | ((df['flarea'] > 10) & (df['flarea'] < 1000))]\n",
      "df.reset_index(drop=True, inplace=True)\n",
      "# For simplicity, rather than impute missing values, we'll simply remove examples with missing values\n",
      "df.dropna(subset=['flarea', 'bdrms', 'floors', 'devment', 'price'], inplace=True)\n",
      "df.reset_index(drop=True, inplace=True)\n",
      "# Encode nominal-valued features\n",
      "# - devment is easy because it is binary-valued\n",
      "df.replace({'devment' : {'SecondHand' : 0, 'New' : 1}}, inplace=True)\n",
      "# - for type we use one-hot encoding\n",
      "one_hot = pd.get_dummies(df['type'], 'type', '_')\n",
      "df.drop('type', axis=1, inplace=True)\n",
      "df = pd.concat([df, one_hot], axis=1)\n",
      "# - similarly for ber\n",
      "one_hot = pd.get_dummies(df['ber'], 'ber', '_')\n",
      "df.drop('ber', axis=1, inplace=True)\n",
      "df = pd.concat([df, one_hot], axis=1)\n",
      "# - and similarly for location\n",
      "one_hot = pd.get_dummies(df['location'], 'location', '_')\n",
      "df.drop('location', axis=1, inplace=True)\n",
      "df = pd.concat([df, one_hot], axis=1)\n",
      "# Scaling - for simplicity, we'll do min-max scaling on just flarea, bdrms and bthrms\n",
      "df['flarea'] -= 40\n",
      "df['flarea'] /= 460\n",
      "df['bdrms'] /= 10\n",
      "df['bthrms'] /= 10\n",
      "\n",
      "X = df[['flarea', 'bdrms', 'bthrms', 'floors', 'devment', \n",
      "        'type_Apartment', 'type_Detached', 'type_Semi-detached', 'type_Terraced', \n",
      "        'ber_B1', 'ber_B2', 'ber_B3', 'ber_C1', 'ber_C2', 'ber_C3', 'ber_D1', 'ber_D2', 'ber_E1', 'ber_E2', 'ber_F', 'ber_G',\n",
      "        'location_Ballinlough', 'location_Ballintemple', 'location_Ballyphehane', 'location_Ballyvolane', \n",
      "        'location_Banduff', 'location_Bishopstown', 'location_Blackpool', 'location_Blackrock', 'location_Carrigrohane', \n",
      "        'location_CityCentre', 'location_Cloghroe', 'location_Donnybrook', 'location_Douglas', 'location_DublinPike', \n",
      "        'location_Farranree', 'location_Fota', 'location_Glanmire', 'location_Glasheen', 'location_Grange', \n",
      "        'location_Gurranabraher', 'location_Inniscarra', 'location_Mayfield', 'location_ModelFarmRoad', \n",
      "        'location_Montenotte', 'location_Ovens', 'location_PassageWest', 'location_Rochestown', 'location_Silversprings', \n",
      "        'location_StLukes', 'location_SundaysWell', 'location_TheLough', 'location_Togher', 'location_TurnersCross', \n",
      "        'location_VictoriaCross', 'location_Waterfall', 'location_WesternRoad', 'location_Wilton']].values\n",
      "y = df['price'].values"
     ],
     "language": "python",
     "metadata": {},
     "outputs": [],
     "prompt_number": 7
    },
    {
     "cell_type": "markdown",
     "metadata": {},
     "source": [
      "<p>\n",
      "    Now we use the recursive feature evaluation. Here I'm asking for 5-fold cross-validation:\n",
      "</p>"
     ]
    },
    {
     "cell_type": "code",
     "collapsed": false,
     "input": [
      "from sklearn.feature_selection import RFECV\n",
      "\n",
      "estimator = LinearRegression()\n",
      "selector = RFECV(estimator, cv = 5, scoring = 'mean_squared_error')\n",
      "selector = selector.fit(X, y)"
     ],
     "language": "python",
     "metadata": {},
     "outputs": [],
     "prompt_number": 8
    },
    {
     "cell_type": "markdown",
     "metadata": {},
     "source": [
      "<p>\n",
      "    You can see which features it selects by displaying the support attribute. And you can see the ranking\n",
      "    of the features by displaying the ranking attribute (where a ranking of 1 is given to all the selected\n",
      "    features):\n",
      "</p>"
     ]
    },
    {
     "cell_type": "code",
     "collapsed": false,
     "input": [
      "print selector.support_\n",
      "print selector.ranking_\n",
      "\n",
      "print np.array(['flarea', 'bdrms', 'bthrms', 'floors', 'devment', \n",
      "        'type_Apartment', 'type_Detached', 'type_Semi-detached', 'type_Terraced', \n",
      "        'ber_B1', 'ber_B2', 'ber_B3', 'ber_C1', 'ber_C2', 'ber_C3', 'ber_D1', 'ber_D2', 'ber_E1', 'ber_E2', 'ber_F', 'ber_G',\n",
      "        'location_Ballinlough', 'location_Ballintemple', 'location_Ballyphehane', 'location_Ballyvolane', \n",
      "        'location_Banduff', 'location_Bishopstown', 'location_Blackpool', 'location_Blackrock', 'location_Carrigrohane', \n",
      "        'location_CityCentre', 'location_Cloghroe', 'location_Donnybrook', 'location_Douglas', 'location_DublinPike', \n",
      "        'location_Farranree', 'location_Fota', 'location_Glanmire', 'location_Glasheen', 'location_Grange', \n",
      "        'location_Gurranabraher', 'location_Inniscarra', 'location_Mayfield', 'location_ModelFarmRoad', \n",
      "        'location_Montenotte', 'location_Ovens', 'location_PassageWest', 'location_Rochestown', 'location_Silversprings', \n",
      "        'location_StLukes', 'location_SundaysWell', 'location_TheLough', 'location_Togher', 'location_TurnersCross', \n",
      "        'location_VictoriaCross', 'location_Waterfall', 'location_WesternRoad', 'location_Wilton'])[selector.support_]"
     ],
     "language": "python",
     "metadata": {},
     "outputs": [
      {
       "output_type": "stream",
       "stream": "stdout",
       "text": [
        "[ True  True False False False False False False False False False False\n",
        " False False False False False False False False False False False False\n",
        "  True  True False False False False False False False False False  True\n",
        "  True False False False  True  True False False  True False  True False\n",
        " False  True  True False False  True False  True False False]\n",
        "[ 1  1 45 44 43 28 16 41 29 11 25 34 26 23 33 18 30 38 37 35 36 22 27 17  1\n",
        "  1  4  2 31 32 10 12 19 40  3  1  1 15 24 13  1  1  6 39  1 42  1 21  7  1\n",
        "  1 20 14  1  5  1  8  9]\n",
        "['flarea' 'bdrms' 'location_Ballyvolane' 'location_Banduff'\n",
        " 'location_Farranree' 'location_Fota' 'location_Gurranabraher'\n",
        " 'location_Inniscarra' 'location_Montenotte' 'location_PassageWest'\n",
        " 'location_StLukes' 'location_SundaysWell' 'location_TurnersCross'\n",
        " 'location_Waterfall']\n"
       ]
      }
     ],
     "prompt_number": 9
    },
    {
     "cell_type": "heading",
     "level": 1,
     "metadata": {
      "slideshow": {
       "slide_type": "slide"
      }
     },
     "source": [
      "Embedded Approaches"
     ]
    },
    {
     "cell_type": "markdown",
     "metadata": {},
     "source": [
      "<p>\n",
      "    Finally, some learners have a mechanism for feature selection 'built in'. We have seen one of these.\n",
      "</p>\n",
      "<ul>\n",
      "    <li>\n",
      "        <em>Precisely</em>, which one?\n",
      "    </li>\n",
      "</ul>"
     ]
    }
   ],
   "metadata": {}
  }
 ]
}