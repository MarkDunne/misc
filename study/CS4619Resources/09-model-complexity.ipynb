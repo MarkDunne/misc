{
 "metadata": {
  "name": "",
  "signature": "sha256:5bf8c8f48580f91c6cf65293ec3df9448d3bc4eaf670214c93e2753ae815e717"
 },
 "nbformat": 3,
 "nbformat_minor": 0,
 "worksheets": [
  {
   "cells": [
    {
     "cell_type": "heading",
     "level": 1,
     "metadata": {
      "slideshow": {
       "slide_type": "slide"
      }
     },
     "source": [
      "CS4619: Artificial Intelligence 2"
     ]
    },
    {
     "cell_type": "heading",
     "level": 2,
     "metadata": {},
     "source": [
      "Model Complexity"
     ]
    },
    {
     "cell_type": "heading",
     "level": 3,
     "metadata": {},
     "source": [
      "Derek Bridge<br>\n",
      "School of Computer Science and Information Technology<br>\n",
      "University College Cork"
     ]
    },
    {
     "cell_type": "heading",
     "level": 1,
     "metadata": {
      "slideshow": {
       "slide_type": "slide"
      }
     },
     "source": [
      "Initialization\n",
      "$\\newcommand{\\Set}[1]{\\{#1\\}}$\n",
      "$\\newcommand{\\Tuple}[1]{\\langle#1\\rangle}$\n",
      "$\\newcommand{\\v}[1]{\\pmb{#1}}$\n",
      "$\\newcommand{\\cv}[1]{\\begin{bmatrix}#1\\end{bmatrix}}$\n",
      "$\\newcommand{\\rv}[1]{[#1]}$"
     ]
    },
    {
     "cell_type": "code",
     "collapsed": false,
     "input": [
      "%load_ext autoreload\n",
      "%autoreload 2\n",
      "%matplotlib inline"
     ],
     "language": "python",
     "metadata": {},
     "outputs": [],
     "prompt_number": 1
    },
    {
     "cell_type": "code",
     "collapsed": false,
     "input": [
      "import pandas as pd\n",
      "import numpy as np\n",
      "import matplotlib.pyplot as plt"
     ],
     "language": "python",
     "metadata": {},
     "outputs": [],
     "prompt_number": 2
    },
    {
     "cell_type": "heading",
     "level": 1,
     "metadata": {
      "slideshow": {
       "slide_type": "slide"
      }
     },
     "source": [
      "Model Complexity"
     ]
    },
    {
     "cell_type": "markdown",
     "metadata": {},
     "source": [
      "<p>\n",
      "    In the previous lecture, we discussed what to do when your estimator is under-performing:\n",
      "</p>\n",
      "<ul>\n",
      "    <li>Add more training data</li>\n",
      "    <li>Add more features</li>\n",
      "    <li>Change the complexity of the model</li>\n",
      "    <li>Change the class of model, e.g., to a more complex one</li>\n",
      "</ul>\n",
      "<p>\n",
      "    In this lecture, we discuss the third of these: changing the complexity of the model. \n",
      "</p>\n",
      "<ul>\n",
      "    <li>\n",
      "        Increasing the complexity may avoid underfitting at the risk of overfitting\n",
      "    </li>\n",
      "    <li>\n",
      "        Decreasing the complexity may avoid overfitting at the risk of underfitting\n",
      "    </li>\n",
      "</ul>"
     ]
    },
    {
     "cell_type": "heading",
     "level": 1,
     "metadata": {
      "slideshow": {
       "slide_type": "slide"
      }
     },
     "source": [
      "Changing the Complexity of kNN"
     ]
    },
    {
     "cell_type": "markdown",
     "metadata": {},
     "source": [
      "<p>\n",
      "    You change the complexity of kNN by changing the value of $k$.\n",
      "</p>\n",
      "<p>\n",
      "    Here's a graph of the MSE of distance-weighted kNN against different values of $k$ for the \n",
      "    artificial dataset from the previous lecture. <strong>Note the horizontal axis.</strong> \n",
      "</p>"
     ]
    },
    {
     "cell_type": "code",
     "collapsed": false,
     "input": [
      "from sklearn.neighbors import KNeighborsRegressor\n",
      "from sklearn.cross_validation import train_test_split\n",
      "from sklearn.metrics import mean_squared_error\n",
      "\n",
      "def inv_distances(dists):\n",
      "    return 1 / (0.0001 + dists)\n",
      "\n",
      "def make_dataset(m, func, error):\n",
      "    X = np.random.random(m)\n",
      "    y = func(X, error)\n",
      "    return X.reshape(m, 1), y\n",
      "\n",
      "def f(x, error = 1.0):\n",
      "    y = 10 - 1 / (x + 0.1)\n",
      "    if error > 0:\n",
      "        y = np.random.normal(y, error)\n",
      "    return y\n",
      "\n",
      "X, y = make_dataset(50, f, 1.0)\n",
      "\n",
      "X_train, X_test, y_train, y_test = train_test_split(X, y, test_size = 0.3, random_state = np.random) \n",
      "\n",
      "kvals = range(10, 0, -1)\n",
      "mses_train = []\n",
      "mses_test = []\n",
      "\n",
      "for k in kvals:\n",
      "    estimator = KNeighborsRegressor(n_neighbors = k, weights = inv_distances)\n",
      "    estimator.fit(X_train, y_train)\n",
      "    mses_train.append(mean_squared_error(estimator.predict(X_train), y_train))\n",
      "    mses_test.append(mean_squared_error(estimator.predict(X_test), y_test))\n",
      "    \n",
      "fig = plt.figure()\n",
      "plt.xlabel(\"k\")\n",
      "plt.ylabel(\"MSE\")\n",
      "kvalsrev = [11 - kval for kval in kvals]\n",
      "plt.xticks(kvalsrev, kvals)\n",
      "plt.plot(kvalsrev, mses_train, label = 'training error', color = 'red')\n",
      "plt.plot(kvalsrev, mses_test, label='test error', color = 'gold')\n",
      "plt.legend()\n",
      "plt.show()"
     ],
     "language": "python",
     "metadata": {},
     "outputs": [
      {
       "metadata": {},
       "output_type": "display_data",
       "png": "[encoded data removed]",
       "text": [
        "<matplotlib.figure.Figure at 0x7eff24575690>"
       ]
      }
     ],
     "prompt_number": 3
    },
    {
     "cell_type": "markdown",
     "metadata": {},
     "source": [
      "<p>\n",
      "    Perhaps counter-intutively, \n",
      "</p>\n",
      "<ul>\n",
      "    <li>\n",
      "        When $k = 1$ or close to 1, we have a more complex model and hence a risk of\n",
      "        overfitting. When $k$ is 'too small' noisy examples have a greater impact.\n",
      "    </li>\n",
      "    <li>\n",
      "        When $k$ is large, we have a less complex model. The effect of noisy examples is reduced: predictions\n",
      "        are 'smoothed' across the $y$-values of several neighbours. But if $k$ is 'too large', there is a risk \n",
      "        of underfitting: we are not exploiting the structure in the data; we are allowing distant examples\n",
      "        to influence the predictions.\n",
      "    </li>\n",
      "</ul>\n",
      "<p>\n",
      "    In the previous lecture, we had a plot with the degree of a polynomial on the horizontal axis: larger\n",
      "    degree meant greater complexity. But for kNN, smaller $k$ means higher complexity. Hence, for consistency\n",
      "    with the plot in the previous lecture (where complexity increased along the horizontal axis), in the \n",
      "    plot above we show decreasing $k$ (so that again complexity increases along the horizontal axis).\n",
      "</p>\n",
      "<p>\n",
      "    Luckily, of course, we have a way of choosing a good value for $k$: see the lecture on model selection.\n",
      "</p>"
     ]
    },
    {
     "cell_type": "heading",
     "level": 1,
     "metadata": {
      "slideshow": {
       "slide_type": "slide"
      }
     },
     "source": [
      "Regularization: Changing the Complexity of Linear Regression"
     ]
    },
    {
     "cell_type": "markdown",
     "metadata": {},
     "source": [
      "<p>\n",
      "    Linear models are among the least complex models. Hence, we normally associate them with underfitting.\n",
      "    But, even linear regression might overfit the training data.  This can happen when you have\n",
      "    'too many' features. It can especially happen when you have a lot of features and too little training data.\n",
      "    (The `curse of dimensionality' again.) Problems also arise when two or more features are not independent of\n",
      "    each other.\n",
      "</p>\n",
      "<p>\n",
      "    One solution to this problem is to discard some of the features &mdash; those we think are not predictive of\n",
      "    the target outcome. We can do this manually, in conjunction with our domain expert. Or we can use a feature\n",
      "    selection algorithm &mdash; we study these later in the module. But there is an alternative solution.\n",
      "</p>\n",
      "<p>\n",
      "    The alternative solution is <b>regularization</b>. In at least one of its versions, it keeps all the features &mdash; and so it's a good option when\n",
      "    you think that each feature probably does contribute something to the prediction. Regularization avoids\n",
      "    overfitting by adding more bias. It is done by <em>penalizing</em> the\n",
      "    hypotheses that fit the data too well.\n",
      "</p>\n",
      "<p>\n",
      "    Recall that OLS linear regression finds coeffficients $\\v{\\beta}$ that minimize\n",
      "    $$J_{\\v{\\beta}}(\\v{X}, \\v{y}) = \\frac{1}{2m}\\sum_{i=1}^m(h_{\\v{\\beta}}(\\v{x}^{i)}) - \\v{y}^{(i)})^2$$\n",
      "    Regularization imposes a penalty on the size of the coefficients.\n",
      "</p>\n",
      "<p>\n",
      "    Before we look at the details, one more observation. It is conventional to scale all the\n",
      "    features in advance so that they have the same range or the same mean and standard\n",
      "    deviation: you may find different coefficients on scaled and unscaled\n",
      "    data and the error in the case of scaled data is supposed to be lower. (In my experience, it often isn't,\n",
      "    and I don't know why!) We'll discuss how to do scaling in detail in later lectures, so we won't do any\n",
      "    scaling below.. \n",
      "</p>"
     ]
    },
    {
     "cell_type": "heading",
     "level": 2,
     "metadata": {
      "slideshow": {
       "slide_type": "slide"
      }
     },
     "source": [
      "Lasso Regression: Using the $\\cal{l}_1$-norm"
     ]
    },
    {
     "cell_type": "markdown",
     "metadata": {},
     "source": [
      "<p>\n",
      "    Lasso stands for 'least absolute shrinkage and selection operator' &mdash; but\n",
      "    this doesn't matter to us at all. What does mater is the following.\n",
      "</p>\n",
      "<p>\n",
      "    In Lasso Regression, we penalize by the $\\cal{l}_1$-norm, which is simply the sum of the absolute value\n",
      "    of the coefficients $\\v{\\beta}$, i.e. $\\sum_{j=1}^n|\\v{\\beta}_j|$. So Lasso Regression\n",
      "    finds the $\\v{\\beta}$ that minimizes\n",
      "    $$J_{\\v{\\beta}}(\\v{X}, \\v{y}) = \\frac{1}{2m}\\sum_{i=1}^m(h_{\\v{\\beta}}(\\v{x}^{i)}) - \\v{y}^{(i)})^2\n",
      "    + \\lambda\\sum_{j=1}^n|\\v{\\beta}_j|$$\n",
      "    (Minor point: we don't penalize $\\v{\\beta}_0$, which is why $j$ starts at 1.)\n",
      "</p>\n",
      "<p>\n",
      "    $\\lambda$ is called the 'regularization parameter'.\n",
      "    It controls how much penalization we want and this determines the balance between the two parts of the modified \n",
      "    loss function: fitting the data versus shrinking the parameters.\n",
      "</p>\n",
      "<ul>\n",
      "    <li>\n",
      "        As $\\lambda \\rightarrow 0$, Lasso Regression gets closer to being OLS Linear Regression. When \n",
      "        $\\lambda = 0$, Lasso Regression is the same as OLS Linear Regression.\n",
      "    </li>\n",
      "    <li>\n",
      "        When $\\lambda \\rightarrow \\infty$, penalties are so great that all the coefficients will tend to zero:\n",
      "        the only way to minimize the loss function will be to make the coefficients\n",
      "        as small as possible. It's likely that in this case we will underfit the data.\n",
      "    </li>\n",
      "</ul>\n",
      "<p>\n",
      "    So, for regularization to work well, we must choose the value of $\\lambda$ carefully.\n",
      "</p>\n",
      "<ul>\n",
      "    <li>So what kind of thing is $\\lambda$?</li>\n",
      "    <li>How do we choose its value?</li>\n",
      "</ul>\n",
      "<p>\n",
      "    An important observation about Lasso Regression is that: as $\\lambda$ grows, some of the $\\v{\\beta}_j$ will be driven \n",
      "    to zero. This means that the model that it learns treats some features as irrelevant.\n",
      "    Hence, it performs some <b>feature selection</b> too. Compare this with Ridge Regression below.\n",
      "</p>"
     ]
    },
    {
     "cell_type": "heading",
     "level": 2,
     "metadata": {
      "slideshow": {
       "slide_type": "slide"
      }
     },
     "source": [
      "Ridge Regression: Using the $\\cal{l}_2$-norm"
     ]
    },
    {
     "cell_type": "markdown",
     "metadata": {},
     "source": [
      "<p>\n",
      "    In Ridge Regression, we penalize by the $\\cal{l}_2$-norm, which is simply the sum of the squares of the\n",
      "    coefficients, i.e. $\\sum_{j=1}^n\\v{\\beta}_j^2$. (Strictly speaking, the $\\cal{l}_2$-norm is the square root\n",
      "    of the sum of squares.) So Ridge Regression finds the $\\v{\\beta}$ that minimizes\n",
      "    $$J_{\\v{\\beta}}(\\v{X}, \\v{y}) = \\frac{1}{2m}\\sum_{i=1}^m(h_{\\v{\\beta}}(\\v{x}^{i)}) - \\v{y}^{(i)})^2\n",
      "    + \\lambda\\sum_{j=1}^n\\v{\\beta}_j^2$$\n",
      "</p>\n",
      "<p>\n",
      "    Both Lasso and Ridge Regression shrink the values of the coefficients but, as we mentioned, Lasso Regression \n",
      "    may additionally result in coefficients being set to zero. This does not happen with Ridge Regression.\n",
      "    Optionally, consult section 3.4.3 of <i>The Elements of Statistical Learning</i> by Hastie, Friedman &amp; Tibshirani\n",
      "    (available online) for an explanation. One observation from the book is that, roughly speaking, Lasso Regression shrinks the\n",
      "    coefficients by approximately the same <em>constant amount</em> (unless they are so small that they get shrunk to zero),\n",
      "    whereas, again\n",
      "    roughly speaking, Ridge Regression shrinks the coefficients by approximately the same <em>proportion</em>.\n",
      "</p>"
     ]
    },
    {
     "cell_type": "heading",
     "level": 2,
     "metadata": {
      "slideshow": {
       "slide_type": "slide"
      }
     },
     "source": [
      "Fitting Regularized Linear Regression Models"
     ]
    },
    {
     "cell_type": "markdown",
     "metadata": {},
     "source": [
      "<p>\n",
      "    We looked at two ways of fitting an OLS Linear Regression model to a training set. One was to set the partial derivative\n",
      "    of the loss function to zero and solve for $\\v{\\beta}$, giving the normal equations. The other was to use gradient\n",
      "    descent to search for the $\\v{\\beta}$ that minimizes the loss function, where we changed the values of $\\v{\\beta}$\n",
      "    on each iteration by an amount related to the partial derivative of the loss function.\n",
      "</p>\n",
      "<p>\n",
      "    Lasso Regression:\n",
      "</p>\n",
      "<ul>\n",
      "    <li>\n",
      "        Neither of these methods is available to use for Lasso Regression. Why?\n",
      "    </li>\n",
      "    <li>\n",
      "        scikit-learn's\u00a0main implementation uses an approach called 'coordinate descent'.\n",
      "    </li>\n",
      "</ul>\n",
      "<p>\n",
      "    Ridge Regression:\n",
      "</p>\n",
      "<p>\n",
      "    Both approaches are available to us. The details don't matter. But in case you're interested, here are some of them:\n",
      "</p>\n",
      "<ul>\n",
      "    <li>\n",
      "        If we take the direct approach, we get \n",
      "        $$\\v{\\beta} = (\\v{X}^TX + \\lambda\\v{I})^{-1}\\v{X}^T\\v{y}$$\n",
      "        $\\v{I}$ is the $(n+1)$ identity matrix, i.e. all zeros except for the main diagonal which is all ones. (In fact,\n",
      "        for consistency with what we were doing above, where we chose not to penalize $\\v{\\beta}_0$, you want a zero in\n",
      "        the top left, so this is not really the identity matrix.)\n",
      "        <p>\n",
      "            Interestingly, you also don't need to implement this with the pseudo-inverse. It's possible to prove that,\n",
      "            provided $\\lambda > 0$, then\n",
      "            $\\v{X}^TX + \\lambda\\v{I}$ will be invertible.\n",
      "        </p>\n",
      "    </li>\n",
      "    <li>\n",
      "        If we use gradient descent, then the update rule for $\\v{\\beta}_j$ for all $j$ except $j = 0$ becomes:\n",
      "        $$\\v{\\beta}_j \\gets \\v{\\beta}_j - \n",
      "                    \\alpha(\\frac{1}{m}\\sum_{i=1}^m(h_{\\v{\\beta}}(\\v{x}^{(i)}) - \\v{y}^{(i)}) \\times \\v{x}_j^{(i)} +\n",
      "                    \\frac{\\lambda}{m}\\v{\\beta}_j)$$\n",
      "        We can re-arrange this to:\n",
      "        $$\\v{\\beta}_j \\gets \\v{\\beta}_j(1 - \\alpha\\frac{\\lambda}{m}) - \n",
      "                    \\alpha\\frac{1}{m}\\sum_{i=1}^m(h_{\\v{\\beta}}(\\v{x}^{(i)}) - \\v{y}^{(i)}) \\times \\v{x}_j^{(i)}$$\n",
      "        which helps to show why this shrinks $\\v{\\beta}_j$. \n",
      "    </li>\n",
      "</ul>"
     ]
    },
    {
     "cell_type": "heading",
     "level": 2,
     "metadata": {
      "slideshow": {
       "slide_type": "slide"
      }
     },
     "source": [
      "Comparing Lasso and Ridge Regression"
     ]
    },
    {
     "cell_type": "markdown",
     "metadata": {},
     "source": [
      "<p>\n",
      "    We plot the artificial dataset and the linear model found by OLS Linear Regression, Lasso Regression and\n",
      "    Ridge Regression. I have shown the MSE, the intercept and the coefficient (only one coefficient because, in this\n",
      "    artificial dataset, there was only one feature) above each plot.\n",
      "</p>\n",
      "<p>\n",
      "    A couple of notes about the code: \n",
      "</p>\n",
      "<ul>\n",
      "    <li>\n",
      "        Everyone uses $\\lambda$ for the hyperparameter. Regrettably, scikit-learn calls it alpha, presumably\n",
      "        because lambda is a Python reserved word. \n",
      "    </li>\n",
      "    <li>\n",
      "        Also, as discussed above, there is a direct method for finding the coefficients\n",
      "        for Ridge Regression; but for Lasso Regression a search is used. The code below simply accepts scikit-learn's defaults\n",
      "        for the search, such as the maximum number of iterations.\n",
      "    </li>\n",
      "</ul>\n",
      "<p>\n",
      "    You can play with the hyperparameters to see how they affect\n",
      "    the fit.\n",
      "</p>"
     ]
    },
    {
     "cell_type": "code",
     "collapsed": false,
     "input": [
      "import matplotlib.gridspec as gridspec\n",
      "from sklearn.linear_model import LinearRegression\n",
      "from sklearn.linear_model import Lasso\n",
      "from sklearn.linear_model import Ridge\n",
      "\n",
      "lasso_lambda = 1.0\n",
      "ridge_lambda = 1.0\n",
      "\n",
      "ols = LinearRegression()\n",
      "ols.fit(X_train, y_train)\n",
      "y_predicted_ols = ols.predict(X_test)\n",
      "mse_ols = mean_squared_error(y_predicted_ols, y_test)\n",
      "\n",
      "lasso = Lasso(alpha = lasso_lambda)\n",
      "lasso.fit(X_train, y_train)\n",
      "y_predicted_lasso = lasso.predict(X_test)\n",
      "mse_lasso = mean_squared_error(y_predicted_lasso, y_test)\n",
      "\n",
      "ridge = Ridge(alpha = ridge_lambda)\n",
      "ridge.fit(X_train, y_train)\n",
      "y_predicted_ridge = ridge.predict(X_test)\n",
      "mse_ridge = mean_squared_error(y_predicted_ridge, y_test)\n",
      "\n",
      "\n",
      "# Set up the two subplots\n",
      "fig = plt.figure(figsize=(14, 4.5)) \n",
      "gs = gridspec.GridSpec(1, 3) \n",
      "# Leftmost diagram: OLS\n",
      "ax0 = plt.subplot(gs[0])\n",
      "plt.title(\"OLS Linear Regression\\nMSE: %.3f\\nIntercept: %.3f\\nCoefficient: %.3f\" % (mse_ols, ols.intercept_, ols.coef_[0]))\n",
      "plt.xlabel(\"Feature\")\n",
      "plt.ylabel(\"MSE\")\n",
      "plt.ylim(-4, 14)\n",
      "ax0.scatter(X_train.ravel(), y_train, color = 'green')\n",
      "ax0.plot(X_test.ravel(), y_predicted_ols, color = 'blue')\n",
      "# Middle diagram: Lasso\n",
      "ax1 = plt.subplot(gs[1])\n",
      "plt.title(\"Lasso Regression\\nMSE: %.3f\\nIntercept: %.3f\\nCoefficient: %.3f\" % (mse_lasso, lasso.intercept_, lasso.coef_[0]))\n",
      "plt.xlabel(\"Feature\")\n",
      "plt.ylabel(\"MSE\")\n",
      "plt.ylim(-4, 14)\n",
      "ax1.scatter(X_train.ravel(), y_train, color = 'green')\n",
      "ax1.plot(X_test.ravel(), y_predicted_lasso, color = 'blue')\n",
      "# Righmost diagram: Ridge\n",
      "ax2 = plt.subplot(gs[2])\n",
      "plt.title(\"Ridge Regression\\nMSE: %.3f\\nIntercept: %.3f\\nCoefficient: %.3f\" % (mse_ridge, ridge.intercept_, ridge.coef_[0]))\n",
      "plt.xlabel(\"Feature\")\n",
      "plt.ylabel(\"MSE\")\n",
      "plt.ylim(-4, 14)\n",
      "ax2.scatter(X_train.ravel(), y_train, color = 'green')\n",
      "ax2.plot(X_test.ravel(), y_predicted_ridge, color = 'blue')\n",
      "\n",
      "fig.tight_layout()\n",
      "plt.show()"
     ],
     "language": "python",
     "metadata": {},
     "outputs": [
      {
       "metadata": {},
       "output_type": "display_data",
       "png": "[encoded data removed]",
       "text": [
        "<matplotlib.figure.Figure at 0x7eff53868cd0>"
       ]
      }
     ],
     "prompt_number": 4
    },
    {
     "cell_type": "markdown",
     "metadata": {},
     "source": [
      "<p>\n",
      "    You can see the way the regularization shrinks $\\v{\\beta}$, making the line flatter. This isn't\n",
      "    having a good effect on MSE in this example &mdash; but that's because it's supposed to help with\n",
      "    overfitting caused by 'too many' features, whereas linear regression in fact underfits this training set \n",
      "    and we have only one feature!\n",
      "</p>\n",
      "<p>\n",
      "    So, which should we use in general? As we've discussed, you think about using Lasso and Ridge Regression when you have lots of features\n",
      "    causing OLS Linear Regression to overfit. If a small number of the features are relevant (likely to have large coefficients)\n",
      "    and the rest are irrelevant\n",
      "    (likely to have coefficients that are zero or close to zero), then you might prefer Lasso Regression. If most of the \n",
      "    features are predictive to some degree, especially to roughly the same degree, you might use Ridge Regression.\n",
      "    Of course, you're unlikely to know this in advance. So you must error estimation to choose between them.\n",
      "</p>\n",
      "<p>\n",
      "    The final question now is how to set the hyperparameters.\n",
      "</p>"
     ]
    },
    {
     "cell_type": "heading",
     "level": 2,
     "metadata": {
      "slideshow": {
       "slide_type": "slide"
      }
     },
     "source": [
      "Model Selection for Lasso and Ridge Regression"
     ]
    },
    {
     "cell_type": "markdown",
     "metadata": {},
     "source": [
      "<p>\n",
      "    There is a variety of methods for selecting the best value for $\\lambda$. The obvious one is cross-validation.\n",
      "    scikit-learn offers some handy classes that can make the code for this quite compact. Here it is for Lasso\n",
      "    Regression. For Ridge Regression, it is similar.\n",
      "</p>\n",
      "<p>\n",
      "    We illustrate for the CorkA dataset. Bear in mind that the code should be improved by\n",
      "    scaling the data first &mdash; see the later lecture where we learn how to do this\n",
      "    in a pipeline.\n",
      "</p>"
     ]
    },
    {
     "cell_type": "code",
     "collapsed": false,
     "input": [
      "from sklearn.linear_model import LassoCV\n",
      "\n",
      "df = pd.read_csv(\"dataset-corkA.csv\")\n",
      "X = df[['flarea', 'bdrms', 'bthrms']].values\n",
      "y = df['price'].values\n",
      "\n",
      "lassocv = LassoCV(cv = 10)\n",
      "lassocv.fit(X, y)\n",
      "\n",
      "print lassocv.alphas_ # The alphas (lambdas) it tried (you can pass your own into the constructor)\n",
      "print lassocv.alpha_  # The alpha (lambda) that was best"
     ],
     "language": "python",
     "metadata": {},
     "outputs": [
      {
       "output_type": "stream",
       "stream": "stdout",
       "text": [
        "[  2.23842478e+04   2.08756244e+04   1.94686772e+04   1.81565535e+04\n",
        "   1.69328626e+04   1.57916443e+04   1.47273404e+04   1.37347669e+04\n",
        "   1.28090896e+04   1.19457998e+04   1.11406929e+04   1.03898475e+04\n",
        "   9.68960653e+03   9.03655948e+03   8.42752562e+03   7.85953860e+03\n",
        "   7.32983200e+03   6.83582586e+03   6.37511407e+03   5.94545272e+03\n",
        "   5.54474911e+03   5.17105157e+03   4.82254000e+03   4.49751695e+03\n",
        "   4.19439936e+03   3.91171088e+03   3.64807466e+03   3.40220664e+03\n",
        "   3.17290930e+03   2.95906583e+03   2.75963470e+03   2.57364455e+03\n",
        "   2.40018952e+03   2.23842478e+03   2.08756244e+03   1.94686772e+03\n",
        "   1.81565535e+03   1.69328626e+03   1.57916443e+03   1.47273404e+03\n",
        "   1.37347669e+03   1.28090896e+03   1.19457998e+03   1.11406929e+03\n",
        "   1.03898475e+03   9.68960653e+02   9.03655948e+02   8.42752562e+02\n",
        "   7.85953860e+02   7.32983200e+02   6.83582586e+02   6.37511407e+02\n",
        "   5.94545272e+02   5.54474911e+02   5.17105157e+02   4.82254000e+02\n",
        "   4.49751695e+02   4.19439936e+02   3.91171088e+02   3.64807466e+02\n",
        "   3.40220664e+02   3.17290930e+02   2.95906583e+02   2.75963470e+02\n",
        "   2.57364455e+02   2.40018952e+02   2.23842478e+02   2.08756244e+02\n",
        "   1.94686772e+02   1.81565535e+02   1.69328626e+02   1.57916443e+02\n",
        "   1.47273404e+02   1.37347669e+02   1.28090896e+02   1.19457998e+02\n",
        "   1.11406929e+02   1.03898475e+02   9.68960653e+01   9.03655948e+01\n",
        "   8.42752562e+01   7.85953860e+01   7.32983200e+01   6.83582586e+01\n",
        "   6.37511407e+01   5.94545272e+01   5.54474911e+01   5.17105157e+01\n",
        "   4.82254000e+01   4.49751695e+01   4.19439936e+01   3.91171088e+01\n",
        "   3.64807466e+01   3.40220664e+01   3.17290930e+01   2.95906583e+01\n",
        "   2.75963470e+01   2.57364455e+01   2.40018952e+01   2.23842478e+01]\n",
        "90.365594817\n"
       ]
      }
     ],
     "prompt_number": 6
    },
    {
     "cell_type": "markdown",
     "metadata": {},
     "source": [
      "<p>\n",
      "    For error estimation, you want nested cross-validation:\n",
      "</p>"
     ]
    },
    {
     "cell_type": "code",
     "collapsed": false,
     "input": [
      "from sklearn.cross_validation import cross_val_score\n",
      "\n",
      "lassocv = LassoCV(cv = 10)\n",
      "mses_test = np.abs(cross_val_score(lassocv, X, y, scoring = 'mean_squared_error', cv = 10))\n",
      "mean_mse_test = np.mean(mses_test)\n",
      "mean_mse_test"
     ],
     "language": "python",
     "metadata": {},
     "outputs": [
      {
       "metadata": {},
       "output_type": "pyout",
       "prompt_number": 7,
       "text": [
        "92299.83116105033"
       ]
      }
     ],
     "prompt_number": 7
    },
    {
     "cell_type": "markdown",
     "metadata": {},
     "source": [
      "<p>\n",
      "    For comparison, here is error estinate for OLS Linear Regression:\n",
      "</p>"
     ]
    },
    {
     "cell_type": "code",
     "collapsed": false,
     "input": [
      "ols = LinearRegression()\n",
      "mses_test = np.abs(cross_val_score(ols, X, y, scoring = 'mean_squared_error', cv = 10))\n",
      "mean_mse_test = np.mean(mses_test)\n",
      "mean_mse_test"
     ],
     "language": "python",
     "metadata": {},
     "outputs": [
      {
       "metadata": {},
       "output_type": "pyout",
       "prompt_number": 8,
       "text": [
        "100047.69646341192"
       ]
      }
     ],
     "prompt_number": 8
    },
    {
     "cell_type": "markdown",
     "metadata": {},
     "source": [
      "<p>\n",
      "    Lasso Regression gave us some improvement, and there might have been more if we had\n",
      "    troubled to scale the data.\n",
      "</p>"
     ]
    }
   ],
   "metadata": {}
  }
 ]
}