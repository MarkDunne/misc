{
 "metadata": {
  "name": "",
  "signature": "sha256:60a4ef6b1af1815c035f3d7fb623089362b1eece7327cf335833a659a9b8bb46"
 },
 "nbformat": 3,
 "nbformat_minor": 0,
 "worksheets": [
  {
   "cells": [
    {
     "cell_type": "heading",
     "level": 1,
     "metadata": {
      "slideshow": {
       "slide_type": "slide"
      }
     },
     "source": [
      "CS4619: Artificial Intelligence 2"
     ]
    },
    {
     "cell_type": "heading",
     "level": 2,
     "metadata": {},
     "source": [
      "Feature Engineering"
     ]
    },
    {
     "cell_type": "heading",
     "level": 3,
     "metadata": {},
     "source": [
      "Derek Bridge<br>\n",
      "School of Computer Science and Information Technology<br>\n",
      "University College Cork"
     ]
    },
    {
     "cell_type": "heading",
     "level": 1,
     "metadata": {
      "slideshow": {
       "slide_type": "slide"
      }
     },
     "source": [
      "Initialization\n",
      "$\\newcommand{\\Set}[1]{\\{#1\\}}$\n",
      "$\\newcommand{\\Tuple}[1]{\\langle#1\\rangle}$\n",
      "$\\newcommand{\\v}[1]{\\pmb{#1}}$\n",
      "$\\newcommand{\\cv}[1]{\\begin{bmatrix}#1\\end{bmatrix}}$\n",
      "$\\newcommand{\\rv}[1]{[#1]}$"
     ]
    },
    {
     "cell_type": "code",
     "collapsed": false,
     "input": [
      "%load_ext autoreload\n",
      "%autoreload 2\n",
      "%matplotlib inline"
     ],
     "language": "python",
     "metadata": {},
     "outputs": [],
     "prompt_number": 1
    },
    {
     "cell_type": "code",
     "collapsed": false,
     "input": [
      "import pandas as pd\n",
      "import numpy as np\n",
      "import matplotlib.pyplot as plt"
     ],
     "language": "python",
     "metadata": {},
     "outputs": [],
     "prompt_number": 2
    },
    {
     "cell_type": "heading",
     "level": 1,
     "metadata": {
      "slideshow": {
       "slide_type": "slide"
      }
     },
     "source": [
      "Feature Engineering"
     ]
    },
    {
     "cell_type": "heading",
     "level": 2,
     "metadata": {},
     "source": [
      "Underfitting, Again"
     ]
    },
    {
     "cell_type": "markdown",
     "metadata": {},
     "source": [
      "<p>\n",
      "    Let's load the CorkB dataset and do some simple preprocessing:\n",
      "</p>"
     ]
    },
    {
     "cell_type": "code",
     "collapsed": false,
     "input": [
      "# Use pandas to read the CSV file\n",
      "df = pd.read_csv(\"dataset-corkB.csv\")\n",
      "\n",
      "# Remove anomalies from flarea\n",
      "df = df[(df['flarea'].isnull()) | ((df['flarea'] > 10) & (df['flarea'] < 1000))]\n",
      "df.reset_index(drop=True, inplace=True)\n",
      "# For simplicity, rather than impute missing values, we'll simply remove examples with missing values\n",
      "df.dropna(subset=['flarea', 'bdrms', 'floors', 'devment', 'price'], inplace=True)\n",
      "df.reset_index(drop=True, inplace=True)\n",
      "# Encode nominal-valued features\n",
      "# - devment is easy because it is binary-valued\n",
      "df.replace({'devment' : {'SecondHand' : 0, 'New' : 1}}, inplace=True)\n",
      "# - for type we use one-hot encoding\n",
      "one_hot = pd.get_dummies(df['type'], 'type', '_')\n",
      "df.drop('type', axis=1, inplace=True)\n",
      "df = pd.concat([df, one_hot], axis=1)\n",
      "# - similarly for ber\n",
      "one_hot = pd.get_dummies(df['ber'], 'ber', '_')\n",
      "df.drop('ber', axis=1, inplace=True)\n",
      "df = pd.concat([df, one_hot], axis=1)\n",
      "# - and similarly for location\n",
      "one_hot = pd.get_dummies(df['location'], 'location', '_')\n",
      "df.drop('location', axis=1, inplace=True)\n",
      "df = pd.concat([df, one_hot], axis=1)\n",
      "# We're going to use scikit-learn's linear regressor, so we won't bother with any scaling"
     ],
     "language": "python",
     "metadata": {},
     "outputs": [],
     "prompt_number": 3
    },
    {
     "cell_type": "markdown",
     "metadata": {},
     "source": [
      "<p>\n",
      "    Let's consider only the floor area, number of bedrooms and number of bathrooms (hence this is more like\n",
      "    the CorkA dataset) and plot a learning curve for linear regression on this data:\n",
      "</p>"
     ]
    },
    {
     "cell_type": "code",
     "collapsed": false,
     "input": [
      "from sklearn.linear_model import LinearRegression\n",
      "from sklearn.cross_validation import ShuffleSplit\n",
      "from sklearn.metrics import mean_squared_error\n",
      "\n",
      "def plot_learning_curve(estimator, X, y, num_iterations = 10, test_size = 0.3):\n",
      "    max_training_set_size =  int((1 - test_size) * len(y))\n",
      "    training_set_sizes = range(1, max_training_set_size)\n",
      "    mses_incremental_train = np.zeros((max_training_set_size, num_iterations))\n",
      "    mses_incremental_test = np.zeros((max_training_set_size, num_iterations))\n",
      "    ss = ShuffleSplit(n = len(y), n_iter = num_iterations, test_size = test_size, \n",
      "                      random_state = np.random)\n",
      "    for i, (train_indexes, test_indexes) in zip(range(num_iterations), ss):\n",
      "        X_train = X[train_indexes]\n",
      "        y_train = y[train_indexes]\n",
      "        X_test = X[test_indexes]\n",
      "        y_test = y[test_indexes]\n",
      "        for j in training_set_sizes:\n",
      "            estimator.fit(X_train[:j], y_train[:j])\n",
      "            y_predicted = estimator.predict(X_train[:j])\n",
      "            mses_incremental_train[j][i] = mean_squared_error(y_train[:j], y_predicted)\n",
      "            y_predicted = estimator.predict(X_test)\n",
      "            mses_incremental_test[j][i] = mean_squared_error(y_test, y_predicted)\n",
      "    mses_train = []\n",
      "    mses_test = []\n",
      "    for j in training_set_sizes:\n",
      "        mses_train.append(np.mean(mses_incremental_train[j]))\n",
      "        mses_test.append(np.mean(mses_incremental_test[j]))\n",
      "    fig = plt.figure()\n",
      "    plt.xlabel('num. training examples')\n",
      "    plt.ylabel('MSE')\n",
      "    plt.ylim(0, 100000)\n",
      "    plt.plot(training_set_sizes, mses_train, label = 'training error', color = 'purple')\n",
      "    plt.plot(training_set_sizes, mses_test, label = 'test error', color ='orange')\n",
      "    plt.plot(training_set_sizes, np.ones_like(training_set_sizes), linestyle = 'dotted', color = 'gray')\n",
      "    plt.legend()\n",
      "    plt.show()\n",
      "\n",
      "X = df[['flarea', 'bdrms', 'bthrms']].values\n",
      "y = df['price'].values\n",
      "estimator = LinearRegression()\n",
      "plot_learning_curve(estimator, X, y)"
     ],
     "language": "python",
     "metadata": {},
     "outputs": [
      {
       "metadata": {},
       "output_type": "display_data",
       "png": "[encoded data removed]",
       "text": [
        "<matplotlib.figure.Figure at 0x7f779a0ceb50>"
       ]
      }
     ],
     "prompt_number": 4
    },
    {
     "cell_type": "markdown",
     "metadata": {},
     "source": [
      "<p>\n",
      "    As ever, the results are quite sensitive to the exact training/test\n",
      "    split. But, in most runs, we see above the characteristic signs of underfitting: high training and test\n",
      "    error, and very little sign of the lines\n",
      "    converging.\n",
      "</p>\n",
      "<p>\n",
      "    We know that the possible solutions include (i) moving to a more complex model, (ii) increasing the\n",
      "    complexity of this model, and (iii) adding more features. The first is always tempting &mdash; it's\n",
      "    always more fun to try out a sexier learning algorithm. The second isn't really applicable here: we\n",
      "    can't make linear regression more complex, only less complex. (How?) Let's try the third solution.\n",
      "    That's easy, because the CorkB dataset has further features. (There were 5 further features but\n",
      "    now\n",
      "    that we have used some one-hot encoding those 5 have become quite a few more).\n",
      "</p>\n",
      "<p>\n",
      "    Here's the learning curve when we use more of the features:\n",
      "</p>"
     ]
    },
    {
     "cell_type": "code",
     "collapsed": false,
     "input": [
      "X = df[['flarea', 'bdrms', 'bthrms', 'location_Banduff', 'location_SundaysWell']].values\n",
      "y = df['price'].values\n",
      "estimator = LinearRegression()\n",
      "plot_learning_curve(estimator, X, y)"
     ],
     "language": "python",
     "metadata": {},
     "outputs": [
      {
       "metadata": {},
       "output_type": "display_data",
       "png": "[encoded data removed]",
       "text": [
        "<matplotlib.figure.Figure at 0x7f776b5a1e90>"
       ]
      }
     ],
     "prompt_number": 5
    },
    {
     "cell_type": "markdown",
     "metadata": {},
     "source": [
      "<p>\n",
      "    As usual, it depends on train/test splits but now on some runs the training and test errors are lower,\n",
      "    and it looks like the curves converge a little &mdash; \n",
      "    there's probably less underfitting.\n",
      "</p>\n",
      "<p>\n",
      "    This makes the point that more features (if they are predictive) can help in cases of underfitting.\n",
      "    But you don't always have to collect new features. The idea of <b>feature engineering</b> is to\n",
      "    derive new features &mdash; ones that we hope are more predictive &mdash; from the ones we already\n",
      "    have.\n",
      "</p>"
     ]
    },
    {
     "cell_type": "heading",
     "level": 1,
     "metadata": {
      "slideshow": {
       "slide_type": "slide"
      }
     },
     "source": [
      "Feature Engineering: A Classic Example"
     ]
    },
    {
     "cell_type": "markdown",
     "metadata": {},
     "source": [
      "<p>\n",
      "    Here I create an artificial dataset. There are two features, $x_1$ and $x_2$. Both are numeric-valued, \n",
      "    and both take values in the\n",
      "    range 0 to 10. The task is binary classification. After creating the dataset, I use a scatter plot\n",
      "    to visualize it: $x_1$ is on the horizontal axis; $x_2$ is on the vertical axis; red crosses are \n",
      "    negative examples; green plus symbols are positive examples.\n",
      "</p>"
     ]
    },
    {
     "cell_type": "code",
     "collapsed": false,
     "input": [
      "from sklearn.datasets import make_circles\n",
      "X, y = make_circles(100)\n",
      "\n",
      "fig = plt.figure(figsize=(4,4))\n",
      "plt.title(\"Dataset\")\n",
      "plt.xlabel(\"x1\")\n",
      "plt.xlim(-1.1, 1.1)\n",
      "plt.ylabel(\"x2\")\n",
      "plt.ylim(-1.1, 1.1)\n",
      "for outcome, marker, colour in zip([0,1], \"x+\", \"rg\"):\n",
      "    plt.scatter(X[:, 0][y == outcome], X[:, 1][y == outcome], c = colour, marker = marker)\n",
      "plt.show()"
     ],
     "language": "python",
     "metadata": {},
     "outputs": [
      {
       "metadata": {},
       "output_type": "display_data",
       "png": "[encoded data removed]",
       "text": [
        "<matplotlib.figure.Figure at 0x7f776b59ae90>"
       ]
      }
     ],
     "prompt_number": 6
    },
    {
     "cell_type": "markdown",
     "metadata": {},
     "source": [
      "<p>\n",
      "    Imagine training Logistic Regression on this dataset. We've seen that it fits a linear decision\n",
      "    boundary, so it really cannot do well. It will try to fit a linear decision boundary \n",
      "    ($\\v{\\beta}_0 + \\v{\\beta}_1\\v{x}_1 + \\v{\\beta}_2\\v{x}_2 = 0$) to the data.\n",
      "</p>\n",
      "<p>\n",
      "    Question:\n",
      "</p>\n",
      "<ul>\n",
      "    <li>\n",
      "        What can we say about this data &mdash; using terminology from our previous module?\n",
      "    </li>\n",
      "</ul>\n",
      "<p>\n",
      "    But let's do some feature engineering. Let's add two new features:\n",
      "</p>\n",
      "<ul>\n",
      "    <li>$x_3$ will simply be $x_1^2$</li>\n",
      "    <li>$x_4$ will simply be $x_2^2$</li>\n",
      "</ul>\n",
      "<p>\n",
      "    And we'll visualize these two new features:\n",
      "</p>"
     ]
    },
    {
     "cell_type": "code",
     "collapsed": false,
     "input": [
      "X_new = np.ones((100, 4))\n",
      "X_new[:, 0:2] = X\n",
      "X_new[:, 2] = X[:, 0] * X[:, 0]\n",
      "X_new[:, 3] = X[:, 1] * X[:, 1]\n",
      "\n",
      "fig = plt.figure(figsize=(4,4))\n",
      "plt.title(\"Dataset\")\n",
      "plt.xlabel(\"x3 = x1 * x1\")\n",
      "plt.xlim(-1.1, 1.1)\n",
      "plt.ylabel(\"x4 = x2 * x2\")\n",
      "plt.ylim(-1.1, 1.1)\n",
      "for outcome, marker, colour in zip([0,1], \"x+\", \"rg\"):\n",
      "    plt.scatter(X_new[:, 2][y == outcome], X_new[:, 3][y == outcome], c = colour, marker = marker)\n",
      "plt.show()"
     ],
     "language": "python",
     "metadata": {},
     "outputs": [
      {
       "metadata": {},
       "output_type": "display_data",
       "png": "[encoded data removed]",
       "text": [
        "<matplotlib.figure.Figure at 0x7f776a9b6790>"
       ]
      }
     ],
     "prompt_number": 7
    },
    {
     "cell_type": "markdown",
     "metadata": {},
     "source": [
      "<p>\n",
      "    Now a linear decision boundary will separate the positIve and negative examples perfectly!\n",
      "    For example, we can take  $\\v{\\beta}_0 = -1, \\v{\\beta}_1 = 0, \\v{\\beta}_2 = 0, \\v{\\beta}_3 = 1, \\v{\\beta}_4 = 1$, i.e.\n",
      "    $$-1 \\times 1 + 0 \\times \\v{x}_1 + 0 \\times \\v{x}_2 + 1 \\times \\v{x}_3 + 1 \\times \\v{x}_4 = 0$$\n",
      "    which simplifies to \n",
      "    $$\\v{x}_3 + \\v{x}_4 = 1$$ \n",
      "    and, given how we created $\\v{x}_3$ and $\\v{x}_4$, this is the same as\n",
      "    $$\\v{x}_1^2 + \\v{x}_2^2 = 1$$\n",
      "    which you might recognise as the equation of a unit circle centred at zero.\n",
      "</p>"
     ]
    },
    {
     "cell_type": "heading",
     "level": 1,
     "metadata": {
      "slideshow": {
       "slide_type": "slide"
      }
     },
     "source": [
      "Feature Engineering: Derived Features"
     ]
    },
    {
     "cell_type": "markdown",
     "metadata": {},
     "source": [
      "<p>\n",
      "    The previous section exemplifies a general point. It can be worth adding additional features that are derived from the existing\n",
      "    features. You could consider adding:\n",
      "</p>\n",
      "<ul>\n",
      "    <li>higher-order polynomial features, such as the square or cube of an existing feature</li>\n",
      "    <li>interaction terms, such as the product or ratios of pairs of features</li>\n",
      "    <li>other transformations, such as the square root or log of a feature</li>\n",
      "</ul>\n",
      "<p>\n",
      "    An interesting observation is that using higher-order polynomial features can give some of the effects of a more complex model,\n",
      "    without moving to that more complex model. For example, the target function is not linear, but instead of moving to a learner\n",
      "    that can learn non-linear hypotheses, we give a linear model higher-order features. This doesn't wholly throw off the shackles of\n",
      "    your linear model: it is still learning additive functions of the features that you give it.\n",
      "</p>\n",
      "<p>\n",
      "    Often better still, is to derive these new features using domain-specific knowledge (e.g. with the help of your domain expert).\n",
      "    Here are a couple of examples:\n",
      "</p>\n",
      "<ul>\n",
      "    <li>\n",
      "        The first example is from <a href=\"http://blog.bigml.com/2013/02/21/everything-you-wanted-to-know-about-machine-learning-but-were-too-afraid-to-ask-part-two/\">this blog post</a>. \n",
      "        A dataset has four features: the longitude and latitude of two cities. The dependent variable classifies examples according to\n",
      "        whether it is reasonable to drive from one to the other, e.g.:\n",
      "        <table>\n",
      "            <tr><th>City 1 Lat.</th><th>City 1 Lng.</th><th>City 2 Lat.</th><th>City 2 Lng.</th><th>Drivable?</th></tr>\n",
      "            <tr><td>123.24</td><td>46.71</td><td>121.33</td><td>47.34</td><td>Yes</td></tr>\n",
      "            <tr><td>123.24</td><td>56.91</td><td>121.33</td><td>55.23</td><td>Yes</td></tr>\n",
      "            <tr><td>123.24</td><td>46.71</td><td>121.33</td><td>55.34</td><td>No</td></tr>\n",
      "            <tr><td>123.24</td><td>46.71</td><td>130.99</td><td>47.34</td><td>No</td></tr>\n",
      "        </table>\n",
      "        No simple learner (and certainly no learner that learns linear models) will do well at classifying examples like these.\n",
      "        What we're expecting it to work out is the <em>distance</em> between the two cities. In the case of longitide and\n",
      "        latitude (and distances between points on a sphere in general), this is given by the Haversine formula.\n",
      "        Even a learner whose hypothesis space is rich enough to include this formula is unlikely ever to discover it from\n",
      "        a set of examples like those above. But if you engage in feature engineering, it might occur to you to include\n",
      "        distance as an extra feature:\n",
      "        <table>\n",
      "            <tr><th>City 1 Lat.</th><th>City 1 Lng.</th><th>City 2 Lat.</th><th>City 2 Lng.</th><th>Distance (mi.)</th><th>Drivable?</th></tr>\n",
      "            <tr><td>123.24</td><td>46.71</td><td>121.33</td><td>47.34</td><td>14</td><td>Yes</td></tr>\n",
      "            <tr><td>123.24</td><td>56.91</td><td>121.33</td><td>55.23</td><td>28</td><td>Yes</td></tr>\n",
      "            <tr><td>123.24</td><td>46.71</td><td>121.33</td><td>55.34</td><td>705</td><td>No</td></tr>\n",
      "            <tr><td>123.24</td><td>46.71</td><td>130.99</td><td>47.34</td><td>2431</td><td>No</td></tr>\n",
      "        </table>        \n",
      "        And now it is easy to learn a hypothesis that does well &mdash; even for a learner that learns only linear models.\n",
      "    </li>\n",
      "    <li>\n",
      "        What possibly useful feature might you derive from the alcohol dataset? To remind you, its original features are:\n",
      "        <ul>\n",
      "            <li>age, height, weight, duration, elapsed, sex, last meal</li>\n",
      "        </ul>\n",
      "    </li>\n",
      "</ul>"
     ]
    },
    {
     "cell_type": "heading",
     "level": 1,
     "metadata": {
      "slideshow": {
       "slide_type": "slide"
      }
     },
     "source": [
      "Case Study: Titanic Dataset"
     ]
    },
    {
     "cell_type": "markdown",
     "metadata": {},
     "source": [
      "<p>\n",
      "    The Titanic dataset is available from <a href=\"http://www.kaggle.com\">Kaggle</a>. It records data about 891\n",
      "    Titanic passengers, and the job is to classify them according to whether they died (0) or surivied (1).\n",
      "    Here are its features and notes about simple data preparation:\n",
      "</p>\n",
      "<ul>\n",
      "    <li><b>PassengerId</b>\n",
      "        <ul>\n",
      "            <li>\n",
      "                There was a unique id, which I have removed from my copy of the csv file.\n",
      "            </li>\n",
      "        </ul>\n",
      "    </li>\n",
      "    <li><b>Survived</b>\n",
      "        <ul>\n",
      "            <li>\n",
      "                This is the class: 0 = died, 1 = survived. \n",
      "            </li>\n",
      "        </ul>\n",
      "    </li>\n",
      "    <li><b>Pclass</b>\n",
      "        <ul>\n",
      "            <li>\n",
      "                This is the class of travel: first (1), second (2) or third (3).\n",
      "            </li>\n",
      "        </ul>\n",
      "    </li>\n",
      "    <li><b>Name</b>\n",
      "        <ul>\n",
      "            <li>\n",
      "                This is the passenger's name. Ordinarily, we might delete this feature. Names are\n",
      "                (nearly) unique and so unlikely to be predictive. However, I have not deleted it, and we\n",
      "                will use it for some feature engineering later.\n",
      "            </li>\n",
      "        </ul>\n",
      "    </li>\n",
      "    <li><b>Sex</b>\n",
      "        <ul>\n",
      "            <li>\n",
      "                This is recorded as \"female\" or \"male\", and so we must binarize it.\n",
      "            </li>\n",
      "        </ul>\n",
      "    </li>\n",
      "    <li><b>Age</b>\n",
      "        <ul>\n",
      "            <li>\n",
      "                According to Kaggle, this is the age in years. But if a passenger's age is less than one,\n",
      "                a float is used (e.g. 0.83). Some people's ages are already estimates and these too are shown\n",
      "                in non-integer form (e.g. 28.5). There are 177 missing values. Rather than build a pipeline\n",
      "                that imputes mean age, we'll simply delete examples where the age is missing &mdash;\n",
      "                this is done just to make the code shorter and simpler for lecture purposes. In reality,\n",
      "                we are deleting too many examples. \n",
      "            </li>\n",
      "        </ul>\n",
      "    </li>\n",
      "    <li><b>SibSp</b>\n",
      "        <ul>\n",
      "            <li>\n",
      "                This is how many of the passenger's siblings (brothers, sisters, stepbrothers or stepsisters)\n",
      "                are aboard, plus one if the passenger's spouse (husband or wife) is aboard.\n",
      "            </li>\n",
      "        </ul>\n",
      "    </li>\n",
      "    <li><b>Parch</b>\n",
      "        <ul>\n",
      "            <li>\n",
      "                This is how many of the passenger's parents are aboard plus how many of the passenger's\n",
      "                children (sons, daughters, stepsons or stepdaughters) are aboard.\n",
      "            </li>\n",
      "        </ul>\n",
      "    </li>\n",
      "    <li><b>Ticket</b>\n",
      "        <ul>\n",
      "            <li>\n",
      "                This is the ticket number. Most are numeric but some are peculiar strings. Several people can\n",
      "                have the same ticket number, e.g. family, friends or servants traveling together. We won't\n",
      "                use this but I left it in because you can imagine that, suitably encoded, it could be predictive:\n",
      "                probably people traveling together share the same outcome. (I haven't checked this.)\n",
      "            </li>\n",
      "        </ul>\n",
      "    </li>\n",
      "    <li><b>Fare</b>\n",
      "        <ul>\n",
      "            <li>\n",
      "                Obviously, this is numeric. As noted in this <a href=\"http://triangleinequality.wordpress.com/2013/05/19/machine-learning-with-python-first-steps-munging/\">on-line\n",
      "                tutorial</a>, some fares are 0. This might be understandable if the passenger was a baby.\n",
      "                But that's not the case. Otherwise, the smallest fare is 4, so the zeros are either anomalies\n",
      "                or missing values. The best thing might be to impute the mean <em>for the passenger's Pclass</em>.\n",
      "                But, again, in the inerests of shorter code for lecture purposes, we'll delete these examples.\n",
      "            </li>\n",
      "        </ul>\n",
      "    </li>\n",
      "    <li><b>Cabin</b>\n",
      "        <ul>\n",
      "            <li>\n",
      "                This is the cabin number, e.g. C85. Only first class passengers have cabin numbers, so\n",
      "                687 are missing. We could binarize this feature. But perhaps we should delete it on the basis \n",
      "                that Pclass covers the same information. However, we will leave this feature untouched for\n",
      "                now (leaving the missing values as empty strings), and we will use it for some feature \n",
      "                engineering.\n",
      "            </li>\n",
      "        </ul>\n",
      "    </li>\n",
      "    <li><b>Embarked</b>\n",
      "        <ul>\n",
      "            <li>\n",
      "                This is the port of embarkation: \"C\" = Cherbourg; \"Q\" = Queenstown; \"S\" = Southampton.\n",
      "                You might think it is not predictive: why would your chances of surivial \n",
      "                depend on where you embarked? But, in fact, Southampton and Queenstown embarkees were\n",
      "                more likely to die. There might be a correlation here with Pclass: hardly any\n",
      "                Queenstown embarkees were first- or second-class. We will retain the feature. Since it\n",
      "                is nominal-valued, we will one-hot encode it. Before that, we will delete\n",
      "                the two examples that have missing values for this feature.\n",
      "            </li>\n",
      "        </ul>\n",
      "    </li>\n",
      "</ul>"
     ]
    },
    {
     "cell_type": "code",
     "collapsed": false,
     "input": [
      "# Use pandas to read the CSV file\n",
      "df = pd.read_csv(\"dataset-titanic.csv\")\n",
      "\n",
      "print(df.shape)\n",
      "\n",
      "df.describe()"
     ],
     "language": "python",
     "metadata": {},
     "outputs": [
      {
       "output_type": "stream",
       "stream": "stdout",
       "text": [
        "(891, 11)\n"
       ]
      },
      {
       "html": [
        "<div style=\"max-height:1000px;max-width:1500px;overflow:auto;\">\n",
        "<table border=\"1\" class=\"dataframe\">\n",
        "  <thead>\n",
        "    <tr style=\"text-align: right;\">\n",
        "      <th></th>\n",
        "      <th>Survived</th>\n",
        "      <th>Pclass</th>\n",
        "      <th>Age</th>\n",
        "      <th>SibSp</th>\n",
        "      <th>Parch</th>\n",
        "      <th>Fare</th>\n",
        "    </tr>\n",
        "  </thead>\n",
        "  <tbody>\n",
        "    <tr>\n",
        "      <th>count</th>\n",
        "      <td> 891.000000</td>\n",
        "      <td> 891.000000</td>\n",
        "      <td> 714.000000</td>\n",
        "      <td> 891.000000</td>\n",
        "      <td> 891.000000</td>\n",
        "      <td> 891.000000</td>\n",
        "    </tr>\n",
        "    <tr>\n",
        "      <th>mean</th>\n",
        "      <td>   0.383838</td>\n",
        "      <td>   2.308642</td>\n",
        "      <td>  29.699118</td>\n",
        "      <td>   0.523008</td>\n",
        "      <td>   0.381594</td>\n",
        "      <td>  32.204208</td>\n",
        "    </tr>\n",
        "    <tr>\n",
        "      <th>std</th>\n",
        "      <td>   0.486592</td>\n",
        "      <td>   0.836071</td>\n",
        "      <td>  14.526497</td>\n",
        "      <td>   1.102743</td>\n",
        "      <td>   0.806057</td>\n",
        "      <td>  49.693429</td>\n",
        "    </tr>\n",
        "    <tr>\n",
        "      <th>min</th>\n",
        "      <td>   0.000000</td>\n",
        "      <td>   1.000000</td>\n",
        "      <td>   0.420000</td>\n",
        "      <td>   0.000000</td>\n",
        "      <td>   0.000000</td>\n",
        "      <td>   0.000000</td>\n",
        "    </tr>\n",
        "    <tr>\n",
        "      <th>25%</th>\n",
        "      <td>   0.000000</td>\n",
        "      <td>   2.000000</td>\n",
        "      <td>  20.125000</td>\n",
        "      <td>   0.000000</td>\n",
        "      <td>   0.000000</td>\n",
        "      <td>   7.910400</td>\n",
        "    </tr>\n",
        "    <tr>\n",
        "      <th>50%</th>\n",
        "      <td>   0.000000</td>\n",
        "      <td>   3.000000</td>\n",
        "      <td>  28.000000</td>\n",
        "      <td>   0.000000</td>\n",
        "      <td>   0.000000</td>\n",
        "      <td>  14.454200</td>\n",
        "    </tr>\n",
        "    <tr>\n",
        "      <th>75%</th>\n",
        "      <td>   1.000000</td>\n",
        "      <td>   3.000000</td>\n",
        "      <td>  38.000000</td>\n",
        "      <td>   1.000000</td>\n",
        "      <td>   0.000000</td>\n",
        "      <td>  31.000000</td>\n",
        "    </tr>\n",
        "    <tr>\n",
        "      <th>max</th>\n",
        "      <td>   1.000000</td>\n",
        "      <td>   3.000000</td>\n",
        "      <td>  80.000000</td>\n",
        "      <td>   8.000000</td>\n",
        "      <td>   6.000000</td>\n",
        "      <td> 512.329200</td>\n",
        "    </tr>\n",
        "  </tbody>\n",
        "</table>\n",
        "</div>"
       ],
       "metadata": {},
       "output_type": "pyout",
       "prompt_number": 8,
       "text": [
        "         Survived      Pclass         Age       SibSp       Parch        Fare\n",
        "count  891.000000  891.000000  714.000000  891.000000  891.000000  891.000000\n",
        "mean     0.383838    2.308642   29.699118    0.523008    0.381594   32.204208\n",
        "std      0.486592    0.836071   14.526497    1.102743    0.806057   49.693429\n",
        "min      0.000000    1.000000    0.420000    0.000000    0.000000    0.000000\n",
        "25%      0.000000    2.000000   20.125000    0.000000    0.000000    7.910400\n",
        "50%      0.000000    3.000000   28.000000    0.000000    0.000000   14.454200\n",
        "75%      1.000000    3.000000   38.000000    1.000000    0.000000   31.000000\n",
        "max      1.000000    3.000000   80.000000    8.000000    6.000000  512.329200"
       ]
      }
     ],
     "prompt_number": 8
    },
    {
     "cell_type": "code",
     "collapsed": false,
     "input": [
      "df[['Name', 'Sex', 'Ticket', 'Cabin', 'Embarked']].describe()"
     ],
     "language": "python",
     "metadata": {},
     "outputs": [
      {
       "html": [
        "<div style=\"max-height:1000px;max-width:1500px;overflow:auto;\">\n",
        "<table border=\"1\" class=\"dataframe\">\n",
        "  <thead>\n",
        "    <tr style=\"text-align: right;\">\n",
        "      <th></th>\n",
        "      <th>Name</th>\n",
        "      <th>Sex</th>\n",
        "      <th>Ticket</th>\n",
        "      <th>Cabin</th>\n",
        "      <th>Embarked</th>\n",
        "    </tr>\n",
        "  </thead>\n",
        "  <tbody>\n",
        "    <tr>\n",
        "      <th>count</th>\n",
        "      <td>               891</td>\n",
        "      <td>  891</td>\n",
        "      <td>    891</td>\n",
        "      <td>     204</td>\n",
        "      <td> 889</td>\n",
        "    </tr>\n",
        "    <tr>\n",
        "      <th>unique</th>\n",
        "      <td>               891</td>\n",
        "      <td>    2</td>\n",
        "      <td>    681</td>\n",
        "      <td>     147</td>\n",
        "      <td>   3</td>\n",
        "    </tr>\n",
        "    <tr>\n",
        "      <th>top</th>\n",
        "      <td> Rugg, Miss. Emily</td>\n",
        "      <td> male</td>\n",
        "      <td> 347082</td>\n",
        "      <td> B96 B98</td>\n",
        "      <td>   S</td>\n",
        "    </tr>\n",
        "    <tr>\n",
        "      <th>freq</th>\n",
        "      <td>                 1</td>\n",
        "      <td>  577</td>\n",
        "      <td>      7</td>\n",
        "      <td>       4</td>\n",
        "      <td> 644</td>\n",
        "    </tr>\n",
        "  </tbody>\n",
        "</table>\n",
        "</div>"
       ],
       "metadata": {},
       "output_type": "pyout",
       "prompt_number": 9,
       "text": [
        "                     Name   Sex  Ticket    Cabin Embarked\n",
        "count                 891   891     891      204      889\n",
        "unique                891     2     681      147        3\n",
        "top     Rugg, Miss. Emily  male  347082  B96 B98        S\n",
        "freq                    1   577       7        4      644"
       ]
      }
     ],
     "prompt_number": 9
    },
    {
     "cell_type": "code",
     "collapsed": false,
     "input": [
      "# Sex\n",
      "df.replace({'Sex' : {'female' : 0, 'male' : 1}}, inplace=True)\n",
      "\n",
      "# Age, Fare, Embarked\n",
      "# Delete examples whose Age, Fare or Embarked is NaN\n",
      "df.dropna(subset=['Age', 'Fare', 'Embarked'], inplace=True)\n",
      "df.reset_index(drop=True, inplace=True)\n",
      "\n",
      "# Fare again\n",
      "# One-hot encode it\n",
      "one_hot = pd.get_dummies(df['Embarked'], 'Embarked', '_')\n",
      "df.drop('Embarked', axis=1, inplace=True)\n",
      "df = pd.concat([df, one_hot], axis=1)"
     ],
     "language": "python",
     "metadata": {},
     "outputs": [],
     "prompt_number": 10
    },
    {
     "cell_type": "heading",
     "level": 2,
     "metadata": {
      "slideshow": {
       "slide_type": "slide"
      }
     },
     "source": [
      "Higher-Order Features"
     ]
    },
    {
     "cell_type": "markdown",
     "metadata": {},
     "source": [
      "<p>\n",
      "    Now for some feature engineering. We'll create a few new features in a mindless way: just squaring and cubing the numeric\n",
      "    features (Age, SibSp, Parch and Fare):\n",
      "</p>"
     ]
    },
    {
     "cell_type": "code",
     "collapsed": false,
     "input": [
      "# Age\n",
      "age_values = df['Age'].values\n",
      "age_squared = age_values * age_values\n",
      "age_cubed = age_squared * age_values\n",
      "df['AgeSquared'] = age_squared\n",
      "df['AgeCubed'] = age_cubed\n",
      "\n",
      "# SibSp\n",
      "sibsp_values = df['SibSp'].values\n",
      "sibsp_squared = sibsp_values * sibsp_values\n",
      "sibsp_cubed = sibsp_squared * sibsp_values\n",
      "df['SibSpSquared'] = sibsp_squared\n",
      "df['SibSpCubed'] = sibsp_cubed\n",
      "\n",
      "# Parch\n",
      "parch_values = df['Parch'].values\n",
      "parch_squared = parch_values * parch_values\n",
      "parch_cubed = parch_squared * parch_values\n",
      "df['ParchSquared'] = parch_squared\n",
      "df['ParchCubed'] = parch_cubed\n",
      "\n",
      "# Fare\n",
      "fare_values = df['Fare'].values\n",
      "fare_squared = fare_values * fare_values\n",
      "fare_cubed = fare_squared * fare_values\n",
      "df['FareSquared'] = fare_squared\n",
      "df['FareCubed'] = fare_cubed"
     ],
     "language": "python",
     "metadata": {},
     "outputs": [],
     "prompt_number": 11
    },
    {
     "cell_type": "heading",
     "level": 2,
     "metadata": {
      "slideshow": {
       "slide_type": "slide"
      }
     },
     "source": [
      "Domain-Inspired Feature Engineering"
     ]
    },
    {
     "cell_type": "markdown",
     "metadata": {},
     "source": [
      "<p>\n",
      "    And now some feature engineering that is driven a little more by intuitions about the domain. All of these are based on\n",
      "    <a href=\"http://triangleinequality.wordpress.com/2013/09/08/basic-feature-engineering-with-the-titanic-data/\">this on-line\n",
      "    tutorial</a>.\n",
      "</p>\n",
      "<ul>\n",
      "    <li><b>Title</b>\n",
      "        <ul>\n",
      "            <li>\n",
      "                We can extract a person's title from the Name feature. The titles to be found are: 'Mrs', 'Mr', 'Master', 'Miss', 'Major',\n",
      "                'Rev', 'Dr', 'Ms', 'Mlle', 'Col', 'Capt', 'Mme', 'Countess', 'Don', and 'Jonkheer'. There will be some missing\n",
      "                values, which we will leave as they are. Then we'll one-hot encode this. We'll replace the Name feature by\n",
      "                these new features.\n",
      "            </li>\n",
      "        </ul>\n",
      "    </li>\n",
      "</ul>"
     ]
    },
    {
     "cell_type": "code",
     "collapsed": false,
     "input": [
      "# Title\n",
      "def find_one(substrs, superstr):\n",
      "    for substr in substrs:\n",
      "        if superstr.find(substr) != -1:\n",
      "            return substr\n",
      "    return ''\n",
      "\n",
      "name_values = df['Name'].values\n",
      "title_values = [] \n",
      "for name_value in name_values:\n",
      "    title_values.append(find_one(['Mrs', 'Mr', 'Master', 'Miss', 'Major', 'Rev', 'Dr', 'Ms', 'Mlle',\n",
      "                                   'Col', 'Capt', 'Mme', 'Countess', 'Don', 'Jonkheer'], name_value))\n",
      "one_hot = pd.get_dummies(title_values, 'Title', '_')\n",
      "df.drop('Name', axis=1, inplace=True)\n",
      "df = pd.concat([df, one_hot], axis=1)"
     ],
     "language": "python",
     "metadata": {},
     "outputs": [],
     "prompt_number": 12
    },
    {
     "cell_type": "markdown",
     "metadata": {},
     "source": [
      "<ul>\n",
      "    <li><b>Deck</b>\n",
      "        <ul>\n",
      "            <li>\n",
      "                For first-class passengers, the Cabin feature records the cabin number(s), e.g. C85. The first character is the\n",
      "                deck, and this may well be predictive. So we will extract it, like we did Title. Missing values will be \n",
      "                turned into empty strings. Then we'll one-hot encode. We'll replace the Deck feature by these new features.\n",
      "            </li>\n",
      "        </ul>\n",
      "    </li>\n",
      "</ul>"
     ]
    },
    {
     "cell_type": "code",
     "collapsed": false,
     "input": [
      "# Deck\n",
      "cabin_values = df['Cabin'].values\n",
      "deck_values = [] \n",
      "for cabin_value in cabin_values:\n",
      "    if str(cabin_value) == 'nan':\n",
      "        deck_values.append('')\n",
      "    else:\n",
      "        deck_values.append(find_one(['A', 'B', 'C', 'D', 'E', 'F', 'T', 'G'], cabin_value))\n",
      "one_hot = pd.get_dummies(deck_values, 'Deck', '_')\n",
      "df.drop('Cabin', axis=1, inplace=True)\n",
      "df = pd.concat([df, one_hot], axis=1)"
     ],
     "language": "python",
     "metadata": {},
     "outputs": [],
     "prompt_number": 13
    },
    {
     "cell_type": "heading",
     "level": 2,
     "metadata": {
      "slideshow": {
       "slide_type": "slide"
      }
     },
     "source": [
      "Interaction Features"
     ]
    },
    {
     "cell_type": "markdown",
     "metadata": {},
     "source": [
      "<p>\n",
      "    Let's throw in some examples of interaction features: sums, products and ratios.\n",
      "</p>\n",
      "<ul>\n",
      "    <li><b>FamSize</b>\n",
      "        <ul>\n",
      "            <li>\n",
      "                We can create a feature from the sum of SibSp and Parch. It might be predictive: perhaps people traveling alone or \n",
      "                in smaller groups\n",
      "                did better by wasting less time trying to help other members of their party. Of course, for logistic regression,\n",
      "                we don't really need to create new additive features, since its hypotheses are already based on (weighted) sums\n",
      "                of the features. But this feature might be helpful to other classifiers.\n",
      "            </li>\n",
      "        </ul>\n",
      "    </li>\n",
      "    <li><b>AgePclass</b>\n",
      "        <ul>\n",
      "            <li>\n",
      "                This interaction feature is not additive:\n",
      "                it is the product of the Age and Pclass. The (somewhat\n",
      "                tenuous) rationale is that young rich people (small age, small Pclass, giving small product) are more likely\n",
      "                to survive than old poor people (high age, high Pclass, giving high product), so low values will correlate with\n",
      "                survival.\n",
      "            </li>\n",
      "        </ul>\n",
      "    </li>\n",
      "    <li><b>FarePerPerson</b>\n",
      "        <ul>\n",
      "            <li>\n",
      "                This is Fare divided by FamSize.\n",
      "            </li>\n",
      "        </ul>\n",
      "    </li>\n",
      "</ul> "
     ]
    },
    {
     "cell_type": "code",
     "collapsed": false,
     "input": [
      "# FamSize\n",
      "sibsp_values = df['SibSp'].values\n",
      "parch_values = df['Parch'].values\n",
      "famsize = sibsp_values + parch_values + 1\n",
      "df['FamSize'] = famsize\n",
      "\n",
      "# AgePclass\n",
      "age_values = df['Age'].values\n",
      "pclass_values = df['Pclass'].values\n",
      "agepclass = age_values * pclass_values\n",
      "df['AgePclass'] = agepclass\n",
      "\n",
      "# FarePerPerson\n",
      "fare_values = df['Fare'].values\n",
      "fareperperson = fare_values / famsize\n",
      "df['FarePerPerson'] = fareperperson"
     ],
     "language": "python",
     "metadata": {},
     "outputs": [],
     "prompt_number": 14
    },
    {
     "cell_type": "heading",
     "level": 2,
     "metadata": {
      "slideshow": {
       "slide_type": "slide"
      }
     },
     "source": [
      "Trying Out the New Features"
     ]
    },
    {
     "cell_type": "markdown",
     "metadata": {},
     "source": [
      "<p>\n",
      "    So now let's do some error estimation. We'll use logistic regression (but with $\\cal{l}_1$-norm regularization) \n",
      "    and 10-fold cross validation.\n",
      "    We'll try it (a) with just the original features (after preprocessing them and excluding the ones we left in but didn't intend to\n",
      "    use such as Name, Ticket and Cabin), (b) with the originals plus all the\n",
      "    higher-order polynomial terms, (c) with the originals plus the domain-specific ones we engineered but without the higher-order\n",
      "    polynomial terms, and (d) with all of them.\n",
      "</p>"
     ]
    },
    {
     "cell_type": "code",
     "collapsed": false,
     "input": [
      "from sklearn.linear_model import LogisticRegression\n",
      "from sklearn.cross_validation import cross_val_score\n",
      "\n",
      "def run(X, y):\n",
      "    estimator = LogisticRegression(penalty = 'l1', C = 1)\n",
      "    accuracies_test = cross_val_score(estimator, X, y, scoring = 'accuracy', cv = 10)\n",
      "    return np.mean(accuracies_test)\n",
      "\n",
      "X = df[['Pclass', 'Sex', 'Age', 'SibSp', 'Parch', 'Fare', 'Embarked_C', 'Embarked_Q', 'Embarked_S']].values\n",
      "y = df['Survived'].values\n",
      "print \"Original: \", run(X, y)\n",
      "\n",
      "X = df[['Pclass', 'Sex', 'Age', 'SibSp', 'Parch', 'Fare', 'Embarked_C', 'Embarked_Q', 'Embarked_S',\n",
      "        'AgeSquared', 'AgeCubed', 'SibSpSquared', 'SibSpCubed', 'ParchSquared', 'ParchCubed', 'FareSquared', 'FareCubed']].values\n",
      "print \"Original + Higher-order Polynomials: \", run(X, y)\n",
      "\n",
      "X = df[['Pclass', 'Sex', 'Age', 'SibSp', 'Parch', 'Fare', 'Embarked_C', 'Embarked_Q', 'Embarked_S',\n",
      "        'Title_Mrs', 'Title_Mr', 'Title_Master', 'Title_Miss', 'Title_Major', 'Title_Rev', 'Title_Dr', 'Title_Ms', \n",
      "        'Title_Mlle', 'Title_Col', 'Title_Capt', 'Title_Mme', 'Title_Countess', 'Title_Don', 'Title_Jonkheer',\n",
      "        'Deck_', 'Deck_A', 'Deck_B', 'Deck_C', 'Deck_D', 'Deck_E', 'Deck_F', 'Deck_T', 'Deck_G',\n",
      "        'FamSize', 'AgePclass', 'FarePerPerson']].values\n",
      "print \"Original + Domain-Specific: \", run(X, y)\n",
      "\n",
      "X = df[['Pclass', 'Sex', 'Age', 'SibSp', 'Parch', 'Fare', 'Embarked_C', 'Embarked_Q', 'Embarked_S',\n",
      "        'AgeSquared', 'AgeCubed', 'SibSpSquared', 'SibSpCubed', 'ParchSquared', 'ParchCubed', 'FareSquared', 'FareCubed',\n",
      "        'Title_Mrs', 'Title_Mr', 'Title_Master', 'Title_Miss', 'Title_Major', 'Title_Rev', 'Title_Dr', 'Title_Ms', \n",
      "        'Title_Mlle', 'Title_Col', 'Title_Capt', 'Title_Mme', 'Title_Countess', 'Title_Don', 'Title_Jonkheer',\n",
      "        'Deck_', 'Deck_A', 'Deck_B', 'Deck_C', 'Deck_D', 'Deck_E', 'Deck_F', 'Deck_T', 'Deck_G',\n",
      "        'FamSize', 'AgePclass', 'FarePerPerson']].values\n",
      "print \"All: \", run(X, y)"
     ],
     "language": "python",
     "metadata": {},
     "outputs": [
      {
       "output_type": "stream",
       "stream": "stdout",
       "text": [
        "Original:  "
       ]
      },
      {
       "output_type": "stream",
       "stream": "stdout",
       "text": [
        "0.709776995305\n",
        "Original + Higher-order Polynomials:  "
       ]
      },
      {
       "output_type": "stream",
       "stream": "stdout",
       "text": [
        "0.71957690588\n",
        "Original + Domain-Specific:  "
       ]
      },
      {
       "output_type": "stream",
       "stream": "stdout",
       "text": [
        "0.725488486474\n",
        "All:  "
       ]
      },
      {
       "output_type": "stream",
       "stream": "stdout",
       "text": [
        "0.719973731277\n"
       ]
      }
     ],
     "prompt_number": 15
    }
   ],
   "metadata": {}
  }
 ]
}