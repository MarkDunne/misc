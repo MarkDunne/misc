{
 "cells": [
  {
   "cell_type": "code",
   "execution_count": 1,
   "metadata": {
    "collapsed": false
   },
   "outputs": [],
   "source": [
    "import numpy as np\n",
    "import pandas as pd"
   ]
  },
  {
   "cell_type": "markdown",
   "metadata": {},
   "source": [
    "# Bloomberg"
   ]
  },
  {
   "cell_type": "code",
   "execution_count": 2,
   "metadata": {
    "collapsed": false
   },
   "outputs": [],
   "source": [
    "data = pd.read_csv('temp2.csv', index_col=0)"
   ]
  },
  {
   "cell_type": "code",
   "execution_count": 3,
   "metadata": {
    "collapsed": false
   },
   "outputs": [
    {
     "data": {
      "text/html": [
       "<div style=\"max-height:1000px;max-width:1500px;overflow:auto;\">\n",
       "<table border=\"1\" class=\"dataframe\">\n",
       "  <thead>\n",
       "    <tr style=\"text-align: right;\">\n",
       "      <th></th>\n",
       "      <th>USD</th>\n",
       "      <th>EUR</th>\n",
       "      <th>JPY</th>\n",
       "      <th>GBP</th>\n",
       "      <th>CHF</th>\n",
       "      <th>CAD</th>\n",
       "      <th>AUD</th>\n",
       "      <th>HKD</th>\n",
       "    </tr>\n",
       "    <tr>\n",
       "      <th>CUR</th>\n",
       "      <th></th>\n",
       "      <th></th>\n",
       "      <th></th>\n",
       "      <th></th>\n",
       "      <th></th>\n",
       "      <th></th>\n",
       "      <th></th>\n",
       "      <th></th>\n",
       "    </tr>\n",
       "  </thead>\n",
       "  <tbody>\n",
       "    <tr>\n",
       "      <th>USD</th>\n",
       "      <td>   1.0000</td>\n",
       "      <td>   1.0889</td>\n",
       "      <td> 0.0084</td>\n",
       "      <td>   1.4879</td>\n",
       "      <td>   1.0400</td>\n",
       "      <td>  0.7928</td>\n",
       "      <td>  0.7752</td>\n",
       "      <td>  0.1290</td>\n",
       "    </tr>\n",
       "    <tr>\n",
       "      <th>EUR</th>\n",
       "      <td>   0.9183</td>\n",
       "      <td>   1.0000</td>\n",
       "      <td> 0.0077</td>\n",
       "      <td>   1.3661</td>\n",
       "      <td>   0.9548</td>\n",
       "      <td>  0.7279</td>\n",
       "      <td>  0.7116</td>\n",
       "      <td>  0.1184</td>\n",
       "    </tr>\n",
       "    <tr>\n",
       "      <th>JPY</th>\n",
       "      <td> 119.1300</td>\n",
       "      <td> 129.7300</td>\n",
       "      <td> 1.0000</td>\n",
       "      <td> 177.3680</td>\n",
       "      <td> 123.8960</td>\n",
       "      <td> 94.4740</td>\n",
       "      <td> 92.3510</td>\n",
       "      <td> 15.3635</td>\n",
       "    </tr>\n",
       "    <tr>\n",
       "      <th>GBP</th>\n",
       "      <td>   0.6724</td>\n",
       "      <td>   0.7321</td>\n",
       "      <td> 0.0056</td>\n",
       "      <td>   1.0000</td>\n",
       "      <td>   0.6992</td>\n",
       "      <td>  0.5330</td>\n",
       "      <td>  0.5211</td>\n",
       "      <td>  0.0867</td>\n",
       "    </tr>\n",
       "    <tr>\n",
       "      <th>CHF</th>\n",
       "      <td>   0.9618</td>\n",
       "      <td>   1.0471</td>\n",
       "      <td> 0.0081</td>\n",
       "      <td>   1.4314</td>\n",
       "      <td>   1.0000</td>\n",
       "      <td>  0.7629</td>\n",
       "      <td>  0.7471</td>\n",
       "      <td>  0.1240</td>\n",
       "    </tr>\n",
       "    <tr>\n",
       "      <th>CAD</th>\n",
       "      <td>   1.2609</td>\n",
       "      <td>   1.3732</td>\n",
       "      <td> 0.0106</td>\n",
       "      <td>   1.8757</td>\n",
       "      <td>   1.3117</td>\n",
       "      <td>  1.0000</td>\n",
       "      <td>  0.9775</td>\n",
       "      <td>  0.1627</td>\n",
       "    </tr>\n",
       "    <tr>\n",
       "      <th>AUD</th>\n",
       "      <td>   1.2907</td>\n",
       "      <td>   1.4046</td>\n",
       "      <td> 0.0108</td>\n",
       "      <td>   1.9197</td>\n",
       "      <td>   1.3421</td>\n",
       "      <td>  1.0231</td>\n",
       "      <td>  1.0000</td>\n",
       "      <td>  0.1664</td>\n",
       "    </tr>\n",
       "    <tr>\n",
       "      <th>HKD</th>\n",
       "      <td>   7.7535</td>\n",
       "      <td>   8.4429</td>\n",
       "      <td> 0.0651</td>\n",
       "      <td>  11.5325</td>\n",
       "      <td>   8.0629</td>\n",
       "      <td>  6.1464</td>\n",
       "      <td>  6.0079</td>\n",
       "      <td>  1.0000</td>\n",
       "    </tr>\n",
       "  </tbody>\n",
       "</table>\n",
       "</div>"
      ],
      "text/plain": [
       "          USD       EUR     JPY       GBP       CHF      CAD      AUD      HKD\n",
       "CUR                                                                           \n",
       "USD    1.0000    1.0889  0.0084    1.4879    1.0400   0.7928   0.7752   0.1290\n",
       "EUR    0.9183    1.0000  0.0077    1.3661    0.9548   0.7279   0.7116   0.1184\n",
       "JPY  119.1300  129.7300  1.0000  177.3680  123.8960  94.4740  92.3510  15.3635\n",
       "GBP    0.6724    0.7321  0.0056    1.0000    0.6992   0.5330   0.5211   0.0867\n",
       "CHF    0.9618    1.0471  0.0081    1.4314    1.0000   0.7629   0.7471   0.1240\n",
       "CAD    1.2609    1.3732  0.0106    1.8757    1.3117   1.0000   0.9775   0.1627\n",
       "AUD    1.2907    1.4046  0.0108    1.9197    1.3421   1.0231   1.0000   0.1664\n",
       "HKD    7.7535    8.4429  0.0651   11.5325    8.0629   6.1464   6.0079   1.0000"
      ]
     },
     "execution_count": 3,
     "metadata": {},
     "output_type": "execute_result"
    }
   ],
   "source": [
    "data"
   ]
  },
  {
   "cell_type": "code",
   "execution_count": 4,
   "metadata": {
    "collapsed": false
   },
   "outputs": [],
   "source": [
    "currencies = data.columns"
   ]
  },
  {
   "cell_type": "code",
   "execution_count": 5,
   "metadata": {
    "collapsed": false
   },
   "outputs": [
    {
     "data": {
      "text/plain": [
       "['USD', 'EUR', 'JPY', 'GBP', 'CHF', 'CAD', 'AUD', 'HKD']"
      ]
     },
     "execution_count": 5,
     "metadata": {},
     "output_type": "execute_result"
    }
   ],
   "source": [
    "list(currencies)"
   ]
  },
  {
   "cell_type": "code",
   "execution_count": 6,
   "metadata": {
    "collapsed": false
   },
   "outputs": [
    {
     "name": "stdout",
     "output_type": "stream",
     "text": [
      "0.143957748857 ['EUR', 'CAD', 'CHF', 'GBP', 'AUD', 'USD', 'HKD', 'JPY', 'EUR']\n",
      "0.1944834968 ['EUR', 'CHF', 'AUD', 'EUR']\n",
      "0.36879776696 ['EUR', 'CHF', 'JPY', 'USD', 'GBP', 'CAD', 'HKD', 'EUR']\n",
      "0.437880337728 ['EUR', 'CAD', 'HKD', 'AUD', 'CHF', 'JPY', 'GBP', 'EUR']\n",
      "0.447155962982 ['EUR', 'HKD', 'CHF', 'JPY', 'GBP', 'AUD', 'USD', 'EUR']\n",
      "0.472038691736 ['EUR', 'CAD', 'HKD', 'CHF', 'JPY', 'GBP', 'AUD', 'USD', 'EUR']\n"
     ]
    }
   ],
   "source": [
    "curr = 'EUR'\n",
    "value = 100\n",
    "path = ['EUR']\n",
    "best_path = []\n",
    "best_value = 100\n",
    "path_choice = list(currencies)\n",
    "\n",
    "for i in range(10000):\n",
    "    next_curr = np.random.choice(path_choice)\n",
    "    exchange = data.ix[curr][next_curr]    \n",
    "    value *= exchange\n",
    "    curr = next_curr\n",
    "    path.append(next_curr)\n",
    "    path_choice.remove(next_curr)\n",
    "    \n",
    "    if next_curr == 'EUR':\n",
    "        if value > best_value:\n",
    "            best_value = value\n",
    "            best_path = path\n",
    "            print best_value - 100, best_path\n",
    "        value = 100\n",
    "        path = ['EUR']\n",
    "        path_choice = list(currencies)"
   ]
  },
  {
   "cell_type": "markdown",
   "metadata": {},
   "source": [
    "## BTC-e"
   ]
  },
  {
   "cell_type": "code",
   "execution_count": 7,
   "metadata": {
    "collapsed": false
   },
   "outputs": [],
   "source": [
    "pairs = list(pd.read_json(\"https://btc-e.com/api/3/info\").index)\n",
    "data = pd.read_json(\"https://btc-e.com/api/3/ticker/\" + \"-\".join(pairs))\n",
    "currs = [pair.split(\"_\") for pair in pairs]\n",
    "currs = list(set(sum(currs, [])))"
   ]
  },
  {
   "cell_type": "code",
   "execution_count": 8,
   "metadata": {
    "collapsed": false
   },
   "outputs": [
    {
     "data": {
      "text/html": [
       "<div style=\"max-height:1000px;max-width:1500px;overflow:auto;\">\n",
       "<table border=\"1\" class=\"dataframe\">\n",
       "  <thead>\n",
       "    <tr style=\"text-align: right;\">\n",
       "      <th></th>\n",
       "      <th>ppc</th>\n",
       "      <th>usd</th>\n",
       "      <th>btc</th>\n",
       "      <th>ltc</th>\n",
       "      <th>nvc</th>\n",
       "      <th>nmc</th>\n",
       "      <th>gbp</th>\n",
       "      <th>rur</th>\n",
       "      <th>cnh</th>\n",
       "      <th>eur</th>\n",
       "    </tr>\n",
       "  </thead>\n",
       "  <tbody>\n",
       "    <tr>\n",
       "      <th>ppc</th>\n",
       "      <td>      NaN</td>\n",
       "      <td>    0.22954</td>\n",
       "      <td>   0.00098802</td>\n",
       "      <td>       NaN</td>\n",
       "      <td>      NaN</td>\n",
       "      <td>      NaN</td>\n",
       "      <td>       NaN</td>\n",
       "      <td>      NaN</td>\n",
       "      <td>      NaN</td>\n",
       "      <td>        NaN</td>\n",
       "    </tr>\n",
       "    <tr>\n",
       "      <th>usd</th>\n",
       "      <td> 4.320346</td>\n",
       "      <td>        NaN</td>\n",
       "      <td>  0.004355302</td>\n",
       "      <td> 0.7063491</td>\n",
       "      <td> 2.310185</td>\n",
       "      <td> 3.042683</td>\n",
       "      <td> 0.6634315</td>\n",
       "      <td> 51.88603</td>\n",
       "      <td> 6.390194</td>\n",
       "      <td>  0.9423629</td>\n",
       "    </tr>\n",
       "    <tr>\n",
       "      <th>btc</th>\n",
       "      <td>      998</td>\n",
       "      <td>    228.566</td>\n",
       "      <td>          NaN</td>\n",
       "      <td>   162.013</td>\n",
       "      <td> 522.5131</td>\n",
       "      <td> 697.9021</td>\n",
       "      <td>  150.7882</td>\n",
       "      <td> 11902.21</td>\n",
       "      <td>  1457.09</td>\n",
       "      <td>   214.5946</td>\n",
       "    </tr>\n",
       "    <tr>\n",
       "      <th>ltc</th>\n",
       "      <td>      NaN</td>\n",
       "      <td>   1.405184</td>\n",
       "      <td>    0.0061377</td>\n",
       "      <td>       NaN</td>\n",
       "      <td>      NaN</td>\n",
       "      <td>      NaN</td>\n",
       "      <td>  0.931134</td>\n",
       "      <td> 73.06358</td>\n",
       "      <td>  8.96204</td>\n",
       "      <td>   1.321352</td>\n",
       "    </tr>\n",
       "    <tr>\n",
       "      <th>nvc</th>\n",
       "      <td>      NaN</td>\n",
       "      <td>   0.425148</td>\n",
       "      <td>   0.00187624</td>\n",
       "      <td>       NaN</td>\n",
       "      <td>      NaN</td>\n",
       "      <td>      NaN</td>\n",
       "      <td>       NaN</td>\n",
       "      <td>      NaN</td>\n",
       "      <td>      NaN</td>\n",
       "      <td>        NaN</td>\n",
       "    </tr>\n",
       "    <tr>\n",
       "      <th>nmc</th>\n",
       "      <td>      NaN</td>\n",
       "      <td>    0.32435</td>\n",
       "      <td>   0.00140718</td>\n",
       "      <td>       NaN</td>\n",
       "      <td>      NaN</td>\n",
       "      <td>      NaN</td>\n",
       "      <td>       NaN</td>\n",
       "      <td>      NaN</td>\n",
       "      <td>      NaN</td>\n",
       "      <td>        NaN</td>\n",
       "    </tr>\n",
       "    <tr>\n",
       "      <th>gbp</th>\n",
       "      <td>      NaN</td>\n",
       "      <td>   1.485423</td>\n",
       "      <td>  0.006410054</td>\n",
       "      <td>  1.040667</td>\n",
       "      <td>      NaN</td>\n",
       "      <td>      NaN</td>\n",
       "      <td>       NaN</td>\n",
       "      <td>      NaN</td>\n",
       "      <td>      NaN</td>\n",
       "      <td>        NaN</td>\n",
       "    </tr>\n",
       "    <tr>\n",
       "      <th>rur</th>\n",
       "      <td>      NaN</td>\n",
       "      <td> 0.01906763</td>\n",
       "      <td> 8.316667e-05</td>\n",
       "      <td> 0.0134156</td>\n",
       "      <td>      NaN</td>\n",
       "      <td>      NaN</td>\n",
       "      <td>       NaN</td>\n",
       "      <td>      NaN</td>\n",
       "      <td>      NaN</td>\n",
       "      <td> 0.01798522</td>\n",
       "    </tr>\n",
       "    <tr>\n",
       "      <th>cnh</th>\n",
       "      <td>      NaN</td>\n",
       "      <td>  0.1549714</td>\n",
       "      <td> 0.0006734234</td>\n",
       "      <td> 0.1108889</td>\n",
       "      <td>      NaN</td>\n",
       "      <td>      NaN</td>\n",
       "      <td>       NaN</td>\n",
       "      <td>      NaN</td>\n",
       "      <td>      NaN</td>\n",
       "      <td>        NaN</td>\n",
       "    </tr>\n",
       "    <tr>\n",
       "      <th>eur</th>\n",
       "      <td>      NaN</td>\n",
       "      <td>   1.054866</td>\n",
       "      <td>  0.004615841</td>\n",
       "      <td> 0.7481259</td>\n",
       "      <td>      NaN</td>\n",
       "      <td>      NaN</td>\n",
       "      <td>       NaN</td>\n",
       "      <td> 54.50079</td>\n",
       "      <td>      NaN</td>\n",
       "      <td>        NaN</td>\n",
       "    </tr>\n",
       "  </tbody>\n",
       "</table>\n",
       "</div>"
      ],
      "text/plain": [
       "          ppc         usd           btc        ltc       nvc       nmc  \\\n",
       "ppc       NaN     0.22954    0.00098802        NaN       NaN       NaN   \n",
       "usd  4.320346         NaN   0.004355302  0.7063491  2.310185  3.042683   \n",
       "btc       998     228.566           NaN    162.013  522.5131  697.9021   \n",
       "ltc       NaN    1.405184     0.0061377        NaN       NaN       NaN   \n",
       "nvc       NaN    0.425148    0.00187624        NaN       NaN       NaN   \n",
       "nmc       NaN     0.32435    0.00140718        NaN       NaN       NaN   \n",
       "gbp       NaN    1.485423   0.006410054   1.040667       NaN       NaN   \n",
       "rur       NaN  0.01906763  8.316667e-05  0.0134156       NaN       NaN   \n",
       "cnh       NaN   0.1549714  0.0006734234  0.1108889       NaN       NaN   \n",
       "eur       NaN    1.054866   0.004615841  0.7481259       NaN       NaN   \n",
       "\n",
       "           gbp       rur       cnh         eur  \n",
       "ppc        NaN       NaN       NaN         NaN  \n",
       "usd  0.6634315  51.88603  6.390194   0.9423629  \n",
       "btc   150.7882  11902.21   1457.09    214.5946  \n",
       "ltc   0.931134  73.06358   8.96204    1.321352  \n",
       "nvc        NaN       NaN       NaN         NaN  \n",
       "nmc        NaN       NaN       NaN         NaN  \n",
       "gbp        NaN       NaN       NaN         NaN  \n",
       "rur        NaN       NaN       NaN  0.01798522  \n",
       "cnh        NaN       NaN       NaN         NaN  \n",
       "eur        NaN  54.50079       NaN         NaN  "
      ]
     },
     "execution_count": 8,
     "metadata": {},
     "output_type": "execute_result"
    }
   ],
   "source": [
    "exchanges = pd.DataFrame(index=currs, columns=currs)\n",
    "for pair in pairs:\n",
    "    from_curr, to_curr = pair.split(\"_\")\n",
    "    exchanges.ix[from_curr][to_curr] = data[pair]['sell'] * 0.998\n",
    "    exchanges.ix[to_curr][from_curr] =  (1 / data[pair]['buy']) * 0.998\n",
    "    \n",
    "exchanges"
   ]
  },
  {
   "cell_type": "code",
   "execution_count": 9,
   "metadata": {
    "collapsed": false
   },
   "outputs": [
    {
     "name": "stdout",
     "output_type": "stream",
     "text": [
      "-3.5023235049 [u'rur', u'usd', u'eur', u'ltc', u'btc', u'eur', u'rur']\n",
      "-2.65826342459 [u'usd', u'nvc', u'btc', u'ltc', u'rur', u'eur', u'usd']\n",
      "-1.87615217209 [u'btc', u'cnh', u'btc']\n",
      "-0.228344304505 [u'usd', u'btc', u'ppc', u'usd']\n"
     ]
    }
   ],
   "source": [
    "best_path = []\n",
    "best_value = 0\n",
    "\n",
    "for i in range(1000):\n",
    "    \n",
    "    value = 100\n",
    "    starting_curr = np.random.choice(currs)\n",
    "    \n",
    "    path = [starting_curr]\n",
    "    curr = starting_curr        \n",
    "    next_curr = None    \n",
    "    \n",
    "    while next_curr != starting_curr:        \n",
    "        next_curr = np.random.choice(exchanges.ix[curr].dropna().index)\n",
    "        rate = exchanges.ix[curr][next_curr]\n",
    "        value *= rate\n",
    "        curr = next_curr\n",
    "        path.append(next_curr)\n",
    "    \n",
    "    if value > best_value:\n",
    "        best_value = value\n",
    "        best_path = path\n",
    "        \n",
    "        print value - 100, path    "
   ]
  },
  {
   "cell_type": "markdown",
   "metadata": {},
   "source": [
    "# Bitfinex"
   ]
  },
  {
   "cell_type": "code",
   "execution_count": 10,
   "metadata": {
    "collapsed": false
   },
   "outputs": [],
   "source": [
    "pairs = list(pd.read_json(\"https://api.bitfinex.com/v1/symbols\")[0])\n",
    "currs = [[a[:3], a[3:]] for a in pairs]\n",
    "currs = list(set(sum(currs, [])))\n",
    "# data = pd.read_json(\"https://api.bitfinex.com/v1/pubticker/\" + \"-\".join(pairs))"
   ]
  },
  {
   "cell_type": "code",
   "execution_count": 11,
   "metadata": {
    "collapsed": false
   },
   "outputs": [
    {
     "data": {
      "text/html": [
       "<div style=\"max-height:1000px;max-width:1500px;overflow:auto;\">\n",
       "<table border=\"1\" class=\"dataframe\">\n",
       "  <thead>\n",
       "    <tr style=\"text-align: right;\">\n",
       "      <th></th>\n",
       "      <th>ltc</th>\n",
       "      <th>drk</th>\n",
       "      <th>usd</th>\n",
       "      <th>btc</th>\n",
       "    </tr>\n",
       "  </thead>\n",
       "  <tbody>\n",
       "    <tr>\n",
       "      <th>ltc</th>\n",
       "      <td>       NaN</td>\n",
       "      <td>       NaN</td>\n",
       "      <td> 1.419356</td>\n",
       "      <td>  0.00614768</td>\n",
       "    </tr>\n",
       "    <tr>\n",
       "      <th>drk</th>\n",
       "      <td>       NaN</td>\n",
       "      <td>       NaN</td>\n",
       "      <td> 3.224837</td>\n",
       "      <td>  0.01394206</td>\n",
       "    </tr>\n",
       "    <tr>\n",
       "      <th>usd</th>\n",
       "      <td> 0.6989774</td>\n",
       "      <td> 0.3068032</td>\n",
       "      <td>      NaN</td>\n",
       "      <td> 0.004310457</td>\n",
       "    </tr>\n",
       "    <tr>\n",
       "      <th>btc</th>\n",
       "      <td>  161.9867</td>\n",
       "      <td>  71.17387</td>\n",
       "      <td> 231.0071</td>\n",
       "      <td>         NaN</td>\n",
       "    </tr>\n",
       "  </tbody>\n",
       "</table>\n",
       "</div>"
      ],
      "text/plain": [
       "           ltc        drk       usd          btc\n",
       "ltc        NaN        NaN  1.419356   0.00614768\n",
       "drk        NaN        NaN  3.224837   0.01394206\n",
       "usd  0.6989774  0.3068032       NaN  0.004310457\n",
       "btc   161.9867   71.17387  231.0071          NaN"
      ]
     },
     "execution_count": 11,
     "metadata": {},
     "output_type": "execute_result"
    }
   ],
   "source": [
    "exchanges = pd.DataFrame(index=currs, columns=currs)\n",
    "for pair in pairs:\n",
    "    data = pd.read_json(\"https://api.bitfinex.com/v1/pubticker/\" + pair,typ='series', orient='records')\n",
    "    from_curr, to_curr = pair[:3], pair[3:]\n",
    "    exchanges.ix[from_curr][to_curr] = data['bid'] * 0.998\n",
    "    exchanges.ix[to_curr][from_curr] =  (1 / data['ask']) * 0.998\n",
    "    \n",
    "exchanges"
   ]
  },
  {
   "cell_type": "code",
   "execution_count": 12,
   "metadata": {
    "collapsed": false
   },
   "outputs": [
    {
     "name": "stdout",
     "output_type": "stream",
     "text": [
      "-0.790244516039 [u'ltc', u'usd', u'ltc']\n",
      "-0.415766271709 [u'btc', u'ltc', u'btc']\n"
     ]
    }
   ],
   "source": [
    "best_path = []\n",
    "best_value = 0\n",
    "\n",
    "for i in range(1000):\n",
    "    \n",
    "    value = 100\n",
    "    starting_curr = np.random.choice(currs)\n",
    "    \n",
    "    path = [starting_curr]\n",
    "    curr = starting_curr        \n",
    "    next_curr = None    \n",
    "    \n",
    "    while next_curr != starting_curr:        \n",
    "        next_curr = np.random.choice(exchanges.ix[curr].dropna().index)\n",
    "        rate = exchanges.ix[curr][next_curr]\n",
    "        value *= rate\n",
    "        curr = next_curr\n",
    "        path.append(next_curr)\n",
    "    \n",
    "    if value > best_value:\n",
    "        best_value = value\n",
    "        best_path = path\n",
    "        \n",
    "        print value - 100, path    "
   ]
  },
  {
   "cell_type": "code",
   "execution_count": 13,
   "metadata": {
    "collapsed": false
   },
   "outputs": [
    {
     "data": {
      "text/plain": [
       "25299.0003717"
      ]
     },
     "execution_count": 13,
     "metadata": {},
     "output_type": "execute_result"
    }
   ],
   "source": [
    "100 * 0.003952413 * 253 * 253"
   ]
  }
 ],
 "metadata": {
  "kernelspec": {
   "display_name": "Python 2",
   "language": "python",
   "name": "python2"
  },
  "language_info": {
   "codemirror_mode": {
    "name": "ipython",
    "version": 2
   },
   "file_extension": ".py",
   "mimetype": "text/x-python",
   "name": "python",
   "nbconvert_exporter": "python",
   "pygments_lexer": "ipython2",
   "version": "2.7.9"
  }
 },
 "nbformat": 4,
 "nbformat_minor": 0
}
