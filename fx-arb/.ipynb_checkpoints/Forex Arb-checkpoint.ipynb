{
 "metadata": {
  "name": "",
  "signature": "sha256:882d5c9bbbdeec78a392fa606eff9b722d608b3abeff2088791027c476dd0a5a"
 },
 "nbformat": 3,
 "nbformat_minor": 0,
 "worksheets": [
  {
   "cells": [
    {
     "cell_type": "code",
     "collapsed": false,
     "input": [
      "import numpy as np\n",
      "import pandas as pd"
     ],
     "language": "python",
     "metadata": {},
     "outputs": [],
     "prompt_number": 1
    },
    {
     "cell_type": "heading",
     "level": 1,
     "metadata": {},
     "source": [
      "Bloomberg"
     ]
    },
    {
     "cell_type": "code",
     "collapsed": false,
     "input": [
      "data = pd.read_csv('temp2.csv', index_col=0)"
     ],
     "language": "python",
     "metadata": {},
     "outputs": [],
     "prompt_number": 63
    },
    {
     "cell_type": "code",
     "collapsed": false,
     "input": [
      "data"
     ],
     "language": "python",
     "metadata": {},
     "outputs": [
      {
       "html": [
        "<div style=\"max-height:1000px;max-width:1500px;overflow:auto;\">\n",
        "<table border=\"1\" class=\"dataframe\">\n",
        "  <thead>\n",
        "    <tr style=\"text-align: right;\">\n",
        "      <th></th>\n",
        "      <th>USD</th>\n",
        "      <th>EUR</th>\n",
        "      <th>JPY</th>\n",
        "      <th>GBP</th>\n",
        "      <th>CHF</th>\n",
        "      <th>CAD</th>\n",
        "      <th>AUD</th>\n",
        "      <th>HKD</th>\n",
        "    </tr>\n",
        "    <tr>\n",
        "      <th>CUR</th>\n",
        "      <th></th>\n",
        "      <th></th>\n",
        "      <th></th>\n",
        "      <th></th>\n",
        "      <th></th>\n",
        "      <th></th>\n",
        "      <th></th>\n",
        "      <th></th>\n",
        "    </tr>\n",
        "  </thead>\n",
        "  <tbody>\n",
        "    <tr>\n",
        "      <th>USD</th>\n",
        "      <td>   1.0000</td>\n",
        "      <td>   1.0889</td>\n",
        "      <td> 0.0084</td>\n",
        "      <td>   1.4879</td>\n",
        "      <td>   1.0400</td>\n",
        "      <td>  0.7928</td>\n",
        "      <td>  0.7752</td>\n",
        "      <td>  0.1290</td>\n",
        "    </tr>\n",
        "    <tr>\n",
        "      <th>EUR</th>\n",
        "      <td>   0.9183</td>\n",
        "      <td>   1.0000</td>\n",
        "      <td> 0.0077</td>\n",
        "      <td>   1.3661</td>\n",
        "      <td>   0.9548</td>\n",
        "      <td>  0.7279</td>\n",
        "      <td>  0.7116</td>\n",
        "      <td>  0.1184</td>\n",
        "    </tr>\n",
        "    <tr>\n",
        "      <th>JPY</th>\n",
        "      <td> 119.1300</td>\n",
        "      <td> 129.7300</td>\n",
        "      <td> 1.0000</td>\n",
        "      <td> 177.3680</td>\n",
        "      <td> 123.8960</td>\n",
        "      <td> 94.4740</td>\n",
        "      <td> 92.3510</td>\n",
        "      <td> 15.3635</td>\n",
        "    </tr>\n",
        "    <tr>\n",
        "      <th>GBP</th>\n",
        "      <td>   0.6724</td>\n",
        "      <td>   0.7321</td>\n",
        "      <td> 0.0056</td>\n",
        "      <td>   1.0000</td>\n",
        "      <td>   0.6992</td>\n",
        "      <td>  0.5330</td>\n",
        "      <td>  0.5211</td>\n",
        "      <td>  0.0867</td>\n",
        "    </tr>\n",
        "    <tr>\n",
        "      <th>CHF</th>\n",
        "      <td>   0.9618</td>\n",
        "      <td>   1.0471</td>\n",
        "      <td> 0.0081</td>\n",
        "      <td>   1.4314</td>\n",
        "      <td>   1.0000</td>\n",
        "      <td>  0.7629</td>\n",
        "      <td>  0.7471</td>\n",
        "      <td>  0.1240</td>\n",
        "    </tr>\n",
        "    <tr>\n",
        "      <th>CAD</th>\n",
        "      <td>   1.2609</td>\n",
        "      <td>   1.3732</td>\n",
        "      <td> 0.0106</td>\n",
        "      <td>   1.8757</td>\n",
        "      <td>   1.3117</td>\n",
        "      <td>  1.0000</td>\n",
        "      <td>  0.9775</td>\n",
        "      <td>  0.1627</td>\n",
        "    </tr>\n",
        "    <tr>\n",
        "      <th>AUD</th>\n",
        "      <td>   1.2907</td>\n",
        "      <td>   1.4046</td>\n",
        "      <td> 0.0108</td>\n",
        "      <td>   1.9197</td>\n",
        "      <td>   1.3421</td>\n",
        "      <td>  1.0231</td>\n",
        "      <td>  1.0000</td>\n",
        "      <td>  0.1664</td>\n",
        "    </tr>\n",
        "    <tr>\n",
        "      <th>HKD</th>\n",
        "      <td>   7.7535</td>\n",
        "      <td>   8.4429</td>\n",
        "      <td> 0.0651</td>\n",
        "      <td>  11.5325</td>\n",
        "      <td>   8.0629</td>\n",
        "      <td>  6.1464</td>\n",
        "      <td>  6.0079</td>\n",
        "      <td>  1.0000</td>\n",
        "    </tr>\n",
        "  </tbody>\n",
        "</table>\n",
        "</div>"
       ],
       "metadata": {},
       "output_type": "pyout",
       "prompt_number": 64,
       "text": [
        "          USD       EUR     JPY       GBP       CHF      CAD      AUD      HKD\n",
        "CUR                                                                           \n",
        "USD    1.0000    1.0889  0.0084    1.4879    1.0400   0.7928   0.7752   0.1290\n",
        "EUR    0.9183    1.0000  0.0077    1.3661    0.9548   0.7279   0.7116   0.1184\n",
        "JPY  119.1300  129.7300  1.0000  177.3680  123.8960  94.4740  92.3510  15.3635\n",
        "GBP    0.6724    0.7321  0.0056    1.0000    0.6992   0.5330   0.5211   0.0867\n",
        "CHF    0.9618    1.0471  0.0081    1.4314    1.0000   0.7629   0.7471   0.1240\n",
        "CAD    1.2609    1.3732  0.0106    1.8757    1.3117   1.0000   0.9775   0.1627\n",
        "AUD    1.2907    1.4046  0.0108    1.9197    1.3421   1.0231   1.0000   0.1664\n",
        "HKD    7.7535    8.4429  0.0651   11.5325    8.0629   6.1464   6.0079   1.0000"
       ]
      }
     ],
     "prompt_number": 64
    },
    {
     "cell_type": "code",
     "collapsed": false,
     "input": [
      "currencies = data.columns"
     ],
     "language": "python",
     "metadata": {},
     "outputs": [],
     "prompt_number": 65
    },
    {
     "cell_type": "code",
     "collapsed": false,
     "input": [
      "list(currencies)"
     ],
     "language": "python",
     "metadata": {},
     "outputs": [
      {
       "metadata": {},
       "output_type": "pyout",
       "prompt_number": 66,
       "text": [
        "['USD', 'EUR', 'JPY', 'GBP', 'CHF', 'CAD', 'AUD', 'HKD']"
       ]
      }
     ],
     "prompt_number": 66
    },
    {
     "cell_type": "code",
     "collapsed": false,
     "input": [
      "curr = 'EUR'\n",
      "value = 100\n",
      "path = ['EUR']\n",
      "best_path = []\n",
      "best_value = 100\n",
      "path_choice = list(currencies)\n",
      "\n",
      "for i in range(10000):\n",
      "    next_curr = np.random.choice(path_choice)\n",
      "    exchange = data.ix[curr][next_curr]    \n",
      "    value *= exchange\n",
      "    curr = next_curr\n",
      "    path.append(next_curr)\n",
      "    path_choice.remove(next_curr)\n",
      "    \n",
      "    if next_curr == 'EUR':\n",
      "        if value > best_value:\n",
      "            best_value = value\n",
      "            best_path = path\n",
      "            print best_value - 100, best_path\n",
      "        value = 100\n",
      "        path = ['EUR']\n",
      "        path_choice = list(currencies)"
     ],
     "language": "python",
     "metadata": {},
     "outputs": [
      {
       "output_type": "stream",
       "stream": "stdout",
       "text": [
        "0.154129135075 ['EUR', 'USD', 'JPY', 'GBP', 'HKD', 'CAD', 'AUD', 'CHF', 'EUR']\n",
        "0.373882952423 ['EUR', 'CHF', 'AUD', 'CAD', 'JPY', 'USD', 'GBP', 'HKD', 'EUR']\n",
        "0.375217739143"
       ]
      },
      {
       "output_type": "stream",
       "stream": "stdout",
       "text": [
        " ['EUR', 'USD', 'GBP', 'CHF', 'JPY', 'CAD', 'AUD', 'EUR']\n",
        "0.379819537706 ['EUR', 'CHF', 'JPY', 'GBP', 'HKD', 'CAD', 'EUR']\n",
        "0.3817282427"
       ]
      },
      {
       "output_type": "stream",
       "stream": "stdout",
       "text": [
        " ['EUR', 'USD', 'AUD', 'CHF', 'JPY', 'CAD', 'GBP', 'HKD', 'EUR']\n",
        "0.425292426166"
       ]
      },
      {
       "output_type": "stream",
       "stream": "stdout",
       "text": [
        " ['EUR', 'CHF', 'JPY', 'GBP', 'EUR']\n",
        "0.441440759036"
       ]
      },
      {
       "output_type": "stream",
       "stream": "stdout",
       "text": [
        " ['EUR', 'AUD', 'USD', 'GBP', 'CHF', 'JPY', 'CAD', 'HKD', 'EUR']\n",
        "0.442650747717"
       ]
      },
      {
       "output_type": "stream",
       "stream": "stdout",
       "text": [
        " ['EUR', 'CAD', 'AUD', 'USD', 'CHF', 'JPY', 'GBP', 'HKD', 'EUR']\n",
        "0.467427799216"
       ]
      },
      {
       "output_type": "stream",
       "stream": "stdout",
       "text": [
        " ['EUR', 'AUD', 'USD', 'CHF', 'JPY', 'GBP', 'EUR']\n"
       ]
      }
     ],
     "prompt_number": 67
    },
    {
     "cell_type": "heading",
     "level": 2,
     "metadata": {},
     "source": [
      "BTC-e"
     ]
    },
    {
     "cell_type": "code",
     "collapsed": false,
     "input": [
      "pairs = list(pd.read_json(\"https://btc-e.com/api/3/info\").index)\n",
      "data = pd.read_json(\"https://btc-e.com/api/3/ticker/\" + \"-\".join(pairs))\n",
      "currs = [pair.split(\"_\") for pair in pairs]\n",
      "currs = list(set(sum(currs, [])))"
     ],
     "language": "python",
     "metadata": {},
     "outputs": [],
     "prompt_number": 43
    },
    {
     "cell_type": "code",
     "collapsed": false,
     "input": [
      "exchanges = pd.DataFrame(index=currs, columns=currs)\n",
      "for pair in pairs:\n",
      "    from_curr, to_curr = pair.split(\"_\")\n",
      "    exchanges.ix[from_curr][to_curr] = data[pair]['sell'] * 0.998\n",
      "    exchanges.ix[to_curr][from_curr] =  (1 / data[pair]['buy']) * 0.998\n",
      "    \n",
      "exchanges"
     ],
     "language": "python",
     "metadata": {},
     "outputs": [
      {
       "html": [
        "<div style=\"max-height:1000px;max-width:1500px;overflow:auto;\">\n",
        "<table border=\"1\" class=\"dataframe\">\n",
        "  <thead>\n",
        "    <tr style=\"text-align: right;\">\n",
        "      <th></th>\n",
        "      <th>ppc</th>\n",
        "      <th>usd</th>\n",
        "      <th>btc</th>\n",
        "      <th>ltc</th>\n",
        "      <th>nvc</th>\n",
        "      <th>nmc</th>\n",
        "      <th>gbp</th>\n",
        "      <th>rur</th>\n",
        "      <th>cnh</th>\n",
        "      <th>eur</th>\n",
        "    </tr>\n",
        "  </thead>\n",
        "  <tbody>\n",
        "    <tr>\n",
        "      <th>ppc</th>\n",
        "      <td>      NaN</td>\n",
        "      <td>   0.332334</td>\n",
        "      <td>   0.00132734</td>\n",
        "      <td>         NaN</td>\n",
        "      <td>      NaN</td>\n",
        "      <td>      NaN</td>\n",
        "      <td>       NaN</td>\n",
        "      <td>      NaN</td>\n",
        "      <td>      NaN</td>\n",
        "      <td>        NaN</td>\n",
        "    </tr>\n",
        "    <tr>\n",
        "      <th>usd</th>\n",
        "      <td> 2.970238</td>\n",
        "      <td>        NaN</td>\n",
        "      <td>  0.003993278</td>\n",
        "      <td>   0.5905325</td>\n",
        "      <td> 1.804702</td>\n",
        "      <td> 2.370546</td>\n",
        "      <td> 0.6743243</td>\n",
        "      <td> 59.39098</td>\n",
        "      <td> 6.270434</td>\n",
        "      <td>  0.9346232</td>\n",
        "    </tr>\n",
        "    <tr>\n",
        "      <th>btc</th>\n",
        "      <td> 739.2593</td>\n",
        "      <td>   249.3902</td>\n",
        "      <td>          NaN</td>\n",
        "      <td>    147.6331</td>\n",
        "      <td> 451.5837</td>\n",
        "      <td> 594.0476</td>\n",
        "      <td>  167.0042</td>\n",
        "      <td>  14820.3</td>\n",
        "      <td> 1555.952</td>\n",
        "      <td>   233.7894</td>\n",
        "    </tr>\n",
        "    <tr>\n",
        "      <th>ltc</th>\n",
        "      <td>      NaN</td>\n",
        "      <td>    1.68163</td>\n",
        "      <td>   0.00672652</td>\n",
        "      <td>         NaN</td>\n",
        "      <td>      NaN</td>\n",
        "      <td>      NaN</td>\n",
        "      <td>  1.136722</td>\n",
        "      <td> 100.0292</td>\n",
        "      <td> 10.59876</td>\n",
        "      <td>   1.570852</td>\n",
        "    </tr>\n",
        "    <tr>\n",
        "      <th>nvc</th>\n",
        "      <td>      NaN</td>\n",
        "      <td>   0.541914</td>\n",
        "      <td>   0.00218562</td>\n",
        "      <td>         NaN</td>\n",
        "      <td>      NaN</td>\n",
        "      <td>      NaN</td>\n",
        "      <td>       NaN</td>\n",
        "      <td>      NaN</td>\n",
        "      <td>      NaN</td>\n",
        "      <td>        NaN</td>\n",
        "    </tr>\n",
        "    <tr>\n",
        "      <th>nmc</th>\n",
        "      <td>      NaN</td>\n",
        "      <td>   0.416166</td>\n",
        "      <td>   0.00166666</td>\n",
        "      <td>         NaN</td>\n",
        "      <td>      NaN</td>\n",
        "      <td>      NaN</td>\n",
        "      <td>       NaN</td>\n",
        "      <td>      NaN</td>\n",
        "      <td>      NaN</td>\n",
        "      <td>        NaN</td>\n",
        "    </tr>\n",
        "    <tr>\n",
        "      <th>gbp</th>\n",
        "      <td>      NaN</td>\n",
        "      <td>   1.474146</td>\n",
        "      <td>  0.005780448</td>\n",
        "      <td>    0.864818</td>\n",
        "      <td>      NaN</td>\n",
        "      <td>      NaN</td>\n",
        "      <td>       NaN</td>\n",
        "      <td>      NaN</td>\n",
        "      <td>      NaN</td>\n",
        "      <td>        NaN</td>\n",
        "    </tr>\n",
        "    <tr>\n",
        "      <th>rur</th>\n",
        "      <td>      NaN</td>\n",
        "      <td> 0.01666667</td>\n",
        "      <td> 6.675585e-05</td>\n",
        "      <td> 0.009895885</td>\n",
        "      <td>      NaN</td>\n",
        "      <td>      NaN</td>\n",
        "      <td>       NaN</td>\n",
        "      <td>      NaN</td>\n",
        "      <td>      NaN</td>\n",
        "      <td> 0.01555972</td>\n",
        "    </tr>\n",
        "    <tr>\n",
        "      <th>cnh</th>\n",
        "      <td>      NaN</td>\n",
        "      <td>  0.1566498</td>\n",
        "      <td> 0.0006277598</td>\n",
        "      <td>  0.09275093</td>\n",
        "      <td>      NaN</td>\n",
        "      <td>      NaN</td>\n",
        "      <td>       NaN</td>\n",
        "      <td>      NaN</td>\n",
        "      <td>      NaN</td>\n",
        "      <td>        NaN</td>\n",
        "    </tr>\n",
        "    <tr>\n",
        "      <th>eur</th>\n",
        "      <td>      NaN</td>\n",
        "      <td>   1.059118</td>\n",
        "      <td>  0.004234034</td>\n",
        "      <td>   0.6268844</td>\n",
        "      <td>      NaN</td>\n",
        "      <td>      NaN</td>\n",
        "      <td>       NaN</td>\n",
        "      <td>  63.1235</td>\n",
        "      <td>      NaN</td>\n",
        "      <td>        NaN</td>\n",
        "    </tr>\n",
        "  </tbody>\n",
        "</table>\n",
        "</div>"
       ],
       "metadata": {},
       "output_type": "pyout",
       "prompt_number": 44,
       "text": [
        "          ppc         usd           btc          ltc       nvc       nmc  \\\n",
        "ppc       NaN    0.332334    0.00132734          NaN       NaN       NaN   \n",
        "usd  2.970238         NaN   0.003993278    0.5905325  1.804702  2.370546   \n",
        "btc  739.2593    249.3902           NaN     147.6331  451.5837  594.0476   \n",
        "ltc       NaN     1.68163    0.00672652          NaN       NaN       NaN   \n",
        "nvc       NaN    0.541914    0.00218562          NaN       NaN       NaN   \n",
        "nmc       NaN    0.416166    0.00166666          NaN       NaN       NaN   \n",
        "gbp       NaN    1.474146   0.005780448     0.864818       NaN       NaN   \n",
        "rur       NaN  0.01666667  6.675585e-05  0.009895885       NaN       NaN   \n",
        "cnh       NaN   0.1566498  0.0006277598   0.09275093       NaN       NaN   \n",
        "eur       NaN    1.059118   0.004234034    0.6268844       NaN       NaN   \n",
        "\n",
        "           gbp       rur       cnh         eur  \n",
        "ppc        NaN       NaN       NaN         NaN  \n",
        "usd  0.6743243  59.39098  6.270434   0.9346232  \n",
        "btc   167.0042   14820.3  1555.952    233.7894  \n",
        "ltc   1.136722  100.0292  10.59876    1.570852  \n",
        "nvc        NaN       NaN       NaN         NaN  \n",
        "nmc        NaN       NaN       NaN         NaN  \n",
        "gbp        NaN       NaN       NaN         NaN  \n",
        "rur        NaN       NaN       NaN  0.01555972  \n",
        "cnh        NaN       NaN       NaN         NaN  \n",
        "eur        NaN   63.1235       NaN         NaN  "
       ]
      }
     ],
     "prompt_number": 44
    },
    {
     "cell_type": "code",
     "collapsed": false,
     "input": [
      "best_path = []\n",
      "best_value = 0\n",
      "\n",
      "for i in range(1000):\n",
      "    \n",
      "    value = 100\n",
      "    starting_curr = np.random.choice(currs)\n",
      "    \n",
      "    path = [starting_curr]\n",
      "    curr = starting_curr        \n",
      "    next_curr = None    \n",
      "    \n",
      "    while next_curr != starting_curr:        \n",
      "        next_curr = np.random.choice(exchanges.ix[curr].dropna().index)\n",
      "        rate = exchanges.ix[curr][next_curr]\n",
      "        value *= rate\n",
      "        curr = next_curr\n",
      "        path.append(next_curr)\n",
      "    \n",
      "    if value > best_value:\n",
      "        best_value = value\n",
      "        best_path = path\n",
      "        \n",
      "        print value - 100, path    "
     ],
     "language": "python",
     "metadata": {},
     "outputs": [
      {
       "output_type": "stream",
       "stream": "stdout",
       "text": [
        "-1.12852141083 [u'usd', u'ltc', u'btc', u'usd']\n",
        "-0.458240211952 [u'ltc', u'btc', u'ltc']\n",
        "-0.287736141859"
       ]
      },
      {
       "output_type": "stream",
       "stream": "stdout",
       "text": [
        " [u'ltc', u'usd', u'btc', u'ltc']\n"
       ]
      }
     ],
     "prompt_number": 113
    },
    {
     "cell_type": "heading",
     "level": 1,
     "metadata": {},
     "source": [
      "Bitfinex"
     ]
    },
    {
     "cell_type": "code",
     "collapsed": false,
     "input": [
      "pairs = list(pd.read_json(\"https://api.bitfinex.com/v1/symbols\")[0])\n",
      "currs = [[a[:3], a[3:]] for a in pairs]\n",
      "currs = list(set(sum(currs, [])))\n",
      "# data = pd.read_json(\"https://api.bitfinex.com/v1/pubticker/\" + \"-\".join(pairs))"
     ],
     "language": "python",
     "metadata": {},
     "outputs": [],
     "prompt_number": 107
    },
    {
     "cell_type": "code",
     "collapsed": false,
     "input": [
      "exchanges = pd.DataFrame(index=currs, columns=currs)\n",
      "for pair in pairs:\n",
      "    data = pd.read_json(\"https://api.bitfinex.com/v1/pubticker/\" + pair,typ='series', orient='records')\n",
      "    from_curr, to_curr = pair[:3], pair[3:]\n",
      "    exchanges.ix[from_curr][to_curr] = data['bid'] * 0.998\n",
      "    exchanges.ix[to_curr][from_curr] =  (1 / data['ask']) * 0.998\n",
      "    \n",
      "exchanges"
     ],
     "language": "python",
     "metadata": {},
     "outputs": [
      {
       "html": [
        "<div style=\"max-height:1000px;max-width:1500px;overflow:auto;\">\n",
        "<table border=\"1\" class=\"dataframe\">\n",
        "  <thead>\n",
        "    <tr style=\"text-align: right;\">\n",
        "      <th></th>\n",
        "      <th>ltc</th>\n",
        "      <th>drk</th>\n",
        "      <th>usd</th>\n",
        "      <th>btc</th>\n",
        "    </tr>\n",
        "  </thead>\n",
        "  <tbody>\n",
        "    <tr>\n",
        "      <th>ltc</th>\n",
        "      <td>       NaN</td>\n",
        "      <td>       NaN</td>\n",
        "      <td> 1.693606</td>\n",
        "      <td>  0.00677642</td>\n",
        "    </tr>\n",
        "    <tr>\n",
        "      <th>drk</th>\n",
        "      <td>       NaN</td>\n",
        "      <td>       NaN</td>\n",
        "      <td> 4.953673</td>\n",
        "      <td>   0.0198602</td>\n",
        "    </tr>\n",
        "    <tr>\n",
        "      <th>usd</th>\n",
        "      <td> 0.5871624</td>\n",
        "      <td> 0.1975846</td>\n",
        "      <td>      NaN</td>\n",
        "      <td> 0.004008032</td>\n",
        "    </tr>\n",
        "    <tr>\n",
        "      <th>btc</th>\n",
        "      <td>  146.8943</td>\n",
        "      <td>  49.39371</td>\n",
        "      <td>  248.492</td>\n",
        "      <td>         NaN</td>\n",
        "    </tr>\n",
        "  </tbody>\n",
        "</table>\n",
        "</div>"
       ],
       "metadata": {},
       "output_type": "pyout",
       "prompt_number": 110,
       "text": [
        "           ltc        drk       usd          btc\n",
        "ltc        NaN        NaN  1.693606   0.00677642\n",
        "drk        NaN        NaN  4.953673    0.0198602\n",
        "usd  0.5871624  0.1975846       NaN  0.004008032\n",
        "btc   146.8943   49.39371   248.492          NaN"
       ]
      }
     ],
     "prompt_number": 110
    },
    {
     "cell_type": "code",
     "collapsed": false,
     "input": [
      "best_path = []\n",
      "best_value = 0\n",
      "\n",
      "for i in range(1000):\n",
      "    \n",
      "    value = 100\n",
      "    starting_curr = np.random.choice(currs)\n",
      "    \n",
      "    path = [starting_curr]\n",
      "    curr = starting_curr        \n",
      "    next_curr = None    \n",
      "    \n",
      "    while next_curr != starting_curr:        \n",
      "        next_curr = np.random.choice(exchanges.ix[curr].dropna().index)\n",
      "        rate = exchanges.ix[curr][next_curr]\n",
      "        value *= rate\n",
      "        curr = next_curr\n",
      "        path.append(next_curr)\n",
      "    \n",
      "    if value > best_value:\n",
      "        best_value = value\n",
      "        best_path = path\n",
      "        \n",
      "        print value - 100, path    "
     ],
     "language": "python",
     "metadata": {},
     "outputs": [
      {
       "output_type": "stream",
       "stream": "stdout",
       "text": [
        "-0.458240211952 [u'ltc', u'btc', u'ltc']\n",
        "-0.287736141859"
       ]
      },
      {
       "output_type": "stream",
       "stream": "stdout",
       "text": [
        " [u'ltc', u'usd', u'btc', u'ltc']\n"
       ]
      }
     ],
     "prompt_number": 112
    },
    {
     "cell_type": "code",
     "collapsed": false,
     "input": [
      "100 * 0.003952413 * 253 * 253"
     ],
     "language": "python",
     "metadata": {},
     "outputs": [
      {
       "metadata": {},
       "output_type": "pyout",
       "prompt_number": 40,
       "text": [
        "25299.0003717"
       ]
      }
     ],
     "prompt_number": 40
    }
   ],
   "metadata": {}
  }
 ]
}