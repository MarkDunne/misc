{
 "metadata": {
  "name": "",
  "signature": "sha256:f88e4580f10024703dde2f19767b22ea6689c8325bc864481684ac308389b64b"
 },
 "nbformat": 3,
 "nbformat_minor": 0,
 "worksheets": [
  {
   "cells": [
    {
     "cell_type": "code",
     "collapsed": false,
     "input": [
      "%matplotlib inline\n",
      "\n",
      "import time\n",
      "import json\n",
      "import urllib2\n",
      "import matplotlib.pyplot as plt"
     ],
     "language": "python",
     "metadata": {},
     "outputs": [],
     "prompt_number": 29
    },
    {
     "cell_type": "code",
     "collapsed": false,
     "input": [
      "n_users = 10\n",
      "\n",
      "chess960        = []\n",
      "blitz           = []\n",
      "kingOfTheHill   = []\n",
      "threeCheck      = []\n",
      "antichess       = []\n",
      "bullet          = []\n",
      "correspondence  = []\n",
      "puzzle          = []\n",
      "atomic          = []\n",
      "opening         = []\n",
      "classical       = []\n",
      "\n",
      "#get a list of users\n",
      "users_json = urllib2.urlopen('http://en.lichess.org/api/user?nb=' + str(n_users)).read()\n",
      "users = json.loads(users_json)"
     ],
     "language": "python",
     "metadata": {},
     "outputs": [],
     "prompt_number": 30
    },
    {
     "cell_type": "code",
     "collapsed": false,
     "input": [
      "for i, user in enumerate(users['list']):\n",
      "    print 'Processing user', (i+1)\n",
      "    \n",
      "    # send request for individual user\n",
      "    user_json = urllib2.urlopen(\"http://en.lichess.org/api/user/\" + user['username']).read()\n",
      "    user_perfs = json.loads(user_json)['perfs']    \n",
      "    \n",
      "    # gather data\n",
      "    chess960.append(int(user_perfs['chess960']['rating']))\n",
      "    blitz.append(int(user_perfs['blitz']['rating']))\n",
      "    kingOfTheHill.append(int(user_perfs['kingOfTheHill']['rating']))\n",
      "    threeCheck.append(int(user_perfs['threeCheck']['rating']))\n",
      "    antichess.append(int(user_perfs['antichess']['rating']))\n",
      "    bullet.append(int(user_perfs['bullet']['rating']))\n",
      "    correspondence.append(int(user_perfs['correspondence']['rating']))\n",
      "    puzzle.append(int(user_perfs['puzzle']['rating']))\n",
      "    atomic.append(int(user_perfs['atomic']['rating']))\n",
      "    opening.append(int(user_perfs['opening']['rating']))\n",
      "    classical.append(int(user_perfs['classical']['rating']))\n",
      "    \n",
      "    # dont hammer the server - sleep for 1 second between requests\n",
      "    time.sleep(1)\n",
      "    "
     ],
     "language": "python",
     "metadata": {},
     "outputs": [
      {
       "output_type": "stream",
       "stream": "stdout",
       "text": [
        "Processing user number, 1\n",
        "Processing user number,"
       ]
      },
      {
       "output_type": "stream",
       "stream": "stdout",
       "text": [
        " 2\n",
        "Processing user number,"
       ]
      },
      {
       "output_type": "stream",
       "stream": "stdout",
       "text": [
        " 3\n",
        "Processing user number,"
       ]
      },
      {
       "output_type": "stream",
       "stream": "stdout",
       "text": [
        " 4\n",
        "Processing user number,"
       ]
      },
      {
       "output_type": "stream",
       "stream": "stdout",
       "text": [
        " 5\n",
        "Processing user number,"
       ]
      },
      {
       "output_type": "stream",
       "stream": "stdout",
       "text": [
        " 6\n",
        "Processing user number,"
       ]
      },
      {
       "output_type": "stream",
       "stream": "stdout",
       "text": [
        " 7\n",
        "Processing user number,"
       ]
      },
      {
       "output_type": "stream",
       "stream": "stdout",
       "text": [
        " 8\n",
        "Processing user number,"
       ]
      },
      {
       "output_type": "stream",
       "stream": "stdout",
       "text": [
        " 9\n",
        "Processing user number,"
       ]
      },
      {
       "output_type": "stream",
       "stream": "stdout",
       "text": [
        " 10\n"
       ]
      }
     ],
     "prompt_number": 33
    },
    {
     "cell_type": "code",
     "collapsed": false,
     "input": [
      "# plot a histogram for the player blitz ratings\n",
      "# replace with whatever game you want to look at\n",
      "plt.hist(blitz)\n",
      "plt.show()"
     ],
     "language": "python",
     "metadata": {},
     "outputs": [
      {
       "metadata": {},
       "output_type": "display_data",
       "png": "[encoded data removed]",
       "text": [
        "<matplotlib.figure.Figure at 0xaf61942c>"
       ]
      }
     ],
     "prompt_number": 35
    }
   ],
   "metadata": {}
  }
 ]
}