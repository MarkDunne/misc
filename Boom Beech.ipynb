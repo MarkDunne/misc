{
 "cells": [
  {
   "cell_type": "code",
   "execution_count": 33,
   "metadata": {
    "collapsed": true
   },
   "outputs": [],
   "source": [
    "%matplotlib inline\n",
    "\n",
    "import numpy as np\n",
    "import pandas as pd\n",
    "import matplotlib.pylab as plt"
   ]
  },
  {
   "cell_type": "code",
   "execution_count": 55,
   "metadata": {
    "collapsed": false
   },
   "outputs": [],
   "source": [
    "def zooka_info():\n",
    "    tables = pd.read_html('http://boombeach.wikia.com/wiki/Zooka', parse_dates=False, skiprows=1, flavor='bs4')\n",
    "    table = tables[1]\n",
    "    table.columns = ['Level', 'Hitpoints', 'DPS', 'Damage', 'Training Cost', 'Research Cost', 'Armory', 'Research Time', 'Instant', 'XP Gain']\n",
    "    table.drop('Research Time', axis=1, inplace=True)\n",
    "    table['Size'] = 2\n",
    "    table['Movement Speed'] = 180\n",
    "    table['Range'] = 720\n",
    "    table['Attack Speed'] = 2\n",
    "    table['HQ Level'] = 5\n",
    "    return table"
   ]
  },
  {
   "cell_type": "code",
   "execution_count": 57,
   "metadata": {
    "collapsed": true
   },
   "outputs": [],
   "source": [
    "def rifleman_info():\n",
    "    tables = pd.read_html('http://boombeach.wikia.com/wiki/Rifleman', parse_dates=False, skiprows=1, flavor='bs4')\n",
    "    table = tables[1]\n",
    "    table.columns = ['Level', 'Hitpoints', 'DPS', 'Training Cost', 'Research Cost', 'Armory', 'Research Time', 'Instant', 'XP Gain']\n",
    "    table.drop('Research Time', axis=1, inplace=True)\n",
    "    table['Size'] = 1\n",
    "    table['Movement Speed'] = 220\n",
    "    table['Range'] = 470\n",
    "    table['Attack Speed'] = 1\n",
    "    table['HQ Level'] = 1\n",
    "    return table"
   ]
  },
  {
   "cell_type": "code",
   "execution_count": 58,
   "metadata": {
    "collapsed": true
   },
   "outputs": [],
   "source": [
    "def heavy_info():\n",
    "    tables = pd.read_html('http://boombeach.wikia.com/wiki/Heavy', parse_dates=False, skiprows=1, flavor='bs4')\n",
    "    table = tables[1]\n",
    "    table.columns = ['Level', 'Hitpoints', 'DPS', 'Damage', 'Training Cost', 'Research Cost', 'Armory', 'Research Time', 'Instant', 'XP Gain']\n",
    "    table.drop('Research Time', axis=1, inplace=True)\n",
    "    table['Size'] = 4\n",
    "    table['Movement Speed'] = 230\n",
    "    table['Range'] = 330\n",
    "    table['Attack Speed'] = 0.1\n",
    "    table['HQ Level'] = 2\n",
    "    return table"
   ]
  },
  {
   "cell_type": "code",
   "execution_count": 56,
   "metadata": {
    "collapsed": false
   },
   "outputs": [],
   "source": [
    "zooka = zooka_info()"
   ]
  },
  {
   "cell_type": "code",
   "execution_count": 60,
   "metadata": {
    "collapsed": false
   },
   "outputs": [],
   "source": [
    "rifleman = rifleman_info()"
   ]
  },
  {
   "cell_type": "code",
   "execution_count": 59,
   "metadata": {
    "collapsed": true
   },
   "outputs": [],
   "source": [
    "heavy = heavy_info()"
   ]
  },
  {
   "cell_type": "code",
   "execution_count": 77,
   "metadata": {
    "collapsed": true
   },
   "outputs": [],
   "source": [
    "def heuristic1(unit):\n",
    "    return unit['DPS'] / unit['Size']    "
   ]
  },
  {
   "cell_type": "code",
   "execution_count": 78,
   "metadata": {
    "collapsed": false
   },
   "outputs": [
    {
     "data": {
      "text/plain": [
       "<matplotlib.axes._subplots.AxesSubplot at 0xaef5932c>"
      ]
     },
     "execution_count": 78,
     "metadata": {},
     "output_type": "execute_result"
    },
    {
     "data": {
      "image/png": "[encoded data removed]",
      "text/plain": [
       "<matplotlib.figure.Figure at 0xae5eb08c>"
      ]
     },
     "metadata": {},
     "output_type": "display_data"
    }
   ],
   "source": [
    "heuristic1(zooka).plot(color='r')\n",
    "heuristic1(rifleman).plot(color='g')\n",
    "# heuristic1(heavy).plot(color='b')"
   ]
  },
  {
   "cell_type": "code",
   "execution_count": 65,
   "metadata": {
    "collapsed": false
   },
   "outputs": [
    {
     "data": {
      "text/plain": [
       "<matplotlib.axes._subplots.AxesSubplot at 0xadf3942c>"
      ]
     },
     "execution_count": 65,
     "metadata": {},
     "output_type": "execute_result"
    },
    {
     "data": {
      "image/png": "[encoded data removed]",
      "text/plain": [
       "<matplotlib.figure.Figure at 0xae51632c>"
      ]
     },
     "metadata": {},
     "output_type": "display_data"
    }
   ],
   "source": [
    "(zooka['DPS'] / zooka['Size']).plot(color='r')\n",
    "(rifleman['DPS'] / rifleman['Size']).plot(color='g')\n",
    "(heavy['DPS'] / heavy['Size']).plot(color='b')"
   ]
  }
 ],
 "metadata": {
  "kernelspec": {
   "display_name": "Python 2",
   "language": "python",
   "name": "python2"
  },
  "language_info": {
   "codemirror_mode": {
    "name": "ipython",
    "version": 2
   },
   "file_extension": ".py",
   "mimetype": "text/x-python",
   "name": "python",
   "nbconvert_exporter": "python",
   "pygments_lexer": "ipython2",
   "version": "2.7.9"
  }
 },
 "nbformat": 4,
 "nbformat_minor": 0
}
