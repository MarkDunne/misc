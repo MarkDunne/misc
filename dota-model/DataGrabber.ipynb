{
 "cells": [
  {
   "cell_type": "code",
   "execution_count": 12,
   "metadata": {
    "collapsed": true
   },
   "outputs": [],
   "source": [
    "import requests\n",
    "import pandas as pd\n",
    "\n",
    "from bs4 import BeautifulSoup"
   ]
  },
  {
   "cell_type": "code",
   "execution_count": 13,
   "metadata": {
    "collapsed": false
   },
   "outputs": [
    {
     "data": {
      "text/plain": [
       "5223"
      ]
     },
     "execution_count": 13,
     "metadata": {},
     "output_type": "execute_result"
    }
   ],
   "source": [
    "dataset = pd.read_csv('dota_games.csv', index_col=0)\n",
    "len(dataset)"
   ]
  },
  {
   "cell_type": "code",
   "execution_count": 14,
   "metadata": {
    "collapsed": false
   },
   "outputs": [
    {
     "name": "stdout",
     "output_type": "stream",
     "text": [
      "parsing page 1\n",
      "parsing page 2\n",
      "parsing page 3\n",
      "parsing page 4\n",
      "parsing page 5\n",
      "parsing page 6\n",
      "parsing page 7\n",
      "parsing page 8\n",
      "parsing page 9\n",
      "parsing page 10\n",
      "parsing page 11\n",
      "parsing page 12\n",
      "parsing page 13\n",
      "parsing page 14\n",
      "parsing page 15\n",
      "parsing page 16\n",
      "parsing page 17\n",
      "parsing page 18\n",
      "parsing page 19\n",
      "parsing page 20\n",
      "complete\n"
     ]
    }
   ],
   "source": [
    "for page_id in range(1, 21):\n",
    "    url = 'http://www.dotabuff.com/matches?page=' + str(page_id)\n",
    "    header = { 'User-Agent': 'Dota Predictor' }\n",
    "    request = requests.get(url, headers=header)\n",
    "    html = request.content\n",
    "    soup = BeautifulSoup(html)  \n",
    "    \n",
    "    if request.status_code == 200:\n",
    "        print 'parsing page', page_id\n",
    "    else:\n",
    "        print 'HTTP error at page', page_id\n",
    "        print request.status_code\n",
    "        break\n",
    "    \n",
    "    for game_row in soup.select('table tr')[1:]:\n",
    "        game_cols = game_row.select('td')\n",
    "\n",
    "        game_data = {\n",
    "            'match_id': int(game_cols[0].text),\n",
    "            'game_mode': game_cols[1].text,\n",
    "            'winner': game_cols[2].text,\n",
    "            'duration': float(game_cols[3].text.replace(':', '.'))\n",
    "        }\n",
    "\n",
    "        if 'match_id' in dataset.columns and any(dataset['match_id'] == game_data['match_id']):\n",
    "            # print 'skipping match', game_data['match_id']\n",
    "            continue\n",
    "\n",
    "        hero_count = 0\n",
    "        for radient_hero in game_cols[4].find_all('a'):\n",
    "            hero = radient_hero['href'].split('/')[-1]\n",
    "            game_data['radient-' + hero] = 1\n",
    "            hero_count += 1\n",
    "\n",
    "        for dire_hero in game_cols[5].find_all('a'):\n",
    "            hero = dire_hero['href'].split('/')[-1]\n",
    "            game_data['dire-' + hero] = 1\n",
    "            hero_count += 1\n",
    "                        \n",
    "        if hero_count != 10:\n",
    "            print game_data\n",
    "            break\n",
    "            \n",
    "        dataset = dataset.append(game_data, ignore_index=True)\n",
    "    \n",
    "dataset.sort_index(axis=1, inplace=True)\n",
    "print 'complete'"
   ]
  },
  {
   "cell_type": "code",
   "execution_count": 15,
   "metadata": {
    "collapsed": false
   },
   "outputs": [],
   "source": [
    "dataset.fillna(0, inplace=True)\n",
    "dataset['duration'] = dataset['duration'].astype(float)\n",
    "dataset['match_id'] = dataset['match_id'].astype(int)"
   ]
  },
  {
   "cell_type": "code",
   "execution_count": 16,
   "metadata": {
    "collapsed": false
   },
   "outputs": [
    {
     "data": {
      "text/plain": [
       "5638"
      ]
     },
     "execution_count": 16,
     "metadata": {},
     "output_type": "execute_result"
    }
   ],
   "source": [
    "dataset.to_csv('dota_games.csv')\n",
    "len(dataset)"
   ]
  },
  {
   "cell_type": "code",
   "execution_count": 17,
   "metadata": {
    "collapsed": false
   },
   "outputs": [
    {
     "data": {
      "text/plain": [
       "Radiant Victory    14\n",
       "Dire Victory       11\n",
       "dtype: int64"
      ]
     },
     "execution_count": 17,
     "metadata": {},
     "output_type": "execute_result"
    }
   ],
   "source": [
    "dataset[(dataset['dire-tiny'] == 1) & (dataset['dire-io'] == 1)]['winner'].value_counts()"
   ]
  }
 ],
 "metadata": {
  "kernelspec": {
   "display_name": "Python 2",
   "language": "python",
   "name": "python2"
  },
  "language_info": {
   "codemirror_mode": {
    "name": "ipython",
    "version": 2
   },
   "file_extension": ".py",
   "mimetype": "text/x-python",
   "name": "python",
   "nbconvert_exporter": "python",
   "pygments_lexer": "ipython2",
   "version": "2.7.9"
  }
 },
 "nbformat": 4,
 "nbformat_minor": 0
}
