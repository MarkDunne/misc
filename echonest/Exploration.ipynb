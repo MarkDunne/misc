{
 "metadata": {
  "name": "",
  "signature": "sha256:ce69a6f499959281cd0c124d9bca516e2de0fec05b485e5fb671b40bab59b8d7"
 },
 "nbformat": 3,
 "nbformat_minor": 0,
 "worksheets": [
  {
   "cells": [
    {
     "cell_type": "code",
     "collapsed": false,
     "input": [
      "%matplotlib inline\n",
      "import pandas as pd\n",
      "import numpy as np\n",
      "from scipy.spatial import distance\n",
      "\n",
      "import json\n",
      "from pandas.io.json import json_normalize"
     ],
     "language": "python",
     "metadata": {},
     "outputs": [],
     "prompt_number": 1
    },
    {
     "cell_type": "code",
     "collapsed": false,
     "input": [
      "def get_df(song):\n",
      "    musicData = open(song).read()\n",
      "    musicData = json.loads(musicData)['segments']\n",
      "    musicData = json_normalize(musicData)   \n",
      "    return musicData\n",
      "    \n",
      "def get_chromas_timbres(song):\n",
      "    musicData = open(song).read()\n",
      "    musicData = json.loads(musicData)['segments']\n",
      "    musicData = json_normalize(musicData)    \n",
      "\n",
      "    chromas = np.vstack(musicData['pitches'])\n",
      "    timbres = np.vstack(musicData['timbre'])\n",
      "    \n",
      "    return chromas, timbres    "
     ],
     "language": "python",
     "metadata": {},
     "outputs": [],
     "prompt_number": 26
    },
    {
     "cell_type": "code",
     "collapsed": false,
     "input": [
      "dancin = get_df('dancin.json')\n",
      "sunday = get_df('sunday.json')"
     ],
     "language": "python",
     "metadata": {},
     "outputs": [],
     "prompt_number": 27
    },
    {
     "cell_type": "code",
     "collapsed": false,
     "input": [
      "dancin_chromas, dancin_timbres = get_chromas_timbres('dancin.json')\n",
      "sunday_chromas, sunday_timbres = get_chromas_timbres('sunday.json')"
     ],
     "language": "python",
     "metadata": {},
     "outputs": [],
     "prompt_number": 28
    },
    {
     "cell_type": "code",
     "collapsed": false,
     "input": [
      "dancin_chromas"
     ],
     "language": "python",
     "metadata": {},
     "outputs": [
      {
       "metadata": {},
       "output_type": "pyout",
       "prompt_number": 29,
       "text": [
        "array([[ 1.   ,  1.   ,  1.   , ...,  1.   ,  1.   ,  1.   ],\n",
        "       [ 0.058,  1.   ,  0.03 , ...,  0.029,  0.718,  0.018],\n",
        "       [ 0.037,  0.727,  0.026, ...,  0.044,  0.713,  0.025],\n",
        "       ..., \n",
        "       [ 0.141,  1.   ,  0.106, ...,  0.029,  0.117,  0.099],\n",
        "       [ 0.257,  1.   ,  0.21 , ...,  0.101,  0.26 ,  0.082],\n",
        "       [ 0.404,  0.487,  0.566, ...,  0.373,  0.491,  0.373]])"
       ]
      }
     ],
     "prompt_number": 29
    },
    {
     "cell_type": "code",
     "collapsed": false,
     "input": [
      "sunday_chromas"
     ],
     "language": "python",
     "metadata": {},
     "outputs": [
      {
       "metadata": {},
       "output_type": "pyout",
       "prompt_number": 30,
       "text": [
        "array([[ 1.   ,  1.   ,  1.   , ...,  1.   ,  1.   ,  1.   ],\n",
        "       [ 0.383,  0.048,  0.074, ...,  0.01 ,  0.025,  0.01 ],\n",
        "       [ 0.364,  0.045,  0.062, ...,  0.055,  0.064,  0.068],\n",
        "       ..., \n",
        "       [ 1.   ,  0.052,  0.048, ...,  0.103,  0.198,  0.091],\n",
        "       [ 1.   ,  0.138,  0.126, ...,  0.076,  0.134,  0.095],\n",
        "       [ 0.864,  0.417,  0.785, ...,  0.965,  0.851,  0.858]])"
       ]
      }
     ],
     "prompt_number": 30
    },
    {
     "cell_type": "code",
     "collapsed": false,
     "input": [
      "max_sim = -1\n",
      "\n",
      "for i, (dancin_chroma, dancin_timbre) in enumerate(zip(dancin_chromas, dancin_timbres)):\n",
      "    for j, (sunday_chroma, sunday_timbre) in enumerate(zip(sunday_chromas, sunday_timbres)):\n",
      "        \n",
      "        chroma_sim = distance.cosine(dancin_chroma, sunday_chroma)\n",
      "        timbre_sim = distance.cosine(dancin_timbre, sunday_timbre)\n",
      "        \n",
      "        score = timbre_sim\n",
      "        \n",
      "        if score > max_sim:\n",
      "            print i, j, score\n",
      "            max_sim = score\n",
      "    \n",
      "    if i % 100 == 0:\n",
      "        print i"
     ],
     "language": "python",
     "metadata": {},
     "outputs": [
      {
       "output_type": "stream",
       "stream": "stdout",
       "text": [
        "0 0 0.000139643373492\n",
        "0 1 1.56827156263\n",
        "0 13 1.62362814311\n",
        "0 119 1.63782891345\n",
        "0 131 1.68024957148\n",
        "0"
       ]
      },
      {
       "output_type": "stream",
       "stream": "stdout",
       "text": [
        " 143 1.72995762365\n",
        "0 148 1.75129078272\n",
        "0 177 1.76585743131\n",
        "0 274 1.77650613331\n",
        "0"
       ]
      },
      {
       "output_type": "stream",
       "stream": "stdout",
       "text": [
        " 622 1.77995093097\n",
        "0 630 1.78587730584\n",
        "0 638 1.7922635579\n",
        "0"
       ]
      },
      {
       "output_type": "stream",
       "stream": "stdout",
       "text": [
        " 1279 1.81018620395\n",
        "0"
       ]
      },
      {
       "output_type": "stream",
       "stream": "stdout",
       "text": [
        "\n",
        "100"
       ]
      },
      {
       "output_type": "stream",
       "stream": "stdout",
       "text": [
        "\n",
        "200"
       ]
      },
      {
       "output_type": "stream",
       "stream": "stdout",
       "text": [
        "\n",
        "244"
       ]
      },
      {
       "output_type": "stream",
       "stream": "stdout",
       "text": [
        " 1352 1.81308829979\n",
        "300"
       ]
      },
      {
       "output_type": "stream",
       "stream": "stdout",
       "text": [
        "\n",
        "400"
       ]
      },
      {
       "output_type": "stream",
       "stream": "stdout",
       "text": [
        "\n",
        "459"
       ]
      },
      {
       "output_type": "stream",
       "stream": "stdout",
       "text": [
        " 166 1.82768936745\n",
        "459"
       ]
      },
      {
       "output_type": "stream",
       "stream": "stdout",
       "text": [
        " 826 1.82886337183\n",
        "461"
       ]
      },
      {
       "output_type": "stream",
       "stream": "stdout",
       "text": [
        " 345 1.82976876805\n",
        "500"
       ]
      },
      {
       "output_type": "stream",
       "stream": "stdout",
       "text": [
        "\n",
        "600"
       ]
      },
      {
       "output_type": "stream",
       "stream": "stdout",
       "text": [
        "\n",
        "700"
       ]
      },
      {
       "output_type": "stream",
       "stream": "stdout",
       "text": [
        "\n",
        "800"
       ]
      },
      {
       "output_type": "stream",
       "stream": "stdout",
       "text": [
        "\n",
        "900"
       ]
      },
      {
       "output_type": "stream",
       "stream": "stdout",
       "text": [
        "\n",
        "1000"
       ]
      },
      {
       "output_type": "stream",
       "stream": "stdout",
       "text": [
        "\n"
       ]
      }
     ],
     "prompt_number": 37
    },
    {
     "cell_type": "code",
     "collapsed": false,
     "input": [
      "dancin.iloc[461]"
     ],
     "language": "python",
     "metadata": {},
     "outputs": [
      {
       "metadata": {},
       "output_type": "pyout",
       "prompt_number": 38,
       "text": [
        "confidence                                                       0.961\n",
        "duration                                                        0.2429\n",
        "loudness_end                                                       NaN\n",
        "loudness_max                                                   -11.875\n",
        "loudness_max_time                                              0.03717\n",
        "loudness_start                                                 -24.888\n",
        "pitches              [0.318, 0.265, 0.165, 0.106, 0.155, 0.233, 0.1...\n",
        "start                                                         127.6582\n",
        "timbre               [42.78, 123.982, -15.341, 19.085, 0.502, 29.49...\n",
        "Name: 461, dtype: object"
       ]
      }
     ],
     "prompt_number": 38
    },
    {
     "cell_type": "code",
     "collapsed": false,
     "input": [
      "sunday.iloc[345]"
     ],
     "language": "python",
     "metadata": {},
     "outputs": [
      {
       "metadata": {},
       "output_type": "pyout",
       "prompt_number": 39,
       "text": [
        "confidence                                                       0.618\n",
        "duration                                                       0.15497\n",
        "loudness_end                                                       NaN\n",
        "loudness_max                                                   -17.738\n",
        "loudness_max_time                                              0.11019\n",
        "loudness_start                                                 -25.275\n",
        "pitches              [0.226, 0.167, 0.152, 0.158, 0.487, 0.482, 0.9...\n",
        "start                                                         84.44676\n",
        "timbre               [38.27, -188.901, 21.001, -81.708, -24.87, -36...\n",
        "Name: 345, dtype: object"
       ]
      }
     ],
     "prompt_number": 39
    }
   ],
   "metadata": {}
  }
 ]
}