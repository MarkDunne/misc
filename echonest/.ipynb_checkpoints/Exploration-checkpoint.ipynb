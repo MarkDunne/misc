{
 "metadata": {
  "name": "",
  "signature": "sha256:1e637d8ed33e7fc90c1085c6112c7e01bca1471fd68d89cecd5fe115d22fb8ef"
 },
 "nbformat": 3,
 "nbformat_minor": 0,
 "worksheets": [
  {
   "cells": [
    {
     "cell_type": "code",
     "collapsed": false,
     "input": [
      "%matplotlib inline\n",
      "import pandas as pd\n",
      "import numpy as np\n",
      "from scipy.spatial import distance\n",
      "\n",
      "import json\n",
      "from pandas.io.json import json_normalize"
     ],
     "language": "python",
     "metadata": {},
     "outputs": [],
     "prompt_number": 1
    },
    {
     "cell_type": "code",
     "collapsed": false,
     "input": [
      "def get_df(song):\n",
      "    musicData = open(song).read()\n",
      "    musicData = json.loads(musicData)['segments']\n",
      "    musicData = json_normalize(musicData)   \n",
      "    return musicData\n",
      "    \n",
      "def get_chromas_timbres(song):\n",
      "    musicData = open(song).read()\n",
      "    musicData = json.loads(musicData)['segments']\n",
      "    musicData = json_normalize(musicData)    \n",
      "\n",
      "    chromas = np.vstack(musicData['pitches'])\n",
      "    timbres = np.vstack(musicData['timbre'])\n",
      "    \n",
      "    return chromas, timbres    "
     ],
     "language": "python",
     "metadata": {},
     "outputs": [],
     "prompt_number": 26
    },
    {
     "cell_type": "code",
     "collapsed": false,
     "input": [
      "dancin = get_df('dancin.json')\n",
      "sunday = get_df('sunday.json')"
     ],
     "language": "python",
     "metadata": {},
     "outputs": [],
     "prompt_number": 27
    },
    {
     "cell_type": "code",
     "collapsed": false,
     "input": [
      "dancin_chromas, dancin_timbres = get_chromas_timbres('dancin.json')\n",
      "sunday_chromas, sunday_timbres = get_chromas_timbres('sunday.json')"
     ],
     "language": "python",
     "metadata": {},
     "outputs": [],
     "prompt_number": 28
    },
    {
     "cell_type": "code",
     "collapsed": false,
     "input": [
      "dancin_chromas"
     ],
     "language": "python",
     "metadata": {},
     "outputs": [
      {
       "metadata": {},
       "output_type": "pyout",
       "prompt_number": 29,
       "text": [
        "array([[ 1.   ,  1.   ,  1.   , ...,  1.   ,  1.   ,  1.   ],\n",
        "       [ 0.058,  1.   ,  0.03 , ...,  0.029,  0.718,  0.018],\n",
        "       [ 0.037,  0.727,  0.026, ...,  0.044,  0.713,  0.025],\n",
        "       ..., \n",
        "       [ 0.141,  1.   ,  0.106, ...,  0.029,  0.117,  0.099],\n",
        "       [ 0.257,  1.   ,  0.21 , ...,  0.101,  0.26 ,  0.082],\n",
        "       [ 0.404,  0.487,  0.566, ...,  0.373,  0.491,  0.373]])"
       ]
      }
     ],
     "prompt_number": 29
    },
    {
     "cell_type": "code",
     "collapsed": false,
     "input": [
      "sunday_chromas"
     ],
     "language": "python",
     "metadata": {},
     "outputs": [
      {
       "metadata": {},
       "output_type": "pyout",
       "prompt_number": 30,
       "text": [
        "array([[ 1.   ,  1.   ,  1.   , ...,  1.   ,  1.   ,  1.   ],\n",
        "       [ 0.383,  0.048,  0.074, ...,  0.01 ,  0.025,  0.01 ],\n",
        "       [ 0.364,  0.045,  0.062, ...,  0.055,  0.064,  0.068],\n",
        "       ..., \n",
        "       [ 1.   ,  0.052,  0.048, ...,  0.103,  0.198,  0.091],\n",
        "       [ 1.   ,  0.138,  0.126, ...,  0.076,  0.134,  0.095],\n",
        "       [ 0.864,  0.417,  0.785, ...,  0.965,  0.851,  0.858]])"
       ]
      }
     ],
     "prompt_number": 30
    },
    {
     "cell_type": "code",
     "collapsed": false,
     "input": [
      "max_sim = -1\n",
      "\n",
      "for i, (dancin_chroma, dancin_timbre) in enumerate(zip(dancin_chromas, dancin_timbres)):\n",
      "    for j, (sunday_chroma, sunday_timbre) in enumerate(zip(sunday_chromas, sunday_timbres)):\n",
      "        \n",
      "        chroma_sim = distance.cosine(dancin_chroma, sunday_chroma)\n",
      "        timbre_sim = distance.cosine(dancin_timbre, sunday_timbre)\n",
      "        \n",
      "        score = timbre_sim\n",
      "        \n",
      "        if score > max_sim:\n",
      "            print i, j, score\n",
      "            max_sim = score\n",
      "    \n",
      "    if i % 100 == 0:\n",
      "        print i"
     ],
     "language": "python",
     "metadata": {},
     "outputs": [
      {
       "output_type": "stream",
       "stream": "stdout",
       "text": [
        "0 0 -2.22044604925e-16\n",
        "0 1 0.490701138342\n",
        "0 3 0.530357618311\n",
        "0 15 0.54125817302\n",
        "0 45 0.643278870709\n",
        "0"
       ]
      },
      {
       "output_type": "stream",
       "stream": "stdout",
       "text": [
        "\n",
        "1 1 0.937196164618\n",
        "1 48 0.95829383079\n",
        "1"
       ]
      },
      {
       "output_type": "stream",
       "stream": "stdout",
       "text": [
        " 904 0.960416864762\n",
        "1"
       ]
      },
      {
       "output_type": "stream",
       "stream": "stdout",
       "text": [
        " 1393 0.963244772279\n",
        "1 1479 0.964614665349\n",
        "100"
       ]
      },
      {
       "output_type": "stream",
       "stream": "stdout",
       "text": [
        "\n",
        "141"
       ]
      },
      {
       "output_type": "stream",
       "stream": "stdout",
       "text": [
        " 1426 0.967673049746\n",
        "141 1492 0.969054668001\n",
        "200"
       ]
      },
      {
       "output_type": "stream",
       "stream": "stdout",
       "text": [
        "\n",
        "225"
       ]
      },
      {
       "output_type": "stream",
       "stream": "stdout",
       "text": [
        " 964 0.973414555835\n",
        "226"
       ]
      },
      {
       "output_type": "stream",
       "stream": "stdout",
       "text": [
        " 1492 0.973633986575\n",
        "262"
       ]
      },
      {
       "output_type": "stream",
       "stream": "stdout",
       "text": [
        " 427 0.976275751904\n",
        "262 460 0.976368365855\n",
        "262"
       ]
      },
      {
       "output_type": "stream",
       "stream": "stdout",
       "text": [
        " 906 0.976681885587\n",
        "262 964 0.981488804555\n",
        "300"
       ]
      },
      {
       "output_type": "stream",
       "stream": "stdout",
       "text": [
        "\n",
        "400"
       ]
      },
      {
       "output_type": "stream",
       "stream": "stdout",
       "text": [
        "\n",
        "500"
       ]
      },
      {
       "output_type": "stream",
       "stream": "stdout",
       "text": [
        "\n",
        "600"
       ]
      },
      {
       "output_type": "stream",
       "stream": "stdout",
       "text": [
        "\n",
        "700"
       ]
      },
      {
       "output_type": "stream",
       "stream": "stdout",
       "text": [
        "\n",
        "800"
       ]
      },
      {
       "output_type": "stream",
       "stream": "stdout",
       "text": [
        "\n",
        "900"
       ]
      },
      {
       "output_type": "stream",
       "stream": "stdout",
       "text": [
        "\n",
        "1000"
       ]
      },
      {
       "output_type": "stream",
       "stream": "stdout",
       "text": [
        "\n"
       ]
      }
     ],
     "prompt_number": 34
    },
    {
     "cell_type": "code",
     "collapsed": false,
     "input": [
      "dancin.iloc[262]"
     ],
     "language": "python",
     "metadata": {},
     "outputs": [
      {
       "metadata": {},
       "output_type": "pyout",
       "prompt_number": 35,
       "text": [
        "confidence                                                       0.775\n",
        "duration                                                       0.23179\n",
        "loudness_end                                                       NaN\n",
        "loudness_max                                                   -14.373\n",
        "loudness_max_time                                              0.02842\n",
        "loudness_start                                                 -25.425\n",
        "pitches              [0.517, 1.0, 0.179, 0.007, 0.007, 0.092, 0.018...\n",
        "start                                                         75.93274\n",
        "timbre               [39.089, -7.966, -47.045, 71.361, -25.724, -52...\n",
        "Name: 262, dtype: object"
       ]
      }
     ],
     "prompt_number": 35
    },
    {
     "cell_type": "code",
     "collapsed": false,
     "input": [
      "sunday.iloc[964]"
     ],
     "language": "python",
     "metadata": {},
     "outputs": [
      {
       "metadata": {},
       "output_type": "pyout",
       "prompt_number": 36,
       "text": [
        "confidence                                                           1\n",
        "duration                                                       0.24426\n",
        "loudness_end                                                       NaN\n",
        "loudness_max                                                   -14.694\n",
        "loudness_max_time                                              0.00966\n",
        "loudness_start                                                 -31.486\n",
        "pitches              [0.007, 0.007, 0.02, 0.713, 0.032, 0.027, 0.02...\n",
        "start                                                           227.12\n",
        "timbre               [40.366, -84.488, -15.69, 17.312, 19.619, -64....\n",
        "Name: 964, dtype: object"
       ]
      }
     ],
     "prompt_number": 36
    }
   ],
   "metadata": {}
  }
 ]
}