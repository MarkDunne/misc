{
 "cells": [
  {
   "cell_type": "code",
   "execution_count": 37,
   "metadata": {
    "collapsed": false
   },
   "outputs": [],
   "source": [
    "%matplotlib inline\n",
    "\n",
    "import codecs\n",
    "from textblob import TextBlob\n",
    "from textblob import Word\n",
    "import matplotlib.pyplot as plt"
   ]
  },
  {
   "cell_type": "code",
   "execution_count": 38,
   "metadata": {
    "collapsed": false
   },
   "outputs": [],
   "source": [
    "import sys\n",
    "# reload(sys)\n",
    "# sys.setdefaultencoding('utf-8')"
   ]
  },
  {
   "cell_type": "code",
   "execution_count": 39,
   "metadata": {
    "collapsed": false
   },
   "outputs": [],
   "source": [
    "text = open('nyt.txt').read().decode('utf-8')\n",
    "blob = TextBlob(text)"
   ]
  },
  {
   "cell_type": "code",
   "execution_count": 71,
   "metadata": {
    "collapsed": true
   },
   "outputs": [],
   "source": [
    "def sentence_nps(sentence):\n",
    "    return set(sentence.np_counts.keys())"
   ]
  },
  {
   "cell_type": "code",
   "execution_count": 72,
   "metadata": {
    "collapsed": true
   },
   "outputs": [],
   "source": [
    "def sentence_importance(sentence, target_nps):\n",
    "    nps = sentence_nps(sentence)\n",
    "    return len(target_nps.difference(nps))"
   ]
  },
  {
   "cell_type": "code",
   "execution_count": 96,
   "metadata": {
    "collapsed": false
   },
   "outputs": [
    {
     "name": "stdout",
     "output_type": "stream",
     "text": [
      "[100, 106, 107, 107, 108]\n",
      "[93, 94, 95, 95, 95]\n",
      "[87, 88, 88, 88, 88]\n",
      "[82, 82, 82, 82, 82]\n",
      "[77, 77, 77, 77, 78]\n",
      "[72, 72, 72, 73, 73]\n",
      "[67, 67, 68, 68, 68]\n",
      "[62, 63, 63, 63, 64]\n",
      "[58, 58, 58, 59, 59]\n",
      "[54, 54, 55, 55, 55]\n",
      "[50, 51, 51, 51, 51]\n",
      "[47, 47, 47, 47, 47]\n",
      "[44, 44, 44, 44, 44]\n",
      "[41, 41, 41, 41, 41]\n",
      "[38, 38, 38, 38, 39]\n",
      "[35, 35, 35, 36, 36]\n",
      "[32, 32, 33, 33, 33]\n",
      "[29, 30, 30, 30, 30]\n",
      "[27, 27, 27, 27, 27]\n",
      "[25, 25, 25, 25, 25]\n",
      "[23, 23, 23, 23, 23]\n",
      "[21, 21, 21, 21, 21]\n",
      "[19, 19, 19, 19, 19]\n",
      "[17, 17, 17, 17, 17]\n",
      "[15, 15, 15, 15, 16]\n",
      "[13, 13, 13, 14, 14]\n",
      "[11, 11, 12, 12, 12]\n",
      "[9, 10, 10, 10, 10]\n",
      "[8, 8, 8, 8, 8]\n",
      "[7, 7, 7, 7, 7]\n"
     ]
    }
   ],
   "source": [
    "values=[]\n",
    "sentences = blob.sentences\n",
    "text_nps = set(blob.np_counts.keys())\n",
    "\n",
    "for i in range(30):\n",
    "    sentences.sort(key= lambda s: sentence_importance(s, text_nps))\n",
    "    selected_sentence = sentences[0]\n",
    "    remaining_nps = sentence_importance(selected_sentence, text_nps)\n",
    "    \n",
    "    values.append()\n",
    "    sentences = sentences[1:]\n",
    "    text_nps = text_nps.difference(sentence_nps(selected_sentence))\n",
    "   "
   ]
  },
  {
   "cell_type": "code",
   "execution_count": 91,
   "metadata": {
    "collapsed": false
   },
   "outputs": [
    {
     "data": {
      "text/plain": [
       "[100,\n",
       " 93,\n",
       " 87,\n",
       " 82,\n",
       " 77,\n",
       " 72,\n",
       " 67,\n",
       " 62,\n",
       " 58,\n",
       " 54,\n",
       " 50,\n",
       " 47,\n",
       " 44,\n",
       " 41,\n",
       " 38,\n",
       " 35,\n",
       " 32,\n",
       " 29,\n",
       " 27,\n",
       " 25,\n",
       " 23,\n",
       " 21,\n",
       " 19,\n",
       " 17,\n",
       " 15,\n",
       " 13,\n",
       " 11,\n",
       " 9,\n",
       " 8,\n",
       " 7]"
      ]
     },
     "execution_count": 91,
     "metadata": {},
     "output_type": "execute_result"
    }
   ],
   "source": [
    "values"
   ]
  },
  {
   "cell_type": "code",
   "execution_count": 92,
   "metadata": {
    "collapsed": false
   },
   "outputs": [
    {
     "data": {
      "text/plain": [
       "[<matplotlib.lines.Line2D at 0x7f463ecb8810>]"
      ]
     },
     "execution_count": 92,
     "metadata": {},
     "output_type": "execute_result"
    },
    {
     "data": {
      "image/png": "[encoded data removed]",
      "text/plain": [
       "<matplotlib.figure.Figure at 0x7f463ef97d90>"
      ]
     },
     "metadata": {},
     "output_type": "display_data"
    }
   ],
   "source": [
    "plt.plot(values)"
   ]
  }
 ],
 "metadata": {
  "kernelspec": {
   "display_name": "Python 2",
   "language": "python",
   "name": "python2"
  },
  "language_info": {
   "codemirror_mode": {
    "name": "ipython",
    "version": 2
   },
   "file_extension": ".py",
   "mimetype": "text/x-python",
   "name": "python",
   "nbconvert_exporter": "python",
   "pygments_lexer": "ipython2",
   "version": "2.7.9"
  }
 },
 "nbformat": 4,
 "nbformat_minor": 0
}
