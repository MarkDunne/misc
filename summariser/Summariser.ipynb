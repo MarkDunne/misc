{
 "cells": [
  {
   "cell_type": "code",
   "execution_count": 100,
   "metadata": {
    "collapsed": false
   },
   "outputs": [],
   "source": [
    "%matplotlib inline\n",
    "\n",
    "import numpy as np\n",
    "import codecs\n",
    "from textblob import TextBlob\n",
    "from textblob import Word\n",
    "import matplotlib.pyplot as plt"
   ]
  },
  {
   "cell_type": "code",
   "execution_count": 38,
   "metadata": {
    "collapsed": false
   },
   "outputs": [],
   "source": [
    "import sys\n",
    "# reload(sys)\n",
    "# sys.setdefaultencoding('utf-8')"
   ]
  },
  {
   "cell_type": "code",
   "execution_count": 39,
   "metadata": {
    "collapsed": false
   },
   "outputs": [],
   "source": [
    "text = open('nyt.txt').read().decode('utf-8')\n",
    "blob = TextBlob(text)"
   ]
  },
  {
   "cell_type": "code",
   "execution_count": 71,
   "metadata": {
    "collapsed": true
   },
   "outputs": [],
   "source": [
    "def sentence_nps(sentence):\n",
    "    return set(sentence.np_counts.keys())"
   ]
  },
  {
   "cell_type": "code",
   "execution_count": 72,
   "metadata": {
    "collapsed": true
   },
   "outputs": [],
   "source": [
    "def sentence_importance(sentence, target_nps):\n",
    "    nps = sentence_nps(sentence)\n",
    "    return len(target_nps.difference(nps))"
   ]
  },
  {
   "cell_type": "code",
   "execution_count": 116,
   "metadata": {
    "collapsed": false
   },
   "outputs": [
    {
     "name": "stdout",
     "output_type": "stream",
     "text": [
      "The initial findings by the Bureau of Investigations and Analyses, known by its French abbreviation B.E.A., show that the co-pilot repeatedly set the Germanwings plane’s altitude to 100 feet during its outbound flight to Barcelona, Spain, from Düsseldorf, Germany, on March 24.\n",
      "PARIS — Andreas Lubitz, the co-pilot suspected of deliberately flying a German airliner into the French Alps, appears to have tried to rehearse the plane’s fatal dive during an earlier flight on the day of the crash, the French authorities said in a preliminary report published on Wednesday.\n",
      "The Federal Aviation Administration raised questions about Mr. Lubitz’s fitness to fly in 2010, when he sought a student pilot’s license to continue his training at a Lufthansa-owned flight school in Arizona.\n",
      "Investigations by the German police later revealed that Mr. Lubitz had a history of severe depression dating to at least 2009, and that he had scoured the Internet for methods of committing suicide in the days before his final flight.\n",
      "“I cannot imagine that the prosecutor would close this case,” said Stéphane Gicquel, secretary general of Fenvac, a French association that represents the families of accident and disaster victims.\n",
      "Given the worldwide attention the crash has received, French prosecutors are widely expected to move ahead with a criminal indictment, despite some diplomatic pressure to transfer the case to a German court.\n",
      "France is one of a handful of countries that routinely seek criminal indictments in air accidents, regardless of whether there is clear evidence of criminal intent or negligence.\n"
     ]
    }
   ],
   "source": [
    "values=[]\n",
    "sentences = blob.sentences\n",
    "text_nps = set(blob.np_counts.keys())\n",
    "orig_text_nps = set(blob.np_counts.keys())\n",
    "\n",
    "for i in range(7):\n",
    "    sentences.sort(key= lambda s: sentence_importance(s, text_nps))\n",
    "    selected_sentence = sentences[0]\n",
    "    print selected_sentence\n",
    "    remaining_nps = sentence_importance(selected_sentence, text_nps)\n",
    "    values.append(remaining_nps)\n",
    "    sentences = sentences[1:]\n",
    "    text_nps = text_nps.difference(sentence_nps(selected_sentence))\n",
    "   "
   ]
  }
 ],
 "metadata": {
  "kernelspec": {
   "display_name": "Python 2",
   "language": "python",
   "name": "python2"
  },
  "language_info": {
   "codemirror_mode": {
    "name": "ipython",
    "version": 2
   },
   "file_extension": ".py",
   "mimetype": "text/x-python",
   "name": "python",
   "nbconvert_exporter": "python",
   "pygments_lexer": "ipython2",
   "version": "2.7.9"
  }
 },
 "nbformat": 4,
 "nbformat_minor": 0
}
